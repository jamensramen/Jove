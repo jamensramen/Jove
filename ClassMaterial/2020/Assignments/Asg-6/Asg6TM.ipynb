{
 "cells": [
  {
   "cell_type": "markdown",
   "metadata": {
    "run_control": {
     "frozen": false,
     "read_only": false
    }
   },
   "source": [
    "# Turing Machines"
   ]
  },
  {
   "cell_type": "code",
   "execution_count": 1,
   "metadata": {
    "run_control": {
     "frozen": false,
     "read_only": false
    }
   },
   "outputs": [
    {
     "name": "stdout",
     "output_type": "stream",
     "text": [
      "You may use any of these help commands:\n",
      "help(step_tm)\n",
      "help(run_tm)\n",
      "help(explore_tm)\n",
      "\n",
      "You may use any of these help commands:\n",
      "help(md2mc)\n",
      ".. and if you want to dig more, then ..\n",
      "help(default_line_attr)\n",
      "help(length_ok_input_items)\n",
      "help(union_line_attr_list_fld)\n",
      "help(extend_rsltdict)\n",
      "help(form_delta)\n",
      "help(get_machine_components)\n",
      "\n",
      "You may use any of these help commands:\n",
      "help(ResetStNum)\n",
      "help(NxtStateStr)\n",
      "\n"
     ]
    }
   ],
   "source": [
    "import sys\n",
    " \n",
    "\n",
    "#----TURN THESE ON IF RUNNING ON JOVE ON COLAB by removing the triple quotes\n",
    "\n",
    "'''\n",
    "! if [ ! -d Jove ]; then git clone https://github.com/ganeshutah/Jove Jove; fi\n",
    "import sys\n",
    "sys.path.append('./Jove')\n",
    "sys.path.append('./Jove/jove')\n",
    "from jove.Def_TM     import *\n",
    "from jove.Def_md2mc  import *\n",
    "from jove.DotBashers import *\n",
    "from jove.JoveEditor import *\n",
    "from jove.AnimateTM import * #-- usage: AnimateTM(whas101DTM, FuseEdges=True)\n",
    " \n",
    "#---- ALWAYS INCLUDE BEFORE ANY call such as AnimateNFA, AnimateDFA, etc ----\n",
    "# Unfortunately this has to be within EACH iframe... so can't hard-wire\n",
    "# into the Animate... functions\n",
    "display(HTML('<link rel=\"stylesheet\" href=\"//stackpath.bootstrapcdn.com/font-awesome/4.7.0/css/font-awesome.min.css\"/>'))\n",
    "'''\n",
    "\n",
    "#----TURN THESE ON IF RUNNING ON OWN INSTALLATION (default turned-on)\n",
    "\n",
    "sys.path[0:0] = ['../..','../../3rdparty',\n",
    "                 '../../..','../../../3rdparty',\n",
    "                 '../../../..','../../../../3rdparty',\n",
    "                ] # Put these at the head of the search path\n",
    "from jove.Def_TM     import *\n",
    "from jove.Def_md2mc  import *\n",
    "from jove.DotBashers import *\n",
    "from jove.JoveEditor import *\n",
    "from jove.AnimateTM import * #-- usage: AnimateTM(whas101DTM, FuseEdges=True)\n",
    "\n",
    "\n",
    "#---- COMMON IMPORTS BELOW : Add more/less imports as needed/tolerable ---\n",
    "\n",
    "# EMPTY imports for TM..."
   ]
  },
  {
   "cell_type": "markdown",
   "metadata": {
    "run_control": {
     "frozen": false,
     "read_only": false
    }
   },
   "source": [
    "# DTM: accepts \"a#x\" where a is a substring of x"
   ]
  },
  {
   "cell_type": "code",
   "execution_count": 2,
   "metadata": {
    "run_control": {
     "frozen": false,
     "read_only": false
    }
   },
   "outputs": [
    {
     "name": "stdout",
     "output_type": "stream",
     "text": [
      "Help on function explore_tm in module jove.Def_TM:\n",
      "\n",
      "explore_tm(T, tape, nsteps)\n",
      "    A handy routine to print the result of run_tm plus making \n",
      "    future extensions to explore run-results.\n",
      "\n"
     ]
    }
   ],
   "source": [
    "help(explore_tm)"
   ]
  },
  {
   "cell_type": "code",
   "execution_count": null,
   "metadata": {},
   "outputs": [],
   "source": [
    "Asg6DTM = md2mc('''TM\n",
    "\n",
    "Iqp : # ; # , R -> Fqp\n",
    "\n",
    "Iqwa0 : a ; x , R -> Iqwa1\n",
    "\n",
    "Iqwa1 : a ; a , R | b ; b , R -> Iqwa1\n",
    "\n",
    "Iqwa1 : # ; # , R -> Iqxa0\n",
    "\n",
    "Iqxa0 : q ; q , R | r ; r , R -> Iqxa0\n",
    "\n",
    "Iqxa0 : b ; r , R -> Iqxa0\n",
    "\n",
    "Iqxa0 : a ; s , R -> Iqxa1\n",
    "\n",
    "Iqxa1 : a ; c , L | b ; d , L -> Iqxa2\n",
    "\n",
    "Iqxa2 : s ; s , L | t ; t , L | q ; q , L | r ; r , L -> Iqxa2\n",
    "\n",
    "Iqxa2 : # ; # , L -> Iqwa2\n",
    "\n",
    "Iqwa2 : a ; a , L | b ; b , L -> Iqwa2\n",
    "\n",
    "Iqwa2 : x ; x , R | y ; y , R -> Iqwa3\n",
    "\n",
    "Iwqa3 : a ; a , \n",
    "\n",
    "Iqwb0 : b ; y , R -> Iqwb0\n",
    "\n",
    "\n",
    "\n",
    "''')"
   ]
  },
  {
   "cell_type": "code",
   "execution_count": null,
   "metadata": {
    "scrolled": true
   },
   "outputs": [],
   "source": [
    "explore_tm(Asg6DTM, \"aba#aba\",110)"
   ]
  },
  {
   "cell_type": "code",
   "execution_count": null,
   "metadata": {},
   "outputs": [],
   "source": [
    "explore_tm(Asg6DTM, \"aba#ab\",110)"
   ]
  },
  {
   "cell_type": "code",
   "execution_count": null,
   "metadata": {},
   "outputs": [],
   "source": [
    "explore_tm(Asg6DTM, \"aba#baba\",110)"
   ]
  },
  {
   "cell_type": "code",
   "execution_count": null,
   "metadata": {},
   "outputs": [],
   "source": [
    "explore_tm(Asg6DTM, \"aba#babba\",110)"
   ]
  },
  {
   "cell_type": "code",
   "execution_count": null,
   "metadata": {},
   "outputs": [],
   "source": [
    "explore_tm(Asg6DTM, \"bba#bbabba\",110)"
   ]
  },
  {
   "cell_type": "code",
   "execution_count": null,
   "metadata": {},
   "outputs": [],
   "source": [
    "explore_tm(Asg6DTM, \"aba#bbabba\",240)"
   ]
  },
  {
   "cell_type": "code",
   "execution_count": null,
   "metadata": {},
   "outputs": [],
   "source": []
  },
  {
   "cell_type": "code",
   "execution_count": null,
   "metadata": {},
   "outputs": [],
   "source": []
  },
  {
   "cell_type": "code",
   "execution_count": null,
   "metadata": {},
   "outputs": [],
   "source": [
    "dotObj_tm(Asg6DTM, FuseEdges=True)"
   ]
  },
  {
   "cell_type": "code",
   "execution_count": null,
   "metadata": {},
   "outputs": [],
   "source": [
    "# *** MAKE SURE TO SET FUEL TO 100 OR SO ***\n",
    "AnimateTM(Asg6DTM, FuseEdges=True)\n"
   ]
  },
  {
   "cell_type": "code",
   "execution_count": null,
   "metadata": {},
   "outputs": [],
   "source": [
    "Asg6NDTM = md2mc('''TM\n",
    "!! Your TM here\n",
    "''')"
   ]
  },
  {
   "cell_type": "code",
   "execution_count": null,
   "metadata": {
    "run_control": {
     "frozen": false,
     "read_only": false
    }
   },
   "outputs": [],
   "source": [
    "explore_tm(Asg6NDTM, \"ab#bab\", 100)"
   ]
  },
  {
   "cell_type": "code",
   "execution_count": null,
   "metadata": {},
   "outputs": [],
   "source": [
    "# *** MAKE SURE TO SET FUEL TO 100 OR SO ***\n",
    "AnimateTM(Asg6NDTM, FuseEdges=True)\n"
   ]
  }
 ],
 "metadata": {
  "kernelspec": {
   "display_name": "Python 3",
   "language": "python",
   "name": "python3"
  },
  "language_info": {
   "codemirror_mode": {
    "name": "ipython",
    "version": 3
   },
   "file_extension": ".py",
   "mimetype": "text/x-python",
   "name": "python",
   "nbconvert_exporter": "python",
   "pygments_lexer": "ipython3",
   "version": "3.7.4"
  },
  "toc": {
   "colors": {
    "hover_highlight": "#DAA520",
    "running_highlight": "#FF0000",
    "selected_highlight": "#FFD700"
   },
   "moveMenuLeft": true,
   "nav_menu": {
    "height": "318px",
    "width": "252px"
   },
   "navigate_menu": true,
   "number_sections": true,
   "sideBar": true,
   "threshold": 4,
   "toc_cell": false,
   "toc_section_display": "block",
   "toc_window_display": false,
   "widenNotebook": false
  }
 },
 "nbformat": 4,
 "nbformat_minor": 1
}
