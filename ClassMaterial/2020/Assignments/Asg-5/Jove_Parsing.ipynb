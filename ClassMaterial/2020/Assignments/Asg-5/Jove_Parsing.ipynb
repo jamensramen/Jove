{
 "cells": [
  {
   "cell_type": "markdown",
   "metadata": {
    "run_control": {
     "frozen": false,
     "read_only": false
    }
   },
   "source": [
    "# Asg-3\n",
    "\n",
    "This assignment tells us how Jove's own parser works. It adds print statements to RE2nfa and md2mc\n",
    "to cause prints that explain Jove's markdown parser.\n",
    "\n",
    "\n",
    "* Make RE2NFA chatty\n",
    "\n",
    "  - ergo learn how compilers work\n",
    "  \n",
    "* Make md2mc chatty\n",
    "  \n",
    "  - ergo learn how compilers work\n",
    "  \n",
    "* I've made two files above somewhat chatty\n",
    "  \n",
    "  - Make them chattier + produce more info!\n",
    "  \n",
    "* Build your own calculator (appears in J3_Unid_Calculator.ipynb)\n",
    "\n",
    "  - further seal knowledge of lexers (RE based) and parsers (CFG based) in your minds\n",
    "  \n",
    "## YOUR TASKS\n",
    "\n",
    "Your tasks will be denoted by \"---> YOUR TASK n <---\" below"
   ]
  },
  {
   "cell_type": "code",
   "execution_count": 1,
   "metadata": {
    "run_control": {
     "frozen": false,
     "read_only": false
    }
   },
   "outputs": [
    {
     "name": "stdout",
     "output_type": "stream",
     "text": [
      "You may use any of these help commands:\n",
      "help(ResetStNum)\n",
      "help(NxtStateStr)\n",
      "\n",
      "You may use any of these help commands:\n",
      "help(md2mc)\n",
      ".. and if you want to dig more, then ..\n",
      "help(default_line_attr)\n",
      "help(length_ok_input_items)\n",
      "help(union_line_attr_list_fld)\n",
      "help(extend_rsltdict)\n",
      "help(form_delta)\n",
      "help(get_machine_components)\n",
      "\n",
      "You may use any of these help commands:\n",
      "help(mkp_dfa)\n",
      "help(mk_dfa)\n",
      "help(totalize_dfa)\n",
      "help(addtosigma_delta)\n",
      "help(step_dfa)\n",
      "help(run_dfa)\n",
      "help(accepts_dfa)\n",
      "help(comp_dfa)\n",
      "help(union_dfa)\n",
      "help(intersect_dfa)\n",
      "help(pruneUnreach)\n",
      "help(iso_dfa)\n",
      "help(langeq_dfa)\n",
      "help(same_status)\n",
      "help(h_langeq_dfa)\n",
      "help(fixptDist)\n",
      "help(min_dfa)\n",
      "help(pairFR)\n",
      "help(state_combos)\n",
      "help(sepFinNonFin)\n",
      "help(bash_eql_classes)\n",
      "help(listminus)\n",
      "help(bash_1)\n",
      "help(mk_rep_eqc)\n",
      "help(F_of)\n",
      "help(rep_of_s)\n",
      "help(q0_of)\n",
      "help(Delta_of)\n",
      "help(mk_state_eqc_name)\n",
      "\n",
      "You may use any of these help commands:\n",
      "help(lphi)\n",
      "help(lunit)\n",
      "help(lcat)\n",
      "help(lexp)\n",
      "help(lunion)\n",
      "help(lstar)\n",
      "help(srev)\n",
      "help(lrev)\n",
      "help(shomo)\n",
      "help(lhomo)\n",
      "help(powset)\n",
      "help(lint)\n",
      "help(lsymdiff)\n",
      "help(lminus)\n",
      "help(lissubset)\n",
      "help(lissuperset)\n",
      "help(lcomplem)\n",
      "help(product)\n",
      "help(nthnumeric)\n",
      "\n",
      "You may use any of these help commands:\n",
      "help(mk_nfa)\n",
      "help(totalize_nfa)\n",
      "help(step_nfa)\n",
      "help(run_nfa)\n",
      "help(ec_step_nfa)\n",
      "help(Eclosure)\n",
      "help(Echelp)\n",
      "help(accepts_nfa)\n",
      "help(nfa2dfa)\n",
      "help(n2d)\n",
      "help(inSets)\n",
      "help(rev_dfa)\n",
      "help(min_dfa_brz)\n",
      "\n",
      "You may use any of these help commands:\n",
      "help(re2nfa)\n",
      "\n"
     ]
    }
   ],
   "source": [
    "\n",
    "#----TURN THESE ON IF RUNNING ON JOVE ON COLAB BY REMOVING THE ''' ... '''\n",
    "\n",
    "'''\n",
    "! if [ ! -d Jove ]; then git clone https://github.com/ganeshutah/Jove Jove; fi\n",
    "import sys\n",
    "sys.path.append('./Jove')\n",
    "sys.path.append('./Jove/jove')\n",
    "\n",
    "\n",
    "'''\n",
    "\n",
    "#----TURN THESE ON IF RUNNING ON OWN INSTALLATION (default turned-on)\n",
    "\n",
    "import sys\n",
    "sys.path[0:0] = ['../..',\n",
    "                 '../../3rdparty',\n",
    "                 '../../..',\n",
    "                 '../../../3rdparty',\n",
    "                 '../../../..',\n",
    "                 '../../../../3rdparty'\n",
    "                ] # Put these at the head of the search path\n",
    "\n",
    "#---- THESE ARE COMMON IMPORTS TO BOTH PATHS\n",
    "\n",
    "from jove.DotBashers import *\n",
    "from jove.Def_md2mc_chatty import *     # Change this to the _chatty file\n",
    "from jove.Def_DFA   import *\n",
    "from jove.LangDef   import *\n",
    "from jove.Def_RE2NFA_chatty   import *  # Change this to the _chatty file\n",
    "from jove.Def_NFA   import *"
   ]
  },
  {
   "cell_type": "markdown",
   "metadata": {
    "run_control": {
     "frozen": false,
     "read_only": false
    }
   },
   "source": [
    "# Make RE2NFA and md2mc chatty\n",
    "\n",
    "* Copy Def_RE2NFA.py into Def_RE2NFA_chatty.py and Def_md2mc.py into Def_md2mc_chatty.py\n",
    "\n",
    "* Edit the \"_chatty.py\" files to tell user when\n",
    "\n",
    "  - a token is being picked up\n",
    "  \n",
    "  - when a CFG rule is getting finished\n",
    "  \n",
    "* Examples are provided to the student\n",
    "\n",
    "  - THEIR TASK: Finish making these routines as chatty and informative as they can!\n",
    "  \n",
    "  - Their printout should not be a mess; rather:\n",
    "  \n",
    "     * It must include extra info regarding the token obtained\n",
    "     \n",
    "     * Then can increase the indentation level based on the level at which a rule is parsed (if possible)"
   ]
  },
  {
   "cell_type": "code",
   "execution_count": 2,
   "metadata": {
    "run_control": {
     "frozen": false,
     "read_only": false
    }
   },
   "outputs": [
    {
     "name": "stdout",
     "output_type": "stream",
     "text": [
      "Found symbol a\n",
      "Making an NFA for found symbol a\n",
      "Found the end of an expression (may or may not result in the final NFA)\n",
      "Found symbol b\n",
      "Making an NFA for found symbol b\n",
      "Found a plus token\n",
      "Given the parse of two NFA with transitioning states:\n",
      "\t{('St1', 'a'): {'St2'}}\n",
      "\tand\n",
      "\t{('St3', 'b'): {'St4'}}\n",
      "Making one PLUS-connected NFA\n"
     ]
    },
    {
     "data": {
      "text/plain": [
       "{'Q': {'St1', 'St2', 'St3', 'St4'},\n",
       " 'Sigma': {'a', 'b'},\n",
       " 'Delta': {('St1', 'a'): {'St2'}, ('St3', 'b'): {'St4'}},\n",
       " 'Q0': {'St1', 'St3'},\n",
       " 'F': {'St2', 'St4'}}"
      ]
     },
     "execution_count": 2,
     "metadata": {},
     "output_type": "execute_result"
    }
   ],
   "source": [
    "re2nfa(\"a+b\")"
   ]
  },
  {
   "cell_type": "code",
   "execution_count": 3,
   "metadata": {},
   "outputs": [
    {
     "name": "stdout",
     "output_type": "stream",
     "text": [
      "Found symbol a\n",
      "Making an NFA for found symbol a\n",
      "Found a star token\n",
      "Given the parse of one NFA, making one STAR-ed NFA\n",
      "Found symbol b\n",
      "Making an NFA for found symbol b\n",
      "Found two expressions to concatenate\n",
      "Given the parse of two NFA with transitioning states:\n",
      "\t{('St3', ''): {'St1'}, ('St1', 'a'): {'St2'}, ('St2', ''): {'St3'}}\n",
      "\tand\n",
      "\t{('St4', 'b'): {'St5'}}\n",
      "Making one concatenated NFA\n",
      "Found the end of an expression (may or may not result in the final NFA)\n"
     ]
    },
    {
     "data": {
      "text/plain": [
       "{'Q': {'St1', 'St2', 'St3', 'St4', 'St5'},\n",
       " 'Sigma': {'a', 'b'},\n",
       " 'Delta': {('St3', ''): {'St1', 'St4'},\n",
       "  ('St1', 'a'): {'St2'},\n",
       "  ('St2', ''): {'St3'},\n",
       "  ('St4', 'b'): {'St5'}},\n",
       " 'Q0': {'St3'},\n",
       " 'F': {'St5'}}"
      ]
     },
     "execution_count": 3,
     "metadata": {},
     "output_type": "execute_result"
    }
   ],
   "source": [
    "re2nfa(\"a*b\")"
   ]
  },
  {
   "cell_type": "code",
   "execution_count": 4,
   "metadata": {},
   "outputs": [
    {
     "name": "stdout",
     "output_type": "stream",
     "text": [
      "Found symbol a\n",
      "Making an NFA for found symbol a\n",
      "Found symbol b\n",
      "Making an NFA for found symbol b\n",
      "Found two expressions to concatenate\n",
      "Given the parse of two NFA with transitioning states:\n",
      "\t{('St1', 'a'): {'St2'}}\n",
      "\tand\n",
      "\t{('St3', 'b'): {'St4'}}\n",
      "Making one concatenated NFA\n",
      "Found the end of an expression (may or may not result in the final NFA)\n"
     ]
    },
    {
     "data": {
      "text/plain": [
       "{'Q': {'St1', 'St2', 'St3', 'St4'},\n",
       " 'Sigma': {'a', 'b'},\n",
       " 'Delta': {('St1', 'a'): {'St2'}, ('St3', 'b'): {'St4'}, ('St2', ''): {'St3'}},\n",
       " 'Q0': {'St1'},\n",
       " 'F': {'St4'}}"
      ]
     },
     "execution_count": 4,
     "metadata": {},
     "output_type": "execute_result"
    }
   ],
   "source": [
    "re2nfa(\"ab\")"
   ]
  },
  {
   "cell_type": "code",
   "execution_count": 5,
   "metadata": {},
   "outputs": [
    {
     "name": "stdout",
     "output_type": "stream",
     "text": [
      "Found symbol a\n",
      "Making an NFA for found symbol a\n",
      "Found the end of an expression (may or may not result in the final NFA)\n",
      "Found symbol b\n",
      "Making an NFA for found symbol b\n",
      "Found a plus token\n",
      "Given the parse of two NFA with transitioning states:\n",
      "\t{('St1', 'a'): {'St2'}}\n",
      "\tand\n",
      "\t{('St3', 'b'): {'St4'}}\n",
      "Making one PLUS-connected NFA\n",
      "Found RPAREN token for LPAREN token - create new combined expression in parentheses with transitioning states:\n",
      "\t{('St1', 'a'): {'St2'}, ('St3', 'b'): {'St4'}}\n",
      "to final expression\n",
      "Found symbol c\n",
      "Making an NFA for found symbol c\n",
      "Found two expressions to concatenate\n",
      "Given the parse of two NFA with transitioning states:\n",
      "\t{('St1', 'a'): {'St2'}, ('St3', 'b'): {'St4'}}\n",
      "\tand\n",
      "\t{('St5', 'c'): {'St6'}}\n",
      "Making one concatenated NFA\n",
      "Found the end of an expression (may or may not result in the final NFA)\n"
     ]
    },
    {
     "data": {
      "text/plain": [
       "{'Q': {'St1', 'St2', 'St3', 'St4', 'St5', 'St6'},\n",
       " 'Sigma': {'a', 'b', 'c'},\n",
       " 'Delta': {('St1', 'a'): {'St2'},\n",
       "  ('St3', 'b'): {'St4'},\n",
       "  ('St5', 'c'): {'St6'},\n",
       "  ('St4', ''): {'St5'},\n",
       "  ('St2', ''): {'St5'}},\n",
       " 'Q0': {'St1', 'St3'},\n",
       " 'F': {'St6'}}"
      ]
     },
     "execution_count": 5,
     "metadata": {},
     "output_type": "execute_result"
    }
   ],
   "source": [
    "re2nfa(\"(a+b)c\")"
   ]
  },
  {
   "cell_type": "code",
   "execution_count": 6,
   "metadata": {},
   "outputs": [
    {
     "name": "stdout",
     "output_type": "stream",
     "text": [
      "Found symbol a\n",
      "Making an NFA for found symbol a\n",
      "Found the end of an expression (may or may not result in the final NFA)\n",
      "Found symbol b\n",
      "Making an NFA for found symbol b\n",
      "Found a plus token\n",
      "Given the parse of two NFA with transitioning states:\n",
      "\t{('St1', 'a'): {'St2'}}\n",
      "\tand\n",
      "\t{('St3', 'b'): {'St4'}}\n",
      "Making one PLUS-connected NFA\n",
      "Found RPAREN token for LPAREN token - create new combined expression in parentheses with transitioning states:\n",
      "\t{('St1', 'a'): {'St2'}, ('St3', 'b'): {'St4'}}\n",
      "to final expression\n",
      "Found a star token\n",
      "Given the parse of one NFA, making one STAR-ed NFA\n",
      "Found the end of an expression (may or may not result in the final NFA)\n"
     ]
    },
    {
     "data": {
      "text/plain": [
       "{'Q': {'St1', 'St2', 'St3', 'St4', 'St5'},\n",
       " 'Sigma': {'a', 'b'},\n",
       " 'Delta': {('St5', ''): {'St1', 'St3'},\n",
       "  ('St1', 'a'): {'St2'},\n",
       "  ('St3', 'b'): {'St4'},\n",
       "  ('St4', ''): {'St5'},\n",
       "  ('St2', ''): {'St5'}},\n",
       " 'Q0': {'St5'},\n",
       " 'F': {'St5'}}"
      ]
     },
     "execution_count": 6,
     "metadata": {},
     "output_type": "execute_result"
    }
   ],
   "source": [
    "re2nfa(\"(a+b)*\")"
   ]
  },
  {
   "cell_type": "code",
   "execution_count": 7,
   "metadata": {},
   "outputs": [
    {
     "name": "stdout",
     "output_type": "stream",
     "text": [
      "Found symbol a\n",
      "Making an NFA for found symbol a\n",
      "Found the end of an expression (may or may not result in the final NFA)\n",
      "Found symbol b\n",
      "Making an NFA for found symbol b\n",
      "Found a plus token\n",
      "Given the parse of two NFA with transitioning states:\n",
      "\t{('St1', 'a'): {'St2'}}\n",
      "\tand\n",
      "\t{('St3', 'b'): {'St4'}}\n",
      "Making one PLUS-connected NFA\n",
      "Found RPAREN token for LPAREN token - create new combined expression in parentheses with transitioning states:\n",
      "\t{('St1', 'a'): {'St2'}, ('St3', 'b'): {'St4'}}\n",
      "to final expression\n",
      "Found a star token\n",
      "Given the parse of one NFA, making one STAR-ed NFA\n",
      "Found the end of an expression (may or may not result in the final NFA)\n",
      "Found RPAREN token for LPAREN token - create new combined expression in parentheses with transitioning states:\n",
      "\t{('St5', ''): {'St1', 'St3'}, ('St1', 'a'): {'St2'}, ('St3', 'b'): {'St4'}, ('St4', ''): {'St5'}, ('St2', ''): {'St5'}}\n",
      "to final expression\n",
      "Found the end of an expression (may or may not result in the final NFA)\n",
      "Found symbol c\n",
      "Making an NFA for found symbol c\n",
      "Found a plus token\n",
      "Given the parse of two NFA with transitioning states:\n",
      "\t{('St5', ''): {'St1', 'St3'}, ('St1', 'a'): {'St2'}, ('St3', 'b'): {'St4'}, ('St4', ''): {'St5'}, ('St2', ''): {'St5'}}\n",
      "\tand\n",
      "\t{('St6', 'c'): {'St7'}}\n",
      "Making one PLUS-connected NFA\n"
     ]
    },
    {
     "data": {
      "text/plain": [
       "{'Q': {'St1', 'St2', 'St3', 'St4', 'St5', 'St6', 'St7'},\n",
       " 'Sigma': {'a', 'b', 'c'},\n",
       " 'Delta': {('St5', ''): {'St1', 'St3'},\n",
       "  ('St1', 'a'): {'St2'},\n",
       "  ('St3', 'b'): {'St4'},\n",
       "  ('St4', ''): {'St5'},\n",
       "  ('St2', ''): {'St5'},\n",
       "  ('St6', 'c'): {'St7'}},\n",
       " 'Q0': {'St5', 'St6'},\n",
       " 'F': {'St5', 'St7'}}"
      ]
     },
     "execution_count": 7,
     "metadata": {},
     "output_type": "execute_result"
    }
   ],
   "source": [
    "re2nfa(\"((a+b)*)+c\")"
   ]
  },
  {
   "cell_type": "markdown",
   "metadata": {
    "run_control": {
     "frozen": false,
     "read_only": false
    }
   },
   "source": [
    "## This is the main design the students will work on!!\n",
    "\n",
    " ---> YOUR TASK 1 is below <---"
   ]
  },
  {
   "cell_type": "code",
   "execution_count": 8,
   "metadata": {
    "run_control": {
     "frozen": false,
     "read_only": false
    }
   },
   "outputs": [
    {
     "name": "stdout",
     "output_type": "stream",
     "text": [
      "Got a Jove markdown comment\n",
      "Got a Jove markdown comment\n",
      "Got a Jove markdown comment\n",
      "Got a Jove markdown comment\n",
      "Got a Jove markdown comment\n",
      "Got a Jove markdown comment\n",
      "Observing state ['I']...\n",
      "\tGot one label: 0\n",
      "Got a Jove markdown comment\n",
      "Observing state ['S_0']...\n",
      "Parsed one line of Jove MD code, involving tokens COLON and ARROWS and other things in an MD line\n",
      "Observing state ['FMNE_1']...\n",
      "\tGot one label: 0\n",
      "Observing state ['FMNE_0']...\n",
      "Parsed one line of Jove MD code, involving tokens COLON and ARROWS and other things in an MD line\n",
      "Parsed DFA keyword\n",
      "\tExtracting Q by unioning FromState and ToStates\n",
      "\tExtracting Gamma by unioning GammaIn symbols and GammaOut strings\n",
      "\tExtracting Q0 by unioning all Q0\n",
      "\tExtracting F by unioning all F\n",
      "\tExtracting Sigma by unioning all SigmaEps sets, removing Eps\n",
      "Forming Delta appropriate to machine type DFA...\n",
      "\tChecking DFA transition table key/value pairs for nondeterministic behavior...\n",
      "\tChecking DFA transition table key/value pairs for nondeterministic behavior...\n",
      "Formed finalized DFA with Delta: {('I', '0'): 'S_0', ('FMNE_1', '0'): 'FMNE_0'}\n"
     ]
    },
    {
     "name": "stderr",
     "output_type": "stream",
     "text": [
      "Generating LALR tables\n"
     ]
    }
   ],
   "source": [
    "Db01XORe01 = md2mc('''\n",
    "!! \n",
    "!!- The overall algorithm is to case-analyze on whether we began with a 01 or not.\n",
    "!!- Please see the state names assigned. Once you understand how the state names were designed,\n",
    "!!- the transitions should make sense.  \n",
    "!!\n",
    "DFA                     !! This DFA chooses meaningful state names and records the last bit seen\n",
    " \n",
    "I    :   0   -> S_0     !! No acceptance upon seeing a 0; record in state name S0\n",
    " \n",
    "FMNE_1 : 0 -> FMNE_0\n",
    "''')"
   ]
  },
  {
   "cell_type": "code",
   "execution_count": 9,
   "metadata": {
    "run_control": {
     "frozen": false,
     "read_only": false
    }
   },
   "outputs": [
    {
     "name": "stdout",
     "output_type": "stream",
     "text": [
      "Observing state ['I']...\n",
      "\tGot one label: ''\n",
      "\tGot one label: ''\n",
      "\tGot one label: S\n",
      "\tGot one rule of a CFG, which gets:\n",
      "\t\t[''] as an input, pops:\n",
      "\t\t[''] off of the stack, and pushes:\n",
      "\t\t['S'] onto the stack\n",
      "Observing state ['W']...\n",
      "Parsed one line of Jove MD code, involving tokens COLON and ARROWS and other things in an MD line\n",
      "Observing state ['W']...\n",
      "\tGot one label: ''\n",
      "\tGot one label: S\n",
      "\tGot one label: aSbS\n",
      "\tGot one rule of a CFG, which gets:\n",
      "\t\t[''] as an input, pops:\n",
      "\t\t['S'] off of the stack, and pushes:\n",
      "\t\t['aSbS'] onto the stack\n",
      "Observing state ['W']...\n",
      "Parsed one line of Jove MD code, involving tokens COLON and ARROWS and other things in an MD line\n",
      "Observing state ['W']...\n",
      "\tGot one label: ''\n",
      "\tGot one label: S\n",
      "\tGot one label: bSaS\n",
      "\tGot one rule of a CFG, which gets:\n",
      "\t\t[''] as an input, pops:\n",
      "\t\t['S'] off of the stack, and pushes:\n",
      "\t\t['bSaS'] onto the stack\n",
      "Observing state ['W']...\n",
      "Parsed one line of Jove MD code, involving tokens COLON and ARROWS and other things in an MD line\n",
      "Observing state ['W']...\n",
      "\tGot one label: ''\n",
      "\tGot one label: S\n",
      "\tGot one label: ''\n",
      "\tGot one rule of a CFG, which gets:\n",
      "\t\t[''] as an input, pops:\n",
      "\t\t['S'] off of the stack, and pushes:\n",
      "\t\t[''] onto the stack\n",
      "Observing state ['W']...\n",
      "Parsed one line of Jove MD code, involving tokens COLON and ARROWS and other things in an MD line\n",
      "Observing state ['W']...\n",
      "\tGot one label: ''\n",
      "\tGot one label: #\n",
      "\tGot one label: #\n",
      "\tGot one rule of a CFG, which gets:\n",
      "\t\t[''] as an input, pops:\n",
      "\t\t['#'] off of the stack, and pushes:\n",
      "\t\t['#'] onto the stack\n",
      "Observing state ['F']...\n",
      "Parsed one line of Jove MD code, involving tokens COLON and ARROWS and other things in an MD line\n",
      "Observing state ['W']...\n",
      "\tGot one label: a\n",
      "\tGot one label: a\n",
      "\tGot one label: ''\n",
      "\tGot one rule of a CFG, which gets:\n",
      "\t\t['a'] as an input, pops:\n",
      "\t\t['a'] off of the stack, and pushes:\n",
      "\t\t[''] onto the stack\n",
      "\tGot one label: b\n",
      "\tGot one label: b\n",
      "\tGot one label: ''\n",
      "\tGot one rule of a CFG, which gets:\n",
      "\t\t['b'] as an input, pops:\n",
      "\t\t['b'] off of the stack, and pushes:\n",
      "\t\t[''] onto the stack\n",
      "\tCombining rules, which were operands of an OR operator\n",
      "Observing state ['W']...\n",
      "Parsed one line of Jove MD code, involving tokens COLON and ARROWS and other things in an MD line\n",
      "Parsed CFG keyword\n",
      "\tExtracting Q by unioning FromState and ToStates\n",
      "\tExtracting Gamma by unioning GammaIn symbols and GammaOut strings\n",
      "\tExtracting Q0 by unioning all Q0\n",
      "\tExtracting F by unioning all F\n",
      "\tExtracting Sigma by unioning all SigmaEps sets, removing Eps\n",
      "Forming Delta appropriate to machine type PDA...\n",
      "\tExtending PDA transition table key/value pairs to allow nondeterministic behavior...\n",
      "\tExtending PDA transition table key/value pairs to allow nondeterministic behavior...\n",
      "\tExtending PDA transition table key/value pairs to allow nondeterministic behavior...\n",
      "\tExtending PDA transition table key/value pairs to allow nondeterministic behavior...\n",
      "\tExtending PDA transition table key/value pairs to allow nondeterministic behavior...\n",
      "\tExtending PDA transition table key/value pairs to allow nondeterministic behavior...\n",
      "\tExtending PDA transition table key/value pairs to allow nondeterministic behavior...\n",
      "Formed finalized PDA with delta: {('I', '', ''): {('W', 'S')}, ('W', '', 'S'): {('W', 'bSaS'), ('W', ''), ('W', 'aSbS')}, ('W', '', '#'): {('F', '#')}, ('W', 'a', 'a'): {('W', '')}, ('W', 'b', 'b'): {('W', '')}}\n"
     ]
    },
    {
     "name": "stderr",
     "output_type": "stream",
     "text": [
      "Generating LALR tables\n"
     ]
    }
   ],
   "source": [
    "EqAB = md2mc('''PDA\n",
    "I : '', ''; S -> W\n",
    "W : '', S; aSbS -> W\n",
    "W : '', S; bSaS -> W\n",
    "W : '', S; '' -> W\n",
    "W : '', #; # -> F\n",
    "W : a,a; '' | b,b; '' -> W\n",
    "''')"
   ]
  },
  {
   "cell_type": "code",
   "execution_count": 10,
   "metadata": {},
   "outputs": [
    {
     "name": "stdout",
     "output_type": "stream",
     "text": [
      "Observing state ['IEAEB']...\n",
      "\tGot one label: a\n",
      "Observing state ['FOAEB']...\n",
      "Parsed one line of Jove MD code, involving tokens COLON and ARROWS and other things in an MD line\n",
      "Observing state ['IEAEB']...\n",
      "\tGot one label: b\n",
      "Observing state ['EAOB']...\n",
      "Parsed one line of Jove MD code, involving tokens COLON and ARROWS and other things in an MD line\n",
      "Observing state ['FOAEB']...\n",
      "\tGot one label: a\n",
      "Observing state ['IEAEB']...\n",
      "Parsed one line of Jove MD code, involving tokens COLON and ARROWS and other things in an MD line\n",
      "Observing state ['FOAEB']...\n",
      "\tGot one label: b\n",
      "Observing state ['OAOB']...\n",
      "Parsed one line of Jove MD code, involving tokens COLON and ARROWS and other things in an MD line\n",
      "Observing state ['EAOB']...\n",
      "\tGot one label: a\n",
      "Observing state ['OAOB']...\n",
      "Parsed one line of Jove MD code, involving tokens COLON and ARROWS and other things in an MD line\n",
      "Observing state ['EAOB']...\n",
      "\tGot one label: b\n",
      "Observing state ['IEAEB']...\n",
      "Parsed one line of Jove MD code, involving tokens COLON and ARROWS and other things in an MD line\n",
      "Observing state ['OAOB']...\n",
      "\tGot one label: a\n",
      "Observing state ['EAOB']...\n",
      "Parsed one line of Jove MD code, involving tokens COLON and ARROWS and other things in an MD line\n",
      "Observing state ['OAOB']...\n",
      "\tGot one label: b\n",
      "Observing state ['FOAEB']...\n",
      "Parsed one line of Jove MD code, involving tokens COLON and ARROWS and other things in an MD line\n",
      "Parsed DFA keyword\n",
      "\tExtracting Q by unioning FromState and ToStates\n",
      "\tExtracting Gamma by unioning GammaIn symbols and GammaOut strings\n",
      "\tExtracting Q0 by unioning all Q0\n",
      "\tExtracting F by unioning all F\n",
      "\tExtracting Sigma by unioning all SigmaEps sets, removing Eps\n",
      "Forming Delta appropriate to machine type DFA...\n",
      "\tChecking DFA transition table key/value pairs for nondeterministic behavior...\n",
      "\tChecking DFA transition table key/value pairs for nondeterministic behavior...\n",
      "\tChecking DFA transition table key/value pairs for nondeterministic behavior...\n",
      "\tChecking DFA transition table key/value pairs for nondeterministic behavior...\n",
      "\tChecking DFA transition table key/value pairs for nondeterministic behavior...\n",
      "\tChecking DFA transition table key/value pairs for nondeterministic behavior...\n",
      "\tChecking DFA transition table key/value pairs for nondeterministic behavior...\n",
      "\tChecking DFA transition table key/value pairs for nondeterministic behavior...\n",
      "Formed finalized DFA with Delta: {('IEAEB', 'a'): 'FOAEB', ('IEAEB', 'b'): 'EAOB', ('FOAEB', 'a'): 'IEAEB', ('FOAEB', 'b'): 'OAOB', ('EAOB', 'a'): 'OAOB', ('EAOB', 'b'): 'IEAEB', ('OAOB', 'a'): 'EAOB', ('OAOB', 'b'): 'FOAEB'}\n"
     ]
    },
    {
     "name": "stderr",
     "output_type": "stream",
     "text": [
      "Generating LALR tables\n"
     ]
    }
   ],
   "source": [
    "dfa_oddas_evenbs = md2mc('''DFA\n",
    "    IEAEB : a -> FOAEB\n",
    "    IEAEB : b -> EAOB\n",
    "    FOAEB : a -> IEAEB\n",
    "    FOAEB : b -> OAOB\n",
    "    EAOB : a -> OAOB\n",
    "    EAOB : b -> IEAEB\n",
    "    OAOB : a -> EAOB\n",
    "    OAOB : b -> FOAEB\n",
    "''')"
   ]
  },
  {
   "cell_type": "code",
   "execution_count": null,
   "metadata": {},
   "outputs": [],
   "source": []
  },
  {
   "cell_type": "code",
   "execution_count": null,
   "metadata": {},
   "outputs": [],
   "source": []
  }
 ],
 "metadata": {
  "kernelspec": {
   "display_name": "Python 3",
   "language": "python",
   "name": "python3"
  },
  "language_info": {
   "codemirror_mode": {
    "name": "ipython",
    "version": 3
   },
   "file_extension": ".py",
   "mimetype": "text/x-python",
   "name": "python",
   "nbconvert_exporter": "python",
   "pygments_lexer": "ipython3",
   "version": "3.7.4"
  },
  "toc": {
   "colors": {
    "hover_highlight": "#DAA520",
    "running_highlight": "#FF0000",
    "selected_highlight": "#FFD700"
   },
   "moveMenuLeft": true,
   "nav_menu": {
    "height": "318px",
    "width": "252px"
   },
   "navigate_menu": true,
   "number_sections": true,
   "sideBar": true,
   "threshold": 4,
   "toc_cell": false,
   "toc_section_display": "block",
   "toc_window_display": false,
   "widenNotebook": false
  }
 },
 "nbformat": 4,
 "nbformat_minor": 1
}
