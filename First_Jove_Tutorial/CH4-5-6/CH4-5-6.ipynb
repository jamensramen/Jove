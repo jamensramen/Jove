{
 "cells": [
  {
   "cell_type": "markdown",
   "metadata": {
    "run_control": {
     "frozen": false,
     "read_only": false
    }
   },
   "source": [
    "# A DFA Overview Video\n",
    "\n",
    "If you'd like to relive my first lecture on DFA, be my guest; play the Youtube video below!\n",
    "My own advice: listen a little and then stop the video and start playing with the code below!"
   ]
  },
  {
   "cell_type": "code",
   "execution_count": 11,
   "metadata": {
    "run_control": {
     "frozen": false,
     "read_only": false
    }
   },
   "outputs": [
    {
     "data": {
      "image/jpeg": "[encoded data removed]",
      "text/html": [
       "\n",
       "        <iframe\n",
       "            width=\"400\"\n",
       "            height=\"300\"\n",
       "            src=\"https://www.youtube.com/embed/FItN6CK1mow\"\n",
       "            frameborder=\"0\"\n",
       "            allowfullscreen\n",
       "        ></iframe>\n",
       "        "
      ],
      "text/plain": [
       "<IPython.lib.display.YouTubeVideo at 0x7ffd6063ee90>"
      ]
     },
     "execution_count": 11,
     "metadata": {},
     "output_type": "execute_result"
    }
   ],
   "source": [
    "# This Youtube video walks through a basic DFA lecture\n",
    "from IPython.display import YouTubeVideo\n",
    "YouTubeVideo('FItN6CK1mow')"
   ]
  },
  {
   "cell_type": "markdown",
   "metadata": {
    "run_control": {
     "frozen": false,
     "read_only": false
    }
   },
   "source": [
    "# Simple DFA Exercises"
   ]
  },
  {
   "cell_type": "code",
   "execution_count": 12,
   "metadata": {
    "run_control": {
     "frozen": false,
     "read_only": false
    }
   },
   "outputs": [],
   "source": [
    "import sys\n",
    "sys.path[0:0] = ['../..','../../3rdparty'] # Put these at the head of the search path\n",
    "from jove.DotBashers import *\n",
    "from jove.Def_md2mc  import *\n",
    "from jove.Def_DFA    import *\n",
    "from jove.LangDef    import *  # for testing DFA actions"
   ]
  },
  {
   "cell_type": "markdown",
   "metadata": {
    "run_control": {
     "frozen": false,
     "read_only": false
    }
   },
   "source": [
    "# Try using a few help commands"
   ]
  },
  {
   "cell_type": "code",
   "execution_count": 13,
   "metadata": {
    "run_control": {
     "frozen": false,
     "read_only": false
    }
   },
   "outputs": [
    {
     "name": "stdout",
     "output_type": "stream",
     "text": [
      "Help on function md2mc in module jove.Def_md2mc:\n",
      "\n",
      "md2mc(src='None', fname='None')\n",
      "    md2mc converts a markdown source to a machine (mc).\n",
      "    \n",
      "    One can feed the markdown in three ways, shown via \n",
      "    pseudo-examples:\n",
      "    \n",
      "    1) md2mc()\n",
      "    \n",
      "       It means you will provide a file-name\n",
      "       (you will be prompted for one). Then the markdown is read from\n",
      "       that file. \n",
      "       \n",
      "    2) md2mc(src=\"<any string S other than 'File'>\")\n",
      "    \n",
      "       S is now taken as the markdown string and parsed. This is \n",
      "       bound to be a multi-line file. \n",
      "       \n",
      "       There is a Jupyter bug that if the parser (or any process) \n",
      "       consuming a multi-line input throws an exception, you will get \n",
      "       a strange error message: \n",
      "       ERROR:root:An unexpected error occurred while tokenizing input\n",
      "       Ignore it please, and instead spend your time fixing the \n",
      "       markdown input. See for details:\n",
      "       https://github.com/ipython/ipython/issues/6864\n",
      "       \n",
      "       \n",
      "    3) md2mc(src=\"File\", fname=\"<your file name path>\")\n",
      "    \n",
      "       Obviously, you should not be feeding a markdown with contents \n",
      "       \"File\". It is not legit markdown syntax. So if src=\"File\", \n",
      "       then fname is taken to be the path-name to a file that is \n",
      "       opened and read.\n",
      "     \n",
      "    In all cases, the returned result is a machine structure (dict).\n",
      "\n"
     ]
    }
   ],
   "source": [
    "help(md2mc)"
   ]
  },
  {
   "cell_type": "code",
   "execution_count": 14,
   "metadata": {
    "run_control": {
     "frozen": false,
     "read_only": false
    }
   },
   "outputs": [
    {
     "name": "stdout",
     "output_type": "stream",
     "text": [
      "Help on function intersect_dfa in module jove.Def_DFA:\n",
      "\n",
      "intersect_dfa(D1in, D2in)\n",
      "    In : D1in (consistent DFA)\n",
      "         D2in (consistent DFA)\n",
      "    Out: DFA for language intersection of D1in, D2in (consistent DFA).\n",
      "\n"
     ]
    }
   ],
   "source": [
    "help(intersect_dfa)"
   ]
  },
  {
   "cell_type": "markdown",
   "metadata": {
    "run_control": {
     "frozen": false,
     "read_only": false
    }
   },
   "source": [
    "# Specify your DFA : now as a \"raw\" dict\n",
    "\n",
    "This is error-prone. A better method will be introduced momentarily!"
   ]
  },
  {
   "cell_type": "code",
   "execution_count": 15,
   "metadata": {
    "run_control": {
     "frozen": false,
     "read_only": false
    }
   },
   "outputs": [],
   "source": [
    "Fig34 = {\n",
    " 'Q': {'A', 'F', 'I'},\n",
    " 'Sigma': {'0', '1'},\n",
    " 'Delta': {('A', '0'): 'I',\n",
    "  ('A', '1'): 'I',\n",
    "  ('F', '0'): 'I',\n",
    "  ('F', '1'): 'I',\n",
    "  ('I', '0'): 'A',\n",
    "  ('I', '1'): 'F'},\n",
    " 'q0': 'I',\n",
    " 'F': {'F'}\n",
    "}"
   ]
  },
  {
   "cell_type": "code",
   "execution_count": 16,
   "metadata": {
    "run_control": {
     "frozen": false,
     "read_only": false
    }
   },
   "outputs": [
    {
     "data": {
      "image/svg+xml": [
       "<?xml version=\"1.0\" encoding=\"UTF-8\" standalone=\"no\"?>\n",
       "<!DOCTYPE svg PUBLIC \"-//W3C//DTD SVG 1.1//EN\"\n",
       " \"http://www.w3.org/Graphics/SVG/1.1/DTD/svg11.dtd\">\n",
       "<!-- Generated by graphviz version 2.40.1 (20161225.0304)\n",
       " -->\n",
       "<!-- Title: %3 Pages: 1 -->\n",
       "<svg width=\"226pt\" height=\"168pt\"\n",
       " viewBox=\"0.00 0.00 226.00 168.20\" xmlns=\"http://www.w3.org/2000/svg\" xmlns:xlink=\"http://www.w3.org/1999/xlink\">\n",
       "<g id=\"graph0\" class=\"graph\" transform=\"scale(1 1) rotate(0) translate(4 164.1965)\">\n",
       "<title>%3</title>\n",
       "<polygon fill=\"#ffffff\" stroke=\"transparent\" points=\"-4,4 -4,-164.1965 222,-164.1965 222,4 -4,4\"/>\n",
       "<!-- EMPTY -->\n",
       "<g id=\"node1\" class=\"node\">\n",
       "<title>EMPTY</title>\n",
       "</g>\n",
       "<!-- I -->\n",
       "<g id=\"node2\" class=\"node\">\n",
       "<title>I</title>\n",
       "<ellipse fill=\"none\" stroke=\"#000000\" cx=\"109\" cy=\"-82.1965\" rx=\"18\" ry=\"18\"/>\n",
       "<text text-anchor=\"middle\" x=\"109\" y=\"-78.4965\" font-family=\"Times,serif\" font-size=\"14.00\" fill=\"#000000\">I</text>\n",
       "</g>\n",
       "<!-- EMPTY&#45;&gt;I -->\n",
       "<g id=\"edge1\" class=\"edge\">\n",
       "<title>EMPTY&#45;&gt;I</title>\n",
       "<path fill=\"none\" stroke=\"#000000\" d=\"M54.3048,-82.1965C62.6909,-82.1965 71.9407,-82.1965 80.4103,-82.1965\"/>\n",
       "<polygon fill=\"#000000\" stroke=\"#000000\" points=\"80.5976,-85.6966 90.5976,-82.1965 80.5976,-78.6966 80.5976,-85.6966\"/>\n",
       "</g>\n",
       "<!-- A -->\n",
       "<g id=\"node3\" class=\"node\">\n",
       "<title>A</title>\n",
       "<ellipse fill=\"none\" stroke=\"#000000\" cx=\"196\" cy=\"-139.1965\" rx=\"18\" ry=\"18\"/>\n",
       "<text text-anchor=\"middle\" x=\"196\" y=\"-135.4965\" font-family=\"Times,serif\" font-size=\"14.00\" fill=\"#000000\">A</text>\n",
       "</g>\n",
       "<!-- I&#45;&gt;A -->\n",
       "<g id=\"edge6\" class=\"edge\">\n",
       "<title>I&#45;&gt;A</title>\n",
       "<path fill=\"none\" stroke=\"#000000\" d=\"M114.1448,-99.6364C119.381,-113.9079 129.0377,-133.1588 145,-142.1965 151.9765,-146.1466 160.3847,-146.9332 168.3436,-146.2978\"/>\n",
       "<polygon fill=\"#000000\" stroke=\"#000000\" points=\"169.0199,-149.7356 178.3895,-144.79 167.9808,-142.8132 169.0199,-149.7356\"/>\n",
       "<text text-anchor=\"middle\" x=\"150.5\" y=\"-148.9965\" font-family=\"Times,serif\" font-size=\"14.00\" fill=\"#000000\">0 </text>\n",
       "</g>\n",
       "<!-- F -->\n",
       "<g id=\"node4\" class=\"node\">\n",
       "<title>F</title>\n",
       "<ellipse fill=\"none\" stroke=\"#000000\" cx=\"196\" cy=\"-25.1965\" rx=\"18\" ry=\"18\"/>\n",
       "<ellipse fill=\"none\" stroke=\"#000000\" cx=\"196\" cy=\"-25.1965\" rx=\"22\" ry=\"22\"/>\n",
       "<text text-anchor=\"middle\" x=\"196\" y=\"-21.4965\" font-family=\"Times,serif\" font-size=\"14.00\" fill=\"#000000\">F</text>\n",
       "</g>\n",
       "<!-- I&#45;&gt;F -->\n",
       "<g id=\"edge7\" class=\"edge\">\n",
       "<title>I&#45;&gt;F</title>\n",
       "<path fill=\"none\" stroke=\"#000000\" d=\"M124.1542,-72.2679C136.4104,-64.238 153.9839,-52.7243 168.6825,-43.0942\"/>\n",
       "<polygon fill=\"#000000\" stroke=\"#000000\" points=\"170.9432,-45.7974 177.3897,-37.3895 167.107,-39.9422 170.9432,-45.7974\"/>\n",
       "<text text-anchor=\"middle\" x=\"150.5\" y=\"-59.9965\" font-family=\"Times,serif\" font-size=\"14.00\" fill=\"#000000\">1 </text>\n",
       "</g>\n",
       "<!-- A&#45;&gt;I -->\n",
       "<g id=\"edge2\" class=\"edge\">\n",
       "<title>A&#45;&gt;I</title>\n",
       "<path fill=\"none\" stroke=\"#000000\" d=\"M178.6713,-133.5175C168.4101,-129.7278 155.4214,-124.1634 145,-117.1965 139.06,-113.2255 133.233,-108.2091 128.0557,-103.224\"/>\n",
       "<polygon fill=\"#000000\" stroke=\"#000000\" points=\"130.5118,-100.7299 120.9977,-96.068 125.528,-105.6454 130.5118,-100.7299\"/>\n",
       "<text text-anchor=\"middle\" x=\"150.5\" y=\"-126.9965\" font-family=\"Times,serif\" font-size=\"14.00\" fill=\"#000000\">0 </text>\n",
       "</g>\n",
       "<!-- A&#45;&gt;I -->\n",
       "<g id=\"edge3\" class=\"edge\">\n",
       "<title>A&#45;&gt;I</title>\n",
       "<path fill=\"none\" stroke=\"#000000\" d=\"M184.7508,-124.5879C177.389,-115.8835 167.1011,-105.2018 156,-98.1965 150.1638,-94.5136 143.3811,-91.5694 136.8147,-89.2621\"/>\n",
       "<polygon fill=\"#000000\" stroke=\"#000000\" points=\"137.43,-85.7875 126.8413,-86.1458 135.3423,-92.469 137.43,-85.7875\"/>\n",
       "<text text-anchor=\"middle\" x=\"150.5\" y=\"-101.9965\" font-family=\"Times,serif\" font-size=\"14.00\" fill=\"#000000\">1 </text>\n",
       "</g>\n",
       "<!-- F&#45;&gt;I -->\n",
       "<g id=\"edge4\" class=\"edge\">\n",
       "<title>F&#45;&gt;I</title>\n",
       "<path fill=\"none\" stroke=\"#000000\" d=\"M174.2157,-21.2148C164.6965,-20.5485 153.736,-21.3154 145,-26.1965 133.3338,-32.7149 124.862,-44.769 119.0789,-56.0284\"/>\n",
       "<polygon fill=\"#000000\" stroke=\"#000000\" points=\"115.8758,-54.6162 114.8425,-65.1606 122.2258,-57.5621 115.8758,-54.6162\"/>\n",
       "<text text-anchor=\"middle\" x=\"150.5\" y=\"-29.9965\" font-family=\"Times,serif\" font-size=\"14.00\" fill=\"#000000\">0 </text>\n",
       "</g>\n",
       "<!-- F&#45;&gt;I -->\n",
       "<g id=\"edge5\" class=\"edge\">\n",
       "<title>F&#45;&gt;I</title>\n",
       "<path fill=\"none\" stroke=\"#000000\" d=\"M179.6959,-10.2067C169.3312,-2.5616 155.8673,3.7938 145,-3.1965 127.6217,-14.3749 118.5321,-36.2367 113.8375,-54.1337\"/>\n",
       "<polygon fill=\"#000000\" stroke=\"#000000\" points=\"110.3753,-53.573 111.5518,-64.1023 117.1982,-55.1375 110.3753,-53.573\"/>\n",
       "<text text-anchor=\"middle\" x=\"150.5\" y=\"-6.9965\" font-family=\"Times,serif\" font-size=\"14.00\" fill=\"#000000\">1 </text>\n",
       "</g>\n",
       "</g>\n",
       "</svg>\n"
      ],
      "text/plain": [
       "<graphviz.dot.Digraph at 0x7ffd60636b50>"
      ]
     },
     "execution_count": 16,
     "metadata": {},
     "output_type": "execute_result"
    }
   ],
   "source": [
    "dotObj_dfa(Fig34)"
   ]
  },
  {
   "cell_type": "markdown",
   "metadata": {
    "run_control": {
     "frozen": false,
     "read_only": false
    }
   },
   "source": [
    "# The same DFA in automd (Jove's markdown)\n",
    "\n",
    "This is much less error-prone than a \"plain old dict\" that Fig34 above represented.\n",
    "\n",
    "Notice that there is a mini compiler that processes this markdown language\n",
    "and generates \"code\". The code is basically the dict defined as Fig34 above.\n",
    "\n",
    "This mini-compiler would be studied in later chapters. In particular,\n",
    "students will get to know:\n",
    "\n",
    "* how we parse Fig34md below, and pick out \"->\" as a token\n",
    "\n",
    "* how to collect state names\n",
    "\n",
    "* how \"I\" will be recognized to be an initial-state name\n",
    "\n",
    "* how \"F\" will be recognized to be a final state name\n",
    "\n",
    "In general, anything that starts with \"i\" or \"I\" will be an initial state,\n",
    "and anything that starts with \"f\" or \"F\" will be a final state. The parser\n",
    "underlies function \"md2mc\" below. \n",
    "\n",
    "The parser will also do error-checking. Try renaming all the \"I\"\n",
    "states below to, say, \"j\". Then the error message obtained will be this (after a huge gory Python error stack dump, you'll see this):\n",
    "\n",
    ">> AssertionError: Error: DFA with 0 starting states is illegal.\n",
    "\n",
    "Try keeping the \"I\" state name, but naming the state \"A\" to be \"IA\".\n",
    "Then, the error message obtained will be:\n",
    "\n",
    ">> AssertionError: Error: DFA with 2 starting states is illegal.\n",
    "\n",
    "Studying this mini-compiler will be a treat, in that a student will\n",
    "understand how lexing and parsing works \"for real\", how error-checks\n",
    "are done, how comments are processed, and how the \"code\" is generated\n",
    "if all is well.\n",
    "\n",
    "It also generates well-documented DFA for the reader to study. Why not\n",
    "teach good SW engineering practices even when developing a DFA? After\n",
    "all, these DFA may go into airplanes to be critical controllers, and\n",
    "we don't want them to be ill-documented.\n"
   ]
  },
  {
   "cell_type": "code",
   "execution_count": 17,
   "metadata": {
    "run_control": {
     "frozen": false,
     "read_only": false
    }
   },
   "outputs": [],
   "source": [
    "Fig34md = '''  !! Comments begin with !! and last till the end of line\n",
    "DFA            !! This keyword tells \"md2mc\" that it is parsing a DFA\n",
    "I : 0     -> A !! DFA transition: From initial state I, upon 0, go to state A\n",
    "A : 0 | 1 -> I !! Two DFA transitions: from A, upon 0 or a 1, go to state I\n",
    "I : 1     -> F !! A DFA transition from I to F. I is the initial state and F is final \n",
    "F : 0 | 1 -> I !! From F upon 0 or a 1, go to I.\n",
    "'''"
   ]
  },
  {
   "cell_type": "code",
   "execution_count": 18,
   "metadata": {},
   "outputs": [
    {
     "name": "stderr",
     "output_type": "stream",
     "text": [
      "Generating LALR tables\n"
     ]
    }
   ],
   "source": [
    "DFA1 = md2mc('''DFA\n",
    "\n",
    "I : 0   -> A\n",
    "A : 0|1 -> I\n",
    "I : 1   -> F\n",
    "F : 0|1 -> I\n",
    "\n",
    "''')"
   ]
  },
  {
   "cell_type": "code",
   "execution_count": 19,
   "metadata": {},
   "outputs": [
    {
     "data": {
      "image/svg+xml": [
       "<?xml version=\"1.0\" encoding=\"UTF-8\" standalone=\"no\"?>\n",
       "<!DOCTYPE svg PUBLIC \"-//W3C//DTD SVG 1.1//EN\"\n",
       " \"http://www.w3.org/Graphics/SVG/1.1/DTD/svg11.dtd\">\n",
       "<!-- Generated by graphviz version 2.40.1 (20161225.0304)\n",
       " -->\n",
       "<!-- Title: %3 Pages: 1 -->\n",
       "<svg width=\"226pt\" height=\"178pt\"\n",
       " viewBox=\"0.00 0.00 226.00 178.00\" xmlns=\"http://www.w3.org/2000/svg\" xmlns:xlink=\"http://www.w3.org/1999/xlink\">\n",
       "<g id=\"graph0\" class=\"graph\" transform=\"scale(1 1) rotate(0) translate(4 174)\">\n",
       "<title>%3</title>\n",
       "<polygon fill=\"#ffffff\" stroke=\"transparent\" points=\"-4,4 -4,-174 222,-174 222,4 -4,4\"/>\n",
       "<!-- EMPTY -->\n",
       "<g id=\"node1\" class=\"node\">\n",
       "<title>EMPTY</title>\n",
       "</g>\n",
       "<!-- I -->\n",
       "<g id=\"node2\" class=\"node\">\n",
       "<title>I</title>\n",
       "<ellipse fill=\"none\" stroke=\"#000000\" cx=\"109\" cy=\"-79\" rx=\"18\" ry=\"18\"/>\n",
       "<text text-anchor=\"middle\" x=\"109\" y=\"-75.3\" font-family=\"Times,serif\" font-size=\"14.00\" fill=\"#000000\">I</text>\n",
       "</g>\n",
       "<!-- EMPTY&#45;&gt;I -->\n",
       "<g id=\"edge1\" class=\"edge\">\n",
       "<title>EMPTY&#45;&gt;I</title>\n",
       "<path fill=\"none\" stroke=\"#000000\" d=\"M54.3048,-79C62.6909,-79 71.9407,-79 80.4103,-79\"/>\n",
       "<polygon fill=\"#000000\" stroke=\"#000000\" points=\"80.5976,-82.5001 90.5976,-79 80.5976,-75.5001 80.5976,-82.5001\"/>\n",
       "</g>\n",
       "<!-- A -->\n",
       "<g id=\"node3\" class=\"node\">\n",
       "<title>A</title>\n",
       "<ellipse fill=\"none\" stroke=\"#000000\" cx=\"196\" cy=\"-136\" rx=\"18\" ry=\"18\"/>\n",
       "<text text-anchor=\"middle\" x=\"196\" y=\"-132.3\" font-family=\"Times,serif\" font-size=\"14.00\" fill=\"#000000\">A</text>\n",
       "</g>\n",
       "<!-- I&#45;&gt;A -->\n",
       "<g id=\"edge2\" class=\"edge\">\n",
       "<title>I&#45;&gt;A</title>\n",
       "<path fill=\"none\" stroke=\"#000000\" d=\"M112.2116,-96.7342C116.4221,-114.2102 125.68,-139.9861 145,-152 153.3051,-157.1644 163.4157,-155.3649 172.4376,-151.4601\"/>\n",
       "<polygon fill=\"#000000\" stroke=\"#000000\" points=\"174.0712,-154.5556 181.324,-146.8324 170.838,-148.347 174.0712,-154.5556\"/>\n",
       "<text text-anchor=\"middle\" x=\"150.5\" y=\"-158.8\" font-family=\"Times,serif\" font-size=\"14.00\" fill=\"#000000\">0 </text>\n",
       "</g>\n",
       "<!-- F -->\n",
       "<g id=\"node4\" class=\"node\">\n",
       "<title>F</title>\n",
       "<ellipse fill=\"none\" stroke=\"#000000\" cx=\"196\" cy=\"-22\" rx=\"18\" ry=\"18\"/>\n",
       "<ellipse fill=\"none\" stroke=\"#000000\" cx=\"196\" cy=\"-22\" rx=\"22\" ry=\"22\"/>\n",
       "<text text-anchor=\"middle\" x=\"196\" y=\"-18.3\" font-family=\"Times,serif\" font-size=\"14.00\" fill=\"#000000\">F</text>\n",
       "</g>\n",
       "<!-- I&#45;&gt;F -->\n",
       "<g id=\"edge5\" class=\"edge\">\n",
       "<title>I&#45;&gt;F</title>\n",
       "<path fill=\"none\" stroke=\"#000000\" d=\"M124.1542,-69.0714C136.4104,-61.0415 153.9839,-49.5278 168.6825,-39.8977\"/>\n",
       "<polygon fill=\"#000000\" stroke=\"#000000\" points=\"170.9432,-42.6009 177.3897,-34.193 167.107,-36.7456 170.9432,-42.6009\"/>\n",
       "<text text-anchor=\"middle\" x=\"150.5\" y=\"-56.8\" font-family=\"Times,serif\" font-size=\"14.00\" fill=\"#000000\">1 </text>\n",
       "</g>\n",
       "<!-- A&#45;&gt;I -->\n",
       "<g id=\"edge3\" class=\"edge\">\n",
       "<title>A&#45;&gt;I</title>\n",
       "<path fill=\"none\" stroke=\"#000000\" d=\"M178.6713,-130.321C168.4101,-126.5313 155.4214,-120.9669 145,-114 139.06,-110.029 133.233,-105.0126 128.0557,-100.0275\"/>\n",
       "<polygon fill=\"#000000\" stroke=\"#000000\" points=\"130.5118,-97.5334 120.9977,-92.8715 125.528,-102.4489 130.5118,-97.5334\"/>\n",
       "<text text-anchor=\"middle\" x=\"150.5\" y=\"-123.8\" font-family=\"Times,serif\" font-size=\"14.00\" fill=\"#000000\">0 </text>\n",
       "</g>\n",
       "<!-- A&#45;&gt;I -->\n",
       "<g id=\"edge4\" class=\"edge\">\n",
       "<title>A&#45;&gt;I</title>\n",
       "<path fill=\"none\" stroke=\"#000000\" d=\"M184.7508,-121.3913C177.389,-112.687 167.1011,-102.0053 156,-95 150.1638,-91.3171 143.3811,-88.3729 136.8147,-86.0655\"/>\n",
       "<polygon fill=\"#000000\" stroke=\"#000000\" points=\"137.43,-82.591 126.8413,-82.9493 135.3423,-89.2724 137.43,-82.591\"/>\n",
       "<text text-anchor=\"middle\" x=\"150.5\" y=\"-98.8\" font-family=\"Times,serif\" font-size=\"14.00\" fill=\"#000000\">1 </text>\n",
       "</g>\n",
       "<!-- F&#45;&gt;I -->\n",
       "<g id=\"edge6\" class=\"edge\">\n",
       "<title>F&#45;&gt;I</title>\n",
       "<path fill=\"none\" stroke=\"#000000\" d=\"M173.8853,-21.2549C164.411,-21.8552 153.5772,-23.8401 145,-29 135.376,-34.7897 127.5905,-44.2414 121.7543,-53.3772\"/>\n",
       "<polygon fill=\"#000000\" stroke=\"#000000\" points=\"118.588,-51.8591 116.5721,-62.2603 124.6343,-55.3864 118.588,-51.8591\"/>\n",
       "<text text-anchor=\"middle\" x=\"150.5\" y=\"-32.8\" font-family=\"Times,serif\" font-size=\"14.00\" fill=\"#000000\">0 </text>\n",
       "</g>\n",
       "<!-- F&#45;&gt;I -->\n",
       "<g id=\"edge7\" class=\"edge\">\n",
       "<title>F&#45;&gt;I</title>\n",
       "<path fill=\"none\" stroke=\"#000000\" d=\"M178.0959,-8.7482C167.8779,-2.9143 155.1279,1.3357 145,-5 128.8512,-15.1022 119.7585,-34.7539 114.7524,-51.2679\"/>\n",
       "<polygon fill=\"#000000\" stroke=\"#000000\" points=\"111.3439,-50.4662 112.137,-61.0313 118.1055,-52.2776 111.3439,-50.4662\"/>\n",
       "<text text-anchor=\"middle\" x=\"150.5\" y=\"-8.8\" font-family=\"Times,serif\" font-size=\"14.00\" fill=\"#000000\">1 </text>\n",
       "</g>\n",
       "</g>\n",
       "</svg>\n"
      ],
      "text/plain": [
       "<graphviz.dot.Digraph at 0x7ffd50674410>"
      ]
     },
     "execution_count": 19,
     "metadata": {},
     "output_type": "execute_result"
    }
   ],
   "source": [
    "dotObj_dfa(DFA1)"
   ]
  },
  {
   "cell_type": "code",
   "execution_count": 20,
   "metadata": {},
   "outputs": [
    {
     "data": {
      "text/plain": [
       "'A'"
      ]
     },
     "execution_count": 20,
     "metadata": {},
     "output_type": "execute_result"
    }
   ],
   "source": [
    "step_dfa(DFA1, 'I', '0')"
   ]
  },
  {
   "cell_type": "code",
   "execution_count": 21,
   "metadata": {},
   "outputs": [
    {
     "data": {
      "text/plain": [
       "'I'"
      ]
     },
     "execution_count": 21,
     "metadata": {},
     "output_type": "execute_result"
    }
   ],
   "source": [
    "run_dfa(DFA1, '01100101')"
   ]
  },
  {
   "cell_type": "code",
   "execution_count": 22,
   "metadata": {},
   "outputs": [
    {
     "data": {
      "text/plain": [
       "'F'"
      ]
     },
     "execution_count": 22,
     "metadata": {},
     "output_type": "execute_result"
    }
   ],
   "source": [
    "run_dfa(DFA1, '011001011')"
   ]
  },
  {
   "cell_type": "code",
   "execution_count": 23,
   "metadata": {},
   "outputs": [
    {
     "data": {
      "text/plain": [
       "<function jove.LangDef.lstar(L, n)>"
      ]
     },
     "execution_count": 23,
     "metadata": {},
     "output_type": "execute_result"
    }
   ],
   "source": [
    "lstar"
   ]
  },
  {
   "cell_type": "code",
   "execution_count": null,
   "metadata": {},
   "outputs": [],
   "source": []
  },
  {
   "cell_type": "markdown",
   "metadata": {
    "run_control": {
     "frozen": false,
     "read_only": false
    }
   },
   "source": [
    "# Function md2mc is your automd compiler"
   ]
  },
  {
   "cell_type": "code",
   "execution_count": 24,
   "metadata": {
    "run_control": {
     "frozen": false,
     "read_only": false
    }
   },
   "outputs": [
    {
     "data": {
      "text/plain": [
       "{'Q': {'A', 'F', 'I'},\n",
       " 'Sigma': {'0', '1'},\n",
       " 'Delta': {('I', '0'): 'A',\n",
       "  ('A', '0'): 'I',\n",
       "  ('A', '1'): 'I',\n",
       "  ('I', '1'): 'F',\n",
       "  ('F', '0'): 'I',\n",
       "  ('F', '1'): 'I'},\n",
       " 'q0': 'I',\n",
       " 'F': {'F'}}"
      ]
     },
     "execution_count": 24,
     "metadata": {},
     "output_type": "execute_result"
    }
   ],
   "source": [
    "Fig34MC = md2mc(Fig34md)\n",
    "Fig34MC"
   ]
  },
  {
   "cell_type": "code",
   "execution_count": 25,
   "metadata": {
    "run_control": {
     "frozen": false,
     "read_only": false
    }
   },
   "outputs": [
    {
     "data": {
      "image/svg+xml": [
       "<?xml version=\"1.0\" encoding=\"UTF-8\" standalone=\"no\"?>\n",
       "<!DOCTYPE svg PUBLIC \"-//W3C//DTD SVG 1.1//EN\"\n",
       " \"http://www.w3.org/Graphics/SVG/1.1/DTD/svg11.dtd\">\n",
       "<!-- Generated by graphviz version 2.40.1 (20161225.0304)\n",
       " -->\n",
       "<!-- Title: %3 Pages: 1 -->\n",
       "<svg width=\"226pt\" height=\"178pt\"\n",
       " viewBox=\"0.00 0.00 226.00 178.00\" xmlns=\"http://www.w3.org/2000/svg\" xmlns:xlink=\"http://www.w3.org/1999/xlink\">\n",
       "<g id=\"graph0\" class=\"graph\" transform=\"scale(1 1) rotate(0) translate(4 174)\">\n",
       "<title>%3</title>\n",
       "<polygon fill=\"#ffffff\" stroke=\"transparent\" points=\"-4,4 -4,-174 222,-174 222,4 -4,4\"/>\n",
       "<!-- EMPTY -->\n",
       "<g id=\"node1\" class=\"node\">\n",
       "<title>EMPTY</title>\n",
       "</g>\n",
       "<!-- I -->\n",
       "<g id=\"node2\" class=\"node\">\n",
       "<title>I</title>\n",
       "<ellipse fill=\"none\" stroke=\"#000000\" cx=\"109\" cy=\"-79\" rx=\"18\" ry=\"18\"/>\n",
       "<text text-anchor=\"middle\" x=\"109\" y=\"-75.3\" font-family=\"Times,serif\" font-size=\"14.00\" fill=\"#000000\">I</text>\n",
       "</g>\n",
       "<!-- EMPTY&#45;&gt;I -->\n",
       "<g id=\"edge1\" class=\"edge\">\n",
       "<title>EMPTY&#45;&gt;I</title>\n",
       "<path fill=\"none\" stroke=\"#000000\" d=\"M54.3048,-79C62.6909,-79 71.9407,-79 80.4103,-79\"/>\n",
       "<polygon fill=\"#000000\" stroke=\"#000000\" points=\"80.5976,-82.5001 90.5976,-79 80.5976,-75.5001 80.5976,-82.5001\"/>\n",
       "</g>\n",
       "<!-- A -->\n",
       "<g id=\"node3\" class=\"node\">\n",
       "<title>A</title>\n",
       "<ellipse fill=\"none\" stroke=\"#000000\" cx=\"196\" cy=\"-136\" rx=\"18\" ry=\"18\"/>\n",
       "<text text-anchor=\"middle\" x=\"196\" y=\"-132.3\" font-family=\"Times,serif\" font-size=\"14.00\" fill=\"#000000\">A</text>\n",
       "</g>\n",
       "<!-- I&#45;&gt;A -->\n",
       "<g id=\"edge2\" class=\"edge\">\n",
       "<title>I&#45;&gt;A</title>\n",
       "<path fill=\"none\" stroke=\"#000000\" d=\"M112.2116,-96.7342C116.4221,-114.2102 125.68,-139.9861 145,-152 153.3051,-157.1644 163.4157,-155.3649 172.4376,-151.4601\"/>\n",
       "<polygon fill=\"#000000\" stroke=\"#000000\" points=\"174.0712,-154.5556 181.324,-146.8324 170.838,-148.347 174.0712,-154.5556\"/>\n",
       "<text text-anchor=\"middle\" x=\"150.5\" y=\"-158.8\" font-family=\"Times,serif\" font-size=\"14.00\" fill=\"#000000\">0 </text>\n",
       "</g>\n",
       "<!-- F -->\n",
       "<g id=\"node4\" class=\"node\">\n",
       "<title>F</title>\n",
       "<ellipse fill=\"none\" stroke=\"#000000\" cx=\"196\" cy=\"-22\" rx=\"18\" ry=\"18\"/>\n",
       "<ellipse fill=\"none\" stroke=\"#000000\" cx=\"196\" cy=\"-22\" rx=\"22\" ry=\"22\"/>\n",
       "<text text-anchor=\"middle\" x=\"196\" y=\"-18.3\" font-family=\"Times,serif\" font-size=\"14.00\" fill=\"#000000\">F</text>\n",
       "</g>\n",
       "<!-- I&#45;&gt;F -->\n",
       "<g id=\"edge5\" class=\"edge\">\n",
       "<title>I&#45;&gt;F</title>\n",
       "<path fill=\"none\" stroke=\"#000000\" d=\"M124.1542,-69.0714C136.4104,-61.0415 153.9839,-49.5278 168.6825,-39.8977\"/>\n",
       "<polygon fill=\"#000000\" stroke=\"#000000\" points=\"170.9432,-42.6009 177.3897,-34.193 167.107,-36.7456 170.9432,-42.6009\"/>\n",
       "<text text-anchor=\"middle\" x=\"150.5\" y=\"-56.8\" font-family=\"Times,serif\" font-size=\"14.00\" fill=\"#000000\">1 </text>\n",
       "</g>\n",
       "<!-- A&#45;&gt;I -->\n",
       "<g id=\"edge3\" class=\"edge\">\n",
       "<title>A&#45;&gt;I</title>\n",
       "<path fill=\"none\" stroke=\"#000000\" d=\"M178.6713,-130.321C168.4101,-126.5313 155.4214,-120.9669 145,-114 139.06,-110.029 133.233,-105.0126 128.0557,-100.0275\"/>\n",
       "<polygon fill=\"#000000\" stroke=\"#000000\" points=\"130.5118,-97.5334 120.9977,-92.8715 125.528,-102.4489 130.5118,-97.5334\"/>\n",
       "<text text-anchor=\"middle\" x=\"150.5\" y=\"-123.8\" font-family=\"Times,serif\" font-size=\"14.00\" fill=\"#000000\">0 </text>\n",
       "</g>\n",
       "<!-- A&#45;&gt;I -->\n",
       "<g id=\"edge4\" class=\"edge\">\n",
       "<title>A&#45;&gt;I</title>\n",
       "<path fill=\"none\" stroke=\"#000000\" d=\"M184.7508,-121.3913C177.389,-112.687 167.1011,-102.0053 156,-95 150.1638,-91.3171 143.3811,-88.3729 136.8147,-86.0655\"/>\n",
       "<polygon fill=\"#000000\" stroke=\"#000000\" points=\"137.43,-82.591 126.8413,-82.9493 135.3423,-89.2724 137.43,-82.591\"/>\n",
       "<text text-anchor=\"middle\" x=\"150.5\" y=\"-98.8\" font-family=\"Times,serif\" font-size=\"14.00\" fill=\"#000000\">1 </text>\n",
       "</g>\n",
       "<!-- F&#45;&gt;I -->\n",
       "<g id=\"edge6\" class=\"edge\">\n",
       "<title>F&#45;&gt;I</title>\n",
       "<path fill=\"none\" stroke=\"#000000\" d=\"M173.8853,-21.2549C164.411,-21.8552 153.5772,-23.8401 145,-29 135.376,-34.7897 127.5905,-44.2414 121.7543,-53.3772\"/>\n",
       "<polygon fill=\"#000000\" stroke=\"#000000\" points=\"118.588,-51.8591 116.5721,-62.2603 124.6343,-55.3864 118.588,-51.8591\"/>\n",
       "<text text-anchor=\"middle\" x=\"150.5\" y=\"-32.8\" font-family=\"Times,serif\" font-size=\"14.00\" fill=\"#000000\">0 </text>\n",
       "</g>\n",
       "<!-- F&#45;&gt;I -->\n",
       "<g id=\"edge7\" class=\"edge\">\n",
       "<title>F&#45;&gt;I</title>\n",
       "<path fill=\"none\" stroke=\"#000000\" d=\"M178.0959,-8.7482C167.8779,-2.9143 155.1279,1.3357 145,-5 128.8512,-15.1022 119.7585,-34.7539 114.7524,-51.2679\"/>\n",
       "<polygon fill=\"#000000\" stroke=\"#000000\" points=\"111.3439,-50.4662 112.137,-61.0313 118.1055,-52.2776 111.3439,-50.4662\"/>\n",
       "<text text-anchor=\"middle\" x=\"150.5\" y=\"-8.8\" font-family=\"Times,serif\" font-size=\"14.00\" fill=\"#000000\">1 </text>\n",
       "</g>\n",
       "</g>\n",
       "</svg>\n"
      ],
      "text/plain": [
       "<graphviz.dot.Digraph at 0x7ffd60636f50>"
      ]
     },
     "execution_count": 25,
     "metadata": {},
     "output_type": "execute_result"
    }
   ],
   "source": [
    "# md2mc alone produces a dict similar to Fig34, above.\n",
    "# We pass it to dotObj_dfa which prints the DFA image,\n",
    "# as shown below.\n",
    "\n",
    "dotObj_dfa(md2mc(Fig34md))"
   ]
  },
  {
   "cell_type": "code",
   "execution_count": 26,
   "metadata": {
    "run_control": {
     "frozen": false,
     "read_only": false
    }
   },
   "outputs": [
    {
     "data": {
      "text/plain": [
       "True"
      ]
     },
     "execution_count": 26,
     "metadata": {},
     "output_type": "execute_result"
    }
   ],
   "source": [
    "accepts_dfa(md2mc(Fig34md), \"10101\")"
   ]
  },
  {
   "cell_type": "markdown",
   "metadata": {
    "run_control": {
     "frozen": false,
     "read_only": false
    }
   },
   "source": [
    "# Testing acceptance in one \"go\"\n",
    "\n",
    "Generating multiple strings according to the numeric order (increasing\n",
    "lengths, with each length category exhausted before going to the next \n",
    "length category) is a handy test-input generator.\n",
    "\n",
    "Plus, the \"numeric order\" is a powerful concept which we shall use \n",
    "when we later discuss the \"dovetail enumeration\" order (in Chapter 14\n",
    "and beyond).\n"
   ]
  },
  {
   "cell_type": "code",
   "execution_count": 27,
   "metadata": {
    "run_control": {
     "frozen": false,
     "read_only": false
    }
   },
   "outputs": [],
   "source": [
    "from math import floor, log, pow\n",
    "def nthnumeric(N, Sigma={'0','1'}):\n",
    "    \"\"\"Assume Sigma is a 2-sized list/set of chars (default {'a','b'}). \n",
    "       Produce the Nth string in numeric order, where N >= 0.\n",
    "       Idea : Given N, get b = floor(log_2(N+1)) - need that \n",
    "       many places; what to fill in the places is the binary \n",
    "       code for N - (2^b - 1) with 0 as Sigma[0] and 1 as Sigma[1].    \n",
    "    \"\"\"\n",
    "    if (type(Sigma)==set):\n",
    "       S = list(Sigma)\n",
    "    else:\n",
    "       assert(type(Sigma)==list\n",
    "       ), \"Expected to be given set/list for arg2 of nthnumeric.\"\n",
    "       S = Sigma\n",
    "    assert(len(Sigma)==2\n",
    "          ),\"Expected to be given a Sigma of length 2.\"\n",
    "    if(N==0):\n",
    "        return ''\n",
    "    else:\n",
    "        width = floor(log(N+1, 2))\n",
    "        tofill = int(N - pow(2, width) + 1)\n",
    "        relevant_binstr = bin(tofill)[2::] # strip the 0b \n",
    "                                           # in the leading string\n",
    "        len_to_makeup = width - len(relevant_binstr)\n",
    "        return (S[0]*len_to_makeup + \n",
    "                shomo(relevant_binstr,\n",
    "                      lambda x: S[1] if x=='1' else S[0]))"
   ]
  },
  {
   "cell_type": "code",
   "execution_count": 28,
   "metadata": {
    "run_control": {
     "frozen": false,
     "read_only": false
    }
   },
   "outputs": [
    {
     "data": {
      "text/plain": [
       "['',\n",
       " '1',\n",
       " '0',\n",
       " '11',\n",
       " '10',\n",
       " '01',\n",
       " '00',\n",
       " '111',\n",
       " '110',\n",
       " '101',\n",
       " '100',\n",
       " '011',\n",
       " '010',\n",
       " '001',\n",
       " '000',\n",
       " '1111',\n",
       " '1110',\n",
       " '1101',\n",
       " '1100',\n",
       " '1011']"
      ]
     },
     "execution_count": 28,
     "metadata": {},
     "output_type": "execute_result"
    }
   ],
   "source": [
    "[ nthnumeric(i) for i in range(20) ]"
   ]
  },
  {
   "cell_type": "markdown",
   "metadata": {
    "run_control": {
     "frozen": false,
     "read_only": false
    }
   },
   "source": [
    "# Now one can write a test loop\n",
    "\n",
    "We plow thru the first 20 numeric-order listed strings,\n",
    "and test for acceptance.\n"
   ]
  },
  {
   "cell_type": "code",
   "execution_count": 29,
   "metadata": {
    "run_control": {
     "frozen": false,
     "read_only": false
    }
   },
   "outputs": [
    {
     "name": "stdout",
     "output_type": "stream",
     "text": [
      "Fig34md DFA does not accept  \n",
      "Fig34md DFA accepts  1\n",
      "Fig34md DFA does not accept  0\n",
      "Fig34md DFA does not accept  11\n",
      "Fig34md DFA does not accept  10\n",
      "Fig34md DFA does not accept  01\n",
      "Fig34md DFA does not accept  00\n",
      "Fig34md DFA accepts  111\n",
      "Fig34md DFA does not accept  110\n",
      "Fig34md DFA accepts  101\n",
      "Fig34md DFA does not accept  100\n",
      "Fig34md DFA accepts  011\n",
      "Fig34md DFA does not accept  010\n",
      "Fig34md DFA accepts  001\n",
      "Fig34md DFA does not accept  000\n",
      "Fig34md DFA does not accept  1111\n",
      "Fig34md DFA does not accept  1110\n",
      "Fig34md DFA does not accept  1101\n",
      "Fig34md DFA does not accept  1100\n",
      "Fig34md DFA does not accept  1011\n"
     ]
    }
   ],
   "source": [
    "for s in [ nthnumeric(i) for i in range(20) ]:\n",
    "    if accepts_dfa(md2mc(Fig34md), s):\n",
    "        print(\"Fig34md DFA accepts \", s)\n",
    "    else:\n",
    "        print(\"Fig34md DFA does not accept \", s)"
   ]
  },
  {
   "cell_type": "markdown",
   "metadata": {
    "run_control": {
     "frozen": false,
     "read_only": false
    }
   },
   "source": [
    "# Now, simply run the cells, use help\n",
    "\n",
    "Run the cell contents. At any time if you have a doubt about\n",
    "some function, say \"foo\", run the \"help(foo)\" command. Also\n",
    "refer to Appendix B of our book for a complete explanation of\n",
    "all the Jove functions.\n"
   ]
  },
  {
   "cell_type": "code",
   "execution_count": 30,
   "metadata": {
    "run_control": {
     "frozen": false,
     "read_only": false
    }
   },
   "outputs": [
    {
     "data": {
      "text/plain": [
       "{'Q': {'A', 'F', 'I'},\n",
       " 'Sigma': {'0', '1'},\n",
       " 'Delta': {('I', '0'): 'A',\n",
       "  ('A', '0'): 'I',\n",
       "  ('A', '1'): 'I',\n",
       "  ('I', '1'): 'F',\n",
       "  ('F', '0'): 'I',\n",
       "  ('F', '1'): 'I'},\n",
       " 'q0': 'I',\n",
       " 'F': {'F'}}"
      ]
     },
     "execution_count": 30,
     "metadata": {},
     "output_type": "execute_result"
    }
   ],
   "source": [
    "Fig34MC = md2mc(Fig34md)\n",
    "Fig34MC"
   ]
  },
  {
   "cell_type": "code",
   "execution_count": 31,
   "metadata": {
    "run_control": {
     "frozen": false,
     "read_only": false
    }
   },
   "outputs": [
    {
     "data": {
      "text/plain": [
       "True"
      ]
     },
     "execution_count": 31,
     "metadata": {},
     "output_type": "execute_result"
    }
   ],
   "source": [
    "is_partially_consistent_dfa(Fig34MC)"
   ]
  },
  {
   "cell_type": "code",
   "execution_count": 32,
   "metadata": {
    "run_control": {
     "frozen": false,
     "read_only": false
    }
   },
   "outputs": [
    {
     "data": {
      "image/svg+xml": [
       "<?xml version=\"1.0\" encoding=\"UTF-8\" standalone=\"no\"?>\n",
       "<!DOCTYPE svg PUBLIC \"-//W3C//DTD SVG 1.1//EN\"\n",
       " \"http://www.w3.org/Graphics/SVG/1.1/DTD/svg11.dtd\">\n",
       "<!-- Generated by graphviz version 2.40.1 (20161225.0304)\n",
       " -->\n",
       "<!-- Title: %3 Pages: 1 -->\n",
       "<svg width=\"234pt\" height=\"178pt\"\n",
       " viewBox=\"0.00 0.00 234.00 178.00\" xmlns=\"http://www.w3.org/2000/svg\" xmlns:xlink=\"http://www.w3.org/1999/xlink\">\n",
       "<g id=\"graph0\" class=\"graph\" transform=\"scale(1 1) rotate(0) translate(4 174)\">\n",
       "<title>%3</title>\n",
       "<polygon fill=\"#ffffff\" stroke=\"transparent\" points=\"-4,4 -4,-174 230,-174 230,4 -4,4\"/>\n",
       "<!-- EMPTY -->\n",
       "<g id=\"node1\" class=\"node\">\n",
       "<title>EMPTY</title>\n",
       "</g>\n",
       "<!-- I -->\n",
       "<g id=\"node3\" class=\"node\">\n",
       "<title>I</title>\n",
       "<ellipse fill=\"none\" stroke=\"#000000\" cx=\"113\" cy=\"-79\" rx=\"18\" ry=\"18\"/>\n",
       "<ellipse fill=\"none\" stroke=\"#000000\" cx=\"113\" cy=\"-79\" rx=\"22\" ry=\"22\"/>\n",
       "<text text-anchor=\"middle\" x=\"113\" y=\"-75.3\" font-family=\"Times,serif\" font-size=\"14.00\" fill=\"#000000\">I</text>\n",
       "</g>\n",
       "<!-- EMPTY&#45;&gt;I -->\n",
       "<g id=\"edge1\" class=\"edge\">\n",
       "<title>EMPTY&#45;&gt;I</title>\n",
       "<path fill=\"none\" stroke=\"#000000\" d=\"M54.2109,-79C62.6073,-79 71.9364,-79 80.6441,-79\"/>\n",
       "<polygon fill=\"#000000\" stroke=\"#000000\" points=\"80.8529,-82.5001 90.8529,-79 80.8528,-75.5001 80.8529,-82.5001\"/>\n",
       "</g>\n",
       "<!-- F -->\n",
       "<g id=\"node2\" class=\"node\">\n",
       "<title>F</title>\n",
       "<ellipse fill=\"none\" stroke=\"#000000\" cx=\"204\" cy=\"-136\" rx=\"18\" ry=\"18\"/>\n",
       "<text text-anchor=\"middle\" x=\"204\" y=\"-132.3\" font-family=\"Times,serif\" font-size=\"14.00\" fill=\"#000000\">F</text>\n",
       "</g>\n",
       "<!-- F&#45;&gt;I -->\n",
       "<g id=\"edge6\" class=\"edge\">\n",
       "<title>F&#45;&gt;I</title>\n",
       "<path fill=\"none\" stroke=\"#000000\" d=\"M186.8016,-130.1205C176.5865,-126.2597 163.6006,-120.6911 153,-114 147.3671,-110.4445 141.7304,-106.1112 136.5399,-101.7215\"/>\n",
       "<polygon fill=\"#000000\" stroke=\"#000000\" points=\"138.6222,-98.8903 128.8155,-94.8805 133.9812,-104.1307 138.6222,-98.8903\"/>\n",
       "<text text-anchor=\"middle\" x=\"158.5\" y=\"-122.8\" font-family=\"Times,serif\" font-size=\"14.00\" fill=\"#000000\">0 </text>\n",
       "</g>\n",
       "<!-- F&#45;&gt;I -->\n",
       "<g id=\"edge7\" class=\"edge\">\n",
       "<title>F&#45;&gt;I</title>\n",
       "<path fill=\"none\" stroke=\"#000000\" d=\"M192.8097,-121.2968C185.4701,-112.5568 175.1848,-101.8709 164,-95 157.9969,-91.3123 151.0689,-88.4046 144.2925,-86.1387\"/>\n",
       "<polygon fill=\"#000000\" stroke=\"#000000\" points=\"145.1807,-82.7515 134.5982,-83.2619 143.1893,-89.4623 145.1807,-82.7515\"/>\n",
       "<text text-anchor=\"middle\" x=\"158.5\" y=\"-98.8\" font-family=\"Times,serif\" font-size=\"14.00\" fill=\"#000000\">1 </text>\n",
       "</g>\n",
       "<!-- I&#45;&gt;F -->\n",
       "<g id=\"edge5\" class=\"edge\">\n",
       "<title>I&#45;&gt;F</title>\n",
       "<path fill=\"none\" stroke=\"#000000\" d=\"M118.3016,-100.5003C123.8219,-117.7887 134.3492,-140.9524 153,-152 161.3259,-156.9318 171.3313,-155.1907 180.2664,-151.3948\"/>\n",
       "<polygon fill=\"#000000\" stroke=\"#000000\" points=\"182.1219,-154.3762 189.4117,-146.6879 178.9185,-148.1522 182.1219,-154.3762\"/>\n",
       "<text text-anchor=\"middle\" x=\"158.5\" y=\"-158.8\" font-family=\"Times,serif\" font-size=\"14.00\" fill=\"#000000\">1 </text>\n",
       "</g>\n",
       "<!-- A -->\n",
       "<g id=\"node4\" class=\"node\">\n",
       "<title>A</title>\n",
       "<ellipse fill=\"none\" stroke=\"#000000\" cx=\"204\" cy=\"-22\" rx=\"18\" ry=\"18\"/>\n",
       "<ellipse fill=\"none\" stroke=\"#000000\" cx=\"204\" cy=\"-22\" rx=\"22\" ry=\"22\"/>\n",
       "<text text-anchor=\"middle\" x=\"204\" y=\"-18.3\" font-family=\"Times,serif\" font-size=\"14.00\" fill=\"#000000\">A</text>\n",
       "</g>\n",
       "<!-- I&#45;&gt;A -->\n",
       "<g id=\"edge2\" class=\"edge\">\n",
       "<title>I&#45;&gt;A</title>\n",
       "<path fill=\"none\" stroke=\"#000000\" d=\"M131.8553,-67.1896C144.7888,-59.0883 162.1572,-48.2092 176.6114,-39.1555\"/>\n",
       "<polygon fill=\"#000000\" stroke=\"#000000\" points=\"178.5521,-42.0699 185.1689,-33.7953 174.8362,-36.1375 178.5521,-42.0699\"/>\n",
       "<text text-anchor=\"middle\" x=\"158.5\" y=\"-56.8\" font-family=\"Times,serif\" font-size=\"14.00\" fill=\"#000000\">0 </text>\n",
       "</g>\n",
       "<!-- A&#45;&gt;I -->\n",
       "<g id=\"edge3\" class=\"edge\">\n",
       "<title>A&#45;&gt;I</title>\n",
       "<path fill=\"none\" stroke=\"#000000\" d=\"M182.009,-20.921C172.5577,-21.354 161.7076,-23.1133 153,-28 143.4324,-33.3694 135.3504,-42.0465 129.0103,-50.733\"/>\n",
       "<polygon fill=\"#000000\" stroke=\"#000000\" points=\"125.9269,-49.0467 123.2603,-59.3005 131.7392,-52.9476 125.9269,-49.0467\"/>\n",
       "<text text-anchor=\"middle\" x=\"158.5\" y=\"-31.8\" font-family=\"Times,serif\" font-size=\"14.00\" fill=\"#000000\">0 </text>\n",
       "</g>\n",
       "<!-- A&#45;&gt;I -->\n",
       "<g id=\"edge4\" class=\"edge\">\n",
       "<title>A&#45;&gt;I</title>\n",
       "<path fill=\"none\" stroke=\"#000000\" d=\"M186.2293,-8.3624C176.0558,-2.3165 163.3058,2.1835 153,-4 137.1766,-13.494 127.2676,-31.6079 121.2705,-47.6554\"/>\n",
       "<polygon fill=\"#000000\" stroke=\"#000000\" points=\"117.9023,-46.6905 118.0241,-57.2846 124.5355,-48.9268 117.9023,-46.6905\"/>\n",
       "<text text-anchor=\"middle\" x=\"158.5\" y=\"-7.8\" font-family=\"Times,serif\" font-size=\"14.00\" fill=\"#000000\">1 </text>\n",
       "</g>\n",
       "</g>\n",
       "</svg>\n"
      ],
      "text/plain": [
       "<graphviz.dot.Digraph at 0x7ffd506767d0>"
      ]
     },
     "execution_count": 32,
     "metadata": {},
     "output_type": "execute_result"
    }
   ],
   "source": [
    "dotObj_dfa_w_bh(comp_dfa(Fig34MC))"
   ]
  },
  {
   "cell_type": "code",
   "execution_count": 33,
   "metadata": {
    "run_control": {
     "frozen": false,
     "read_only": false
    }
   },
   "outputs": [],
   "source": [
    "ev0 = md2mc('''\n",
    "DFA\n",
    "IF : 0 -> A\n",
    "A  : 0 -> IF\n",
    "''')"
   ]
  },
  {
   "cell_type": "code",
   "execution_count": 34,
   "metadata": {
    "run_control": {
     "frozen": false,
     "read_only": false
    }
   },
   "outputs": [
    {
     "data": {
      "text/plain": [
       "{'Q': {'A', 'IF'},\n",
       " 'Sigma': {'0'},\n",
       " 'Delta': {('IF', '0'): 'A', ('A', '0'): 'IF'},\n",
       " 'q0': 'IF',\n",
       " 'F': {'IF'}}"
      ]
     },
     "execution_count": 34,
     "metadata": {},
     "output_type": "execute_result"
    }
   ],
   "source": [
    "ev0"
   ]
  },
  {
   "cell_type": "code",
   "execution_count": 35,
   "metadata": {
    "run_control": {
     "frozen": false,
     "read_only": false
    }
   },
   "outputs": [],
   "source": [
    "dev0 = dotObj_dfa(ev0)"
   ]
  },
  {
   "cell_type": "code",
   "execution_count": 36,
   "metadata": {
    "run_control": {
     "frozen": false,
     "read_only": false
    }
   },
   "outputs": [
    {
     "data": {
      "image/svg+xml": [
       "<?xml version=\"1.0\" encoding=\"UTF-8\" standalone=\"no\"?>\n",
       "<!DOCTYPE svg PUBLIC \"-//W3C//DTD SVG 1.1//EN\"\n",
       " \"http://www.w3.org/Graphics/SVG/1.1/DTD/svg11.dtd\">\n",
       "<!-- Generated by graphviz version 2.40.1 (20161225.0304)\n",
       " -->\n",
       "<!-- Title: %3 Pages: 1 -->\n",
       "<svg width=\"228pt\" height=\"54pt\"\n",
       " viewBox=\"0.00 0.00 227.70 53.70\" xmlns=\"http://www.w3.org/2000/svg\" xmlns:xlink=\"http://www.w3.org/1999/xlink\">\n",
       "<g id=\"graph0\" class=\"graph\" transform=\"scale(1 1) rotate(0) translate(4 49.6967)\">\n",
       "<title>%3</title>\n",
       "<polygon fill=\"#ffffff\" stroke=\"transparent\" points=\"-4,4 -4,-49.6967 223.6967,-49.6967 223.6967,4 -4,4\"/>\n",
       "<!-- EMPTY -->\n",
       "<g id=\"node1\" class=\"node\">\n",
       "<title>EMPTY</title>\n",
       "</g>\n",
       "<!-- IF -->\n",
       "<g id=\"node3\" class=\"node\">\n",
       "<title>IF</title>\n",
       "<ellipse fill=\"none\" stroke=\"#000000\" cx=\"113.8483\" cy=\"-22.8483\" rx=\"18.724\" ry=\"18.724\"/>\n",
       "<ellipse fill=\"none\" stroke=\"#000000\" cx=\"113.8483\" cy=\"-22.8483\" rx=\"22.6977\" ry=\"22.6977\"/>\n",
       "<text text-anchor=\"middle\" x=\"113.8483\" y=\"-19.1483\" font-family=\"Times,serif\" font-size=\"14.00\" fill=\"#000000\">IF</text>\n",
       "</g>\n",
       "<!-- EMPTY&#45;&gt;IF -->\n",
       "<g id=\"edge1\" class=\"edge\">\n",
       "<title>EMPTY&#45;&gt;IF</title>\n",
       "<path fill=\"none\" stroke=\"#000000\" d=\"M54.0033,-22.8483C62.5212,-22.8483 72.0276,-22.8483 80.9112,-22.8483\"/>\n",
       "<polygon fill=\"#000000\" stroke=\"#000000\" points=\"80.9572,-26.3484 90.9572,-22.8483 80.9572,-19.3484 80.9572,-26.3484\"/>\n",
       "</g>\n",
       "<!-- A -->\n",
       "<g id=\"node2\" class=\"node\">\n",
       "<title>A</title>\n",
       "<ellipse fill=\"none\" stroke=\"#000000\" cx=\"201.6967\" cy=\"-22.8483\" rx=\"18\" ry=\"18\"/>\n",
       "<text text-anchor=\"middle\" x=\"201.6967\" y=\"-19.1483\" font-family=\"Times,serif\" font-size=\"14.00\" fill=\"#000000\">A</text>\n",
       "</g>\n",
       "<!-- A&#45;&gt;IF -->\n",
       "<g id=\"edge3\" class=\"edge\">\n",
       "<title>A&#45;&gt;IF</title>\n",
       "<path fill=\"none\" stroke=\"#000000\" d=\"M186.591,-12.7783C180.3899,-9.2165 172.968,-5.6494 165.6967,-3.8483 158.1475,-1.9784 150.1762,-3.2017 142.8084,-5.7454\"/>\n",
       "<polygon fill=\"#000000\" stroke=\"#000000\" points=\"141.0341,-2.6986 133.2318,-9.8662 143.8009,-9.1286 141.0341,-2.6986\"/>\n",
       "<text text-anchor=\"middle\" x=\"160.1967\" y=\"-7.6483\" font-family=\"Times,serif\" font-size=\"14.00\" fill=\"#000000\">0 </text>\n",
       "</g>\n",
       "<!-- IF&#45;&gt;A -->\n",
       "<g id=\"edge2\" class=\"edge\">\n",
       "<title>IF&#45;&gt;A</title>\n",
       "<path fill=\"none\" stroke=\"#000000\" d=\"M136.9294,-22.8483C148.0609,-22.8483 161.5173,-22.8483 173.2741,-22.8483\"/>\n",
       "<polygon fill=\"#000000\" stroke=\"#000000\" points=\"173.4778,-26.3484 183.4778,-22.8483 173.4777,-19.3484 173.4778,-26.3484\"/>\n",
       "<text text-anchor=\"middle\" x=\"160.1967\" y=\"-26.6483\" font-family=\"Times,serif\" font-size=\"14.00\" fill=\"#000000\">0 </text>\n",
       "</g>\n",
       "</g>\n",
       "</svg>\n"
      ],
      "text/plain": [
       "<graphviz.dot.Digraph at 0x7ffd506c0a90>"
      ]
     },
     "execution_count": 36,
     "metadata": {},
     "output_type": "execute_result"
    }
   ],
   "source": [
    "dev0"
   ]
  },
  {
   "cell_type": "markdown",
   "metadata": {
    "run_control": {
     "frozen": false,
     "read_only": false
    }
   },
   "source": [
    "# You can generate PDF out of a DFA\n",
    "\n",
    "This is one way to \"print\" a DFA as PDF. There are \n",
    "a few more such commands tucked away within Jupyter.\n"
   ]
  },
  {
   "cell_type": "code",
   "execution_count": 37,
   "metadata": {
    "run_control": {
     "frozen": false,
     "read_only": false
    }
   },
   "outputs": [
    {
     "data": {
      "text/plain": [
       "'dev0.pdf'"
      ]
     },
     "execution_count": 37,
     "metadata": {},
     "output_type": "execute_result"
    }
   ],
   "source": [
    "# Generate a PDF this way\n",
    "dev0.render('dev0')"
   ]
  },
  {
   "cell_type": "markdown",
   "metadata": {
    "run_control": {
     "frozen": false,
     "read_only": false
    }
   },
   "source": [
    "# Poke a DFA, add to its Sigma\n",
    "\n",
    "You can expand the Sigma of a DFA later on. Then\n",
    "if you totalize the DFA, you will see black-hole\n",
    "states emerging. The newly added symbols lead to\n",
    "the Black hole states, as shown below.\n"
   ]
  },
  {
   "cell_type": "code",
   "execution_count": 38,
   "metadata": {
    "run_control": {
     "frozen": false,
     "read_only": false
    }
   },
   "outputs": [],
   "source": [
    "ev0_bh =  addtosigma_dfa(ev0, set({'1'}))"
   ]
  },
  {
   "cell_type": "code",
   "execution_count": 39,
   "metadata": {
    "run_control": {
     "frozen": false,
     "read_only": false
    }
   },
   "outputs": [
    {
     "data": {
      "text/plain": [
       "{'Q': {'A', 'IF'},\n",
       " 'Sigma': {'0', '1'},\n",
       " 'Delta': {('IF', '0'): 'A', ('A', '0'): 'IF'},\n",
       " 'q0': 'IF',\n",
       " 'F': {'IF'}}"
      ]
     },
     "execution_count": 39,
     "metadata": {},
     "output_type": "execute_result"
    }
   ],
   "source": [
    "ev0_bh"
   ]
  },
  {
   "cell_type": "code",
   "execution_count": 40,
   "metadata": {
    "run_control": {
     "frozen": false,
     "read_only": false
    }
   },
   "outputs": [],
   "source": [
    "ev0_bh_totalize = totalize_dfa(ev0_bh)"
   ]
  },
  {
   "cell_type": "code",
   "execution_count": 41,
   "metadata": {
    "run_control": {
     "frozen": false,
     "read_only": false
    }
   },
   "outputs": [
    {
     "data": {
      "text/plain": [
       "{'Q': {'A', 'IF'},\n",
       " 'Sigma': {'0', '1'},\n",
       " 'Delta': {('IF', '0'): 'A', ('A', '0'): 'IF'},\n",
       " 'q0': 'IF',\n",
       " 'F': {'IF'}}"
      ]
     },
     "execution_count": 41,
     "metadata": {},
     "output_type": "execute_result"
    }
   ],
   "source": [
    "ev0_bh"
   ]
  },
  {
   "cell_type": "code",
   "execution_count": 42,
   "metadata": {
    "run_control": {
     "frozen": false,
     "read_only": false
    }
   },
   "outputs": [],
   "source": [
    "do_ev0_tot = dotObj_dfa_w_bh(ev0_bh_totalize)"
   ]
  },
  {
   "cell_type": "code",
   "execution_count": 43,
   "metadata": {
    "run_control": {
     "frozen": false,
     "read_only": false
    }
   },
   "outputs": [
    {
     "data": {
      "image/svg+xml": [
       "<?xml version=\"1.0\" encoding=\"UTF-8\" standalone=\"no\"?>\n",
       "<!DOCTYPE svg PUBLIC \"-//W3C//DTD SVG 1.1//EN\"\n",
       " \"http://www.w3.org/Graphics/SVG/1.1/DTD/svg11.dtd\">\n",
       "<!-- Generated by graphviz version 2.40.1 (20161225.0304)\n",
       " -->\n",
       "<!-- Title: %3 Pages: 1 -->\n",
       "<svg width=\"321pt\" height=\"121pt\"\n",
       " viewBox=\"0.00 0.00 321.49 120.80\" xmlns=\"http://www.w3.org/2000/svg\" xmlns:xlink=\"http://www.w3.org/1999/xlink\">\n",
       "<g id=\"graph0\" class=\"graph\" transform=\"scale(1 1) rotate(0) translate(4 116.7958)\">\n",
       "<title>%3</title>\n",
       "<polygon fill=\"#ffffff\" stroke=\"transparent\" points=\"-4,4 -4,-116.7958 317.4925,-116.7958 317.4925,4 -4,4\"/>\n",
       "<!-- EMPTY -->\n",
       "<g id=\"node1\" class=\"node\">\n",
       "<title>EMPTY</title>\n",
       "</g>\n",
       "<!-- IF -->\n",
       "<g id=\"node4\" class=\"node\">\n",
       "<title>IF</title>\n",
       "<ellipse fill=\"none\" stroke=\"#000000\" cx=\"113.8483\" cy=\"-40.3979\" rx=\"18.724\" ry=\"18.724\"/>\n",
       "<ellipse fill=\"none\" stroke=\"#000000\" cx=\"113.8483\" cy=\"-40.3979\" rx=\"22.6977\" ry=\"22.6977\"/>\n",
       "<text text-anchor=\"middle\" x=\"113.8483\" y=\"-36.6979\" font-family=\"Times,serif\" font-size=\"14.00\" fill=\"#000000\">IF</text>\n",
       "</g>\n",
       "<!-- EMPTY&#45;&gt;IF -->\n",
       "<g id=\"edge1\" class=\"edge\">\n",
       "<title>EMPTY&#45;&gt;IF</title>\n",
       "<path fill=\"none\" stroke=\"#000000\" d=\"M54.0033,-40.3979C62.5212,-40.3979 72.0276,-40.3979 80.9112,-40.3979\"/>\n",
       "<polygon fill=\"#000000\" stroke=\"#000000\" points=\"80.9572,-43.898 90.9572,-40.3979 80.9572,-36.898 80.9572,-43.898\"/>\n",
       "</g>\n",
       "<!-- BH -->\n",
       "<g id=\"node2\" class=\"node\">\n",
       "<title>BH</title>\n",
       "<ellipse fill=\"none\" stroke=\"#000000\" cx=\"290.0946\" cy=\"-23.3979\" rx=\"23.2963\" ry=\"23.2963\"/>\n",
       "<text text-anchor=\"middle\" x=\"290.0946\" y=\"-19.6979\" font-family=\"Times,serif\" font-size=\"14.00\" fill=\"#000000\">BH</text>\n",
       "</g>\n",
       "<!-- BH&#45;&gt;BH -->\n",
       "<g id=\"edge6\" class=\"edge\">\n",
       "<title>BH&#45;&gt;BH</title>\n",
       "<path fill=\"none\" stroke=\"#000000\" d=\"M285.82,-46.8047C285.5252,-56.5419 286.95,-64.7958 290.0946,-64.7958 292.0108,-64.7958 293.2884,-61.7308 293.9274,-57.1329\"/>\n",
       "<polygon fill=\"#000000\" stroke=\"#000000\" points=\"297.4386,-56.9452 294.3692,-46.8047 290.445,-56.646 297.4386,-56.9452\"/>\n",
       "<text text-anchor=\"middle\" x=\"290.0946\" y=\"-68.5958\" font-family=\"Times,serif\" font-size=\"14.00\" fill=\"#000000\">1 </text>\n",
       "</g>\n",
       "<!-- BH&#45;&gt;BH -->\n",
       "<g id=\"edge7\" class=\"edge\">\n",
       "<title>BH&#45;&gt;BH</title>\n",
       "<path fill=\"none\" stroke=\"#000000\" d=\"M282.7335,-45.6387C279.6897,-63.866 282.1434,-82.7958 290.0946,-82.7958 296.5549,-82.7958 299.386,-70.2992 298.588,-55.8362\"/>\n",
       "<polygon fill=\"#000000\" stroke=\"#000000\" points=\"302.0379,-55.1913 297.4556,-45.6387 295.0807,-55.9639 302.0379,-55.1913\"/>\n",
       "<text text-anchor=\"middle\" x=\"290.0946\" y=\"-86.5958\" font-family=\"Times,serif\" font-size=\"14.00\" fill=\"#000000\">0 </text>\n",
       "</g>\n",
       "<!-- A -->\n",
       "<g id=\"node3\" class=\"node\">\n",
       "<title>A</title>\n",
       "<ellipse fill=\"none\" stroke=\"#000000\" cx=\"201.6967\" cy=\"-58.3979\" rx=\"18\" ry=\"18\"/>\n",
       "<text text-anchor=\"middle\" x=\"201.6967\" y=\"-54.6979\" font-family=\"Times,serif\" font-size=\"14.00\" fill=\"#000000\">A</text>\n",
       "</g>\n",
       "<!-- A&#45;&gt;BH -->\n",
       "<g id=\"edge5\" class=\"edge\">\n",
       "<title>A&#45;&gt;BH</title>\n",
       "<path fill=\"none\" stroke=\"#000000\" d=\"M218.7407,-51.6496C230.0448,-47.1739 245.2179,-41.1663 258.6658,-35.8417\"/>\n",
       "<polygon fill=\"#000000\" stroke=\"#000000\" points=\"260.0637,-39.0527 268.073,-32.1171 257.4867,-32.5443 260.0637,-39.0527\"/>\n",
       "<text text-anchor=\"middle\" x=\"243.1967\" y=\"-47.1979\" font-family=\"Times,serif\" font-size=\"14.00\" fill=\"#000000\">1 </text>\n",
       "</g>\n",
       "<!-- A&#45;&gt;IF -->\n",
       "<g id=\"edge3\" class=\"edge\">\n",
       "<title>A&#45;&gt;IF</title>\n",
       "<path fill=\"none\" stroke=\"#000000\" d=\"M187.0762,-47.5019C180.8263,-43.4936 173.2403,-39.4374 165.6967,-37.3979 159.6746,-35.7699 153.1204,-35.2409 146.7617,-35.3359\"/>\n",
       "<polygon fill=\"#000000\" stroke=\"#000000\" points=\"146.1293,-31.8692 136.3734,-36.001 146.5766,-38.8549 146.1293,-31.8692\"/>\n",
       "<text text-anchor=\"middle\" x=\"160.1967\" y=\"-41.1979\" font-family=\"Times,serif\" font-size=\"14.00\" fill=\"#000000\">0 </text>\n",
       "</g>\n",
       "<!-- IF&#45;&gt;BH -->\n",
       "<g id=\"edge4\" class=\"edge\">\n",
       "<title>IF&#45;&gt;BH</title>\n",
       "<path fill=\"none\" stroke=\"#000000\" d=\"M134.772,-31.1695C148.4063,-25.6713 166.7495,-19.2283 183.6967,-16.3979 208.0637,-12.3284 235.9398,-14.4041 257.0445,-17.3238\"/>\n",
       "<polygon fill=\"#000000\" stroke=\"#000000\" points=\"256.7003,-20.8116 267.112,-18.8504 257.7498,-13.8907 256.7003,-20.8116\"/>\n",
       "<text text-anchor=\"middle\" x=\"201.6967\" y=\"-20.1979\" font-family=\"Times,serif\" font-size=\"14.00\" fill=\"#000000\">1 </text>\n",
       "</g>\n",
       "<!-- IF&#45;&gt;A -->\n",
       "<g id=\"edge2\" class=\"edge\">\n",
       "<title>IF&#45;&gt;A</title>\n",
       "<path fill=\"none\" stroke=\"#000000\" d=\"M134.64,-50.0708C140.9497,-52.5853 147.9896,-54.9829 154.6967,-56.3979 160.7375,-57.6724 167.3089,-58.3686 173.5709,-58.7169\"/>\n",
       "<polygon fill=\"#000000\" stroke=\"#000000\" points=\"173.5697,-62.2183 183.6688,-59.0153 173.7765,-55.2213 173.5697,-62.2183\"/>\n",
       "<text text-anchor=\"middle\" x=\"160.1967\" y=\"-61.1979\" font-family=\"Times,serif\" font-size=\"14.00\" fill=\"#000000\">0 </text>\n",
       "</g>\n",
       "</g>\n",
       "</svg>\n"
      ],
      "text/plain": [
       "<graphviz.dot.Digraph at 0x7ffd5069a5d0>"
      ]
     },
     "execution_count": 43,
     "metadata": {},
     "output_type": "execute_result"
    }
   ],
   "source": [
    "do_ev0_tot"
   ]
  },
  {
   "cell_type": "code",
   "execution_count": 44,
   "metadata": {
    "run_control": {
     "frozen": false,
     "read_only": false
    }
   },
   "outputs": [
    {
     "data": {
      "image/svg+xml": [
       "<?xml version=\"1.0\" encoding=\"UTF-8\" standalone=\"no\"?>\n",
       "<!DOCTYPE svg PUBLIC \"-//W3C//DTD SVG 1.1//EN\"\n",
       " \"http://www.w3.org/Graphics/SVG/1.1/DTD/svg11.dtd\">\n",
       "<!-- Generated by graphviz version 2.40.1 (20161225.0304)\n",
       " -->\n",
       "<!-- Title: %3 Pages: 1 -->\n",
       "<svg width=\"321pt\" height=\"103pt\"\n",
       " viewBox=\"0.00 0.00 321.49 102.80\" xmlns=\"http://www.w3.org/2000/svg\" xmlns:xlink=\"http://www.w3.org/1999/xlink\">\n",
       "<g id=\"graph0\" class=\"graph\" transform=\"scale(1 1) rotate(0) translate(4 98.7958)\">\n",
       "<title>%3</title>\n",
       "<polygon fill=\"#ffffff\" stroke=\"transparent\" points=\"-4,4 -4,-98.7958 317.4925,-98.7958 317.4925,4 -4,4\"/>\n",
       "<!-- EMPTY -->\n",
       "<g id=\"node1\" class=\"node\">\n",
       "<title>EMPTY</title>\n",
       "</g>\n",
       "<!-- IF -->\n",
       "<g id=\"node4\" class=\"node\">\n",
       "<title>IF</title>\n",
       "<ellipse fill=\"none\" stroke=\"#000000\" cx=\"113.8483\" cy=\"-40.3979\" rx=\"18.724\" ry=\"18.724\"/>\n",
       "<ellipse fill=\"none\" stroke=\"#000000\" cx=\"113.8483\" cy=\"-40.3979\" rx=\"22.6977\" ry=\"22.6977\"/>\n",
       "<text text-anchor=\"middle\" x=\"113.8483\" y=\"-36.6979\" font-family=\"Times,serif\" font-size=\"14.00\" fill=\"#000000\">IF</text>\n",
       "</g>\n",
       "<!-- EMPTY&#45;&gt;IF -->\n",
       "<g id=\"edge1\" class=\"edge\">\n",
       "<title>EMPTY&#45;&gt;IF</title>\n",
       "<path fill=\"none\" stroke=\"#000000\" d=\"M54.0033,-40.3979C62.5212,-40.3979 72.0276,-40.3979 80.9112,-40.3979\"/>\n",
       "<polygon fill=\"#000000\" stroke=\"#000000\" points=\"80.9572,-43.898 90.9572,-40.3979 80.9572,-36.898 80.9572,-43.898\"/>\n",
       "</g>\n",
       "<!-- BH -->\n",
       "<g id=\"node2\" class=\"node\">\n",
       "<title>BH</title>\n",
       "<ellipse fill=\"none\" stroke=\"#000000\" cx=\"290.0946\" cy=\"-23.3979\" rx=\"23.2963\" ry=\"23.2963\"/>\n",
       "<text text-anchor=\"middle\" x=\"290.0946\" y=\"-19.6979\" font-family=\"Times,serif\" font-size=\"14.00\" fill=\"#000000\">BH</text>\n",
       "</g>\n",
       "<!-- BH&#45;&gt;BH -->\n",
       "<g id=\"edge6\" class=\"edge\">\n",
       "<title>BH&#45;&gt;BH</title>\n",
       "<path fill=\"none\" stroke=\"#000000\" d=\"M281.6401,-45.5452C280.7178,-55.8192 283.536,-64.7958 290.0946,-64.7958 294.2962,-64.7958 296.9627,-61.1118 298.0941,-55.7628\"/>\n",
       "<polygon fill=\"#000000\" stroke=\"#000000\" points=\"301.6007,-55.691 298.549,-45.5452 294.6076,-55.3796 301.6007,-55.691\"/>\n",
       "<text text-anchor=\"middle\" x=\"290.0946\" y=\"-83.5958\" font-family=\"Times,serif\" font-size=\"14.00\" fill=\"#000000\">1 </text>\n",
       "<text text-anchor=\"middle\" x=\"290.0946\" y=\"-68.5958\" font-family=\"Times,serif\" font-size=\"14.00\" fill=\"#000000\"> 0 </text>\n",
       "</g>\n",
       "<!-- A -->\n",
       "<g id=\"node3\" class=\"node\">\n",
       "<title>A</title>\n",
       "<ellipse fill=\"none\" stroke=\"#000000\" cx=\"201.6967\" cy=\"-58.3979\" rx=\"18\" ry=\"18\"/>\n",
       "<text text-anchor=\"middle\" x=\"201.6967\" y=\"-54.6979\" font-family=\"Times,serif\" font-size=\"14.00\" fill=\"#000000\">A</text>\n",
       "</g>\n",
       "<!-- A&#45;&gt;BH -->\n",
       "<g id=\"edge5\" class=\"edge\">\n",
       "<title>A&#45;&gt;BH</title>\n",
       "<path fill=\"none\" stroke=\"#000000\" d=\"M218.7407,-51.6496C230.0448,-47.1739 245.2179,-41.1663 258.6658,-35.8417\"/>\n",
       "<polygon fill=\"#000000\" stroke=\"#000000\" points=\"260.0637,-39.0527 268.073,-32.1171 257.4867,-32.5443 260.0637,-39.0527\"/>\n",
       "<text text-anchor=\"middle\" x=\"243.1967\" y=\"-47.1979\" font-family=\"Times,serif\" font-size=\"14.00\" fill=\"#000000\">1 </text>\n",
       "</g>\n",
       "<!-- A&#45;&gt;IF -->\n",
       "<g id=\"edge3\" class=\"edge\">\n",
       "<title>A&#45;&gt;IF</title>\n",
       "<path fill=\"none\" stroke=\"#000000\" d=\"M187.0762,-47.5019C180.8263,-43.4936 173.2403,-39.4374 165.6967,-37.3979 159.6746,-35.7699 153.1204,-35.2409 146.7617,-35.3359\"/>\n",
       "<polygon fill=\"#000000\" stroke=\"#000000\" points=\"146.1293,-31.8692 136.3734,-36.001 146.5766,-38.8549 146.1293,-31.8692\"/>\n",
       "<text text-anchor=\"middle\" x=\"160.1967\" y=\"-41.1979\" font-family=\"Times,serif\" font-size=\"14.00\" fill=\"#000000\">0 </text>\n",
       "</g>\n",
       "<!-- IF&#45;&gt;BH -->\n",
       "<g id=\"edge4\" class=\"edge\">\n",
       "<title>IF&#45;&gt;BH</title>\n",
       "<path fill=\"none\" stroke=\"#000000\" d=\"M134.772,-31.1695C148.4063,-25.6713 166.7495,-19.2283 183.6967,-16.3979 208.0637,-12.3284 235.9398,-14.4041 257.0445,-17.3238\"/>\n",
       "<polygon fill=\"#000000\" stroke=\"#000000\" points=\"256.7003,-20.8116 267.112,-18.8504 257.7498,-13.8907 256.7003,-20.8116\"/>\n",
       "<text text-anchor=\"middle\" x=\"201.6967\" y=\"-20.1979\" font-family=\"Times,serif\" font-size=\"14.00\" fill=\"#000000\">1 </text>\n",
       "</g>\n",
       "<!-- IF&#45;&gt;A -->\n",
       "<g id=\"edge2\" class=\"edge\">\n",
       "<title>IF&#45;&gt;A</title>\n",
       "<path fill=\"none\" stroke=\"#000000\" d=\"M134.64,-50.0708C140.9497,-52.5853 147.9896,-54.9829 154.6967,-56.3979 160.7375,-57.6724 167.3089,-58.3686 173.5709,-58.7169\"/>\n",
       "<polygon fill=\"#000000\" stroke=\"#000000\" points=\"173.5697,-62.2183 183.6688,-59.0153 173.7765,-55.2213 173.5697,-62.2183\"/>\n",
       "<text text-anchor=\"middle\" x=\"160.1967\" y=\"-61.1979\" font-family=\"Times,serif\" font-size=\"14.00\" fill=\"#000000\">0 </text>\n",
       "</g>\n",
       "</g>\n",
       "</svg>\n"
      ],
      "text/plain": [
       "<graphviz.dot.Digraph at 0x7ffd606744d0>"
      ]
     },
     "execution_count": 44,
     "metadata": {},
     "output_type": "execute_result"
    }
   ],
   "source": [
    "dotObj_dfa_w_bh(ev0_bh_totalize, FuseEdges=True)"
   ]
  },
  {
   "cell_type": "markdown",
   "metadata": {
    "run_control": {
     "frozen": false,
     "read_only": false
    }
   },
   "source": [
    "<span style=\"color:blue\"> **We can now write routines to print DFA using dot. The main routines are listed below.** </span>\n",
    "\n",
    "* dot_dfa_w_bh : lists all states of a DFA including black-hole states\n",
    "* dot_dfa      : lists all isNotBH states (see below for a defn), i.e. suppress black-holes\n",
    "     - Usually there are too many transitions to them and that clutters the view\n",
    "     "
   ]
  },
  {
   "cell_type": "code",
   "execution_count": 45,
   "metadata": {
    "run_control": {
     "frozen": false,
     "read_only": false
    }
   },
   "outputs": [
    {
     "data": {
      "image/svg+xml": [
       "<?xml version=\"1.0\" encoding=\"UTF-8\" standalone=\"no\"?>\n",
       "<!DOCTYPE svg PUBLIC \"-//W3C//DTD SVG 1.1//EN\"\n",
       " \"http://www.w3.org/Graphics/SVG/1.1/DTD/svg11.dtd\">\n",
       "<!-- Generated by graphviz version 2.40.1 (20161225.0304)\n",
       " -->\n",
       "<!-- Title: %3 Pages: 1 -->\n",
       "<svg width=\"336pt\" height=\"202pt\"\n",
       " viewBox=\"0.00 0.00 336.39 201.85\" xmlns=\"http://www.w3.org/2000/svg\" xmlns:xlink=\"http://www.w3.org/1999/xlink\">\n",
       "<g id=\"graph0\" class=\"graph\" transform=\"scale(1 1) rotate(0) translate(4 197.846)\">\n",
       "<title>%3</title>\n",
       "<polygon fill=\"#ffffff\" stroke=\"transparent\" points=\"-4,4 -4,-197.846 332.3887,-197.846 332.3887,4 -4,4\"/>\n",
       "<!-- EMPTY -->\n",
       "<g id=\"node1\" class=\"node\">\n",
       "<title>EMPTY</title>\n",
       "</g>\n",
       "<!-- IF -->\n",
       "<g id=\"node4\" class=\"node\">\n",
       "<title>IF</title>\n",
       "<ellipse fill=\"none\" stroke=\"#000000\" cx=\"113.8483\" cy=\"-73.1482\" rx=\"18.724\" ry=\"18.724\"/>\n",
       "<ellipse fill=\"none\" stroke=\"#000000\" cx=\"113.8483\" cy=\"-73.1482\" rx=\"22.6977\" ry=\"22.6977\"/>\n",
       "<text text-anchor=\"middle\" x=\"113.8483\" y=\"-69.4482\" font-family=\"Times,serif\" font-size=\"14.00\" fill=\"#000000\">IF</text>\n",
       "</g>\n",
       "<!-- EMPTY&#45;&gt;IF -->\n",
       "<g id=\"edge1\" class=\"edge\">\n",
       "<title>EMPTY&#45;&gt;IF</title>\n",
       "<path fill=\"none\" stroke=\"#000000\" d=\"M54.0033,-73.1482C62.5212,-73.1482 72.0276,-73.1482 80.9112,-73.1482\"/>\n",
       "<polygon fill=\"#000000\" stroke=\"#000000\" points=\"80.9572,-76.6483 90.9572,-73.1482 80.9572,-69.6483 80.9572,-76.6483\"/>\n",
       "</g>\n",
       "<!-- S10 -->\n",
       "<g id=\"node2\" class=\"node\">\n",
       "<title>S10</title>\n",
       "<ellipse fill=\"none\" stroke=\"#000000\" cx=\"303.6909\" cy=\"-136.1482\" rx=\"24.8972\" ry=\"24.8972\"/>\n",
       "<text text-anchor=\"middle\" x=\"303.6909\" y=\"-132.4482\" font-family=\"Times,serif\" font-size=\"14.00\" fill=\"#000000\">S10</text>\n",
       "</g>\n",
       "<!-- S10&#45;&gt;S10 -->\n",
       "<g id=\"edge10\" class=\"edge\">\n",
       "<title>S10&#45;&gt;S10</title>\n",
       "<path fill=\"none\" stroke=\"#000000\" d=\"M294.8315,-159.4256C293.9878,-169.8395 296.9409,-178.846 303.6909,-178.846 308.0151,-178.846 310.7811,-175.1497 311.9888,-169.7551\"/>\n",
       "<polygon fill=\"#000000\" stroke=\"#000000\" points=\"315.5023,-169.6009 312.5503,-159.4256 308.5126,-169.2209 315.5023,-169.6009\"/>\n",
       "<text text-anchor=\"middle\" x=\"303.6909\" y=\"-182.646\" font-family=\"Times,serif\" font-size=\"14.00\" fill=\"#000000\">0 </text>\n",
       "</g>\n",
       "<!-- F1 -->\n",
       "<g id=\"node5\" class=\"node\">\n",
       "<title>F1</title>\n",
       "<ellipse fill=\"none\" stroke=\"#000000\" cx=\"207.8449\" cy=\"-123.1482\" rx=\"20.2726\" ry=\"20.2726\"/>\n",
       "<ellipse fill=\"none\" stroke=\"#000000\" cx=\"207.8449\" cy=\"-123.1482\" rx=\"24.2973\" ry=\"24.2973\"/>\n",
       "<text text-anchor=\"middle\" x=\"207.8449\" y=\"-119.4482\" font-family=\"Times,serif\" font-size=\"14.00\" fill=\"#000000\">F1</text>\n",
       "</g>\n",
       "<!-- S10&#45;&gt;F1 -->\n",
       "<g id=\"edge11\" class=\"edge\">\n",
       "<title>S10&#45;&gt;F1</title>\n",
       "<path fill=\"none\" stroke=\"#000000\" d=\"M283.9802,-120.4363C277.1066,-115.8732 269.0804,-111.4907 260.9931,-109.1482 254.0347,-107.1327 246.5291,-107.5441 239.4127,-109.12\"/>\n",
       "<polygon fill=\"#000000\" stroke=\"#000000\" points=\"237.956,-105.9022 229.3742,-112.1153 239.9575,-112.6099 237.956,-105.9022\"/>\n",
       "<text text-anchor=\"middle\" x=\"255.4931\" y=\"-112.9482\" font-family=\"Times,serif\" font-size=\"14.00\" fill=\"#000000\">1 </text>\n",
       "</g>\n",
       "<!-- S01 -->\n",
       "<g id=\"node3\" class=\"node\">\n",
       "<title>S01</title>\n",
       "<ellipse fill=\"none\" stroke=\"#000000\" cx=\"303.6909\" cy=\"-30.1482\" rx=\"24.8972\" ry=\"24.8972\"/>\n",
       "<text text-anchor=\"middle\" x=\"303.6909\" y=\"-26.4482\" font-family=\"Times,serif\" font-size=\"14.00\" fill=\"#000000\">S01</text>\n",
       "</g>\n",
       "<!-- S01&#45;&gt;S01 -->\n",
       "<g id=\"edge6\" class=\"edge\">\n",
       "<title>S01&#45;&gt;S01</title>\n",
       "<path fill=\"none\" stroke=\"#000000\" d=\"M294.8315,-53.4256C293.9878,-63.8395 296.9409,-72.846 303.6909,-72.846 308.0151,-72.846 310.7811,-69.1497 311.9888,-63.7551\"/>\n",
       "<polygon fill=\"#000000\" stroke=\"#000000\" points=\"315.5023,-63.6009 312.5503,-53.4256 308.5126,-63.2209 315.5023,-63.6009\"/>\n",
       "<text text-anchor=\"middle\" x=\"303.6909\" y=\"-76.646\" font-family=\"Times,serif\" font-size=\"14.00\" fill=\"#000000\">1 </text>\n",
       "</g>\n",
       "<!-- F0 -->\n",
       "<g id=\"node6\" class=\"node\">\n",
       "<title>F0</title>\n",
       "<ellipse fill=\"none\" stroke=\"#000000\" cx=\"207.8449\" cy=\"-24.1482\" rx=\"20.2726\" ry=\"20.2726\"/>\n",
       "<ellipse fill=\"none\" stroke=\"#000000\" cx=\"207.8449\" cy=\"-24.1482\" rx=\"24.2973\" ry=\"24.2973\"/>\n",
       "<text text-anchor=\"middle\" x=\"207.8449\" y=\"-20.4482\" font-family=\"Times,serif\" font-size=\"14.00\" fill=\"#000000\">F0</text>\n",
       "</g>\n",
       "<!-- S01&#45;&gt;F0 -->\n",
       "<g id=\"edge7\" class=\"edge\">\n",
       "<title>S01&#45;&gt;F0</title>\n",
       "<path fill=\"none\" stroke=\"#000000\" d=\"M281.0735,-19.9579C274.7086,-17.5661 267.6919,-15.3621 260.9931,-14.1482 254.5059,-12.9727 247.5788,-13.1944 240.9412,-14.1352\"/>\n",
       "<polygon fill=\"#000000\" stroke=\"#000000\" points=\"239.996,-10.7537 230.8538,-16.1083 241.3397,-17.6235 239.996,-10.7537\"/>\n",
       "<text text-anchor=\"middle\" x=\"255.4931\" y=\"-17.9482\" font-family=\"Times,serif\" font-size=\"14.00\" fill=\"#000000\">0 </text>\n",
       "</g>\n",
       "<!-- IF&#45;&gt;F1 -->\n",
       "<g id=\"edge3\" class=\"edge\">\n",
       "<title>IF&#45;&gt;F1</title>\n",
       "<path fill=\"none\" stroke=\"#000000\" d=\"M134.2442,-83.9975C146.9118,-90.7358 163.4239,-99.5192 177.5976,-107.0586\"/>\n",
       "<polygon fill=\"#000000\" stroke=\"#000000\" points=\"176.0377,-110.1932 186.5101,-111.7995 179.3251,-104.0132 176.0377,-110.1932\"/>\n",
       "<text text-anchor=\"middle\" x=\"160.1967\" y=\"-102.9482\" font-family=\"Times,serif\" font-size=\"14.00\" fill=\"#000000\">1 </text>\n",
       "</g>\n",
       "<!-- IF&#45;&gt;F0 -->\n",
       "<g id=\"edge2\" class=\"edge\">\n",
       "<title>IF&#45;&gt;F0</title>\n",
       "<path fill=\"none\" stroke=\"#000000\" d=\"M134.2442,-62.5159C146.8232,-55.9586 163.1932,-47.4249 177.2999,-40.0712\"/>\n",
       "<polygon fill=\"#000000\" stroke=\"#000000\" points=\"178.931,-43.1679 186.1806,-35.4417 175.6952,-36.9607 178.931,-43.1679\"/>\n",
       "<text text-anchor=\"middle\" x=\"160.1967\" y=\"-54.9482\" font-family=\"Times,serif\" font-size=\"14.00\" fill=\"#000000\">0 </text>\n",
       "</g>\n",
       "<!-- F1&#45;&gt;S10 -->\n",
       "<g id=\"edge9\" class=\"edge\">\n",
       "<title>F1&#45;&gt;S10</title>\n",
       "<path fill=\"none\" stroke=\"#000000\" d=\"M232.0309,-126.4287C243.2954,-127.9565 256.9008,-129.8019 269.2168,-131.4723\"/>\n",
       "<polygon fill=\"#000000\" stroke=\"#000000\" points=\"268.7995,-134.9477 279.1792,-132.8236 269.7404,-128.0112 268.7995,-134.9477\"/>\n",
       "<text text-anchor=\"middle\" x=\"255.4931\" y=\"-132.9482\" font-family=\"Times,serif\" font-size=\"14.00\" fill=\"#000000\">0 </text>\n",
       "</g>\n",
       "<!-- F1&#45;&gt;F1 -->\n",
       "<g id=\"edge8\" class=\"edge\">\n",
       "<title>F1&#45;&gt;F1</title>\n",
       "<path fill=\"none\" stroke=\"#000000\" d=\"M199.3546,-146.126C198.546,-156.4058 201.3761,-165.2964 207.8449,-165.2964 211.9889,-165.2964 214.6396,-161.6477 215.7971,-156.3225\"/>\n",
       "<polygon fill=\"#000000\" stroke=\"#000000\" points=\"219.3032,-156.2966 216.3351,-146.126 212.3129,-155.9276 219.3032,-156.2966\"/>\n",
       "<text text-anchor=\"middle\" x=\"207.8449\" y=\"-169.0964\" font-family=\"Times,serif\" font-size=\"14.00\" fill=\"#000000\">1 </text>\n",
       "</g>\n",
       "<!-- F0&#45;&gt;S01 -->\n",
       "<g id=\"edge5\" class=\"edge\">\n",
       "<title>F0&#45;&gt;S01</title>\n",
       "<path fill=\"none\" stroke=\"#000000\" d=\"M231.3338,-30.0768C237.3743,-31.3491 243.8915,-32.504 249.9931,-33.1482 256.0606,-33.7888 262.5291,-33.9069 268.7987,-33.7275\"/>\n",
       "<polygon fill=\"#000000\" stroke=\"#000000\" points=\"269.2552,-37.2084 279.0562,-33.1845 268.8851,-30.2181 269.2552,-37.2084\"/>\n",
       "<text text-anchor=\"middle\" x=\"255.4931\" y=\"-36.9482\" font-family=\"Times,serif\" font-size=\"14.00\" fill=\"#000000\">1 </text>\n",
       "</g>\n",
       "<!-- F0&#45;&gt;F0 -->\n",
       "<g id=\"edge4\" class=\"edge\">\n",
       "<title>F0&#45;&gt;F0</title>\n",
       "<path fill=\"none\" stroke=\"#000000\" d=\"M199.3546,-47.126C198.546,-57.4058 201.3761,-66.2964 207.8449,-66.2964 211.9889,-66.2964 214.6396,-62.6477 215.7971,-57.3225\"/>\n",
       "<polygon fill=\"#000000\" stroke=\"#000000\" points=\"219.3032,-57.2966 216.3351,-47.126 212.3129,-56.9276 219.3032,-57.2966\"/>\n",
       "<text text-anchor=\"middle\" x=\"207.8449\" y=\"-70.0964\" font-family=\"Times,serif\" font-size=\"14.00\" fill=\"#000000\">0 </text>\n",
       "</g>\n",
       "</g>\n",
       "</svg>\n"
      ],
      "text/plain": [
       "<graphviz.dot.Digraph at 0x7ffd60674750>"
      ]
     },
     "execution_count": 45,
     "metadata": {},
     "output_type": "execute_result"
    }
   ],
   "source": [
    "dfaBESame = md2mc('''\n",
    "DFA !! Begins and ends with same; epsilon allowed\n",
    "IF  : 0 -> F0\n",
    "IF  : 1 -> F1\n",
    "!!\n",
    "F0  : 0 -> F0\n",
    "F0  : 1 -> S01\n",
    "S01 : 1 -> S01\n",
    "S01 : 0 -> F0\n",
    "!!\n",
    "F1  : 1 -> F1\n",
    "F1  : 0 -> S10\n",
    "S10 : 0 -> S10\n",
    "S10 : 1 -> F1\n",
    "''')\n",
    "DOdfaBESame = dotObj_dfa(dfaBESame)\n",
    "DOdfaBESame"
   ]
  },
  {
   "cell_type": "markdown",
   "metadata": {
    "run_control": {
     "frozen": false,
     "read_only": false
    }
   },
   "source": [
    "## Let us now administer some tests to print dot-strings generated.\n",
    "\n",
    "We will demonstrate two ways to print automata: \n",
    "\n",
    "1. First generate a dot string via dot_dfa or dot_dfa_w_bh\n",
    "   (calling the result \"dot_string\") \n",
    "   1. Then use the srcObj = Source(dot_string) call\n",
    "   2. Thereafter we can display the srcObj object directly into the browser\n",
    "   3. Or, one can also later convert the dot_string to svg or PDF\n",
    "2. OR, one can directly generate a dot object via the dotObj_dfa or dotObj_dfa_w_bh call\n",
    "   (calling the result \"dot_object\")\n",
    "   1. Then directly display the dot_object\n",
    "   2. There are conversions available for dot_object to other formats too"
   ]
  },
  {
   "cell_type": "markdown",
   "metadata": {
    "run_control": {
     "frozen": false,
     "read_only": false
    }
   },
   "source": [
    "# One can read DFAs from files"
   ]
  },
  {
   "cell_type": "code",
   "execution_count": 46,
   "metadata": {
    "run_control": {
     "frozen": false,
     "read_only": false
    }
   },
   "outputs": [],
   "source": [
    "dped1 = md2mc(src=\"File\", fname=\"pedagogical1.dfa\")\n",
    "#machines/dfafiles/pedagogical1.dfa"
   ]
  },
  {
   "cell_type": "code",
   "execution_count": 47,
   "metadata": {
    "run_control": {
     "frozen": false,
     "read_only": false
    }
   },
   "outputs": [
    {
     "data": {
      "text/plain": [
       "{'Q': {'A', 'B', 'F', 'IF'},\n",
       " 'Sigma': {'0', '1'},\n",
       " 'Delta': {('IF', '0'): 'A',\n",
       "  ('IF', '1'): 'B',\n",
       "  ('A', '0'): 'B',\n",
       "  ('A', '1'): 'B',\n",
       "  ('B', '1'): 'F',\n",
       "  ('B', '0'): 'IF',\n",
       "  ('F', '0'): 'B',\n",
       "  ('F', '1'): 'B'},\n",
       " 'q0': 'IF',\n",
       " 'F': {'F', 'IF'}}"
      ]
     },
     "execution_count": 47,
     "metadata": {},
     "output_type": "execute_result"
    }
   ],
   "source": [
    "dped1"
   ]
  },
  {
   "cell_type": "code",
   "execution_count": 48,
   "metadata": {
    "run_control": {
     "frozen": false,
     "read_only": false
    }
   },
   "outputs": [
    {
     "data": {
      "image/svg+xml": [
       "<?xml version=\"1.0\" encoding=\"UTF-8\" standalone=\"no\"?>\n",
       "<!DOCTYPE svg PUBLIC \"-//W3C//DTD SVG 1.1//EN\"\n",
       " \"http://www.w3.org/Graphics/SVG/1.1/DTD/svg11.dtd\">\n",
       "<!-- Generated by graphviz version 2.40.1 (20161225.0304)\n",
       " -->\n",
       "<!-- Title: %3 Pages: 1 -->\n",
       "<svg width=\"402pt\" height=\"115pt\"\n",
       " viewBox=\"0.00 0.00 401.70 115.00\" xmlns=\"http://www.w3.org/2000/svg\" xmlns:xlink=\"http://www.w3.org/1999/xlink\">\n",
       "<g id=\"graph0\" class=\"graph\" transform=\"scale(1 1) rotate(0) translate(4 111)\">\n",
       "<title>%3</title>\n",
       "<polygon fill=\"#ffffff\" stroke=\"transparent\" points=\"-4,4 -4,-111 397.6967,-111 397.6967,4 -4,4\"/>\n",
       "<!-- EMPTY -->\n",
       "<g id=\"node1\" class=\"node\">\n",
       "<title>EMPTY</title>\n",
       "</g>\n",
       "<!-- IF -->\n",
       "<g id=\"node5\" class=\"node\">\n",
       "<title>IF</title>\n",
       "<ellipse fill=\"none\" stroke=\"#000000\" cx=\"113.8483\" cy=\"-72\" rx=\"18.724\" ry=\"18.724\"/>\n",
       "<ellipse fill=\"none\" stroke=\"#000000\" cx=\"113.8483\" cy=\"-72\" rx=\"22.6977\" ry=\"22.6977\"/>\n",
       "<text text-anchor=\"middle\" x=\"113.8483\" y=\"-68.3\" font-family=\"Times,serif\" font-size=\"14.00\" fill=\"#000000\">IF</text>\n",
       "</g>\n",
       "<!-- EMPTY&#45;&gt;IF -->\n",
       "<g id=\"edge1\" class=\"edge\">\n",
       "<title>EMPTY&#45;&gt;IF</title>\n",
       "<path fill=\"none\" stroke=\"#000000\" d=\"M54.0033,-72C62.5212,-72 72.0276,-72 80.9112,-72\"/>\n",
       "<polygon fill=\"#000000\" stroke=\"#000000\" points=\"80.9572,-75.5001 90.9572,-72 80.9572,-68.5001 80.9572,-75.5001\"/>\n",
       "</g>\n",
       "<!-- A -->\n",
       "<g id=\"node2\" class=\"node\">\n",
       "<title>A</title>\n",
       "<ellipse fill=\"none\" stroke=\"#000000\" cx=\"201.6967\" cy=\"-18\" rx=\"18\" ry=\"18\"/>\n",
       "<text text-anchor=\"middle\" x=\"201.6967\" y=\"-14.3\" font-family=\"Times,serif\" font-size=\"14.00\" fill=\"#000000\">A</text>\n",
       "</g>\n",
       "<!-- B -->\n",
       "<g id=\"node3\" class=\"node\">\n",
       "<title>B</title>\n",
       "<ellipse fill=\"none\" stroke=\"#000000\" cx=\"284.6967\" cy=\"-57\" rx=\"18\" ry=\"18\"/>\n",
       "<text text-anchor=\"middle\" x=\"284.6967\" y=\"-53.3\" font-family=\"Times,serif\" font-size=\"14.00\" fill=\"#000000\">B</text>\n",
       "</g>\n",
       "<!-- A&#45;&gt;B -->\n",
       "<g id=\"edge4\" class=\"edge\">\n",
       "<title>A&#45;&gt;B</title>\n",
       "<path fill=\"none\" stroke=\"#000000\" d=\"M218.0948,-25.7051C229.8038,-31.207 245.7833,-38.7154 259.1551,-44.9985\"/>\n",
       "<polygon fill=\"#000000\" stroke=\"#000000\" points=\"257.7935,-48.2258 268.3326,-49.3109 260.7704,-41.8904 257.7935,-48.2258\"/>\n",
       "<text text-anchor=\"middle\" x=\"243.1967\" y=\"-43.8\" font-family=\"Times,serif\" font-size=\"14.00\" fill=\"#000000\">0 </text>\n",
       "</g>\n",
       "<!-- A&#45;&gt;B -->\n",
       "<g id=\"edge5\" class=\"edge\">\n",
       "<title>A&#45;&gt;B</title>\n",
       "<path fill=\"none\" stroke=\"#000000\" d=\"M219.3714,-14.1352C228.5002,-12.9863 239.6008,-12.9491 248.6967,-17 256.6179,-20.5278 263.5273,-26.7553 269.1175,-33.2612\"/>\n",
       "<polygon fill=\"#000000\" stroke=\"#000000\" points=\"266.5812,-35.7026 275.4696,-41.4687 272.117,-31.4183 266.5812,-35.7026\"/>\n",
       "<text text-anchor=\"middle\" x=\"243.1967\" y=\"-20.8\" font-family=\"Times,serif\" font-size=\"14.00\" fill=\"#000000\">1 </text>\n",
       "</g>\n",
       "<!-- F -->\n",
       "<g id=\"node4\" class=\"node\">\n",
       "<title>F</title>\n",
       "<ellipse fill=\"none\" stroke=\"#000000\" cx=\"371.6967\" cy=\"-57\" rx=\"18\" ry=\"18\"/>\n",
       "<ellipse fill=\"none\" stroke=\"#000000\" cx=\"371.6967\" cy=\"-57\" rx=\"22\" ry=\"22\"/>\n",
       "<text text-anchor=\"middle\" x=\"371.6967\" y=\"-53.3\" font-family=\"Times,serif\" font-size=\"14.00\" fill=\"#000000\">F</text>\n",
       "</g>\n",
       "<!-- B&#45;&gt;F -->\n",
       "<g id=\"edge6\" class=\"edge\">\n",
       "<title>B&#45;&gt;F</title>\n",
       "<path fill=\"none\" stroke=\"#000000\" d=\"M300.6969,-65.8317C306.7711,-68.7176 313.8724,-71.5518 320.6967,-73 328.0608,-74.5628 335.8792,-73.5283 343.1243,-71.3858\"/>\n",
       "<polygon fill=\"#000000\" stroke=\"#000000\" points=\"344.3758,-74.6548 352.5523,-67.9172 341.9588,-68.0853 344.3758,-74.6548\"/>\n",
       "<text text-anchor=\"middle\" x=\"326.1967\" y=\"-76.8\" font-family=\"Times,serif\" font-size=\"14.00\" fill=\"#000000\">1 </text>\n",
       "</g>\n",
       "<!-- B&#45;&gt;IF -->\n",
       "<g id=\"edge7\" class=\"edge\">\n",
       "<title>B&#45;&gt;IF</title>\n",
       "<path fill=\"none\" stroke=\"#000000\" d=\"M266.6981,-58.5802C238.402,-61.0645 183.0587,-65.9235 147.3051,-69.0626\"/>\n",
       "<polygon fill=\"#000000\" stroke=\"#000000\" points=\"146.5452,-65.6158 136.8897,-69.977 147.1575,-72.5889 146.5452,-65.6158\"/>\n",
       "<text text-anchor=\"middle\" x=\"201.6967\" y=\"-68.8\" font-family=\"Times,serif\" font-size=\"14.00\" fill=\"#000000\">0 </text>\n",
       "</g>\n",
       "<!-- F&#45;&gt;B -->\n",
       "<g id=\"edge8\" class=\"edge\">\n",
       "<title>F&#45;&gt;B</title>\n",
       "<path fill=\"none\" stroke=\"#000000\" d=\"M349.6141,-54.7333C340.644,-54.065 330.1788,-53.6056 320.6967,-54 318.1197,-54.1072 315.4416,-54.2574 312.7614,-54.4339\"/>\n",
       "<polygon fill=\"#000000\" stroke=\"#000000\" points=\"312.3269,-50.9569 302.6235,-55.2107 312.8618,-57.9364 312.3269,-50.9569\"/>\n",
       "<text text-anchor=\"middle\" x=\"326.1967\" y=\"-57.8\" font-family=\"Times,serif\" font-size=\"14.00\" fill=\"#000000\">0 </text>\n",
       "</g>\n",
       "<!-- F&#45;&gt;B -->\n",
       "<g id=\"edge9\" class=\"edge\">\n",
       "<title>F&#45;&gt;B</title>\n",
       "<path fill=\"none\" stroke=\"#000000\" d=\"M354.6869,-42.5753C344.982,-36.0859 332.4438,-30.5678 320.6967,-34 316.1694,-35.3228 311.6699,-37.4076 307.4637,-39.7944\"/>\n",
       "<polygon fill=\"#000000\" stroke=\"#000000\" points=\"305.3626,-36.9836 298.8273,-45.3228 309.1365,-42.8792 305.3626,-36.9836\"/>\n",
       "<text text-anchor=\"middle\" x=\"326.1967\" y=\"-37.8\" font-family=\"Times,serif\" font-size=\"14.00\" fill=\"#000000\">1 </text>\n",
       "</g>\n",
       "<!-- IF&#45;&gt;A -->\n",
       "<g id=\"edge2\" class=\"edge\">\n",
       "<title>IF&#45;&gt;A</title>\n",
       "<path fill=\"none\" stroke=\"#000000\" d=\"M132.2151,-58.2022C139.1302,-53.2108 147.1483,-47.6603 154.6967,-43 161.509,-38.7941 169.0925,-34.5721 176.1454,-30.8264\"/>\n",
       "<polygon fill=\"#000000\" stroke=\"#000000\" points=\"178.054,-33.7789 185.3116,-26.0602 174.8247,-27.5683 178.054,-33.7789\"/>\n",
       "<text text-anchor=\"middle\" x=\"160.1967\" y=\"-46.8\" font-family=\"Times,serif\" font-size=\"14.00\" fill=\"#000000\">0 </text>\n",
       "</g>\n",
       "<!-- IF&#45;&gt;B -->\n",
       "<g id=\"edge3\" class=\"edge\">\n",
       "<title>IF&#45;&gt;B</title>\n",
       "<path fill=\"none\" stroke=\"#000000\" d=\"M135.2772,-80.0619C141.4814,-82.1997 148.3054,-84.3649 154.6967,-86 182.7668,-93.1813 190.8279,-93.4705 219.6967,-91 232.7281,-89.8848 236.778,-91.3859 248.6967,-86 253.999,-83.6039 259.1854,-80.2391 263.8963,-76.6463\"/>\n",
       "<polygon fill=\"#000000\" stroke=\"#000000\" points=\"266.3289,-79.1756 271.7846,-70.0934 261.856,-73.7911 266.3289,-79.1756\"/>\n",
       "<text text-anchor=\"middle\" x=\"201.6967\" y=\"-95.8\" font-family=\"Times,serif\" font-size=\"14.00\" fill=\"#000000\">1 </text>\n",
       "</g>\n",
       "</g>\n",
       "</svg>\n"
      ],
      "text/plain": [
       "<graphviz.dot.Digraph at 0x7ffd50664710>"
      ]
     },
     "execution_count": 48,
     "metadata": {},
     "output_type": "execute_result"
    }
   ],
   "source": [
    "dotObj_dfa(dped1)"
   ]
  },
  {
   "cell_type": "code",
   "execution_count": 49,
   "metadata": {
    "run_control": {
     "frozen": false,
     "read_only": false
    }
   },
   "outputs": [
    {
     "data": {
      "image/svg+xml": [
       "<?xml version=\"1.0\" encoding=\"UTF-8\" standalone=\"no\"?>\n",
       "<!DOCTYPE svg PUBLIC \"-//W3C//DTD SVG 1.1//EN\"\n",
       " \"http://www.w3.org/Graphics/SVG/1.1/DTD/svg11.dtd\">\n",
       "<!-- Generated by graphviz version 2.40.1 (20161225.0304)\n",
       " -->\n",
       "<!-- Title: %3 Pages: 1 -->\n",
       "<svg width=\"410pt\" height=\"117pt\"\n",
       " viewBox=\"0.00 0.00 409.70 117.00\" xmlns=\"http://www.w3.org/2000/svg\" xmlns:xlink=\"http://www.w3.org/1999/xlink\">\n",
       "<g id=\"graph0\" class=\"graph\" transform=\"scale(1 1) rotate(0) translate(4 113)\">\n",
       "<title>%3</title>\n",
       "<polygon fill=\"#ffffff\" stroke=\"transparent\" points=\"-4,4 -4,-113 405.6967,-113 405.6967,4 -4,4\"/>\n",
       "<!-- EMPTY -->\n",
       "<g id=\"node1\" class=\"node\">\n",
       "<title>EMPTY</title>\n",
       "</g>\n",
       "<!-- IF -->\n",
       "<g id=\"node5\" class=\"node\">\n",
       "<title>IF</title>\n",
       "<ellipse fill=\"none\" stroke=\"#000000\" cx=\"113.8483\" cy=\"-72\" rx=\"18.724\" ry=\"18.724\"/>\n",
       "<ellipse fill=\"none\" stroke=\"#000000\" cx=\"113.8483\" cy=\"-72\" rx=\"22.6977\" ry=\"22.6977\"/>\n",
       "<text text-anchor=\"middle\" x=\"113.8483\" y=\"-68.3\" font-family=\"Times,serif\" font-size=\"14.00\" fill=\"#000000\">IF</text>\n",
       "</g>\n",
       "<!-- EMPTY&#45;&gt;IF -->\n",
       "<g id=\"edge1\" class=\"edge\">\n",
       "<title>EMPTY&#45;&gt;IF</title>\n",
       "<path fill=\"none\" stroke=\"#000000\" d=\"M54.0033,-72C62.5212,-72 72.0276,-72 80.9112,-72\"/>\n",
       "<polygon fill=\"#000000\" stroke=\"#000000\" points=\"80.9572,-75.5001 90.9572,-72 80.9572,-68.5001 80.9572,-75.5001\"/>\n",
       "</g>\n",
       "<!-- A -->\n",
       "<g id=\"node2\" class=\"node\">\n",
       "<title>A</title>\n",
       "<ellipse fill=\"none\" stroke=\"#000000\" cx=\"201.6967\" cy=\"-18\" rx=\"18\" ry=\"18\"/>\n",
       "<text text-anchor=\"middle\" x=\"201.6967\" y=\"-14.3\" font-family=\"Times,serif\" font-size=\"14.00\" fill=\"#000000\">A</text>\n",
       "</g>\n",
       "<!-- B -->\n",
       "<g id=\"node3\" class=\"node\">\n",
       "<title>B</title>\n",
       "<ellipse fill=\"none\" stroke=\"#000000\" cx=\"288.6967\" cy=\"-72\" rx=\"18\" ry=\"18\"/>\n",
       "<text text-anchor=\"middle\" x=\"288.6967\" y=\"-68.3\" font-family=\"Times,serif\" font-size=\"14.00\" fill=\"#000000\">B</text>\n",
       "</g>\n",
       "<!-- A&#45;&gt;B -->\n",
       "<g id=\"edge4\" class=\"edge\">\n",
       "<title>A&#45;&gt;B</title>\n",
       "<path fill=\"none\" stroke=\"#000000\" d=\"M219.7644,-18.5515C230.037,-19.5687 242.787,-22.0687 252.6967,-28 260.8532,-32.882 267.9679,-40.3184 273.6703,-47.6962\"/>\n",
       "<polygon fill=\"#000000\" stroke=\"#000000\" points=\"271.0482,-50.0488 279.6933,-56.1736 276.7546,-45.9945 271.0482,-50.0488\"/>\n",
       "<text text-anchor=\"middle\" x=\"245.1967\" y=\"-46.8\" font-family=\"Times,serif\" font-size=\"14.00\" fill=\"#000000\">1 </text>\n",
       "<text text-anchor=\"middle\" x=\"245.1967\" y=\"-31.8\" font-family=\"Times,serif\" font-size=\"14.00\" fill=\"#000000\"> 0 </text>\n",
       "</g>\n",
       "<!-- F -->\n",
       "<g id=\"node4\" class=\"node\">\n",
       "<title>F</title>\n",
       "<ellipse fill=\"none\" stroke=\"#000000\" cx=\"379.6967\" cy=\"-72\" rx=\"18\" ry=\"18\"/>\n",
       "<ellipse fill=\"none\" stroke=\"#000000\" cx=\"379.6967\" cy=\"-72\" rx=\"22\" ry=\"22\"/>\n",
       "<text text-anchor=\"middle\" x=\"379.6967\" y=\"-68.3\" font-family=\"Times,serif\" font-size=\"14.00\" fill=\"#000000\">F</text>\n",
       "</g>\n",
       "<!-- B&#45;&gt;F -->\n",
       "<g id=\"edge5\" class=\"edge\">\n",
       "<title>B&#45;&gt;F</title>\n",
       "<path fill=\"none\" stroke=\"#000000\" d=\"M306.5911,-74.9814C312.3538,-75.8083 318.7794,-76.591 324.6967,-77 332.1082,-77.5122 340.0718,-77.2563 347.5743,-76.6504\"/>\n",
       "<polygon fill=\"#000000\" stroke=\"#000000\" points=\"348.1776,-80.1069 357.768,-75.6041 347.4629,-73.1435 348.1776,-80.1069\"/>\n",
       "<text text-anchor=\"middle\" x=\"332.1967\" y=\"-80.8\" font-family=\"Times,serif\" font-size=\"14.00\" fill=\"#000000\">1 </text>\n",
       "</g>\n",
       "<!-- B&#45;&gt;IF -->\n",
       "<g id=\"edge6\" class=\"edge\">\n",
       "<title>B&#45;&gt;IF</title>\n",
       "<path fill=\"none\" stroke=\"#000000\" d=\"M270.6127,-72C241.4458,-72 183.5852,-72 146.9027,-72\"/>\n",
       "<polygon fill=\"#000000\" stroke=\"#000000\" points=\"146.7067,-68.5001 136.7067,-72 146.7067,-75.5001 146.7067,-68.5001\"/>\n",
       "<text text-anchor=\"middle\" x=\"201.6967\" y=\"-75.8\" font-family=\"Times,serif\" font-size=\"14.00\" fill=\"#000000\">0 </text>\n",
       "</g>\n",
       "<!-- F&#45;&gt;B -->\n",
       "<g id=\"edge7\" class=\"edge\">\n",
       "<title>F&#45;&gt;B</title>\n",
       "<path fill=\"none\" stroke=\"#000000\" d=\"M363.4989,-56.6879C356.6896,-51.2594 348.3452,-45.8053 339.6967,-43 328.7183,-39.439 317.4667,-44.7121 308.3346,-51.6964\"/>\n",
       "<polygon fill=\"#000000\" stroke=\"#000000\" points=\"305.8782,-49.1937 300.6126,-58.3874 310.4622,-54.4841 305.8782,-49.1937\"/>\n",
       "<text text-anchor=\"middle\" x=\"332.1967\" y=\"-61.8\" font-family=\"Times,serif\" font-size=\"14.00\" fill=\"#000000\">1 </text>\n",
       "<text text-anchor=\"middle\" x=\"332.1967\" y=\"-46.8\" font-family=\"Times,serif\" font-size=\"14.00\" fill=\"#000000\"> 0 </text>\n",
       "</g>\n",
       "<!-- IF&#45;&gt;A -->\n",
       "<g id=\"edge2\" class=\"edge\">\n",
       "<title>IF&#45;&gt;A</title>\n",
       "<path fill=\"none\" stroke=\"#000000\" d=\"M132.2151,-58.2022C139.1302,-53.2108 147.1483,-47.6603 154.6967,-43 161.509,-38.7941 169.0925,-34.5721 176.1454,-30.8264\"/>\n",
       "<polygon fill=\"#000000\" stroke=\"#000000\" points=\"178.054,-33.7789 185.3116,-26.0602 174.8247,-27.5683 178.054,-33.7789\"/>\n",
       "<text text-anchor=\"middle\" x=\"160.1967\" y=\"-46.8\" font-family=\"Times,serif\" font-size=\"14.00\" fill=\"#000000\">0 </text>\n",
       "</g>\n",
       "<!-- IF&#45;&gt;B -->\n",
       "<g id=\"edge3\" class=\"edge\">\n",
       "<title>IF&#45;&gt;B</title>\n",
       "<path fill=\"none\" stroke=\"#000000\" d=\"M135.2772,-80.0619C141.4814,-82.1997 148.3054,-84.3649 154.6967,-86 196.8932,-96.7952 210.6121,-97.2239 252.6967,-86 255.9364,-85.136 259.2839,-84.0754 262.5735,-82.928\"/>\n",
       "<polygon fill=\"#000000\" stroke=\"#000000\" points=\"263.9806,-86.1381 272.1029,-79.3351 261.511,-79.5881 263.9806,-86.1381\"/>\n",
       "<text text-anchor=\"middle\" x=\"201.6967\" y=\"-97.8\" font-family=\"Times,serif\" font-size=\"14.00\" fill=\"#000000\">1 </text>\n",
       "</g>\n",
       "</g>\n",
       "</svg>\n"
      ],
      "text/plain": [
       "<graphviz.dot.Digraph at 0x7ffd50668dd0>"
      ]
     },
     "execution_count": 49,
     "metadata": {},
     "output_type": "execute_result"
    }
   ],
   "source": [
    "dotObj_dfa(dped1, FuseEdges=True)"
   ]
  },
  {
   "cell_type": "code",
   "execution_count": 50,
   "metadata": {
    "run_control": {
     "frozen": false,
     "read_only": false
    }
   },
   "outputs": [],
   "source": [
    "ends0101 = md2mc(src=\"File\", fname=\"endsin0101.dfa\")"
   ]
  },
  {
   "cell_type": "code",
   "execution_count": 51,
   "metadata": {
    "run_control": {
     "frozen": false,
     "read_only": false
    }
   },
   "outputs": [
    {
     "data": {
      "image/svg+xml": [
       "<?xml version=\"1.0\" encoding=\"UTF-8\" standalone=\"no\"?>\n",
       "<!DOCTYPE svg PUBLIC \"-//W3C//DTD SVG 1.1//EN\"\n",
       " \"http://www.w3.org/Graphics/SVG/1.1/DTD/svg11.dtd\">\n",
       "<!-- Generated by graphviz version 2.40.1 (20161225.0304)\n",
       " -->\n",
       "<!-- Title: %3 Pages: 1 -->\n",
       "<svg width=\"547pt\" height=\"170pt\"\n",
       " viewBox=\"0.00 0.00 546.78 169.95\" xmlns=\"http://www.w3.org/2000/svg\" xmlns:xlink=\"http://www.w3.org/1999/xlink\">\n",
       "<g id=\"graph0\" class=\"graph\" transform=\"scale(1 1) rotate(0) translate(4 165.9452)\">\n",
       "<title>%3</title>\n",
       "<polygon fill=\"#ffffff\" stroke=\"transparent\" points=\"-4,4 -4,-165.9452 542.7809,-165.9452 542.7809,4 -4,4\"/>\n",
       "<!-- EMPTY -->\n",
       "<g id=\"node1\" class=\"node\">\n",
       "<title>EMPTY</title>\n",
       "</g>\n",
       "<!-- I -->\n",
       "<g id=\"node2\" class=\"node\">\n",
       "<title>I</title>\n",
       "<ellipse fill=\"none\" stroke=\"#000000\" cx=\"109\" cy=\"-55.797\" rx=\"18\" ry=\"18\"/>\n",
       "<text text-anchor=\"middle\" x=\"109\" y=\"-52.097\" font-family=\"Times,serif\" font-size=\"14.00\" fill=\"#000000\">I</text>\n",
       "</g>\n",
       "<!-- EMPTY&#45;&gt;I -->\n",
       "<g id=\"edge1\" class=\"edge\">\n",
       "<title>EMPTY&#45;&gt;I</title>\n",
       "<path fill=\"none\" stroke=\"#000000\" d=\"M54.3048,-55.797C62.6909,-55.797 71.9407,-55.797 80.4103,-55.797\"/>\n",
       "<polygon fill=\"#000000\" stroke=\"#000000\" points=\"80.5976,-59.2971 90.5976,-55.797 80.5976,-52.2971 80.5976,-59.2971\"/>\n",
       "</g>\n",
       "<!-- I&#45;&gt;I -->\n",
       "<g id=\"edge3\" class=\"edge\">\n",
       "<title>I&#45;&gt;I</title>\n",
       "<path fill=\"none\" stroke=\"#000000\" d=\"M102.6208,-72.8343C101.3189,-82.6549 103.4453,-91.797 109,-91.797 112.4717,-91.797 114.6042,-88.2259 115.3975,-83.1499\"/>\n",
       "<polygon fill=\"#000000\" stroke=\"#000000\" points=\"118.8971,-82.828 115.3792,-72.8343 111.8971,-82.8405 118.8971,-82.828\"/>\n",
       "<text text-anchor=\"middle\" x=\"109\" y=\"-95.597\" font-family=\"Times,serif\" font-size=\"14.00\" fill=\"#000000\">1 </text>\n",
       "</g>\n",
       "<!-- S0 -->\n",
       "<g id=\"node5\" class=\"node\">\n",
       "<title>S0</title>\n",
       "<ellipse fill=\"none\" stroke=\"#000000\" cx=\"194.1482\" cy=\"-108.797\" rx=\"20.2975\" ry=\"20.2975\"/>\n",
       "<text text-anchor=\"middle\" x=\"194.1482\" y=\"-105.097\" font-family=\"Times,serif\" font-size=\"14.00\" fill=\"#000000\">S0</text>\n",
       "</g>\n",
       "<!-- I&#45;&gt;S0 -->\n",
       "<g id=\"edge2\" class=\"edge\">\n",
       "<title>I&#45;&gt;S0</title>\n",
       "<path fill=\"none\" stroke=\"#000000\" d=\"M124.6175,-65.518C136.7477,-73.0684 153.8377,-83.706 168.0387,-92.5453\"/>\n",
       "<polygon fill=\"#000000\" stroke=\"#000000\" points=\"166.533,-95.7307 176.8723,-98.0437 170.2321,-89.7879 166.533,-95.7307\"/>\n",
       "<text text-anchor=\"middle\" x=\"150.5\" y=\"-87.597\" font-family=\"Times,serif\" font-size=\"14.00\" fill=\"#000000\">0 </text>\n",
       "</g>\n",
       "<!-- S010 -->\n",
       "<g id=\"node3\" class=\"node\">\n",
       "<title>S010</title>\n",
       "<ellipse fill=\"none\" stroke=\"#000000\" cx=\"386.9394\" cy=\"-71.797\" rx=\"29.4969\" ry=\"29.4969\"/>\n",
       "<text text-anchor=\"middle\" x=\"386.9394\" y=\"-68.097\" font-family=\"Times,serif\" font-size=\"14.00\" fill=\"#000000\">S010</text>\n",
       "</g>\n",
       "<!-- S010&#45;&gt;S0 -->\n",
       "<g id=\"edge8\" class=\"edge\">\n",
       "<title>S010&#45;&gt;S0</title>\n",
       "<path fill=\"none\" stroke=\"#000000\" d=\"M359.3773,-82.0871C345.0275,-87.1231 327.0964,-92.9202 310.692,-96.797 281.2223,-103.7615 273.4443,-103.9551 243.2964,-106.797 237.4513,-107.348 231.2009,-107.7473 225.1846,-108.0366\"/>\n",
       "<polygon fill=\"#000000\" stroke=\"#000000\" points=\"224.6006,-104.5568 214.7461,-108.4477 224.8761,-111.5514 224.6006,-104.5568\"/>\n",
       "<text text-anchor=\"middle\" x=\"285.9942\" y=\"-108.597\" font-family=\"Times,serif\" font-size=\"14.00\" fill=\"#000000\">0 </text>\n",
       "</g>\n",
       "<!-- F0101 -->\n",
       "<g id=\"node6\" class=\"node\">\n",
       "<title>F0101</title>\n",
       "<ellipse fill=\"none\" stroke=\"#000000\" cx=\"500.9839\" cy=\"-37.797\" rx=\"33.6165\" ry=\"33.6165\"/>\n",
       "<ellipse fill=\"none\" stroke=\"#000000\" cx=\"500.9839\" cy=\"-37.797\" rx=\"37.5951\" ry=\"37.5951\"/>\n",
       "<text text-anchor=\"middle\" x=\"500.9839\" y=\"-34.097\" font-family=\"Times,serif\" font-size=\"14.00\" fill=\"#000000\">F0101</text>\n",
       "</g>\n",
       "<!-- S010&#45;&gt;F0101 -->\n",
       "<g id=\"edge9\" class=\"edge\">\n",
       "<title>S010&#45;&gt;F0101</title>\n",
       "<path fill=\"none\" stroke=\"#000000\" d=\"M415.1302,-63.3925C427.1258,-59.8163 441.4313,-55.5514 454.8926,-51.5382\"/>\n",
       "<polygon fill=\"#000000\" stroke=\"#000000\" points=\"455.9169,-54.8851 464.5001,-48.6739 453.9169,-48.1769 455.9169,-54.8851\"/>\n",
       "<text text-anchor=\"middle\" x=\"439.6869\" y=\"-60.597\" font-family=\"Times,serif\" font-size=\"14.00\" fill=\"#000000\">1 </text>\n",
       "</g>\n",
       "<!-- S01 -->\n",
       "<g id=\"node4\" class=\"node\">\n",
       "<title>S01</title>\n",
       "<ellipse fill=\"none\" stroke=\"#000000\" cx=\"285.9942\" cy=\"-62.797\" rx=\"24.8972\" ry=\"24.8972\"/>\n",
       "<text text-anchor=\"middle\" x=\"285.9942\" y=\"-59.097\" font-family=\"Times,serif\" font-size=\"14.00\" fill=\"#000000\">S01</text>\n",
       "</g>\n",
       "<!-- S01&#45;&gt;I -->\n",
       "<g id=\"edge7\" class=\"edge\">\n",
       "<title>S01&#45;&gt;I</title>\n",
       "<path fill=\"none\" stroke=\"#000000\" d=\"M261.0414,-61.8101C228.5079,-60.5235 171.7326,-58.278 137.5279,-56.9253\"/>\n",
       "<polygon fill=\"#000000\" stroke=\"#000000\" points=\"137.4054,-53.4178 127.2748,-56.5198 137.1287,-60.4123 137.4054,-53.4178\"/>\n",
       "<text text-anchor=\"middle\" x=\"194.1482\" y=\"-63.597\" font-family=\"Times,serif\" font-size=\"14.00\" fill=\"#000000\">1 </text>\n",
       "</g>\n",
       "<!-- S01&#45;&gt;S010 -->\n",
       "<g id=\"edge6\" class=\"edge\">\n",
       "<title>S01&#45;&gt;S010</title>\n",
       "<path fill=\"none\" stroke=\"#000000\" d=\"M310.6882,-64.9986C321.7235,-65.9825 335.0062,-67.1668 347.3718,-68.2693\"/>\n",
       "<polygon fill=\"#000000\" stroke=\"#000000\" points=\"347.2024,-71.768 357.4737,-69.1699 347.8241,-64.7956 347.2024,-71.768\"/>\n",
       "<text text-anchor=\"middle\" x=\"334.192\" y=\"-70.597\" font-family=\"Times,serif\" font-size=\"14.00\" fill=\"#000000\">0 </text>\n",
       "</g>\n",
       "<!-- S0&#45;&gt;S01 -->\n",
       "<g id=\"edge5\" class=\"edge\">\n",
       "<title>S0&#45;&gt;S01</title>\n",
       "<path fill=\"none\" stroke=\"#000000\" d=\"M212.294,-99.7089C224.2724,-93.7097 240.2895,-85.6877 254.3317,-78.6548\"/>\n",
       "<polygon fill=\"#000000\" stroke=\"#000000\" points=\"256.2899,-81.5886 263.6638,-73.9809 253.1551,-75.3297 256.2899,-81.5886\"/>\n",
       "<text text-anchor=\"middle\" x=\"237.7964\" y=\"-91.597\" font-family=\"Times,serif\" font-size=\"14.00\" fill=\"#000000\">1 </text>\n",
       "</g>\n",
       "<!-- S0&#45;&gt;S0 -->\n",
       "<g id=\"edge4\" class=\"edge\">\n",
       "<title>S0&#45;&gt;S0</title>\n",
       "<path fill=\"none\" stroke=\"#000000\" d=\"M186.5981,-127.6398C185.3151,-137.7419 187.8318,-146.9452 194.1482,-146.9452 198.1947,-146.9452 200.6817,-143.1682 201.6093,-137.7975\"/>\n",
       "<polygon fill=\"#000000\" stroke=\"#000000\" points=\"205.1105,-137.6701 201.6983,-127.6398 198.1108,-137.6088 205.1105,-137.6701\"/>\n",
       "<text text-anchor=\"middle\" x=\"194.1482\" y=\"-150.7452\" font-family=\"Times,serif\" font-size=\"14.00\" fill=\"#000000\">0 </text>\n",
       "</g>\n",
       "<!-- F0101&#45;&gt;I -->\n",
       "<g id=\"edge11\" class=\"edge\">\n",
       "<title>F0101&#45;&gt;I</title>\n",
       "<path fill=\"none\" stroke=\"#000000\" d=\"M466.2863,-22.2633C444.0641,-13.7041 414.3529,-4.797 386.9394,-4.797 194.1482,-4.797 194.1482,-4.797 194.1482,-4.797 169.203,-4.797 145.2416,-21.1058 129.1284,-35.2784\"/>\n",
       "<polygon fill=\"#000000\" stroke=\"#000000\" points=\"126.4052,-33.0306 121.454,-42.3974 131.1657,-38.1626 126.4052,-33.0306\"/>\n",
       "<text text-anchor=\"middle\" x=\"285.9942\" y=\"-8.597\" font-family=\"Times,serif\" font-size=\"14.00\" fill=\"#000000\">1 </text>\n",
       "</g>\n",
       "<!-- F0101&#45;&gt;S010 -->\n",
       "<g id=\"edge10\" class=\"edge\">\n",
       "<title>F0101&#45;&gt;S010</title>\n",
       "<path fill=\"none\" stroke=\"#000000\" d=\"M463.5473,-32.0806C453.7864,-31.8239 443.4206,-32.6801 434.1869,-35.797 428.0313,-37.8749 422.044,-41.1103 416.515,-44.8077\"/>\n",
       "<polygon fill=\"#000000\" stroke=\"#000000\" points=\"414.2217,-42.1498 408.2454,-50.8981 418.3729,-47.7861 414.2217,-42.1498\"/>\n",
       "<text text-anchor=\"middle\" x=\"439.6869\" y=\"-39.597\" font-family=\"Times,serif\" font-size=\"14.00\" fill=\"#000000\">0 </text>\n",
       "</g>\n",
       "</g>\n",
       "</svg>\n"
      ],
      "text/plain": [
       "<graphviz.dot.Digraph at 0x7ffd506c03d0>"
      ]
     },
     "execution_count": 51,
     "metadata": {},
     "output_type": "execute_result"
    }
   ],
   "source": [
    "dotObj_dfa(ends0101)"
   ]
  },
  {
   "cell_type": "code",
   "execution_count": 52,
   "metadata": {
    "run_control": {
     "frozen": false,
     "read_only": false
    }
   },
   "outputs": [],
   "source": [
    "thirdlastis1=md2mc(src=\"File\", fname=\"thirdlastis1.dfa\")\n",
    "#machines/dfafiles/thirdlastis1.dfa"
   ]
  },
  {
   "cell_type": "code",
   "execution_count": 53,
   "metadata": {
    "run_control": {
     "frozen": false,
     "read_only": false
    }
   },
   "outputs": [
    {
     "data": {
      "text/plain": [
       "{'Q': {'F100',\n",
       "  'F101',\n",
       "  'F110',\n",
       "  'F111',\n",
       "  'I',\n",
       "  'S0',\n",
       "  'S00',\n",
       "  'S000',\n",
       "  'S001',\n",
       "  'S01',\n",
       "  'S010',\n",
       "  'S011',\n",
       "  'S1',\n",
       "  'S10',\n",
       "  'S11'},\n",
       " 'Sigma': {'0', '1'},\n",
       " 'Delta': {('I', '0'): 'S0',\n",
       "  ('I', '1'): 'S1',\n",
       "  ('S0', '0'): 'S00',\n",
       "  ('S0', '1'): 'S01',\n",
       "  ('S1', '0'): 'S10',\n",
       "  ('S1', '1'): 'S11',\n",
       "  ('S00', '0'): 'S000',\n",
       "  ('S00', '1'): 'S001',\n",
       "  ('S01', '0'): 'S010',\n",
       "  ('S01', '1'): 'S011',\n",
       "  ('S10', '0'): 'F100',\n",
       "  ('S10', '1'): 'F101',\n",
       "  ('S11', '0'): 'F110',\n",
       "  ('S11', '1'): 'F111',\n",
       "  ('S000', '0'): 'S000',\n",
       "  ('S000', '1'): 'S001',\n",
       "  ('S001', '0'): 'S010',\n",
       "  ('S001', '1'): 'S011',\n",
       "  ('S010', '0'): 'F100',\n",
       "  ('S010', '1'): 'F101',\n",
       "  ('S011', '0'): 'F110',\n",
       "  ('S011', '1'): 'F111',\n",
       "  ('F100', '0'): 'S000',\n",
       "  ('F100', '1'): 'S001',\n",
       "  ('F101', '0'): 'S010',\n",
       "  ('F101', '1'): 'S011',\n",
       "  ('F110', '0'): 'F100',\n",
       "  ('F110', '1'): 'F101',\n",
       "  ('F111', '0'): 'F110',\n",
       "  ('F111', '1'): 'F111'},\n",
       " 'q0': 'I',\n",
       " 'F': {'F100', 'F101', 'F110', 'F111'}}"
      ]
     },
     "execution_count": 53,
     "metadata": {},
     "output_type": "execute_result"
    }
   ],
   "source": [
    "thirdlastis1"
   ]
  },
  {
   "cell_type": "code",
   "execution_count": 54,
   "metadata": {
    "run_control": {
     "frozen": false,
     "read_only": false
    }
   },
   "outputs": [
    {
     "data": {
      "image/svg+xml": [
       "<?xml version=\"1.0\" encoding=\"UTF-8\" standalone=\"no\"?>\n",
       "<!DOCTYPE svg PUBLIC \"-//W3C//DTD SVG 1.1//EN\"\n",
       " \"http://www.w3.org/Graphics/SVG/1.1/DTD/svg11.dtd\">\n",
       "<!-- Generated by graphviz version 2.40.1 (20161225.0304)\n",
       " -->\n",
       "<!-- Title: %3 Pages: 1 -->\n",
       "<svg width=\"1195pt\" height=\"482pt\"\n",
       " viewBox=\"0.00 0.00 1194.65 482.00\" xmlns=\"http://www.w3.org/2000/svg\" xmlns:xlink=\"http://www.w3.org/1999/xlink\">\n",
       "<g id=\"graph0\" class=\"graph\" transform=\"scale(1 1) rotate(0) translate(4 478)\">\n",
       "<title>%3</title>\n",
       "<polygon fill=\"#ffffff\" stroke=\"transparent\" points=\"-4,4 -4,-478 1190.6505,-478 1190.6505,4 -4,4\"/>\n",
       "<!-- EMPTY -->\n",
       "<g id=\"node1\" class=\"node\">\n",
       "<title>EMPTY</title>\n",
       "</g>\n",
       "<!-- I -->\n",
       "<g id=\"node2\" class=\"node\">\n",
       "<title>I</title>\n",
       "<ellipse fill=\"none\" stroke=\"#000000\" cx=\"109\" cy=\"-77\" rx=\"18\" ry=\"18\"/>\n",
       "<text text-anchor=\"middle\" x=\"109\" y=\"-73.3\" font-family=\"Times,serif\" font-size=\"14.00\" fill=\"#000000\">I</text>\n",
       "</g>\n",
       "<!-- EMPTY&#45;&gt;I -->\n",
       "<g id=\"edge1\" class=\"edge\">\n",
       "<title>EMPTY&#45;&gt;I</title>\n",
       "<path fill=\"none\" stroke=\"#000000\" d=\"M54.3048,-77C62.6909,-77 71.9407,-77 80.4103,-77\"/>\n",
       "<polygon fill=\"#000000\" stroke=\"#000000\" points=\"80.5976,-80.5001 90.5976,-77 80.5976,-73.5001 80.5976,-80.5001\"/>\n",
       "</g>\n",
       "<!-- S0 -->\n",
       "<g id=\"node6\" class=\"node\">\n",
       "<title>S0</title>\n",
       "<ellipse fill=\"none\" stroke=\"#000000\" cx=\"194.1482\" cy=\"-115\" rx=\"20.2975\" ry=\"20.2975\"/>\n",
       "<text text-anchor=\"middle\" x=\"194.1482\" y=\"-111.3\" font-family=\"Times,serif\" font-size=\"14.00\" fill=\"#000000\">S0</text>\n",
       "</g>\n",
       "<!-- I&#45;&gt;S0 -->\n",
       "<g id=\"edge2\" class=\"edge\">\n",
       "<title>I&#45;&gt;S0</title>\n",
       "<path fill=\"none\" stroke=\"#000000\" d=\"M125.8225,-84.5076C137.3666,-89.6595 152.9569,-96.6171 166.3304,-102.5854\"/>\n",
       "<polygon fill=\"#000000\" stroke=\"#000000\" points=\"165.0287,-105.8372 175.587,-106.7165 167.8815,-99.4449 165.0287,-105.8372\"/>\n",
       "<text text-anchor=\"middle\" x=\"150.5\" y=\"-101.8\" font-family=\"Times,serif\" font-size=\"14.00\" fill=\"#000000\">0 </text>\n",
       "</g>\n",
       "<!-- S1 -->\n",
       "<g id=\"node11\" class=\"node\">\n",
       "<title>S1</title>\n",
       "<ellipse fill=\"none\" stroke=\"#000000\" cx=\"285.9942\" cy=\"-56\" rx=\"20.2975\" ry=\"20.2975\"/>\n",
       "<text text-anchor=\"middle\" x=\"285.9942\" y=\"-52.3\" font-family=\"Times,serif\" font-size=\"14.00\" fill=\"#000000\">S1</text>\n",
       "</g>\n",
       "<!-- I&#45;&gt;S1 -->\n",
       "<g id=\"edge3\" class=\"edge\">\n",
       "<title>I&#45;&gt;S1</title>\n",
       "<path fill=\"none\" stroke=\"#000000\" d=\"M126.9452,-74.8708C157.181,-71.2834 218.5964,-63.9966 255.6371,-59.6018\"/>\n",
       "<polygon fill=\"#000000\" stroke=\"#000000\" points=\"256.3223,-63.0452 265.8402,-58.3912 255.4975,-56.0939 256.3223,-63.0452\"/>\n",
       "<text text-anchor=\"middle\" x=\"194.1482\" y=\"-73.8\" font-family=\"Times,serif\" font-size=\"14.00\" fill=\"#000000\">1 </text>\n",
       "</g>\n",
       "<!-- S010 -->\n",
       "<g id=\"node3\" class=\"node\">\n",
       "<title>S010</title>\n",
       "<ellipse fill=\"none\" stroke=\"#000000\" cx=\"386.9394\" cy=\"-402\" rx=\"29.4969\" ry=\"29.4969\"/>\n",
       "<text text-anchor=\"middle\" x=\"386.9394\" y=\"-398.3\" font-family=\"Times,serif\" font-size=\"14.00\" fill=\"#000000\">S010</text>\n",
       "</g>\n",
       "<!-- F100 -->\n",
       "<g id=\"node15\" class=\"node\">\n",
       "<title>F100</title>\n",
       "<ellipse fill=\"none\" stroke=\"#000000\" cx=\"496.4343\" cy=\"-204\" rx=\"29.4667\" ry=\"29.4667\"/>\n",
       "<ellipse fill=\"none\" stroke=\"#000000\" cx=\"496.4343\" cy=\"-204\" rx=\"33.4967\" ry=\"33.4967\"/>\n",
       "<text text-anchor=\"middle\" x=\"496.4343\" y=\"-200.3\" font-family=\"Times,serif\" font-size=\"14.00\" fill=\"#000000\">F100</text>\n",
       "</g>\n",
       "<!-- S010&#45;&gt;F100 -->\n",
       "<g id=\"edge20\" class=\"edge\">\n",
       "<title>S010&#45;&gt;F100</title>\n",
       "<path fill=\"none\" stroke=\"#000000\" d=\"M401.254,-376.115C420.1445,-341.9552 453.5458,-281.5553 475.334,-242.1558\"/>\n",
       "<polygon fill=\"#000000\" stroke=\"#000000\" points=\"478.5602,-243.554 480.3368,-233.1092 472.4345,-240.1664 478.5602,-243.554\"/>\n",
       "<text text-anchor=\"middle\" x=\"439.6869\" y=\"-318.8\" font-family=\"Times,serif\" font-size=\"14.00\" fill=\"#000000\">0 </text>\n",
       "</g>\n",
       "<!-- F101 -->\n",
       "<g id=\"node16\" class=\"node\">\n",
       "<title>F101</title>\n",
       "<ellipse fill=\"none\" stroke=\"#000000\" cx=\"1153.4031\" cy=\"-333\" rx=\"29.4667\" ry=\"29.4667\"/>\n",
       "<ellipse fill=\"none\" stroke=\"#000000\" cx=\"1153.4031\" cy=\"-333\" rx=\"33.4967\" ry=\"33.4967\"/>\n",
       "<text text-anchor=\"middle\" x=\"1153.4031\" y=\"-329.3\" font-family=\"Times,serif\" font-size=\"14.00\" fill=\"#000000\">F101</text>\n",
       "</g>\n",
       "<!-- S010&#45;&gt;F101 -->\n",
       "<g id=\"edge21\" class=\"edge\">\n",
       "<title>S010&#45;&gt;F101</title>\n",
       "<path fill=\"none\" stroke=\"#000000\" d=\"M409.1097,-421.6162C430.0831,-438.1042 463.2162,-459 496.4343,-459 496.4343,-459 496.4343,-459 1039.9083,-459 1069.5589,-459 1080.1919,-454.9185 1102.1557,-435 1119.898,-418.9099 1132.31,-395.278 1140.4703,-374.8117\"/>\n",
       "<polygon fill=\"#000000\" stroke=\"#000000\" points=\"1143.7776,-375.9603 1144.0316,-365.3686 1137.2279,-373.4902 1143.7776,-375.9603\"/>\n",
       "<text text-anchor=\"middle\" x=\"764.1713\" y=\"-462.8\" font-family=\"Times,serif\" font-size=\"14.00\" fill=\"#000000\">1 </text>\n",
       "</g>\n",
       "<!-- S01 -->\n",
       "<g id=\"node4\" class=\"node\">\n",
       "<title>S01</title>\n",
       "<ellipse fill=\"none\" stroke=\"#000000\" cx=\"285.9942\" cy=\"-345\" rx=\"24.8972\" ry=\"24.8972\"/>\n",
       "<text text-anchor=\"middle\" x=\"285.9942\" y=\"-341.3\" font-family=\"Times,serif\" font-size=\"14.00\" fill=\"#000000\">S01</text>\n",
       "</g>\n",
       "<!-- S01&#45;&gt;S010 -->\n",
       "<g id=\"edge10\" class=\"edge\">\n",
       "<title>S01&#45;&gt;S010</title>\n",
       "<path fill=\"none\" stroke=\"#000000\" d=\"M307.8978,-357.3682C320.8631,-364.6892 337.5786,-374.1278 352.2961,-382.4382\"/>\n",
       "<polygon fill=\"#000000\" stroke=\"#000000\" points=\"350.7217,-385.5686 361.1503,-387.4378 354.1636,-379.4732 350.7217,-385.5686\"/>\n",
       "<text text-anchor=\"middle\" x=\"334.192\" y=\"-379.8\" font-family=\"Times,serif\" font-size=\"14.00\" fill=\"#000000\">0 </text>\n",
       "</g>\n",
       "<!-- S011 -->\n",
       "<g id=\"node10\" class=\"node\">\n",
       "<title>S011</title>\n",
       "<ellipse fill=\"none\" stroke=\"#000000\" cx=\"816.9187\" cy=\"-290\" rx=\"29.4969\" ry=\"29.4969\"/>\n",
       "<text text-anchor=\"middle\" x=\"816.9187\" y=\"-286.3\" font-family=\"Times,serif\" font-size=\"14.00\" fill=\"#000000\">S011</text>\n",
       "</g>\n",
       "<!-- S01&#45;&gt;S011 -->\n",
       "<g id=\"edge11\" class=\"edge\">\n",
       "<title>S01&#45;&gt;S011</title>\n",
       "<path fill=\"none\" stroke=\"#000000\" d=\"M310.8847,-345C331.3161,-345 361.0021,-345 386.9394,-345 386.9394,-345 386.9394,-345 711.4239,-345 739.0754,-345 766.6565,-329.9588 786.6789,-315.608\"/>\n",
       "<polygon fill=\"#000000\" stroke=\"#000000\" points=\"788.8682,-318.3411 794.7752,-309.5458 784.6727,-312.7378 788.8682,-318.3411\"/>\n",
       "<text text-anchor=\"middle\" x=\"553.1817\" y=\"-348.8\" font-family=\"Times,serif\" font-size=\"14.00\" fill=\"#000000\">1 </text>\n",
       "</g>\n",
       "<!-- S11 -->\n",
       "<g id=\"node5\" class=\"node\">\n",
       "<title>S11</title>\n",
       "<ellipse fill=\"none\" stroke=\"#000000\" cx=\"816.9187\" cy=\"-91\" rx=\"24.8972\" ry=\"24.8972\"/>\n",
       "<text text-anchor=\"middle\" x=\"816.9187\" y=\"-87.3\" font-family=\"Times,serif\" font-size=\"14.00\" fill=\"#000000\">S11</text>\n",
       "</g>\n",
       "<!-- F111 -->\n",
       "<g id=\"node13\" class=\"node\">\n",
       "<title>F111</title>\n",
       "<ellipse fill=\"none\" stroke=\"#000000\" cx=\"926.4135\" cy=\"-150\" rx=\"29.4667\" ry=\"29.4667\"/>\n",
       "<ellipse fill=\"none\" stroke=\"#000000\" cx=\"926.4135\" cy=\"-150\" rx=\"33.4967\" ry=\"33.4967\"/>\n",
       "<text text-anchor=\"middle\" x=\"926.4135\" y=\"-146.3\" font-family=\"Times,serif\" font-size=\"14.00\" fill=\"#000000\">F111</text>\n",
       "</g>\n",
       "<!-- S11&#45;&gt;F111 -->\n",
       "<g id=\"edge15\" class=\"edge\">\n",
       "<title>S11&#45;&gt;F111</title>\n",
       "<path fill=\"none\" stroke=\"#000000\" d=\"M838.8134,-102.7977C852.9257,-110.4019 871.6594,-120.4964 888.1798,-129.3982\"/>\n",
       "<polygon fill=\"#000000\" stroke=\"#000000\" points=\"886.623,-132.5351 897.0866,-134.1976 889.9436,-126.3728 886.623,-132.5351\"/>\n",
       "<text text-anchor=\"middle\" x=\"869.6661\" y=\"-126.8\" font-family=\"Times,serif\" font-size=\"14.00\" fill=\"#000000\">1 </text>\n",
       "</g>\n",
       "<!-- F110 -->\n",
       "<g id=\"node14\" class=\"node\">\n",
       "<title>F110</title>\n",
       "<ellipse fill=\"none\" stroke=\"#000000\" cx=\"1039.9083\" cy=\"-244\" rx=\"29.4667\" ry=\"29.4667\"/>\n",
       "<ellipse fill=\"none\" stroke=\"#000000\" cx=\"1039.9083\" cy=\"-244\" rx=\"33.4967\" ry=\"33.4967\"/>\n",
       "<text text-anchor=\"middle\" x=\"1039.9083\" y=\"-240.3\" font-family=\"Times,serif\" font-size=\"14.00\" fill=\"#000000\">F110</text>\n",
       "</g>\n",
       "<!-- S11&#45;&gt;F110 -->\n",
       "<g id=\"edge14\" class=\"edge\">\n",
       "<title>S11&#45;&gt;F110</title>\n",
       "<path fill=\"none\" stroke=\"#000000\" d=\"M840.9245,-84.3888C871.0465,-77.5582 923.1723,-70.7208 959.6609,-93 998.3384,-116.6157 1019.4227,-165.7567 1030.1429,-201.5857\"/>\n",
       "<polygon fill=\"#000000\" stroke=\"#000000\" points=\"1026.8036,-202.6394 1032.8977,-211.3061 1033.5383,-200.7306 1026.8036,-202.6394\"/>\n",
       "<text text-anchor=\"middle\" x=\"926.4135\" y=\"-96.8\" font-family=\"Times,serif\" font-size=\"14.00\" fill=\"#000000\">0 </text>\n",
       "</g>\n",
       "<!-- S0&#45;&gt;S01 -->\n",
       "<g id=\"edge5\" class=\"edge\">\n",
       "<title>S0&#45;&gt;S01</title>\n",
       "<path fill=\"none\" stroke=\"#000000\" d=\"M201.6644,-133.8219C217.2961,-172.9668 253.4742,-263.5636 272.9767,-312.4016\"/>\n",
       "<polygon fill=\"#000000\" stroke=\"#000000\" points=\"269.7988,-313.8815 276.7579,-321.8704 276.2997,-311.2855 269.7988,-313.8815\"/>\n",
       "<text text-anchor=\"middle\" x=\"237.7964\" y=\"-240.8\" font-family=\"Times,serif\" font-size=\"14.00\" fill=\"#000000\">1 </text>\n",
       "</g>\n",
       "<!-- S00 -->\n",
       "<g id=\"node9\" class=\"node\">\n",
       "<title>S00</title>\n",
       "<ellipse fill=\"none\" stroke=\"#000000\" cx=\"496.4343\" cy=\"-115\" rx=\"24.8972\" ry=\"24.8972\"/>\n",
       "<text text-anchor=\"middle\" x=\"496.4343\" y=\"-111.3\" font-family=\"Times,serif\" font-size=\"14.00\" fill=\"#000000\">S00</text>\n",
       "</g>\n",
       "<!-- S0&#45;&gt;S00 -->\n",
       "<g id=\"edge4\" class=\"edge\">\n",
       "<title>S0&#45;&gt;S00</title>\n",
       "<path fill=\"none\" stroke=\"#000000\" d=\"M214.4514,-115C265.1316,-115 397.6869,-115 461.3346,-115\"/>\n",
       "<polygon fill=\"#000000\" stroke=\"#000000\" points=\"461.6599,-118.5001 471.6598,-115 461.6598,-111.5001 461.6599,-118.5001\"/>\n",
       "<text text-anchor=\"middle\" x=\"334.192\" y=\"-118.8\" font-family=\"Times,serif\" font-size=\"14.00\" fill=\"#000000\">0 </text>\n",
       "</g>\n",
       "<!-- S10 -->\n",
       "<g id=\"node7\" class=\"node\">\n",
       "<title>S10</title>\n",
       "<ellipse fill=\"none\" stroke=\"#000000\" cx=\"386.9394\" cy=\"-56\" rx=\"24.8972\" ry=\"24.8972\"/>\n",
       "<text text-anchor=\"middle\" x=\"386.9394\" y=\"-52.3\" font-family=\"Times,serif\" font-size=\"14.00\" fill=\"#000000\">S10</text>\n",
       "</g>\n",
       "<!-- S10&#45;&gt;F100 -->\n",
       "<g id=\"edge12\" class=\"edge\">\n",
       "<title>S10&#45;&gt;F100</title>\n",
       "<path fill=\"none\" stroke=\"#000000\" d=\"M401.7064,-75.9599C419.2922,-99.73 448.9793,-139.857 470.4384,-168.8624\"/>\n",
       "<polygon fill=\"#000000\" stroke=\"#000000\" points=\"467.7719,-171.143 476.5332,-177.1004 473.3993,-166.9797 467.7719,-171.143\"/>\n",
       "<text text-anchor=\"middle\" x=\"439.6869\" y=\"-138.8\" font-family=\"Times,serif\" font-size=\"14.00\" fill=\"#000000\">0 </text>\n",
       "</g>\n",
       "<!-- S10&#45;&gt;F101 -->\n",
       "<g id=\"edge13\" class=\"edge\">\n",
       "<title>S10&#45;&gt;F101</title>\n",
       "<path fill=\"none\" stroke=\"#000000\" d=\"M411.106,-49.7045C433.1692,-44.5138 466.7667,-38 496.4343,-38 496.4343,-38 496.4343,-38 1039.9083,-38 1093.256,-38 1131.0375,-208.1715 1146.1243,-290.0213\"/>\n",
       "<polygon fill=\"#000000\" stroke=\"#000000\" points=\"1142.7087,-290.8023 1147.935,-300.0184 1149.5967,-289.5547 1142.7087,-290.8023\"/>\n",
       "<text text-anchor=\"middle\" x=\"764.1713\" y=\"-41.8\" font-family=\"Times,serif\" font-size=\"14.00\" fill=\"#000000\">1 </text>\n",
       "</g>\n",
       "<!-- S000 -->\n",
       "<g id=\"node8\" class=\"node\">\n",
       "<title>S000</title>\n",
       "<ellipse fill=\"none\" stroke=\"#000000\" cx=\"605.9291\" cy=\"-204\" rx=\"29.4969\" ry=\"29.4969\"/>\n",
       "<text text-anchor=\"middle\" x=\"605.9291\" y=\"-200.3\" font-family=\"Times,serif\" font-size=\"14.00\" fill=\"#000000\">S000</text>\n",
       "</g>\n",
       "<!-- S000&#45;&gt;S000 -->\n",
       "<g id=\"edge16\" class=\"edge\">\n",
       "<title>S000&#45;&gt;S000</title>\n",
       "<path fill=\"none\" stroke=\"#000000\" d=\"M596.2172,-231.6624C595.7855,-242.3578 599.0228,-251.2474 605.9291,-251.2474 610.4613,-251.2474 613.4134,-247.419 614.7855,-241.7641\"/>\n",
       "<polygon fill=\"#000000\" stroke=\"#000000\" points=\"618.2846,-241.9221 615.641,-231.6624 611.3095,-241.3314 618.2846,-241.9221\"/>\n",
       "<text text-anchor=\"middle\" x=\"605.9291\" y=\"-255.0474\" font-family=\"Times,serif\" font-size=\"14.00\" fill=\"#000000\">0 </text>\n",
       "</g>\n",
       "<!-- S001 -->\n",
       "<g id=\"node12\" class=\"node\">\n",
       "<title>S001</title>\n",
       "<ellipse fill=\"none\" stroke=\"#000000\" cx=\"711.4239\" cy=\"-288\" rx=\"29.4969\" ry=\"29.4969\"/>\n",
       "<text text-anchor=\"middle\" x=\"711.4239\" y=\"-284.3\" font-family=\"Times,serif\" font-size=\"14.00\" fill=\"#000000\">S001</text>\n",
       "</g>\n",
       "<!-- S000&#45;&gt;S001 -->\n",
       "<g id=\"edge17\" class=\"edge\">\n",
       "<title>S000&#45;&gt;S001</title>\n",
       "<path fill=\"none\" stroke=\"#000000\" d=\"M628.8199,-222.2267C643.7851,-234.1428 663.5311,-249.8655 679.9646,-262.9506\"/>\n",
       "<polygon fill=\"#000000\" stroke=\"#000000\" points=\"678.2103,-266.0277 688.2134,-269.5187 682.5706,-260.5516 678.2103,-266.0277\"/>\n",
       "<text text-anchor=\"middle\" x=\"658.6765\" y=\"-252.8\" font-family=\"Times,serif\" font-size=\"14.00\" fill=\"#000000\">1 </text>\n",
       "</g>\n",
       "<!-- S00&#45;&gt;S000 -->\n",
       "<g id=\"edge8\" class=\"edge\">\n",
       "<title>S00&#45;&gt;S000</title>\n",
       "<path fill=\"none\" stroke=\"#000000\" d=\"M515.7577,-130.7065C532.196,-144.068 556.1012,-163.4987 575.1682,-178.9968\"/>\n",
       "<polygon fill=\"#000000\" stroke=\"#000000\" points=\"573.0401,-181.7774 583.0077,-185.3689 577.4554,-176.3455 573.0401,-181.7774\"/>\n",
       "<text text-anchor=\"middle\" x=\"553.1817\" y=\"-168.8\" font-family=\"Times,serif\" font-size=\"14.00\" fill=\"#000000\">0 </text>\n",
       "</g>\n",
       "<!-- S00&#45;&gt;S001 -->\n",
       "<g id=\"edge9\" class=\"edge\">\n",
       "<title>S00&#45;&gt;S001</title>\n",
       "<path fill=\"none\" stroke=\"#000000\" d=\"M521.2946,-115.6773C551.2168,-117.6906 601.6168,-125.0397 635.1765,-151 667.6209,-176.0975 688.2886,-219.1181 699.8022,-250.2652\"/>\n",
       "<polygon fill=\"#000000\" stroke=\"#000000\" points=\"696.5848,-251.6648 703.2221,-259.923 703.1833,-249.3282 696.5848,-251.6648\"/>\n",
       "<text text-anchor=\"middle\" x=\"605.9291\" y=\"-154.8\" font-family=\"Times,serif\" font-size=\"14.00\" fill=\"#000000\">1 </text>\n",
       "</g>\n",
       "<!-- S011&#45;&gt;F111 -->\n",
       "<g id=\"edge23\" class=\"edge\">\n",
       "<title>S011&#45;&gt;F111</title>\n",
       "<path fill=\"none\" stroke=\"#000000\" d=\"M834.9995,-266.8818C852.5386,-244.4564 879.3696,-210.1503 899.4335,-184.4966\"/>\n",
       "<polygon fill=\"#000000\" stroke=\"#000000\" points=\"902.2859,-186.5307 905.6896,-176.4975 896.772,-182.2183 902.2859,-186.5307\"/>\n",
       "<text text-anchor=\"middle\" x=\"869.6661\" y=\"-232.8\" font-family=\"Times,serif\" font-size=\"14.00\" fill=\"#000000\">1 </text>\n",
       "</g>\n",
       "<!-- S011&#45;&gt;F110 -->\n",
       "<g id=\"edge22\" class=\"edge\">\n",
       "<title>S011&#45;&gt;F110</title>\n",
       "<path fill=\"none\" stroke=\"#000000\" d=\"M845.9367,-285.3442C880.2056,-279.6728 938.8489,-269.4241 988.6609,-258 991.6654,-257.3109 994.759,-256.5632 997.867,-255.7838\"/>\n",
       "<polygon fill=\"#000000\" stroke=\"#000000\" points=\"998.9513,-259.1184 1007.7523,-253.2198 997.1938,-252.3426 998.9513,-259.1184\"/>\n",
       "<text text-anchor=\"middle\" x=\"926.4135\" y=\"-280.8\" font-family=\"Times,serif\" font-size=\"14.00\" fill=\"#000000\">0 </text>\n",
       "</g>\n",
       "<!-- S1&#45;&gt;S11 -->\n",
       "<g id=\"edge7\" class=\"edge\">\n",
       "<title>S1&#45;&gt;S11</title>\n",
       "<path fill=\"none\" stroke=\"#000000\" d=\"M300.6557,-41.5786C319.1416,-24.9862 352.6688,0 386.9394,0 386.9394,0 386.9394,0 711.4239,0 738.2705,0 748.1114,-.0027 769.6713,-16 784.3066,-26.8593 795.512,-43.7208 803.329,-58.7077\"/>\n",
       "<polygon fill=\"#000000\" stroke=\"#000000\" points=\"800.2086,-60.2937 807.7587,-67.7265 806.4916,-57.2077 800.2086,-60.2937\"/>\n",
       "<text text-anchor=\"middle\" x=\"553.1817\" y=\"-3.8\" font-family=\"Times,serif\" font-size=\"14.00\" fill=\"#000000\">1 </text>\n",
       "</g>\n",
       "<!-- S1&#45;&gt;S10 -->\n",
       "<g id=\"edge6\" class=\"edge\">\n",
       "<title>S1&#45;&gt;S10</title>\n",
       "<path fill=\"none\" stroke=\"#000000\" d=\"M306.422,-56C319.4347,-56 336.6366,-56 351.7989,-56\"/>\n",
       "<polygon fill=\"#000000\" stroke=\"#000000\" points=\"351.8935,-59.5001 361.8935,-56 351.8935,-52.5001 351.8935,-59.5001\"/>\n",
       "<text text-anchor=\"middle\" x=\"334.192\" y=\"-59.8\" font-family=\"Times,serif\" font-size=\"14.00\" fill=\"#000000\">0 </text>\n",
       "</g>\n",
       "<!-- S001&#45;&gt;S010 -->\n",
       "<g id=\"edge18\" class=\"edge\">\n",
       "<title>S001&#45;&gt;S010</title>\n",
       "<path fill=\"none\" stroke=\"#000000\" d=\"M685.6543,-302.398C655.8544,-318.5507 604.9529,-344.6275 558.6817,-361 514.231,-376.7283 461.1948,-388.3577 425.9375,-395.1356\"/>\n",
       "<polygon fill=\"#000000\" stroke=\"#000000\" points=\"425.2205,-391.709 416.0416,-397.0003 426.5168,-398.588 425.2205,-391.709\"/>\n",
       "<text text-anchor=\"middle\" x=\"553.1817\" y=\"-368.8\" font-family=\"Times,serif\" font-size=\"14.00\" fill=\"#000000\">0 </text>\n",
       "</g>\n",
       "<!-- S001&#45;&gt;S011 -->\n",
       "<g id=\"edge19\" class=\"edge\">\n",
       "<title>S001&#45;&gt;S011</title>\n",
       "<path fill=\"none\" stroke=\"#000000\" d=\"M740.8101,-288.5571C752.0327,-288.7699 765.0235,-289.0162 777.0603,-289.2444\"/>\n",
       "<polygon fill=\"#000000\" stroke=\"#000000\" points=\"777.2596,-292.7487 787.3242,-289.4389 777.3924,-285.7499 777.2596,-292.7487\"/>\n",
       "<text text-anchor=\"middle\" x=\"764.1713\" y=\"-293.8\" font-family=\"Times,serif\" font-size=\"14.00\" fill=\"#000000\">1 </text>\n",
       "</g>\n",
       "<!-- F111&#45;&gt;F111 -->\n",
       "<g id=\"edge31\" class=\"edge\">\n",
       "<title>F111&#45;&gt;F111</title>\n",
       "<path fill=\"none\" stroke=\"#000000\" d=\"M915.9141,-181.779C915.859,-192.5722 919.3588,-201.2474 926.4135,-201.2474 931.0431,-201.2474 934.1418,-197.5113 935.7095,-191.8923\"/>\n",
       "<polygon fill=\"#000000\" stroke=\"#000000\" points=\"939.2067,-192.1225 936.9129,-181.779 932.2558,-191.2954 939.2067,-192.1225\"/>\n",
       "<text text-anchor=\"middle\" x=\"926.4135\" y=\"-205.0474\" font-family=\"Times,serif\" font-size=\"14.00\" fill=\"#000000\">1 </text>\n",
       "</g>\n",
       "<!-- F111&#45;&gt;F110 -->\n",
       "<g id=\"edge30\" class=\"edge\">\n",
       "<title>F111&#45;&gt;F110</title>\n",
       "<path fill=\"none\" stroke=\"#000000\" d=\"M952.1672,-171.3301C968.1294,-184.5504 988.8109,-201.6795 1006.0855,-215.9869\"/>\n",
       "<polygon fill=\"#000000\" stroke=\"#000000\" points=\"1004.3224,-219.0712 1014.2565,-222.7544 1008.7875,-213.6802 1004.3224,-219.0712\"/>\n",
       "<text text-anchor=\"middle\" x=\"983.1609\" y=\"-203.8\" font-family=\"Times,serif\" font-size=\"14.00\" fill=\"#000000\">0 </text>\n",
       "</g>\n",
       "<!-- F110&#45;&gt;F100 -->\n",
       "<g id=\"edge28\" class=\"edge\">\n",
       "<title>F110&#45;&gt;F100</title>\n",
       "<path fill=\"none\" stroke=\"#000000\" d=\"M1006.3989,-244.3007C975.8748,-243.51 930.0661,-239.6154 893.1661,-225 883.9913,-221.366 884.2266,-215.9103 875.1661,-212 775.4525,-168.9655 743.2937,-176.2682 635.1765,-166 609.2952,-163.542 602.0463,-160.298 576.6817,-166 562.1591,-169.2647 547.1748,-175.4731 534.1434,-181.94\"/>\n",
       "<polygon fill=\"#000000\" stroke=\"#000000\" points=\"532.3054,-178.9503 525.0342,-186.6562 535.5238,-185.1665 532.3054,-178.9503\"/>\n",
       "<text text-anchor=\"middle\" x=\"764.1713\" y=\"-182.8\" font-family=\"Times,serif\" font-size=\"14.00\" fill=\"#000000\">0 </text>\n",
       "</g>\n",
       "<!-- F110&#45;&gt;F101 -->\n",
       "<g id=\"edge29\" class=\"edge\">\n",
       "<title>F110&#45;&gt;F101</title>\n",
       "<path fill=\"none\" stroke=\"#000000\" d=\"M1066.2316,-264.6421C1081.9885,-276.9983 1102.1887,-292.8388 1119.1754,-306.1594\"/>\n",
       "<polygon fill=\"#000000\" stroke=\"#000000\" points=\"1117.1938,-309.0533 1127.2226,-312.4699 1121.5133,-303.5449 1117.1938,-309.0533\"/>\n",
       "<text text-anchor=\"middle\" x=\"1096.6557\" y=\"-295.8\" font-family=\"Times,serif\" font-size=\"14.00\" fill=\"#000000\">1 </text>\n",
       "</g>\n",
       "<!-- F100&#45;&gt;S000 -->\n",
       "<g id=\"edge24\" class=\"edge\">\n",
       "<title>F100&#45;&gt;S000</title>\n",
       "<path fill=\"none\" stroke=\"#000000\" d=\"M529.8813,-204C541.3609,-204 554.3209,-204 566.2466,-204\"/>\n",
       "<polygon fill=\"#000000\" stroke=\"#000000\" points=\"566.3974,-207.5001 576.3974,-204 566.3973,-200.5001 566.3974,-207.5001\"/>\n",
       "<text text-anchor=\"middle\" x=\"553.1817\" y=\"-207.8\" font-family=\"Times,serif\" font-size=\"14.00\" fill=\"#000000\">0 </text>\n",
       "</g>\n",
       "<!-- F100&#45;&gt;S001 -->\n",
       "<g id=\"edge25\" class=\"edge\">\n",
       "<title>F100&#45;&gt;S001</title>\n",
       "<path fill=\"none\" stroke=\"#000000\" d=\"M517.8356,-229.8779C532.5961,-245.7871 553.6528,-264.9839 576.6817,-275 606.7796,-288.0908 644.1395,-290.7674 671.8803,-290.4966\"/>\n",
       "<polygon fill=\"#000000\" stroke=\"#000000\" points=\"672.0891,-293.9929 682.0061,-290.2641 671.9283,-286.9947 672.0891,-293.9929\"/>\n",
       "<text text-anchor=\"middle\" x=\"605.9291\" y=\"-292.8\" font-family=\"Times,serif\" font-size=\"14.00\" fill=\"#000000\">1 </text>\n",
       "</g>\n",
       "<!-- F101&#45;&gt;S010 -->\n",
       "<g id=\"edge26\" class=\"edge\">\n",
       "<title>F101&#45;&gt;S010</title>\n",
       "<path fill=\"none\" stroke=\"#000000\" d=\"M1134.3225,-360.8438C1114.1619,-386.625 1079.8012,-421 1039.9083,-421 496.4343,-421 496.4343,-421 496.4343,-421 472.5584,-421 446.1796,-416.5602 425.2968,-411.973\"/>\n",
       "<polygon fill=\"#000000\" stroke=\"#000000\" points=\"426.0515,-408.5553 415.5218,-409.728 424.4846,-415.3776 426.0515,-408.5553\"/>\n",
       "<text text-anchor=\"middle\" x=\"764.1713\" y=\"-424.8\" font-family=\"Times,serif\" font-size=\"14.00\" fill=\"#000000\">0 </text>\n",
       "</g>\n",
       "<!-- F101&#45;&gt;S011 -->\n",
       "<g id=\"edge27\" class=\"edge\">\n",
       "<title>F101&#45;&gt;S011</title>\n",
       "<path fill=\"none\" stroke=\"#000000\" d=\"M1120.2616,-328.7648C1057.8689,-320.7915 923.2401,-303.587 856.3271,-295.0361\"/>\n",
       "<polygon fill=\"#000000\" stroke=\"#000000\" points=\"856.5539,-291.5367 846.1908,-293.7407 855.6665,-298.4802 856.5539,-291.5367\"/>\n",
       "<text text-anchor=\"middle\" x=\"983.1609\" y=\"-315.8\" font-family=\"Times,serif\" font-size=\"14.00\" fill=\"#000000\">1 </text>\n",
       "</g>\n",
       "</g>\n",
       "</svg>\n"
      ],
      "text/plain": [
       "<graphviz.dot.Digraph at 0x7ffd506c58d0>"
      ]
     },
     "execution_count": 54,
     "metadata": {},
     "output_type": "execute_result"
    }
   ],
   "source": [
    "dotObj_dfa(thirdlastis1)"
   ]
  },
  {
   "cell_type": "code",
   "execution_count": 55,
   "metadata": {
    "run_control": {
     "frozen": false,
     "read_only": false
    }
   },
   "outputs": [],
   "source": [
    "dped1=md2mc(src=\"File\", fname=\"pedagogical2.dfa\")\n",
    "#machines/dfafiles/pedagogical2.dfa"
   ]
  },
  {
   "cell_type": "code",
   "execution_count": 56,
   "metadata": {
    "run_control": {
     "frozen": false,
     "read_only": false
    }
   },
   "outputs": [
    {
     "data": {
      "image/svg+xml": [
       "<?xml version=\"1.0\" encoding=\"UTF-8\" standalone=\"no\"?>\n",
       "<!DOCTYPE svg PUBLIC \"-//W3C//DTD SVG 1.1//EN\"\n",
       " \"http://www.w3.org/Graphics/SVG/1.1/DTD/svg11.dtd\">\n",
       "<!-- Generated by graphviz version 2.40.1 (20161225.0304)\n",
       " -->\n",
       "<!-- Title: %3 Pages: 1 -->\n",
       "<svg width=\"492pt\" height=\"79pt\"\n",
       " viewBox=\"0.00 0.00 491.59 79.00\" xmlns=\"http://www.w3.org/2000/svg\" xmlns:xlink=\"http://www.w3.org/1999/xlink\">\n",
       "<g id=\"graph0\" class=\"graph\" transform=\"scale(1 1) rotate(0) translate(4 75)\">\n",
       "<title>%3</title>\n",
       "<polygon fill=\"#ffffff\" stroke=\"transparent\" points=\"-4,4 -4,-75 487.5928,-75 487.5928,4 -4,4\"/>\n",
       "<!-- EMPTY -->\n",
       "<g id=\"node1\" class=\"node\">\n",
       "<title>EMPTY</title>\n",
       "</g>\n",
       "<!-- I -->\n",
       "<g id=\"node2\" class=\"node\">\n",
       "<title>I</title>\n",
       "<ellipse fill=\"none\" stroke=\"#000000\" cx=\"109\" cy=\"-18\" rx=\"18\" ry=\"18\"/>\n",
       "<text text-anchor=\"middle\" x=\"109\" y=\"-14.3\" font-family=\"Times,serif\" font-size=\"14.00\" fill=\"#000000\">I</text>\n",
       "</g>\n",
       "<!-- EMPTY&#45;&gt;I -->\n",
       "<g id=\"edge1\" class=\"edge\">\n",
       "<title>EMPTY&#45;&gt;I</title>\n",
       "<path fill=\"none\" stroke=\"#000000\" d=\"M54.3048,-18C62.6909,-18 71.9407,-18 80.4103,-18\"/>\n",
       "<polygon fill=\"#000000\" stroke=\"#000000\" points=\"80.5976,-21.5001 90.5976,-18 80.5976,-14.5001 80.5976,-21.5001\"/>\n",
       "</g>\n",
       "<!-- A -->\n",
       "<g id=\"node3\" class=\"node\">\n",
       "<title>A</title>\n",
       "<ellipse fill=\"none\" stroke=\"#000000\" cx=\"192\" cy=\"-53\" rx=\"18\" ry=\"18\"/>\n",
       "<text text-anchor=\"middle\" x=\"192\" y=\"-49.3\" font-family=\"Times,serif\" font-size=\"14.00\" fill=\"#000000\">A</text>\n",
       "</g>\n",
       "<!-- I&#45;&gt;A -->\n",
       "<g id=\"edge2\" class=\"edge\">\n",
       "<title>I&#45;&gt;A</title>\n",
       "<path fill=\"none\" stroke=\"#000000\" d=\"M125.7963,-25.0828C137.2714,-29.9217 152.7085,-36.4313 165.7895,-41.9474\"/>\n",
       "<polygon fill=\"#000000\" stroke=\"#000000\" points=\"164.6545,-45.2672 175.2287,-45.9278 167.3744,-38.8172 164.6545,-45.2672\"/>\n",
       "<text text-anchor=\"middle\" x=\"150.5\" y=\"-40.8\" font-family=\"Times,serif\" font-size=\"14.00\" fill=\"#000000\">0 </text>\n",
       "</g>\n",
       "<!-- B -->\n",
       "<g id=\"node4\" class=\"node\">\n",
       "<title>B</title>\n",
       "<ellipse fill=\"none\" stroke=\"#000000\" cx=\"275\" cy=\"-35\" rx=\"18\" ry=\"18\"/>\n",
       "<text text-anchor=\"middle\" x=\"275\" y=\"-31.3\" font-family=\"Times,serif\" font-size=\"14.00\" fill=\"#000000\">B</text>\n",
       "</g>\n",
       "<!-- I&#45;&gt;B -->\n",
       "<g id=\"edge3\" class=\"edge\">\n",
       "<title>I&#45;&gt;B</title>\n",
       "<path fill=\"none\" stroke=\"#000000\" d=\"M126.6568,-14.1776C146.9279,-10.3882 181.1046,-5.8359 210,-11 223.4145,-13.3974 237.6847,-18.3726 249.4266,-23.1747\"/>\n",
       "<polygon fill=\"#000000\" stroke=\"#000000\" points=\"248.0502,-26.3926 258.6209,-27.1073 250.8031,-19.9566 248.0502,-26.3926\"/>\n",
       "<text text-anchor=\"middle\" x=\"192\" y=\"-14.8\" font-family=\"Times,serif\" font-size=\"14.00\" fill=\"#000000\">1 </text>\n",
       "</g>\n",
       "<!-- A&#45;&gt;B -->\n",
       "<g id=\"edge4\" class=\"edge\">\n",
       "<title>A&#45;&gt;B</title>\n",
       "<path fill=\"none\" stroke=\"#000000\" d=\"M210.0689,-53.8014C218.8986,-53.7974 229.6174,-53.2006 239,-51 242.5021,-50.1786 246.0847,-49.0194 249.5669,-47.6959\"/>\n",
       "<polygon fill=\"#000000\" stroke=\"#000000\" points=\"251.1478,-50.8264 258.9646,-43.6746 248.394,-44.3908 251.1478,-50.8264\"/>\n",
       "<text text-anchor=\"middle\" x=\"233.5\" y=\"-55.8\" font-family=\"Times,serif\" font-size=\"14.00\" fill=\"#000000\">0 </text>\n",
       "</g>\n",
       "<!-- A&#45;&gt;B -->\n",
       "<g id=\"edge5\" class=\"edge\">\n",
       "<title>A&#45;&gt;B</title>\n",
       "<path fill=\"none\" stroke=\"#000000\" d=\"M206.6205,-42.104C212.8704,-38.0956 220.4563,-34.0394 228,-32 234.0677,-30.3596 240.7295,-29.9749 247.0814,-30.2397\"/>\n",
       "<polygon fill=\"#000000\" stroke=\"#000000\" points=\"247.038,-33.7507 257.3191,-31.1915 247.6861,-26.7808 247.038,-33.7507\"/>\n",
       "<text text-anchor=\"middle\" x=\"233.5\" y=\"-35.8\" font-family=\"Times,serif\" font-size=\"14.00\" fill=\"#000000\">1 </text>\n",
       "</g>\n",
       "<!-- F1 -->\n",
       "<g id=\"node5\" class=\"node\">\n",
       "<title>F1</title>\n",
       "<ellipse fill=\"none\" stroke=\"#000000\" cx=\"364.1482\" cy=\"-35\" rx=\"20.2726\" ry=\"20.2726\"/>\n",
       "<ellipse fill=\"none\" stroke=\"#000000\" cx=\"364.1482\" cy=\"-35\" rx=\"24.2973\" ry=\"24.2973\"/>\n",
       "<text text-anchor=\"middle\" x=\"364.1482\" y=\"-31.3\" font-family=\"Times,serif\" font-size=\"14.00\" fill=\"#000000\">F1</text>\n",
       "</g>\n",
       "<!-- B&#45;&gt;F1 -->\n",
       "<g id=\"edge6\" class=\"edge\">\n",
       "<title>B&#45;&gt;F1</title>\n",
       "<path fill=\"none\" stroke=\"#000000\" d=\"M293.0405,-35C303.534,-35 317.1122,-35 329.587,-35\"/>\n",
       "<polygon fill=\"#000000\" stroke=\"#000000\" points=\"329.7144,-38.5001 339.7144,-35 329.7144,-31.5001 329.7144,-38.5001\"/>\n",
       "<text text-anchor=\"middle\" x=\"316.5\" y=\"-38.8\" font-family=\"Times,serif\" font-size=\"14.00\" fill=\"#000000\">1 </text>\n",
       "</g>\n",
       "<!-- F2 -->\n",
       "<g id=\"node6\" class=\"node\">\n",
       "<title>F2</title>\n",
       "<ellipse fill=\"none\" stroke=\"#000000\" cx=\"459.4446\" cy=\"-35\" rx=\"20.2726\" ry=\"20.2726\"/>\n",
       "<ellipse fill=\"none\" stroke=\"#000000\" cx=\"459.4446\" cy=\"-35\" rx=\"24.2973\" ry=\"24.2973\"/>\n",
       "<text text-anchor=\"middle\" x=\"459.4446\" y=\"-31.3\" font-family=\"Times,serif\" font-size=\"14.00\" fill=\"#000000\">F2</text>\n",
       "</g>\n",
       "<!-- F1&#45;&gt;F2 -->\n",
       "<g id=\"edge7\" class=\"edge\">\n",
       "<title>F1&#45;&gt;F2</title>\n",
       "<path fill=\"none\" stroke=\"#000000\" d=\"M388.6894,-35C399.694,-35 412.8682,-35 424.8494,-35\"/>\n",
       "<polygon fill=\"#000000\" stroke=\"#000000\" points=\"424.9866,-38.5001 434.9866,-35 424.9866,-31.5001 424.9866,-38.5001\"/>\n",
       "<text text-anchor=\"middle\" x=\"411.7964\" y=\"-38.8\" font-family=\"Times,serif\" font-size=\"14.00\" fill=\"#000000\">0 </text>\n",
       "</g>\n",
       "<!-- F1&#45;&gt;F2 -->\n",
       "<g id=\"edge8\" class=\"edge\">\n",
       "<title>F1&#45;&gt;F2</title>\n",
       "<path fill=\"none\" stroke=\"#000000\" d=\"M385.4224,-23.309C391.9279,-20.3174 399.2339,-17.5183 406.2964,-16 413.9568,-14.3532 422.017,-15.5888 429.4798,-18.0668\"/>\n",
       "<polygon fill=\"#000000\" stroke=\"#000000\" points=\"428.2817,-21.3582 438.8625,-21.9022 430.9304,-14.8786 428.2817,-21.3582\"/>\n",
       "<text text-anchor=\"middle\" x=\"411.7964\" y=\"-19.8\" font-family=\"Times,serif\" font-size=\"14.00\" fill=\"#000000\">1 </text>\n",
       "</g>\n",
       "</g>\n",
       "</svg>\n"
      ],
      "text/plain": [
       "<graphviz.dot.Digraph at 0x7ffd506a5810>"
      ]
     },
     "execution_count": 56,
     "metadata": {},
     "output_type": "execute_result"
    }
   ],
   "source": [
    "dotObj_dfa(dped1)"
   ]
  },
  {
   "cell_type": "code",
   "execution_count": 57,
   "metadata": {
    "run_control": {
     "frozen": false,
     "read_only": false
    }
   },
   "outputs": [],
   "source": [
    "secondLastIs1 = md2mc('''\n",
    "!!------------------------------------------------------------\n",
    "!! This DFA looks for patterns of the form ....1.\n",
    "!! i.e., the second-last (counting from the end-point) is a 1\n",
    "!!\n",
    "!! DFAs find such patterns \"very stressful to handle\",\n",
    "!! as they are kept guessing of the form  'are we there yet?'\n",
    "!! 'are we seeing the second-last' ?\n",
    "!! They must keep all the failure options at hand. Even after\n",
    "!! a 'fleeting glimpse' of the second-last, more inputs can\n",
    "!! come barreling-in to make that \"lucky 1\" a non-second-last.\n",
    "!!\n",
    "!! We take 7 states in the DFA solution.\n",
    "!!------------------------------------------------------------\n",
    "\n",
    "DFA\n",
    "!!------------------------------------------------------------\n",
    "!! State : in ->  tostate !! comment\n",
    "!!------------------------------------------------------------\n",
    "\n",
    "I   :  0 ->  S0  !! Enter at init state I\n",
    "I   :  1 ->  S1  !! Record bit seen in state letter\n",
    "                     !! i.e., S0 means \"state after seeing a 0\"\n",
    "\t\t\t \n",
    "S0  :  0 ->  S00 !! continue recording input seen\n",
    "S0  :  1 ->  S01 !! in state-letter. This is a problem-specific\n",
    "                 !! way of compressing the input seen so far.\n",
    "\n",
    "S1  :  0 ->  F10 !! We now have a \"second last\" available!\n",
    "S1  :  1 ->  F11 !! Both F10 and F10 are \"F\" (final)\n",
    "\n",
    "S00 :  0 ->  S00 !! History of things seen is still 00\n",
    "S00 :  1 ->  S01 !! Remember 01 in the state\n",
    "\n",
    "S01 :  0 ->  F10 !! We again have a second-last of 1\n",
    "S01 :  1 ->  F11 !! We are in F11 because of 11 being last seen\n",
    "\n",
    "F10 :  0 ->  S00 !! The second-last 1 gets pushed-out\n",
    "F10 :  1 ->  S01 !! The second-last 1 gets pushed-out here too\n",
    "\n",
    "F11 :  0 ->  F10 !! Still we have a second-last 1\n",
    "F11 :  1 ->  F11 !! Stay in F11, as last two seen are 11\n",
    "\n",
    "!!------------------------------------------------------------\n",
    "''')"
   ]
  },
  {
   "cell_type": "code",
   "execution_count": null,
   "metadata": {
    "run_control": {
     "frozen": false,
     "read_only": false
    }
   },
   "outputs": [],
   "source": []
  },
  {
   "cell_type": "code",
   "execution_count": 58,
   "metadata": {
    "run_control": {
     "frozen": false,
     "read_only": false
    }
   },
   "outputs": [
    {
     "data": {
      "text/plain": [
       "'0101'"
      ]
     },
     "execution_count": 58,
     "metadata": {},
     "output_type": "execute_result"
    }
   ],
   "source": [
    "nthnumeric(20,['0','1'])"
   ]
  },
  {
   "cell_type": "code",
   "execution_count": 59,
   "metadata": {
    "run_control": {
     "frozen": false,
     "read_only": false
    }
   },
   "outputs": [
    {
     "data": {
      "text/plain": [
       "'S01'"
      ]
     },
     "execution_count": 59,
     "metadata": {},
     "output_type": "execute_result"
    }
   ],
   "source": [
    "run_dfa(secondLastIs1, '0101')"
   ]
  },
  {
   "cell_type": "code",
   "execution_count": 60,
   "metadata": {
    "run_control": {
     "frozen": false,
     "read_only": false
    }
   },
   "outputs": [
    {
     "data": {
      "text/plain": [
       "False"
      ]
     },
     "execution_count": 60,
     "metadata": {},
     "output_type": "execute_result"
    }
   ],
   "source": [
    "accepts_dfa(secondLastIs1, '0101')"
   ]
  },
  {
   "cell_type": "code",
   "execution_count": 61,
   "metadata": {
    "run_control": {
     "frozen": false,
     "read_only": false
    }
   },
   "outputs": [
    {
     "name": "stdout",
     "output_type": "stream",
     "text": [
      "This DFA rejects  \n",
      "This DFA rejects  0\n",
      "This DFA rejects  1\n",
      "This DFA rejects  00\n",
      "This DFA rejects  01\n",
      "This DFA accepts  10\n",
      "This DFA accepts  11\n",
      "This DFA rejects  000\n",
      "This DFA rejects  001\n",
      "This DFA accepts  010\n",
      "This DFA accepts  011\n",
      "This DFA rejects  100\n"
     ]
    }
   ],
   "source": [
    "tests = [ nthnumeric(i, ['0','1']) for i in range(12) ]\n",
    "for t in tests:\n",
    "    if accepts_dfa(secondLastIs1, t):\n",
    "        print(\"This DFA accepts \", t)\n",
    "    else:\n",
    "        print(\"This DFA rejects \", t)"
   ]
  },
  {
   "cell_type": "code",
   "execution_count": 62,
   "metadata": {
    "run_control": {
     "frozen": false,
     "read_only": false
    }
   },
   "outputs": [
    {
     "name": "stdout",
     "output_type": "stream",
     "text": [
      "Help on function run_dfa in module jove.Def_DFA:\n",
      "\n",
      "run_dfa(D, s)\n",
      "    In : D (consistent DFA)\n",
      "         s (string over D's sigma, including \"\")\n",
      "    Out: next state of D[\"q0\"] via string s\n",
      "\n"
     ]
    }
   ],
   "source": [
    "help(run_dfa)"
   ]
  },
  {
   "cell_type": "markdown",
   "metadata": {
    "run_control": {
     "frozen": false,
     "read_only": false
    }
   },
   "source": [
    "# Study DeMorgan's Law on DFA\n",
    "\n",
    "This is an extensive illustration of union, intersection and complementation, DFA minimization, isomorphism test, language equivalence test, and an application of DeMorgan's law\n",
    "\n",
    "## Define a DFA for \"odd 1s\" (over {0,1})"
   ]
  },
  {
   "cell_type": "code",
   "execution_count": 63,
   "metadata": {
    "run_control": {
     "frozen": false,
     "read_only": false
    }
   },
   "outputs": [],
   "source": [
    "dfaOdd1s = md2mc('''\n",
    "DFA\n",
    "I : 0 -> I\n",
    "I : 1 -> F\n",
    "F : 0 -> F \n",
    "F : 1 -> I\n",
    "''')"
   ]
  },
  {
   "cell_type": "code",
   "execution_count": 64,
   "metadata": {
    "run_control": {
     "frozen": false,
     "read_only": false
    }
   },
   "outputs": [
    {
     "data": {
      "image/svg+xml": [
       "<?xml version=\"1.0\" encoding=\"UTF-8\" standalone=\"no\"?>\n",
       "<!DOCTYPE svg PUBLIC \"-//W3C//DTD SVG 1.1//EN\"\n",
       " \"http://www.w3.org/Graphics/SVG/1.1/DTD/svg11.dtd\">\n",
       "<!-- Generated by graphviz version 2.40.1 (20161225.0304)\n",
       " -->\n",
       "<!-- Title: %3 Pages: 1 -->\n",
       "<svg width=\"226pt\" height=\"85pt\"\n",
       " viewBox=\"0.00 0.00 226.00 85.00\" xmlns=\"http://www.w3.org/2000/svg\" xmlns:xlink=\"http://www.w3.org/1999/xlink\">\n",
       "<g id=\"graph0\" class=\"graph\" transform=\"scale(1 1) rotate(0) translate(4 81)\">\n",
       "<title>%3</title>\n",
       "<polygon fill=\"#ffffff\" stroke=\"transparent\" points=\"-4,4 -4,-81 222,-81 222,4 -4,4\"/>\n",
       "<!-- EMPTY -->\n",
       "<g id=\"node1\" class=\"node\">\n",
       "<title>EMPTY</title>\n",
       "</g>\n",
       "<!-- I -->\n",
       "<g id=\"node2\" class=\"node\">\n",
       "<title>I</title>\n",
       "<ellipse fill=\"none\" stroke=\"#000000\" cx=\"109\" cy=\"-22\" rx=\"18\" ry=\"18\"/>\n",
       "<text text-anchor=\"middle\" x=\"109\" y=\"-18.3\" font-family=\"Times,serif\" font-size=\"14.00\" fill=\"#000000\">I</text>\n",
       "</g>\n",
       "<!-- EMPTY&#45;&gt;I -->\n",
       "<g id=\"edge1\" class=\"edge\">\n",
       "<title>EMPTY&#45;&gt;I</title>\n",
       "<path fill=\"none\" stroke=\"#000000\" d=\"M54.3048,-22C62.6909,-22 71.9407,-22 80.4103,-22\"/>\n",
       "<polygon fill=\"#000000\" stroke=\"#000000\" points=\"80.5976,-25.5001 90.5976,-22 80.5976,-18.5001 80.5976,-25.5001\"/>\n",
       "</g>\n",
       "<!-- I&#45;&gt;I -->\n",
       "<g id=\"edge2\" class=\"edge\">\n",
       "<title>I&#45;&gt;I</title>\n",
       "<path fill=\"none\" stroke=\"#000000\" d=\"M102.6208,-39.0373C101.3189,-48.8579 103.4453,-58 109,-58 112.4717,-58 114.6042,-54.4289 115.3975,-49.3529\"/>\n",
       "<polygon fill=\"#000000\" stroke=\"#000000\" points=\"118.8971,-49.031 115.3792,-39.0373 111.8971,-49.0435 118.8971,-49.031\"/>\n",
       "<text text-anchor=\"middle\" x=\"109\" y=\"-61.8\" font-family=\"Times,serif\" font-size=\"14.00\" fill=\"#000000\">0 </text>\n",
       "</g>\n",
       "<!-- F -->\n",
       "<g id=\"node3\" class=\"node\">\n",
       "<title>F</title>\n",
       "<ellipse fill=\"none\" stroke=\"#000000\" cx=\"196\" cy=\"-22\" rx=\"18\" ry=\"18\"/>\n",
       "<ellipse fill=\"none\" stroke=\"#000000\" cx=\"196\" cy=\"-22\" rx=\"22\" ry=\"22\"/>\n",
       "<text text-anchor=\"middle\" x=\"196\" y=\"-18.3\" font-family=\"Times,serif\" font-size=\"14.00\" fill=\"#000000\">F</text>\n",
       "</g>\n",
       "<!-- I&#45;&gt;F -->\n",
       "<g id=\"edge3\" class=\"edge\">\n",
       "<title>I&#45;&gt;F</title>\n",
       "<path fill=\"none\" stroke=\"#000000\" d=\"M127.0265,-22C137.6806,-22 151.4825,-22 163.9377,-22\"/>\n",
       "<polygon fill=\"#000000\" stroke=\"#000000\" points=\"163.9848,-25.5001 173.9847,-22 163.9847,-18.5001 163.9848,-25.5001\"/>\n",
       "<text text-anchor=\"middle\" x=\"150.5\" y=\"-25.8\" font-family=\"Times,serif\" font-size=\"14.00\" fill=\"#000000\">1 </text>\n",
       "</g>\n",
       "<!-- F&#45;&gt;I -->\n",
       "<g id=\"edge5\" class=\"edge\">\n",
       "<title>F&#45;&gt;I</title>\n",
       "<path fill=\"none\" stroke=\"#000000\" d=\"M177.4309,-9.3024C167.8997,-4.2783 156.0058,-.2739 145,-3 141.0235,-3.985 137.0019,-5.4981 133.1597,-7.2497\"/>\n",
       "<polygon fill=\"#000000\" stroke=\"#000000\" points=\"131.3818,-4.2287 124.1057,-11.93 134.5962,-10.447 131.3818,-4.2287\"/>\n",
       "<text text-anchor=\"middle\" x=\"150.5\" y=\"-6.8\" font-family=\"Times,serif\" font-size=\"14.00\" fill=\"#000000\">1 </text>\n",
       "</g>\n",
       "<!-- F&#45;&gt;F -->\n",
       "<g id=\"edge4\" class=\"edge\">\n",
       "<title>F&#45;&gt;F</title>\n",
       "<path fill=\"none\" stroke=\"#000000\" d=\"M187.9937,-42.5808C186.8859,-52.8447 189.5547,-62 196,-62 200.129,-62 202.7082,-58.2427 203.7374,-52.8436\"/>\n",
       "<polygon fill=\"#000000\" stroke=\"#000000\" points=\"207.2431,-52.6691 204.0063,-42.5808 200.2455,-52.4857 207.2431,-52.6691\"/>\n",
       "<text text-anchor=\"middle\" x=\"196\" y=\"-65.8\" font-family=\"Times,serif\" font-size=\"14.00\" fill=\"#000000\">0 </text>\n",
       "</g>\n",
       "</g>\n",
       "</svg>\n"
      ],
      "text/plain": [
       "<graphviz.dot.Digraph at 0x7ffd60658210>"
      ]
     },
     "execution_count": 64,
     "metadata": {},
     "output_type": "execute_result"
    }
   ],
   "source": [
    "dotObj_dfa(dfaOdd1s)"
   ]
  },
  {
   "cell_type": "markdown",
   "metadata": {
    "run_control": {
     "frozen": false,
     "read_only": false
    }
   },
   "source": [
    "## Define a DFA for \"ends in 0101\""
   ]
  },
  {
   "cell_type": "code",
   "execution_count": 65,
   "metadata": {
    "run_control": {
     "frozen": false,
     "read_only": false
    }
   },
   "outputs": [],
   "source": [
    "ends0101 = md2mc('''\n",
    "DFA \n",
    "I     : 0 -> S0  \n",
    "I     : 1 -> I \n",
    "S0    : 0 -> S0 \n",
    "S0    : 1 -> S01 \n",
    "S01   : 0 -> S010 \n",
    "S01   : 1 -> I \n",
    "S010  : 0 -> S0 \n",
    "S010  : 1 -> F0101 \n",
    "F0101 : 0 -> S010 \n",
    "F0101 : 1 -> I \n",
    "''')"
   ]
  },
  {
   "cell_type": "code",
   "execution_count": 66,
   "metadata": {
    "run_control": {
     "frozen": false,
     "read_only": false
    }
   },
   "outputs": [
    {
     "data": {
      "image/svg+xml": [
       "<?xml version=\"1.0\" encoding=\"UTF-8\" standalone=\"no\"?>\n",
       "<!DOCTYPE svg PUBLIC \"-//W3C//DTD SVG 1.1//EN\"\n",
       " \"http://www.w3.org/Graphics/SVG/1.1/DTD/svg11.dtd\">\n",
       "<!-- Generated by graphviz version 2.40.1 (20161225.0304)\n",
       " -->\n",
       "<!-- Title: %3 Pages: 1 -->\n",
       "<svg width=\"547pt\" height=\"170pt\"\n",
       " viewBox=\"0.00 0.00 546.78 169.95\" xmlns=\"http://www.w3.org/2000/svg\" xmlns:xlink=\"http://www.w3.org/1999/xlink\">\n",
       "<g id=\"graph0\" class=\"graph\" transform=\"scale(1 1) rotate(0) translate(4 165.9452)\">\n",
       "<title>%3</title>\n",
       "<polygon fill=\"#ffffff\" stroke=\"transparent\" points=\"-4,4 -4,-165.9452 542.7809,-165.9452 542.7809,4 -4,4\"/>\n",
       "<!-- EMPTY -->\n",
       "<g id=\"node1\" class=\"node\">\n",
       "<title>EMPTY</title>\n",
       "</g>\n",
       "<!-- I -->\n",
       "<g id=\"node2\" class=\"node\">\n",
       "<title>I</title>\n",
       "<ellipse fill=\"none\" stroke=\"#000000\" cx=\"109\" cy=\"-55.797\" rx=\"18\" ry=\"18\"/>\n",
       "<text text-anchor=\"middle\" x=\"109\" y=\"-52.097\" font-family=\"Times,serif\" font-size=\"14.00\" fill=\"#000000\">I</text>\n",
       "</g>\n",
       "<!-- EMPTY&#45;&gt;I -->\n",
       "<g id=\"edge1\" class=\"edge\">\n",
       "<title>EMPTY&#45;&gt;I</title>\n",
       "<path fill=\"none\" stroke=\"#000000\" d=\"M54.3048,-55.797C62.6909,-55.797 71.9407,-55.797 80.4103,-55.797\"/>\n",
       "<polygon fill=\"#000000\" stroke=\"#000000\" points=\"80.5976,-59.2971 90.5976,-55.797 80.5976,-52.2971 80.5976,-59.2971\"/>\n",
       "</g>\n",
       "<!-- I&#45;&gt;I -->\n",
       "<g id=\"edge3\" class=\"edge\">\n",
       "<title>I&#45;&gt;I</title>\n",
       "<path fill=\"none\" stroke=\"#000000\" d=\"M102.6208,-72.8343C101.3189,-82.6549 103.4453,-91.797 109,-91.797 112.4717,-91.797 114.6042,-88.2259 115.3975,-83.1499\"/>\n",
       "<polygon fill=\"#000000\" stroke=\"#000000\" points=\"118.8971,-82.828 115.3792,-72.8343 111.8971,-82.8405 118.8971,-82.828\"/>\n",
       "<text text-anchor=\"middle\" x=\"109\" y=\"-95.597\" font-family=\"Times,serif\" font-size=\"14.00\" fill=\"#000000\">1 </text>\n",
       "</g>\n",
       "<!-- S0 -->\n",
       "<g id=\"node5\" class=\"node\">\n",
       "<title>S0</title>\n",
       "<ellipse fill=\"none\" stroke=\"#000000\" cx=\"194.1482\" cy=\"-108.797\" rx=\"20.2975\" ry=\"20.2975\"/>\n",
       "<text text-anchor=\"middle\" x=\"194.1482\" y=\"-105.097\" font-family=\"Times,serif\" font-size=\"14.00\" fill=\"#000000\">S0</text>\n",
       "</g>\n",
       "<!-- I&#45;&gt;S0 -->\n",
       "<g id=\"edge2\" class=\"edge\">\n",
       "<title>I&#45;&gt;S0</title>\n",
       "<path fill=\"none\" stroke=\"#000000\" d=\"M124.6175,-65.518C136.7477,-73.0684 153.8377,-83.706 168.0387,-92.5453\"/>\n",
       "<polygon fill=\"#000000\" stroke=\"#000000\" points=\"166.533,-95.7307 176.8723,-98.0437 170.2321,-89.7879 166.533,-95.7307\"/>\n",
       "<text text-anchor=\"middle\" x=\"150.5\" y=\"-87.597\" font-family=\"Times,serif\" font-size=\"14.00\" fill=\"#000000\">0 </text>\n",
       "</g>\n",
       "<!-- S010 -->\n",
       "<g id=\"node3\" class=\"node\">\n",
       "<title>S010</title>\n",
       "<ellipse fill=\"none\" stroke=\"#000000\" cx=\"386.9394\" cy=\"-71.797\" rx=\"29.4969\" ry=\"29.4969\"/>\n",
       "<text text-anchor=\"middle\" x=\"386.9394\" y=\"-68.097\" font-family=\"Times,serif\" font-size=\"14.00\" fill=\"#000000\">S010</text>\n",
       "</g>\n",
       "<!-- S010&#45;&gt;S0 -->\n",
       "<g id=\"edge8\" class=\"edge\">\n",
       "<title>S010&#45;&gt;S0</title>\n",
       "<path fill=\"none\" stroke=\"#000000\" d=\"M359.3773,-82.0871C345.0275,-87.1231 327.0964,-92.9202 310.692,-96.797 281.2223,-103.7615 273.4443,-103.9551 243.2964,-106.797 237.4513,-107.348 231.2009,-107.7473 225.1846,-108.0366\"/>\n",
       "<polygon fill=\"#000000\" stroke=\"#000000\" points=\"224.6006,-104.5568 214.7461,-108.4477 224.8761,-111.5514 224.6006,-104.5568\"/>\n",
       "<text text-anchor=\"middle\" x=\"285.9942\" y=\"-108.597\" font-family=\"Times,serif\" font-size=\"14.00\" fill=\"#000000\">0 </text>\n",
       "</g>\n",
       "<!-- F0101 -->\n",
       "<g id=\"node6\" class=\"node\">\n",
       "<title>F0101</title>\n",
       "<ellipse fill=\"none\" stroke=\"#000000\" cx=\"500.9839\" cy=\"-37.797\" rx=\"33.6165\" ry=\"33.6165\"/>\n",
       "<ellipse fill=\"none\" stroke=\"#000000\" cx=\"500.9839\" cy=\"-37.797\" rx=\"37.5951\" ry=\"37.5951\"/>\n",
       "<text text-anchor=\"middle\" x=\"500.9839\" y=\"-34.097\" font-family=\"Times,serif\" font-size=\"14.00\" fill=\"#000000\">F0101</text>\n",
       "</g>\n",
       "<!-- S010&#45;&gt;F0101 -->\n",
       "<g id=\"edge9\" class=\"edge\">\n",
       "<title>S010&#45;&gt;F0101</title>\n",
       "<path fill=\"none\" stroke=\"#000000\" d=\"M415.1302,-63.3925C427.1258,-59.8163 441.4313,-55.5514 454.8926,-51.5382\"/>\n",
       "<polygon fill=\"#000000\" stroke=\"#000000\" points=\"455.9169,-54.8851 464.5001,-48.6739 453.9169,-48.1769 455.9169,-54.8851\"/>\n",
       "<text text-anchor=\"middle\" x=\"439.6869\" y=\"-60.597\" font-family=\"Times,serif\" font-size=\"14.00\" fill=\"#000000\">1 </text>\n",
       "</g>\n",
       "<!-- S01 -->\n",
       "<g id=\"node4\" class=\"node\">\n",
       "<title>S01</title>\n",
       "<ellipse fill=\"none\" stroke=\"#000000\" cx=\"285.9942\" cy=\"-62.797\" rx=\"24.8972\" ry=\"24.8972\"/>\n",
       "<text text-anchor=\"middle\" x=\"285.9942\" y=\"-59.097\" font-family=\"Times,serif\" font-size=\"14.00\" fill=\"#000000\">S01</text>\n",
       "</g>\n",
       "<!-- S01&#45;&gt;I -->\n",
       "<g id=\"edge7\" class=\"edge\">\n",
       "<title>S01&#45;&gt;I</title>\n",
       "<path fill=\"none\" stroke=\"#000000\" d=\"M261.0414,-61.8101C228.5079,-60.5235 171.7326,-58.278 137.5279,-56.9253\"/>\n",
       "<polygon fill=\"#000000\" stroke=\"#000000\" points=\"137.4054,-53.4178 127.2748,-56.5198 137.1287,-60.4123 137.4054,-53.4178\"/>\n",
       "<text text-anchor=\"middle\" x=\"194.1482\" y=\"-63.597\" font-family=\"Times,serif\" font-size=\"14.00\" fill=\"#000000\">1 </text>\n",
       "</g>\n",
       "<!-- S01&#45;&gt;S010 -->\n",
       "<g id=\"edge6\" class=\"edge\">\n",
       "<title>S01&#45;&gt;S010</title>\n",
       "<path fill=\"none\" stroke=\"#000000\" d=\"M310.6882,-64.9986C321.7235,-65.9825 335.0062,-67.1668 347.3718,-68.2693\"/>\n",
       "<polygon fill=\"#000000\" stroke=\"#000000\" points=\"347.2024,-71.768 357.4737,-69.1699 347.8241,-64.7956 347.2024,-71.768\"/>\n",
       "<text text-anchor=\"middle\" x=\"334.192\" y=\"-70.597\" font-family=\"Times,serif\" font-size=\"14.00\" fill=\"#000000\">0 </text>\n",
       "</g>\n",
       "<!-- S0&#45;&gt;S01 -->\n",
       "<g id=\"edge5\" class=\"edge\">\n",
       "<title>S0&#45;&gt;S01</title>\n",
       "<path fill=\"none\" stroke=\"#000000\" d=\"M212.294,-99.7089C224.2724,-93.7097 240.2895,-85.6877 254.3317,-78.6548\"/>\n",
       "<polygon fill=\"#000000\" stroke=\"#000000\" points=\"256.2899,-81.5886 263.6638,-73.9809 253.1551,-75.3297 256.2899,-81.5886\"/>\n",
       "<text text-anchor=\"middle\" x=\"237.7964\" y=\"-91.597\" font-family=\"Times,serif\" font-size=\"14.00\" fill=\"#000000\">1 </text>\n",
       "</g>\n",
       "<!-- S0&#45;&gt;S0 -->\n",
       "<g id=\"edge4\" class=\"edge\">\n",
       "<title>S0&#45;&gt;S0</title>\n",
       "<path fill=\"none\" stroke=\"#000000\" d=\"M186.5981,-127.6398C185.3151,-137.7419 187.8318,-146.9452 194.1482,-146.9452 198.1947,-146.9452 200.6817,-143.1682 201.6093,-137.7975\"/>\n",
       "<polygon fill=\"#000000\" stroke=\"#000000\" points=\"205.1105,-137.6701 201.6983,-127.6398 198.1108,-137.6088 205.1105,-137.6701\"/>\n",
       "<text text-anchor=\"middle\" x=\"194.1482\" y=\"-150.7452\" font-family=\"Times,serif\" font-size=\"14.00\" fill=\"#000000\">0 </text>\n",
       "</g>\n",
       "<!-- F0101&#45;&gt;I -->\n",
       "<g id=\"edge11\" class=\"edge\">\n",
       "<title>F0101&#45;&gt;I</title>\n",
       "<path fill=\"none\" stroke=\"#000000\" d=\"M466.2863,-22.2633C444.0641,-13.7041 414.3529,-4.797 386.9394,-4.797 194.1482,-4.797 194.1482,-4.797 194.1482,-4.797 169.203,-4.797 145.2416,-21.1058 129.1284,-35.2784\"/>\n",
       "<polygon fill=\"#000000\" stroke=\"#000000\" points=\"126.4052,-33.0306 121.454,-42.3974 131.1657,-38.1626 126.4052,-33.0306\"/>\n",
       "<text text-anchor=\"middle\" x=\"285.9942\" y=\"-8.597\" font-family=\"Times,serif\" font-size=\"14.00\" fill=\"#000000\">1 </text>\n",
       "</g>\n",
       "<!-- F0101&#45;&gt;S010 -->\n",
       "<g id=\"edge10\" class=\"edge\">\n",
       "<title>F0101&#45;&gt;S010</title>\n",
       "<path fill=\"none\" stroke=\"#000000\" d=\"M463.5473,-32.0806C453.7864,-31.8239 443.4206,-32.6801 434.1869,-35.797 428.0313,-37.8749 422.044,-41.1103 416.515,-44.8077\"/>\n",
       "<polygon fill=\"#000000\" stroke=\"#000000\" points=\"414.2217,-42.1498 408.2454,-50.8981 418.3729,-47.7861 414.2217,-42.1498\"/>\n",
       "<text text-anchor=\"middle\" x=\"439.6869\" y=\"-39.597\" font-family=\"Times,serif\" font-size=\"14.00\" fill=\"#000000\">0 </text>\n",
       "</g>\n",
       "</g>\n",
       "</svg>\n"
      ],
      "text/plain": [
       "<graphviz.dot.Digraph at 0x7ffd506bded0>"
      ]
     },
     "execution_count": 66,
     "metadata": {},
     "output_type": "execute_result"
    }
   ],
   "source": [
    "dotObj_dfa(ends0101)"
   ]
  },
  {
   "cell_type": "markdown",
   "metadata": {
    "run_control": {
     "frozen": false,
     "read_only": false
    }
   },
   "source": [
    "## Now produce a DFA for the union\n",
    "\n",
    "Union of \"odd 1s\" and \"ends in 0101\"\n"
   ]
  },
  {
   "cell_type": "code",
   "execution_count": 67,
   "metadata": {
    "run_control": {
     "frozen": false,
     "read_only": false
    }
   },
   "outputs": [],
   "source": [
    "odd1sORends0101 = union_dfa(dfaOdd1s,ends0101)"
   ]
  },
  {
   "cell_type": "code",
   "execution_count": 68,
   "metadata": {
    "run_control": {
     "frozen": false,
     "read_only": false
    }
   },
   "outputs": [
    {
     "data": {
      "image/svg+xml": [
       "<?xml version=\"1.0\" encoding=\"UTF-8\" standalone=\"no\"?>\n",
       "<!DOCTYPE svg PUBLIC \"-//W3C//DTD SVG 1.1//EN\"\n",
       " \"http://www.w3.org/Graphics/SVG/1.1/DTD/svg11.dtd\">\n",
       "<!-- Generated by graphviz version 2.40.1 (20161225.0304)\n",
       " -->\n",
       "<!-- Title: %3 Pages: 1 -->\n",
       "<svg width=\"1349pt\" height=\"366pt\"\n",
       " viewBox=\"0.00 0.00 1348.63 366.00\" xmlns=\"http://www.w3.org/2000/svg\" xmlns:xlink=\"http://www.w3.org/1999/xlink\">\n",
       "<g id=\"graph0\" class=\"graph\" transform=\"scale(1 1) rotate(0) translate(4 362)\">\n",
       "<title>%3</title>\n",
       "<polygon fill=\"#ffffff\" stroke=\"transparent\" points=\"-4,4 -4,-362 1344.6309,-362 1344.6309,4 -4,4\"/>\n",
       "<!-- EMPTY -->\n",
       "<g id=\"node1\" class=\"node\">\n",
       "<title>EMPTY</title>\n",
       "</g>\n",
       "<!-- \\(I_I\\) -->\n",
       "<g id=\"node3\" class=\"node\">\n",
       "<title>\\(I_I\\)</title>\n",
       "<ellipse fill=\"none\" stroke=\"#000000\" cx=\"118.2976\" cy=\"-104\" rx=\"27.0966\" ry=\"27.0966\"/>\n",
       "<text text-anchor=\"middle\" x=\"118.2976\" y=\"-100.3\" font-family=\"Times,serif\" font-size=\"14.00\" fill=\"#000000\">(I_I)</text>\n",
       "</g>\n",
       "<!-- EMPTY&#45;&gt;\\(I_I\\) -->\n",
       "<g id=\"edge1\" class=\"edge\">\n",
       "<title>EMPTY&#45;&gt;\\(I_I\\)</title>\n",
       "<path fill=\"none\" stroke=\"#000000\" d=\"M54.3923,-104C62.6976,-104 71.9683,-104 80.8159,-104\"/>\n",
       "<polygon fill=\"#000000\" stroke=\"#000000\" points=\"80.9247,-107.5001 90.9246,-104 80.9246,-100.5001 80.9247,-107.5001\"/>\n",
       "</g>\n",
       "<!-- \\(I_S010\\) -->\n",
       "<g id=\"node2\" class=\"node\">\n",
       "<title>\\(I_S010\\)</title>\n",
       "<ellipse fill=\"none\" stroke=\"#000000\" cx=\"1143.9435\" cy=\"-228\" rx=\"42.7926\" ry=\"42.7926\"/>\n",
       "<text text-anchor=\"middle\" x=\"1143.9435\" y=\"-224.3\" font-family=\"Times,serif\" font-size=\"14.00\" fill=\"#000000\">(I_S010)</text>\n",
       "</g>\n",
       "<!-- \\(I_S0\\) -->\n",
       "<g id=\"node5\" class=\"node\">\n",
       "<title>\\(I_S0\\)</title>\n",
       "<ellipse fill=\"none\" stroke=\"#000000\" cx=\"226.3922\" cy=\"-231\" rx=\"33.5952\" ry=\"33.5952\"/>\n",
       "<text text-anchor=\"middle\" x=\"226.3922\" y=\"-227.3\" font-family=\"Times,serif\" font-size=\"14.00\" fill=\"#000000\">(I_S0)</text>\n",
       "</g>\n",
       "<!-- \\(I_S010\\)&#45;&gt;\\(I_S0\\) -->\n",
       "<g id=\"edge7\" class=\"edge\">\n",
       "<title>\\(I_S010\\)&#45;&gt;\\(I_S0\\)</title>\n",
       "<path fill=\"none\" stroke=\"#000000\" d=\"M1122.7248,-265.6553C1100.7268,-299.1942 1062.9507,-343 1015.7007,-343 351.4856,-343 351.4856,-343 351.4856,-343 306.1289,-343 269.696,-301.6254 248.0946,-269.1709\"/>\n",
       "<polygon fill=\"#000000\" stroke=\"#000000\" points=\"251.0142,-267.2399 242.6631,-260.7199 245.1255,-271.0246 251.0142,-267.2399\"/>\n",
       "<text text-anchor=\"middle\" x=\"713.8656\" y=\"-346.8\" font-family=\"Times,serif\" font-size=\"14.00\" fill=\"#000000\">0 </text>\n",
       "</g>\n",
       "<!-- \\(F_F0101\\) -->\n",
       "<g id=\"node7\" class=\"node\">\n",
       "<title>\\(F_F0101\\)</title>\n",
       "<ellipse fill=\"none\" stroke=\"#000000\" cx=\"1287.2353\" cy=\"-228\" rx=\"49.2992\" ry=\"49.2992\"/>\n",
       "<ellipse fill=\"none\" stroke=\"#000000\" cx=\"1287.2353\" cy=\"-228\" rx=\"53.2914\" ry=\"53.2914\"/>\n",
       "<text text-anchor=\"middle\" x=\"1287.2353\" y=\"-224.3\" font-family=\"Times,serif\" font-size=\"14.00\" fill=\"#000000\">(F_F0101)</text>\n",
       "</g>\n",
       "<!-- \\(I_S010\\)&#45;&gt;\\(F_F0101\\) -->\n",
       "<g id=\"edge16\" class=\"edge\">\n",
       "<title>\\(I_S010\\)&#45;&gt;\\(F_F0101\\)</title>\n",
       "<path fill=\"none\" stroke=\"#000000\" d=\"M1186.9358,-228C1198.3996,-228 1211.0352,-228 1223.3604,-228\"/>\n",
       "<polygon fill=\"#000000\" stroke=\"#000000\" points=\"1223.6081,-231.5001 1233.6081,-228 1223.608,-224.5001 1223.6081,-231.5001\"/>\n",
       "<text text-anchor=\"middle\" x=\"1210.3397\" y=\"-231.8\" font-family=\"Times,serif\" font-size=\"14.00\" fill=\"#000000\">1 </text>\n",
       "</g>\n",
       "<!-- \\(I_I\\)&#45;&gt;\\(I_S0\\) -->\n",
       "<g id=\"edge2\" class=\"edge\">\n",
       "<title>\\(I_I\\)&#45;&gt;\\(I_S0\\)</title>\n",
       "<path fill=\"none\" stroke=\"#000000\" d=\"M133.4281,-126.7826C141.8747,-139.0396 152.8385,-154.22 163.5952,-167 173.1132,-178.3085 184.2098,-190.0328 194.4046,-200.3089\"/>\n",
       "<polygon fill=\"#000000\" stroke=\"#000000\" points=\"192.078,-202.9315 201.6331,-207.5088 197.018,-197.9719 192.078,-202.9315\"/>\n",
       "<text text-anchor=\"middle\" x=\"169.0952\" y=\"-181.8\" font-family=\"Times,serif\" font-size=\"14.00\" fill=\"#000000\">0 </text>\n",
       "</g>\n",
       "<!-- \\(F_I\\) -->\n",
       "<g id=\"node11\" class=\"node\">\n",
       "<title>\\(F_I\\)</title>\n",
       "<ellipse fill=\"none\" stroke=\"#000000\" cx=\"770.613\" cy=\"-104\" rx=\"29.4667\" ry=\"29.4667\"/>\n",
       "<ellipse fill=\"none\" stroke=\"#000000\" cx=\"770.613\" cy=\"-104\" rx=\"33.4967\" ry=\"33.4967\"/>\n",
       "<text text-anchor=\"middle\" x=\"770.613\" y=\"-100.3\" font-family=\"Times,serif\" font-size=\"14.00\" fill=\"#000000\">(F_I)</text>\n",
       "</g>\n",
       "<!-- \\(I_I\\)&#45;&gt;\\(F_I\\) -->\n",
       "<g id=\"edge10\" class=\"edge\">\n",
       "<title>\\(I_I\\)&#45;&gt;\\(F_I\\)</title>\n",
       "<path fill=\"none\" stroke=\"#000000\" d=\"M142.3517,-90.2811C163.7177,-79.3965 196.1559,-66 226.3922,-66 226.3922,-66 226.3922,-66 638.9198,-66 670.6761,-66 705.111,-76.3264 730.802,-86.213\"/>\n",
       "<polygon fill=\"#000000\" stroke=\"#000000\" points=\"729.6113,-89.5061 740.1965,-89.9582 732.2035,-83.0038 729.6113,-89.5061\"/>\n",
       "<text text-anchor=\"middle\" x=\"419.282\" y=\"-69.8\" font-family=\"Times,serif\" font-size=\"14.00\" fill=\"#000000\">1 </text>\n",
       "</g>\n",
       "<!-- \\(I_S01\\) -->\n",
       "<g id=\"node4\" class=\"node\">\n",
       "<title>\\(I_S01\\)</title>\n",
       "<ellipse fill=\"none\" stroke=\"#000000\" cx=\"1015.7007\" cy=\"-119\" rx=\"38.1938\" ry=\"38.1938\"/>\n",
       "<text text-anchor=\"middle\" x=\"1015.7007\" y=\"-115.3\" font-family=\"Times,serif\" font-size=\"14.00\" fill=\"#000000\">(I_S01)</text>\n",
       "</g>\n",
       "<!-- \\(I_S01\\)&#45;&gt;\\(I_S010\\) -->\n",
       "<g id=\"edge12\" class=\"edge\">\n",
       "<title>\\(I_S01\\)&#45;&gt;\\(I_S010\\)</title>\n",
       "<path fill=\"none\" stroke=\"#000000\" d=\"M1045.1222,-144.0068C1062.3337,-158.6357 1084.3185,-177.3217 1103.18,-193.353\"/>\n",
       "<polygon fill=\"#000000\" stroke=\"#000000\" points=\"1101.1629,-196.2321 1111.0492,-200.0415 1105.6963,-190.8983 1101.1629,-196.2321\"/>\n",
       "<text text-anchor=\"middle\" x=\"1077.5473\" y=\"-176.8\" font-family=\"Times,serif\" font-size=\"14.00\" fill=\"#000000\">0 </text>\n",
       "</g>\n",
       "<!-- \\(I_S01\\)&#45;&gt;\\(F_I\\) -->\n",
       "<g id=\"edge17\" class=\"edge\">\n",
       "<title>\\(I_S01\\)&#45;&gt;\\(F_I\\)</title>\n",
       "<path fill=\"none\" stroke=\"#000000\" d=\"M988.7806,-91.6256C973.1798,-77.7503 952.3168,-62.32 930.3541,-55 896.8362,-43.8288 884.8721,-45.437 850.8604,-55 834.7471,-59.5306 818.6674,-68.2931 805.1796,-77.1705\"/>\n",
       "<polygon fill=\"#000000\" stroke=\"#000000\" points=\"802.9817,-74.4339 796.7162,-82.9775 806.9421,-80.2059 802.9817,-74.4339\"/>\n",
       "<text text-anchor=\"middle\" x=\"890.6073\" y=\"-58.8\" font-family=\"Times,serif\" font-size=\"14.00\" fill=\"#000000\">1 </text>\n",
       "</g>\n",
       "<!-- \\(I_S0\\)&#45;&gt;\\(I_S0\\) -->\n",
       "<g id=\"edge9\" class=\"edge\">\n",
       "<title>\\(I_S0\\)&#45;&gt;\\(I_S0\\)</title>\n",
       "<path fill=\"none\" stroke=\"#000000\" d=\"M215.8922,-263.3731C215.8922,-274.1642 219.3922,-282.797 226.3922,-282.797 230.9859,-282.797 234.0723,-279.0792 235.6514,-273.4733\"/>\n",
       "<polygon fill=\"#000000\" stroke=\"#000000\" points=\"239.1467,-273.7253 236.8922,-263.3731 232.1989,-272.8718 239.1467,-273.7253\"/>\n",
       "<text text-anchor=\"middle\" x=\"226.3922\" y=\"-286.597\" font-family=\"Times,serif\" font-size=\"14.00\" fill=\"#000000\">0 </text>\n",
       "</g>\n",
       "<!-- \\(F_S01\\) -->\n",
       "<g id=\"node9\" class=\"node\">\n",
       "<title>\\(F_S01\\)</title>\n",
       "<ellipse fill=\"none\" stroke=\"#000000\" cx=\"351.4856\" cy=\"-231\" rx=\"40.1121\" ry=\"40.1121\"/>\n",
       "<ellipse fill=\"none\" stroke=\"#000000\" cx=\"351.4856\" cy=\"-231\" rx=\"44.0938\" ry=\"44.0938\"/>\n",
       "<text text-anchor=\"middle\" x=\"351.4856\" y=\"-227.3\" font-family=\"Times,serif\" font-size=\"14.00\" fill=\"#000000\">(F_S01)</text>\n",
       "</g>\n",
       "<!-- \\(I_S0\\)&#45;&gt;\\(F_S01\\) -->\n",
       "<g id=\"edge4\" class=\"edge\">\n",
       "<title>\\(I_S0\\)&#45;&gt;\\(F_S01\\)</title>\n",
       "<path fill=\"none\" stroke=\"#000000\" d=\"M260.2442,-231C271.437,-231 284.195,-231 296.5507,-231\"/>\n",
       "<polygon fill=\"#000000\" stroke=\"#000000\" points=\"296.7918,-234.5001 306.7918,-231 296.7917,-227.5001 296.7918,-234.5001\"/>\n",
       "<text text-anchor=\"middle\" x=\"283.6892\" y=\"-234.8\" font-family=\"Times,serif\" font-size=\"14.00\" fill=\"#000000\">1 </text>\n",
       "</g>\n",
       "<!-- \\(F_S010\\) -->\n",
       "<g id=\"node6\" class=\"node\">\n",
       "<title>\\(F_S010\\)</title>\n",
       "<ellipse fill=\"none\" stroke=\"#000000\" cx=\"491.628\" cy=\"-256\" rx=\"44.7051\" ry=\"44.7051\"/>\n",
       "<ellipse fill=\"none\" stroke=\"#000000\" cx=\"491.628\" cy=\"-256\" rx=\"48.6925\" ry=\"48.6925\"/>\n",
       "<text text-anchor=\"middle\" x=\"491.628\" y=\"-252.3\" font-family=\"Times,serif\" font-size=\"14.00\" fill=\"#000000\">(F_S010)</text>\n",
       "</g>\n",
       "<!-- \\(I_F0101\\) -->\n",
       "<g id=\"node8\" class=\"node\">\n",
       "<title>\\(I_F0101\\)</title>\n",
       "<ellipse fill=\"none\" stroke=\"#000000\" cx=\"638.9198\" cy=\"-183\" rx=\"47.3958\" ry=\"47.3958\"/>\n",
       "<ellipse fill=\"none\" stroke=\"#000000\" cx=\"638.9198\" cy=\"-183\" rx=\"51.3916\" ry=\"51.3916\"/>\n",
       "<text text-anchor=\"middle\" x=\"638.9198\" y=\"-179.3\" font-family=\"Times,serif\" font-size=\"14.00\" fill=\"#000000\">(I_F0101)</text>\n",
       "</g>\n",
       "<!-- \\(F_S010\\)&#45;&gt;\\(I_F0101\\) -->\n",
       "<g id=\"edge3\" class=\"edge\">\n",
       "<title>\\(F_S010\\)&#45;&gt;\\(I_F0101\\)</title>\n",
       "<path fill=\"none\" stroke=\"#000000\" d=\"M535.4216,-234.2952C550.5207,-226.8119 567.6349,-218.3299 583.5367,-210.4487\"/>\n",
       "<polygon fill=\"#000000\" stroke=\"#000000\" points=\"585.3292,-213.4667 592.7349,-205.8899 582.2207,-207.1947 585.3292,-213.4667\"/>\n",
       "<text text-anchor=\"middle\" x=\"563.974\" y=\"-224.8\" font-family=\"Times,serif\" font-size=\"14.00\" fill=\"#000000\">1 </text>\n",
       "</g>\n",
       "<!-- \\(F_S0\\) -->\n",
       "<g id=\"node10\" class=\"node\">\n",
       "<title>\\(F_S0\\)</title>\n",
       "<ellipse fill=\"none\" stroke=\"#000000\" cx=\"890.6073\" cy=\"-119\" rx=\"35.9702\" ry=\"35.9702\"/>\n",
       "<ellipse fill=\"none\" stroke=\"#000000\" cx=\"890.6073\" cy=\"-119\" rx=\"39.9952\" ry=\"39.9952\"/>\n",
       "<text text-anchor=\"middle\" x=\"890.6073\" y=\"-115.3\" font-family=\"Times,serif\" font-size=\"14.00\" fill=\"#000000\">(F_S0)</text>\n",
       "</g>\n",
       "<!-- \\(F_S010\\)&#45;&gt;\\(F_S0\\) -->\n",
       "<g id=\"edge11\" class=\"edge\">\n",
       "<title>\\(F_S010\\)&#45;&gt;\\(F_S0\\)</title>\n",
       "<path fill=\"none\" stroke=\"#000000\" d=\"M540.7068,-260.5553C588.2231,-263.0537 661.3834,-261.7677 719.3656,-238 769.7016,-217.3666 819.9452,-179.9555 852.8621,-152.572\"/>\n",
       "<polygon fill=\"#000000\" stroke=\"#000000\" points=\"855.456,-154.9632 860.847,-145.8424 850.9449,-149.6106 855.456,-154.9632\"/>\n",
       "<text text-anchor=\"middle\" x=\"713.8656\" y=\"-244.8\" font-family=\"Times,serif\" font-size=\"14.00\" fill=\"#000000\">0 </text>\n",
       "</g>\n",
       "<!-- \\(F_F0101\\)&#45;&gt;\\(I_I\\) -->\n",
       "<g id=\"edge8\" class=\"edge\">\n",
       "<title>\\(F_F0101\\)&#45;&gt;\\(I_I\\)</title>\n",
       "<path fill=\"none\" stroke=\"#000000\" d=\"M1278.1074,-175.1191C1263.098,-107.7656 1226.2262,0 1143.9435,0 226.3922,0 226.3922,0 226.3922,0 185.0913,0 153.4773,-39.914 135.3988,-70.2881\"/>\n",
       "<polygon fill=\"#000000\" stroke=\"#000000\" points=\"132.1423,-68.9332 130.227,-79.3535 138.2224,-72.4019 132.1423,-68.9332\"/>\n",
       "<text text-anchor=\"middle\" x=\"713.8656\" y=\"-3.8\" font-family=\"Times,serif\" font-size=\"14.00\" fill=\"#000000\">1 </text>\n",
       "</g>\n",
       "<!-- \\(F_F0101\\)&#45;&gt;\\(F_S010\\) -->\n",
       "<g id=\"edge18\" class=\"edge\">\n",
       "<title>\\(F_F0101\\)&#45;&gt;\\(F_S010\\)</title>\n",
       "<path fill=\"none\" stroke=\"#000000\" d=\"M1245.736,-261.6811C1218.4817,-280.4199 1181.1111,-300 1143.9435,-300 638.9198,-300 638.9198,-300 638.9198,-300 607.0489,-300 572.8608,-290.4253 545.4527,-280.2087\"/>\n",
       "<polygon fill=\"#000000\" stroke=\"#000000\" points=\"546.6453,-276.9175 536.0557,-276.5829 544.1254,-283.4482 546.6453,-276.9175\"/>\n",
       "<text text-anchor=\"middle\" x=\"890.6073\" y=\"-303.8\" font-family=\"Times,serif\" font-size=\"14.00\" fill=\"#000000\">0 </text>\n",
       "</g>\n",
       "<!-- \\(I_F0101\\)&#45;&gt;\\(I_S010\\) -->\n",
       "<g id=\"edge5\" class=\"edge\">\n",
       "<title>\\(I_F0101\\)&#45;&gt;\\(I_S010\\)</title>\n",
       "<path fill=\"none\" stroke=\"#000000\" d=\"M690.5929,-187.6043C787.0087,-196.1954 993.3593,-214.5822 1090.8464,-223.2688\"/>\n",
       "<polygon fill=\"#000000\" stroke=\"#000000\" points=\"1090.7875,-226.7773 1101.0587,-224.1788 1091.4088,-219.805 1090.7875,-226.7773\"/>\n",
       "<text text-anchor=\"middle\" x=\"890.6073\" y=\"-211.8\" font-family=\"Times,serif\" font-size=\"14.00\" fill=\"#000000\">0 </text>\n",
       "</g>\n",
       "<!-- \\(I_F0101\\)&#45;&gt;\\(F_I\\) -->\n",
       "<g id=\"edge14\" class=\"edge\">\n",
       "<title>\\(I_F0101\\)&#45;&gt;\\(F_I\\)</title>\n",
       "<path fill=\"none\" stroke=\"#000000\" d=\"M683.1381,-156.4744C699.3787,-146.732 717.594,-135.805 733.181,-126.4547\"/>\n",
       "<polygon fill=\"#000000\" stroke=\"#000000\" points=\"735.2449,-129.2981 742.0198,-121.1525 731.6439,-123.2953 735.2449,-129.2981\"/>\n",
       "<text text-anchor=\"middle\" x=\"713.8656\" y=\"-145.8\" font-family=\"Times,serif\" font-size=\"14.00\" fill=\"#000000\">1 </text>\n",
       "</g>\n",
       "<!-- \\(F_S01\\)&#45;&gt;\\(I_I\\) -->\n",
       "<g id=\"edge20\" class=\"edge\">\n",
       "<title>\\(F_S01\\)&#45;&gt;\\(I_I\\)</title>\n",
       "<path fill=\"none\" stroke=\"#000000\" d=\"M314.3119,-206.0376C297.9686,-195.4165 278.3876,-183.1626 260.1892,-173 224.306,-152.9618 181.7444,-132.7104 152.6586,-119.3788\"/>\n",
       "<polygon fill=\"#000000\" stroke=\"#000000\" points=\"153.8916,-116.0945 143.3405,-115.1333 150.9893,-122.4645 153.8916,-116.0945\"/>\n",
       "<text text-anchor=\"middle\" x=\"226.3922\" y=\"-176.8\" font-family=\"Times,serif\" font-size=\"14.00\" fill=\"#000000\">1 </text>\n",
       "</g>\n",
       "<!-- \\(F_S01\\)&#45;&gt;\\(F_S010\\) -->\n",
       "<g id=\"edge13\" class=\"edge\">\n",
       "<title>\\(F_S01\\)&#45;&gt;\\(F_S010\\)</title>\n",
       "<path fill=\"none\" stroke=\"#000000\" d=\"M395.443,-238.8416C407.4775,-240.9884 420.7113,-243.3492 433.4101,-245.6145\"/>\n",
       "<polygon fill=\"#000000\" stroke=\"#000000\" points=\"432.9872,-249.0942 443.4464,-247.4049 434.2166,-242.203 432.9872,-249.0942\"/>\n",
       "<text text-anchor=\"middle\" x=\"419.282\" y=\"-246.8\" font-family=\"Times,serif\" font-size=\"14.00\" fill=\"#000000\">0 </text>\n",
       "</g>\n",
       "<!-- \\(F_S0\\)&#45;&gt;\\(I_S01\\) -->\n",
       "<g id=\"edge6\" class=\"edge\">\n",
       "<title>\\(F_S0\\)&#45;&gt;\\(I_S01\\)</title>\n",
       "<path fill=\"none\" stroke=\"#000000\" d=\"M930.5315,-119C942.0346,-119 954.7174,-119 966.703,-119\"/>\n",
       "<polygon fill=\"#000000\" stroke=\"#000000\" points=\"967.0091,-122.5001 977.0091,-119 967.009,-115.5001 967.0091,-122.5001\"/>\n",
       "<text text-anchor=\"middle\" x=\"953.8541\" y=\"-122.8\" font-family=\"Times,serif\" font-size=\"14.00\" fill=\"#000000\">1 </text>\n",
       "</g>\n",
       "<!-- \\(F_S0\\)&#45;&gt;\\(F_S0\\) -->\n",
       "<g id=\"edge15\" class=\"edge\">\n",
       "<title>\\(F_S0\\)&#45;&gt;\\(F_S0\\)</title>\n",
       "<path fill=\"none\" stroke=\"#000000\" d=\"M879.017,-157.0428C879.4177,-168.1462 883.2811,-176.7468 890.6073,-176.7468 895.5295,-176.7468 898.8887,-172.8644 900.6846,-166.9489\"/>\n",
       "<polygon fill=\"#000000\" stroke=\"#000000\" points=\"904.1476,-167.4566 902.1975,-157.0428 897.2278,-166.3997 904.1476,-167.4566\"/>\n",
       "<text text-anchor=\"middle\" x=\"890.6073\" y=\"-180.5468\" font-family=\"Times,serif\" font-size=\"14.00\" fill=\"#000000\">0 </text>\n",
       "</g>\n",
       "<!-- \\(F_I\\)&#45;&gt;\\(I_I\\) -->\n",
       "<g id=\"edge19\" class=\"edge\">\n",
       "<title>\\(F_I\\)&#45;&gt;\\(I_I\\)</title>\n",
       "<path fill=\"none\" stroke=\"#000000\" d=\"M737.3267,-104C710.7016,-104 672.4147,-104 638.9198,-104 226.3922,-104 226.3922,-104 226.3922,-104 202.9532,-104 176.6553,-104 155.8674,-104\"/>\n",
       "<polygon fill=\"#000000\" stroke=\"#000000\" points=\"155.8433,-100.5001 145.8433,-104 155.8433,-107.5001 155.8433,-100.5001\"/>\n",
       "<text text-anchor=\"middle\" x=\"419.282\" y=\"-107.8\" font-family=\"Times,serif\" font-size=\"14.00\" fill=\"#000000\">1 </text>\n",
       "</g>\n",
       "<!-- \\(F_I\\)&#45;&gt;\\(F_S0\\) -->\n",
       "<g id=\"edge21\" class=\"edge\">\n",
       "<title>\\(F_I\\)&#45;&gt;\\(F_S0\\)</title>\n",
       "<path fill=\"none\" stroke=\"#000000\" d=\"M803.7196,-108.1385C815.1007,-109.5612 828.1095,-111.1874 840.5342,-112.7406\"/>\n",
       "<polygon fill=\"#000000\" stroke=\"#000000\" points=\"840.4281,-116.2545 850.7851,-114.022 841.2965,-109.3085 840.4281,-116.2545\"/>\n",
       "<text text-anchor=\"middle\" x=\"827.3604\" y=\"-115.8\" font-family=\"Times,serif\" font-size=\"14.00\" fill=\"#000000\">0 </text>\n",
       "</g>\n",
       "</g>\n",
       "</svg>\n"
      ],
      "text/plain": [
       "<graphviz.dot.Digraph at 0x7ffd50691f50>"
      ]
     },
     "execution_count": 68,
     "metadata": {},
     "output_type": "execute_result"
    }
   ],
   "source": [
    "dotObj_dfa(odd1sORends0101)"
   ]
  },
  {
   "cell_type": "code",
   "execution_count": 69,
   "metadata": {
    "run_control": {
     "frozen": false,
     "read_only": false
    },
    "scrolled": true
   },
   "outputs": [
    {
     "data": {
      "image/svg+xml": [
       "<?xml version=\"1.0\" encoding=\"UTF-8\" standalone=\"no\"?>\n",
       "<!DOCTYPE svg PUBLIC \"-//W3C//DTD SVG 1.1//EN\"\n",
       " \"http://www.w3.org/Graphics/SVG/1.1/DTD/svg11.dtd\">\n",
       "<!-- Generated by graphviz version 2.40.1 (20161225.0304)\n",
       " -->\n",
       "<!-- Title: %3 Pages: 1 -->\n",
       "<svg width=\"1349pt\" height=\"366pt\"\n",
       " viewBox=\"0.00 0.00 1348.63 366.00\" xmlns=\"http://www.w3.org/2000/svg\" xmlns:xlink=\"http://www.w3.org/1999/xlink\">\n",
       "<g id=\"graph0\" class=\"graph\" transform=\"scale(1 1) rotate(0) translate(4 362)\">\n",
       "<title>%3</title>\n",
       "<polygon fill=\"#ffffff\" stroke=\"transparent\" points=\"-4,4 -4,-362 1344.6309,-362 1344.6309,4 -4,4\"/>\n",
       "<!-- EMPTY -->\n",
       "<g id=\"node1\" class=\"node\">\n",
       "<title>EMPTY</title>\n",
       "</g>\n",
       "<!-- \\(I_I\\) -->\n",
       "<g id=\"node3\" class=\"node\">\n",
       "<title>\\(I_I\\)</title>\n",
       "<ellipse fill=\"none\" stroke=\"#000000\" cx=\"118.2976\" cy=\"-104\" rx=\"27.0966\" ry=\"27.0966\"/>\n",
       "<text text-anchor=\"middle\" x=\"118.2976\" y=\"-100.3\" font-family=\"Times,serif\" font-size=\"14.00\" fill=\"#000000\">(I_I)</text>\n",
       "</g>\n",
       "<!-- EMPTY&#45;&gt;\\(I_I\\) -->\n",
       "<g id=\"edge1\" class=\"edge\">\n",
       "<title>EMPTY&#45;&gt;\\(I_I\\)</title>\n",
       "<path fill=\"none\" stroke=\"#000000\" d=\"M54.3923,-104C62.6976,-104 71.9683,-104 80.8159,-104\"/>\n",
       "<polygon fill=\"#000000\" stroke=\"#000000\" points=\"80.9247,-107.5001 90.9246,-104 80.9246,-100.5001 80.9247,-107.5001\"/>\n",
       "</g>\n",
       "<!-- \\(I_S010\\) -->\n",
       "<g id=\"node2\" class=\"node\">\n",
       "<title>\\(I_S010\\)</title>\n",
       "<ellipse fill=\"none\" stroke=\"#000000\" cx=\"1143.9435\" cy=\"-228\" rx=\"42.7926\" ry=\"42.7926\"/>\n",
       "<text text-anchor=\"middle\" x=\"1143.9435\" y=\"-224.3\" font-family=\"Times,serif\" font-size=\"14.00\" fill=\"#000000\">(I_S010)</text>\n",
       "</g>\n",
       "<!-- \\(I_S0\\) -->\n",
       "<g id=\"node5\" class=\"node\">\n",
       "<title>\\(I_S0\\)</title>\n",
       "<ellipse fill=\"none\" stroke=\"#000000\" cx=\"226.3922\" cy=\"-231\" rx=\"33.5952\" ry=\"33.5952\"/>\n",
       "<text text-anchor=\"middle\" x=\"226.3922\" y=\"-227.3\" font-family=\"Times,serif\" font-size=\"14.00\" fill=\"#000000\">(I_S0)</text>\n",
       "</g>\n",
       "<!-- \\(I_S010\\)&#45;&gt;\\(I_S0\\) -->\n",
       "<g id=\"edge7\" class=\"edge\">\n",
       "<title>\\(I_S010\\)&#45;&gt;\\(I_S0\\)</title>\n",
       "<path fill=\"none\" stroke=\"#000000\" d=\"M1122.7248,-265.6553C1100.7268,-299.1942 1062.9507,-343 1015.7007,-343 351.4856,-343 351.4856,-343 351.4856,-343 306.1289,-343 269.696,-301.6254 248.0946,-269.1709\"/>\n",
       "<polygon fill=\"#000000\" stroke=\"#000000\" points=\"251.0142,-267.2399 242.6631,-260.7199 245.1255,-271.0246 251.0142,-267.2399\"/>\n",
       "<text text-anchor=\"middle\" x=\"713.8656\" y=\"-346.8\" font-family=\"Times,serif\" font-size=\"14.00\" fill=\"#000000\">0 </text>\n",
       "</g>\n",
       "<!-- \\(F_F0101\\) -->\n",
       "<g id=\"node7\" class=\"node\">\n",
       "<title>\\(F_F0101\\)</title>\n",
       "<ellipse fill=\"none\" stroke=\"#000000\" cx=\"1287.2353\" cy=\"-228\" rx=\"49.2992\" ry=\"49.2992\"/>\n",
       "<ellipse fill=\"none\" stroke=\"#000000\" cx=\"1287.2353\" cy=\"-228\" rx=\"53.2914\" ry=\"53.2914\"/>\n",
       "<text text-anchor=\"middle\" x=\"1287.2353\" y=\"-224.3\" font-family=\"Times,serif\" font-size=\"14.00\" fill=\"#000000\">(F_F0101)</text>\n",
       "</g>\n",
       "<!-- \\(I_S010\\)&#45;&gt;\\(F_F0101\\) -->\n",
       "<g id=\"edge16\" class=\"edge\">\n",
       "<title>\\(I_S010\\)&#45;&gt;\\(F_F0101\\)</title>\n",
       "<path fill=\"none\" stroke=\"#000000\" d=\"M1186.9358,-228C1198.3996,-228 1211.0352,-228 1223.3604,-228\"/>\n",
       "<polygon fill=\"#000000\" stroke=\"#000000\" points=\"1223.6081,-231.5001 1233.6081,-228 1223.608,-224.5001 1223.6081,-231.5001\"/>\n",
       "<text text-anchor=\"middle\" x=\"1210.3397\" y=\"-231.8\" font-family=\"Times,serif\" font-size=\"14.00\" fill=\"#000000\">1 </text>\n",
       "</g>\n",
       "<!-- \\(I_I\\)&#45;&gt;\\(I_S0\\) -->\n",
       "<g id=\"edge2\" class=\"edge\">\n",
       "<title>\\(I_I\\)&#45;&gt;\\(I_S0\\)</title>\n",
       "<path fill=\"none\" stroke=\"#000000\" d=\"M133.4281,-126.7826C141.8747,-139.0396 152.8385,-154.22 163.5952,-167 173.1132,-178.3085 184.2098,-190.0328 194.4046,-200.3089\"/>\n",
       "<polygon fill=\"#000000\" stroke=\"#000000\" points=\"192.078,-202.9315 201.6331,-207.5088 197.018,-197.9719 192.078,-202.9315\"/>\n",
       "<text text-anchor=\"middle\" x=\"169.0952\" y=\"-181.8\" font-family=\"Times,serif\" font-size=\"14.00\" fill=\"#000000\">0 </text>\n",
       "</g>\n",
       "<!-- \\(F_I\\) -->\n",
       "<g id=\"node11\" class=\"node\">\n",
       "<title>\\(F_I\\)</title>\n",
       "<ellipse fill=\"none\" stroke=\"#000000\" cx=\"770.613\" cy=\"-104\" rx=\"29.4667\" ry=\"29.4667\"/>\n",
       "<ellipse fill=\"none\" stroke=\"#000000\" cx=\"770.613\" cy=\"-104\" rx=\"33.4967\" ry=\"33.4967\"/>\n",
       "<text text-anchor=\"middle\" x=\"770.613\" y=\"-100.3\" font-family=\"Times,serif\" font-size=\"14.00\" fill=\"#000000\">(F_I)</text>\n",
       "</g>\n",
       "<!-- \\(I_I\\)&#45;&gt;\\(F_I\\) -->\n",
       "<g id=\"edge10\" class=\"edge\">\n",
       "<title>\\(I_I\\)&#45;&gt;\\(F_I\\)</title>\n",
       "<path fill=\"none\" stroke=\"#000000\" d=\"M142.3517,-90.2811C163.7177,-79.3965 196.1559,-66 226.3922,-66 226.3922,-66 226.3922,-66 638.9198,-66 670.6761,-66 705.111,-76.3264 730.802,-86.213\"/>\n",
       "<polygon fill=\"#000000\" stroke=\"#000000\" points=\"729.6113,-89.5061 740.1965,-89.9582 732.2035,-83.0038 729.6113,-89.5061\"/>\n",
       "<text text-anchor=\"middle\" x=\"419.282\" y=\"-69.8\" font-family=\"Times,serif\" font-size=\"14.00\" fill=\"#000000\">1 </text>\n",
       "</g>\n",
       "<!-- \\(I_S01\\) -->\n",
       "<g id=\"node4\" class=\"node\">\n",
       "<title>\\(I_S01\\)</title>\n",
       "<ellipse fill=\"none\" stroke=\"#000000\" cx=\"1015.7007\" cy=\"-119\" rx=\"38.1938\" ry=\"38.1938\"/>\n",
       "<text text-anchor=\"middle\" x=\"1015.7007\" y=\"-115.3\" font-family=\"Times,serif\" font-size=\"14.00\" fill=\"#000000\">(I_S01)</text>\n",
       "</g>\n",
       "<!-- \\(I_S01\\)&#45;&gt;\\(I_S010\\) -->\n",
       "<g id=\"edge12\" class=\"edge\">\n",
       "<title>\\(I_S01\\)&#45;&gt;\\(I_S010\\)</title>\n",
       "<path fill=\"none\" stroke=\"#000000\" d=\"M1045.1222,-144.0068C1062.3337,-158.6357 1084.3185,-177.3217 1103.18,-193.353\"/>\n",
       "<polygon fill=\"#000000\" stroke=\"#000000\" points=\"1101.1629,-196.2321 1111.0492,-200.0415 1105.6963,-190.8983 1101.1629,-196.2321\"/>\n",
       "<text text-anchor=\"middle\" x=\"1077.5473\" y=\"-176.8\" font-family=\"Times,serif\" font-size=\"14.00\" fill=\"#000000\">0 </text>\n",
       "</g>\n",
       "<!-- \\(I_S01\\)&#45;&gt;\\(F_I\\) -->\n",
       "<g id=\"edge17\" class=\"edge\">\n",
       "<title>\\(I_S01\\)&#45;&gt;\\(F_I\\)</title>\n",
       "<path fill=\"none\" stroke=\"#000000\" d=\"M988.7806,-91.6256C973.1798,-77.7503 952.3168,-62.32 930.3541,-55 896.8362,-43.8288 884.8721,-45.437 850.8604,-55 834.7471,-59.5306 818.6674,-68.2931 805.1796,-77.1705\"/>\n",
       "<polygon fill=\"#000000\" stroke=\"#000000\" points=\"802.9817,-74.4339 796.7162,-82.9775 806.9421,-80.2059 802.9817,-74.4339\"/>\n",
       "<text text-anchor=\"middle\" x=\"890.6073\" y=\"-58.8\" font-family=\"Times,serif\" font-size=\"14.00\" fill=\"#000000\">1 </text>\n",
       "</g>\n",
       "<!-- \\(I_S0\\)&#45;&gt;\\(I_S0\\) -->\n",
       "<g id=\"edge9\" class=\"edge\">\n",
       "<title>\\(I_S0\\)&#45;&gt;\\(I_S0\\)</title>\n",
       "<path fill=\"none\" stroke=\"#000000\" d=\"M215.8922,-263.3731C215.8922,-274.1642 219.3922,-282.797 226.3922,-282.797 230.9859,-282.797 234.0723,-279.0792 235.6514,-273.4733\"/>\n",
       "<polygon fill=\"#000000\" stroke=\"#000000\" points=\"239.1467,-273.7253 236.8922,-263.3731 232.1989,-272.8718 239.1467,-273.7253\"/>\n",
       "<text text-anchor=\"middle\" x=\"226.3922\" y=\"-286.597\" font-family=\"Times,serif\" font-size=\"14.00\" fill=\"#000000\">0 </text>\n",
       "</g>\n",
       "<!-- \\(F_S01\\) -->\n",
       "<g id=\"node9\" class=\"node\">\n",
       "<title>\\(F_S01\\)</title>\n",
       "<ellipse fill=\"none\" stroke=\"#000000\" cx=\"351.4856\" cy=\"-231\" rx=\"40.1121\" ry=\"40.1121\"/>\n",
       "<ellipse fill=\"none\" stroke=\"#000000\" cx=\"351.4856\" cy=\"-231\" rx=\"44.0938\" ry=\"44.0938\"/>\n",
       "<text text-anchor=\"middle\" x=\"351.4856\" y=\"-227.3\" font-family=\"Times,serif\" font-size=\"14.00\" fill=\"#000000\">(F_S01)</text>\n",
       "</g>\n",
       "<!-- \\(I_S0\\)&#45;&gt;\\(F_S01\\) -->\n",
       "<g id=\"edge4\" class=\"edge\">\n",
       "<title>\\(I_S0\\)&#45;&gt;\\(F_S01\\)</title>\n",
       "<path fill=\"none\" stroke=\"#000000\" d=\"M260.2442,-231C271.437,-231 284.195,-231 296.5507,-231\"/>\n",
       "<polygon fill=\"#000000\" stroke=\"#000000\" points=\"296.7918,-234.5001 306.7918,-231 296.7917,-227.5001 296.7918,-234.5001\"/>\n",
       "<text text-anchor=\"middle\" x=\"283.6892\" y=\"-234.8\" font-family=\"Times,serif\" font-size=\"14.00\" fill=\"#000000\">1 </text>\n",
       "</g>\n",
       "<!-- \\(F_S010\\) -->\n",
       "<g id=\"node6\" class=\"node\">\n",
       "<title>\\(F_S010\\)</title>\n",
       "<ellipse fill=\"none\" stroke=\"#000000\" cx=\"491.628\" cy=\"-256\" rx=\"44.7051\" ry=\"44.7051\"/>\n",
       "<ellipse fill=\"none\" stroke=\"#000000\" cx=\"491.628\" cy=\"-256\" rx=\"48.6925\" ry=\"48.6925\"/>\n",
       "<text text-anchor=\"middle\" x=\"491.628\" y=\"-252.3\" font-family=\"Times,serif\" font-size=\"14.00\" fill=\"#000000\">(F_S010)</text>\n",
       "</g>\n",
       "<!-- \\(I_F0101\\) -->\n",
       "<g id=\"node8\" class=\"node\">\n",
       "<title>\\(I_F0101\\)</title>\n",
       "<ellipse fill=\"none\" stroke=\"#000000\" cx=\"638.9198\" cy=\"-183\" rx=\"47.3958\" ry=\"47.3958\"/>\n",
       "<ellipse fill=\"none\" stroke=\"#000000\" cx=\"638.9198\" cy=\"-183\" rx=\"51.3916\" ry=\"51.3916\"/>\n",
       "<text text-anchor=\"middle\" x=\"638.9198\" y=\"-179.3\" font-family=\"Times,serif\" font-size=\"14.00\" fill=\"#000000\">(I_F0101)</text>\n",
       "</g>\n",
       "<!-- \\(F_S010\\)&#45;&gt;\\(I_F0101\\) -->\n",
       "<g id=\"edge3\" class=\"edge\">\n",
       "<title>\\(F_S010\\)&#45;&gt;\\(I_F0101\\)</title>\n",
       "<path fill=\"none\" stroke=\"#000000\" d=\"M535.4216,-234.2952C550.5207,-226.8119 567.6349,-218.3299 583.5367,-210.4487\"/>\n",
       "<polygon fill=\"#000000\" stroke=\"#000000\" points=\"585.3292,-213.4667 592.7349,-205.8899 582.2207,-207.1947 585.3292,-213.4667\"/>\n",
       "<text text-anchor=\"middle\" x=\"563.974\" y=\"-224.8\" font-family=\"Times,serif\" font-size=\"14.00\" fill=\"#000000\">1 </text>\n",
       "</g>\n",
       "<!-- \\(F_S0\\) -->\n",
       "<g id=\"node10\" class=\"node\">\n",
       "<title>\\(F_S0\\)</title>\n",
       "<ellipse fill=\"none\" stroke=\"#000000\" cx=\"890.6073\" cy=\"-119\" rx=\"35.9702\" ry=\"35.9702\"/>\n",
       "<ellipse fill=\"none\" stroke=\"#000000\" cx=\"890.6073\" cy=\"-119\" rx=\"39.9952\" ry=\"39.9952\"/>\n",
       "<text text-anchor=\"middle\" x=\"890.6073\" y=\"-115.3\" font-family=\"Times,serif\" font-size=\"14.00\" fill=\"#000000\">(F_S0)</text>\n",
       "</g>\n",
       "<!-- \\(F_S010\\)&#45;&gt;\\(F_S0\\) -->\n",
       "<g id=\"edge11\" class=\"edge\">\n",
       "<title>\\(F_S010\\)&#45;&gt;\\(F_S0\\)</title>\n",
       "<path fill=\"none\" stroke=\"#000000\" d=\"M540.7068,-260.5553C588.2231,-263.0537 661.3834,-261.7677 719.3656,-238 769.7016,-217.3666 819.9452,-179.9555 852.8621,-152.572\"/>\n",
       "<polygon fill=\"#000000\" stroke=\"#000000\" points=\"855.456,-154.9632 860.847,-145.8424 850.9449,-149.6106 855.456,-154.9632\"/>\n",
       "<text text-anchor=\"middle\" x=\"713.8656\" y=\"-244.8\" font-family=\"Times,serif\" font-size=\"14.00\" fill=\"#000000\">0 </text>\n",
       "</g>\n",
       "<!-- \\(F_F0101\\)&#45;&gt;\\(I_I\\) -->\n",
       "<g id=\"edge8\" class=\"edge\">\n",
       "<title>\\(F_F0101\\)&#45;&gt;\\(I_I\\)</title>\n",
       "<path fill=\"none\" stroke=\"#000000\" d=\"M1278.1074,-175.1191C1263.098,-107.7656 1226.2262,0 1143.9435,0 226.3922,0 226.3922,0 226.3922,0 185.0913,0 153.4773,-39.914 135.3988,-70.2881\"/>\n",
       "<polygon fill=\"#000000\" stroke=\"#000000\" points=\"132.1423,-68.9332 130.227,-79.3535 138.2224,-72.4019 132.1423,-68.9332\"/>\n",
       "<text text-anchor=\"middle\" x=\"713.8656\" y=\"-3.8\" font-family=\"Times,serif\" font-size=\"14.00\" fill=\"#000000\">1 </text>\n",
       "</g>\n",
       "<!-- \\(F_F0101\\)&#45;&gt;\\(F_S010\\) -->\n",
       "<g id=\"edge18\" class=\"edge\">\n",
       "<title>\\(F_F0101\\)&#45;&gt;\\(F_S010\\)</title>\n",
       "<path fill=\"none\" stroke=\"#000000\" d=\"M1245.736,-261.6811C1218.4817,-280.4199 1181.1111,-300 1143.9435,-300 638.9198,-300 638.9198,-300 638.9198,-300 607.0489,-300 572.8608,-290.4253 545.4527,-280.2087\"/>\n",
       "<polygon fill=\"#000000\" stroke=\"#000000\" points=\"546.6453,-276.9175 536.0557,-276.5829 544.1254,-283.4482 546.6453,-276.9175\"/>\n",
       "<text text-anchor=\"middle\" x=\"890.6073\" y=\"-303.8\" font-family=\"Times,serif\" font-size=\"14.00\" fill=\"#000000\">0 </text>\n",
       "</g>\n",
       "<!-- \\(I_F0101\\)&#45;&gt;\\(I_S010\\) -->\n",
       "<g id=\"edge5\" class=\"edge\">\n",
       "<title>\\(I_F0101\\)&#45;&gt;\\(I_S010\\)</title>\n",
       "<path fill=\"none\" stroke=\"#000000\" d=\"M690.5929,-187.6043C787.0087,-196.1954 993.3593,-214.5822 1090.8464,-223.2688\"/>\n",
       "<polygon fill=\"#000000\" stroke=\"#000000\" points=\"1090.7875,-226.7773 1101.0587,-224.1788 1091.4088,-219.805 1090.7875,-226.7773\"/>\n",
       "<text text-anchor=\"middle\" x=\"890.6073\" y=\"-211.8\" font-family=\"Times,serif\" font-size=\"14.00\" fill=\"#000000\">0 </text>\n",
       "</g>\n",
       "<!-- \\(I_F0101\\)&#45;&gt;\\(F_I\\) -->\n",
       "<g id=\"edge14\" class=\"edge\">\n",
       "<title>\\(I_F0101\\)&#45;&gt;\\(F_I\\)</title>\n",
       "<path fill=\"none\" stroke=\"#000000\" d=\"M683.1381,-156.4744C699.3787,-146.732 717.594,-135.805 733.181,-126.4547\"/>\n",
       "<polygon fill=\"#000000\" stroke=\"#000000\" points=\"735.2449,-129.2981 742.0198,-121.1525 731.6439,-123.2953 735.2449,-129.2981\"/>\n",
       "<text text-anchor=\"middle\" x=\"713.8656\" y=\"-145.8\" font-family=\"Times,serif\" font-size=\"14.00\" fill=\"#000000\">1 </text>\n",
       "</g>\n",
       "<!-- \\(F_S01\\)&#45;&gt;\\(I_I\\) -->\n",
       "<g id=\"edge20\" class=\"edge\">\n",
       "<title>\\(F_S01\\)&#45;&gt;\\(I_I\\)</title>\n",
       "<path fill=\"none\" stroke=\"#000000\" d=\"M314.3119,-206.0376C297.9686,-195.4165 278.3876,-183.1626 260.1892,-173 224.306,-152.9618 181.7444,-132.7104 152.6586,-119.3788\"/>\n",
       "<polygon fill=\"#000000\" stroke=\"#000000\" points=\"153.8916,-116.0945 143.3405,-115.1333 150.9893,-122.4645 153.8916,-116.0945\"/>\n",
       "<text text-anchor=\"middle\" x=\"226.3922\" y=\"-176.8\" font-family=\"Times,serif\" font-size=\"14.00\" fill=\"#000000\">1 </text>\n",
       "</g>\n",
       "<!-- \\(F_S01\\)&#45;&gt;\\(F_S010\\) -->\n",
       "<g id=\"edge13\" class=\"edge\">\n",
       "<title>\\(F_S01\\)&#45;&gt;\\(F_S010\\)</title>\n",
       "<path fill=\"none\" stroke=\"#000000\" d=\"M395.443,-238.8416C407.4775,-240.9884 420.7113,-243.3492 433.4101,-245.6145\"/>\n",
       "<polygon fill=\"#000000\" stroke=\"#000000\" points=\"432.9872,-249.0942 443.4464,-247.4049 434.2166,-242.203 432.9872,-249.0942\"/>\n",
       "<text text-anchor=\"middle\" x=\"419.282\" y=\"-246.8\" font-family=\"Times,serif\" font-size=\"14.00\" fill=\"#000000\">0 </text>\n",
       "</g>\n",
       "<!-- \\(F_S0\\)&#45;&gt;\\(I_S01\\) -->\n",
       "<g id=\"edge6\" class=\"edge\">\n",
       "<title>\\(F_S0\\)&#45;&gt;\\(I_S01\\)</title>\n",
       "<path fill=\"none\" stroke=\"#000000\" d=\"M930.5315,-119C942.0346,-119 954.7174,-119 966.703,-119\"/>\n",
       "<polygon fill=\"#000000\" stroke=\"#000000\" points=\"967.0091,-122.5001 977.0091,-119 967.009,-115.5001 967.0091,-122.5001\"/>\n",
       "<text text-anchor=\"middle\" x=\"953.8541\" y=\"-122.8\" font-family=\"Times,serif\" font-size=\"14.00\" fill=\"#000000\">1 </text>\n",
       "</g>\n",
       "<!-- \\(F_S0\\)&#45;&gt;\\(F_S0\\) -->\n",
       "<g id=\"edge15\" class=\"edge\">\n",
       "<title>\\(F_S0\\)&#45;&gt;\\(F_S0\\)</title>\n",
       "<path fill=\"none\" stroke=\"#000000\" d=\"M879.017,-157.0428C879.4177,-168.1462 883.2811,-176.7468 890.6073,-176.7468 895.5295,-176.7468 898.8887,-172.8644 900.6846,-166.9489\"/>\n",
       "<polygon fill=\"#000000\" stroke=\"#000000\" points=\"904.1476,-167.4566 902.1975,-157.0428 897.2278,-166.3997 904.1476,-167.4566\"/>\n",
       "<text text-anchor=\"middle\" x=\"890.6073\" y=\"-180.5468\" font-family=\"Times,serif\" font-size=\"14.00\" fill=\"#000000\">0 </text>\n",
       "</g>\n",
       "<!-- \\(F_I\\)&#45;&gt;\\(I_I\\) -->\n",
       "<g id=\"edge19\" class=\"edge\">\n",
       "<title>\\(F_I\\)&#45;&gt;\\(I_I\\)</title>\n",
       "<path fill=\"none\" stroke=\"#000000\" d=\"M737.3267,-104C710.7016,-104 672.4147,-104 638.9198,-104 226.3922,-104 226.3922,-104 226.3922,-104 202.9532,-104 176.6553,-104 155.8674,-104\"/>\n",
       "<polygon fill=\"#000000\" stroke=\"#000000\" points=\"155.8433,-100.5001 145.8433,-104 155.8433,-107.5001 155.8433,-100.5001\"/>\n",
       "<text text-anchor=\"middle\" x=\"419.282\" y=\"-107.8\" font-family=\"Times,serif\" font-size=\"14.00\" fill=\"#000000\">1 </text>\n",
       "</g>\n",
       "<!-- \\(F_I\\)&#45;&gt;\\(F_S0\\) -->\n",
       "<g id=\"edge21\" class=\"edge\">\n",
       "<title>\\(F_I\\)&#45;&gt;\\(F_S0\\)</title>\n",
       "<path fill=\"none\" stroke=\"#000000\" d=\"M803.7196,-108.1385C815.1007,-109.5612 828.1095,-111.1874 840.5342,-112.7406\"/>\n",
       "<polygon fill=\"#000000\" stroke=\"#000000\" points=\"840.4281,-116.2545 850.7851,-114.022 841.2965,-109.3085 840.4281,-116.2545\"/>\n",
       "<text text-anchor=\"middle\" x=\"827.3604\" y=\"-115.8\" font-family=\"Times,serif\" font-size=\"14.00\" fill=\"#000000\">0 </text>\n",
       "</g>\n",
       "</g>\n",
       "</svg>\n"
      ],
      "text/plain": [
       "<graphviz.dot.Digraph at 0x7ffd50696350>"
      ]
     },
     "execution_count": 69,
     "metadata": {},
     "output_type": "execute_result"
    }
   ],
   "source": [
    "dotObj_dfa(odd1sORends0101)"
   ]
  },
  {
   "cell_type": "markdown",
   "metadata": {
    "run_control": {
     "frozen": false,
     "read_only": false
    }
   },
   "source": [
    "## Apply DFA minimization"
   ]
  },
  {
   "cell_type": "code",
   "execution_count": 70,
   "metadata": {
    "run_control": {
     "frozen": false,
     "read_only": false
    }
   },
   "outputs": [],
   "source": [
    "Minodd1sORends0101 = min_dfa(odd1sORends0101)"
   ]
  },
  {
   "cell_type": "code",
   "execution_count": 71,
   "metadata": {
    "run_control": {
     "frozen": false,
     "read_only": false
    }
   },
   "outputs": [
    {
     "data": {
      "image/svg+xml": [
       "<?xml version=\"1.0\" encoding=\"UTF-8\" standalone=\"no\"?>\n",
       "<!DOCTYPE svg PUBLIC \"-//W3C//DTD SVG 1.1//EN\"\n",
       " \"http://www.w3.org/Graphics/SVG/1.1/DTD/svg11.dtd\">\n",
       "<!-- Generated by graphviz version 2.40.1 (20161225.0304)\n",
       " -->\n",
       "<!-- Title: %3 Pages: 1 -->\n",
       "<svg width=\"843pt\" height=\"250pt\"\n",
       " viewBox=\"0.00 0.00 843.06 250.00\" xmlns=\"http://www.w3.org/2000/svg\" xmlns:xlink=\"http://www.w3.org/1999/xlink\">\n",
       "<g id=\"graph0\" class=\"graph\" transform=\"scale(1 1) rotate(0) translate(4 246)\">\n",
       "<title>%3</title>\n",
       "<polygon fill=\"#ffffff\" stroke=\"transparent\" points=\"-4,4 -4,-246 839.0577,-246 839.0577,4 -4,4\"/>\n",
       "<!-- EMPTY -->\n",
       "<g id=\"node1\" class=\"node\">\n",
       "<title>EMPTY</title>\n",
       "</g>\n",
       "<!-- \\(I_I\\) -->\n",
       "<g id=\"node3\" class=\"node\">\n",
       "<title>\\(I_I\\)</title>\n",
       "<ellipse fill=\"none\" stroke=\"#000000\" cx=\"118.2976\" cy=\"-85\" rx=\"27.0966\" ry=\"27.0966\"/>\n",
       "<text text-anchor=\"middle\" x=\"118.2976\" y=\"-81.3\" font-family=\"Times,serif\" font-size=\"14.00\" fill=\"#000000\">(I_I)</text>\n",
       "</g>\n",
       "<!-- EMPTY&#45;&gt;\\(I_I\\) -->\n",
       "<g id=\"edge1\" class=\"edge\">\n",
       "<title>EMPTY&#45;&gt;\\(I_I\\)</title>\n",
       "<path fill=\"none\" stroke=\"#000000\" d=\"M54.3923,-85C62.6976,-85 71.9683,-85 80.8159,-85\"/>\n",
       "<polygon fill=\"#000000\" stroke=\"#000000\" points=\"80.9247,-88.5001 90.9246,-85 80.9246,-81.5001 80.9247,-88.5001\"/>\n",
       "</g>\n",
       "<!-- \\(I_S010\\) -->\n",
       "<g id=\"node2\" class=\"node\">\n",
       "<title>\\(I_S010\\)</title>\n",
       "<ellipse fill=\"none\" stroke=\"#000000\" cx=\"235.4913\" cy=\"-123\" rx=\"42.7926\" ry=\"42.7926\"/>\n",
       "<text text-anchor=\"middle\" x=\"235.4913\" y=\"-119.3\" font-family=\"Times,serif\" font-size=\"14.00\" fill=\"#000000\">(I_S010)</text>\n",
       "</g>\n",
       "<!-- \\(I_S010\\)&#45;&gt;\\(I_S010\\) -->\n",
       "<g id=\"edge7\" class=\"edge\">\n",
       "<title>\\(I_S010\\)&#45;&gt;\\(I_S010\\)</title>\n",
       "<path fill=\"none\" stroke=\"#000000\" d=\"M223.2077,-164.2699C223.8558,-175.4163 227.9503,-183.8962 235.4913,-183.8962 240.558,-183.8962 244.0688,-180.0682 246.0238,-174.1755\"/>\n",
       "<polygon fill=\"#000000\" stroke=\"#000000\" points=\"249.4806,-174.7265 247.775,-164.2699 242.5875,-173.5079 249.4806,-174.7265\"/>\n",
       "<text text-anchor=\"middle\" x=\"235.4913\" y=\"-187.6962\" font-family=\"Times,serif\" font-size=\"14.00\" fill=\"#000000\">0 </text>\n",
       "</g>\n",
       "<!-- \\(F_S01\\) -->\n",
       "<g id=\"node5\" class=\"node\">\n",
       "<title>\\(F_S01\\)</title>\n",
       "<ellipse fill=\"none\" stroke=\"#000000\" cx=\"369.684\" cy=\"-77\" rx=\"40.1121\" ry=\"40.1121\"/>\n",
       "<ellipse fill=\"none\" stroke=\"#000000\" cx=\"369.684\" cy=\"-77\" rx=\"44.0938\" ry=\"44.0938\"/>\n",
       "<text text-anchor=\"middle\" x=\"369.684\" y=\"-73.3\" font-family=\"Times,serif\" font-size=\"14.00\" fill=\"#000000\">(F_S01)</text>\n",
       "</g>\n",
       "<!-- \\(I_S010\\)&#45;&gt;\\(F_S01\\) -->\n",
       "<g id=\"edge4\" class=\"edge\">\n",
       "<title>\\(I_S010\\)&#45;&gt;\\(F_S01\\)</title>\n",
       "<path fill=\"none\" stroke=\"#000000\" d=\"M276.1177,-109.0737C289.1534,-104.6051 303.7766,-99.5924 317.5194,-94.8815\"/>\n",
       "<polygon fill=\"#000000\" stroke=\"#000000\" points=\"319.0107,-98.0703 327.3354,-91.5167 316.7408,-91.4486 319.0107,-98.0703\"/>\n",
       "<text text-anchor=\"middle\" x=\"301.8875\" y=\"-104.8\" font-family=\"Times,serif\" font-size=\"14.00\" fill=\"#000000\">1 </text>\n",
       "</g>\n",
       "<!-- \\(I_I\\)&#45;&gt;\\(I_S010\\) -->\n",
       "<g id=\"edge2\" class=\"edge\">\n",
       "<title>\\(I_I\\)&#45;&gt;\\(I_S010\\)</title>\n",
       "<path fill=\"none\" stroke=\"#000000\" d=\"M144.3067,-93.4334C156.2509,-97.3063 170.844,-102.0381 184.8236,-106.571\"/>\n",
       "<polygon fill=\"#000000\" stroke=\"#000000\" points=\"183.7717,-109.9093 194.3637,-109.6644 185.9309,-103.2506 183.7717,-109.9093\"/>\n",
       "<text text-anchor=\"middle\" x=\"169.0952\" y=\"-105.8\" font-family=\"Times,serif\" font-size=\"14.00\" fill=\"#000000\">0 </text>\n",
       "</g>\n",
       "<!-- \\(F_S0\\) -->\n",
       "<g id=\"node6\" class=\"node\">\n",
       "<title>\\(F_S0\\)</title>\n",
       "<ellipse fill=\"none\" stroke=\"#000000\" cx=\"795.3108\" cy=\"-106\" rx=\"35.9702\" ry=\"35.9702\"/>\n",
       "<ellipse fill=\"none\" stroke=\"#000000\" cx=\"795.3108\" cy=\"-106\" rx=\"39.9952\" ry=\"39.9952\"/>\n",
       "<text text-anchor=\"middle\" x=\"795.3108\" y=\"-102.3\" font-family=\"Times,serif\" font-size=\"14.00\" fill=\"#000000\">(F_S0)</text>\n",
       "</g>\n",
       "<!-- \\(I_I\\)&#45;&gt;\\(F_S0\\) -->\n",
       "<g id=\"edge9\" class=\"edge\">\n",
       "<title>\\(I_I\\)&#45;&gt;\\(F_S0\\)</title>\n",
       "<path fill=\"none\" stroke=\"#000000\" d=\"M126.5756,-111.3763C141.2997,-152.4417 176.1973,-227 235.4913,-227 235.4913,-227 235.4913,-227 657.1182,-227 705.7711,-227 745.5165,-184.0221 769.6907,-149.294\"/>\n",
       "<polygon fill=\"#000000\" stroke=\"#000000\" points=\"772.8133,-150.923 775.4972,-140.6737 767.0076,-147.0124 772.8133,-150.923\"/>\n",
       "<text text-anchor=\"middle\" x=\"437.4804\" y=\"-230.8\" font-family=\"Times,serif\" font-size=\"14.00\" fill=\"#000000\">1 </text>\n",
       "</g>\n",
       "<!-- \\(I_F0101\\) -->\n",
       "<g id=\"node4\" class=\"node\">\n",
       "<title>\\(I_F0101\\)</title>\n",
       "<ellipse fill=\"none\" stroke=\"#000000\" cx=\"657.1182\" cy=\"-148\" rx=\"47.3958\" ry=\"47.3958\"/>\n",
       "<ellipse fill=\"none\" stroke=\"#000000\" cx=\"657.1182\" cy=\"-148\" rx=\"51.3916\" ry=\"51.3916\"/>\n",
       "<text text-anchor=\"middle\" x=\"657.1182\" y=\"-144.3\" font-family=\"Times,serif\" font-size=\"14.00\" fill=\"#000000\">(I_F0101)</text>\n",
       "</g>\n",
       "<!-- \\(I_F0101\\)&#45;&gt;\\(I_S010\\) -->\n",
       "<g id=\"edge5\" class=\"edge\">\n",
       "<title>\\(I_F0101\\)&#45;&gt;\\(I_S010\\)</title>\n",
       "<path fill=\"none\" stroke=\"#000000\" d=\"M605.666,-145.5836C540.4337,-142.4336 424.5199,-136.5482 325.3875,-130 313.4283,-129.21 300.5818,-128.2665 288.4483,-127.3318\"/>\n",
       "<polygon fill=\"#000000\" stroke=\"#000000\" points=\"288.701,-123.841 278.459,-126.5524 288.1564,-130.8198 288.701,-123.841\"/>\n",
       "<text text-anchor=\"middle\" x=\"437.4804\" y=\"-140.8\" font-family=\"Times,serif\" font-size=\"14.00\" fill=\"#000000\">0 </text>\n",
       "</g>\n",
       "<!-- \\(I_F0101\\)&#45;&gt;\\(F_S0\\) -->\n",
       "<g id=\"edge12\" class=\"edge\">\n",
       "<title>\\(I_F0101\\)&#45;&gt;\\(F_S0\\)</title>\n",
       "<path fill=\"none\" stroke=\"#000000\" d=\"M706.6186,-132.9557C719.8257,-128.9417 734.0742,-124.6113 747.2051,-120.6205\"/>\n",
       "<polygon fill=\"#000000\" stroke=\"#000000\" points=\"748.4428,-123.9025 756.9928,-117.6457 746.4072,-117.205 748.4428,-123.9025\"/>\n",
       "<text text-anchor=\"middle\" x=\"732.064\" y=\"-128.8\" font-family=\"Times,serif\" font-size=\"14.00\" fill=\"#000000\">1 </text>\n",
       "</g>\n",
       "<!-- \\(F_S01\\)&#45;&gt;\\(I_I\\) -->\n",
       "<g id=\"edge8\" class=\"edge\">\n",
       "<title>\\(F_S01\\)&#45;&gt;\\(I_I\\)</title>\n",
       "<path fill=\"none\" stroke=\"#000000\" d=\"M326.8556,-64.6749C290.8351,-56.0375 238.0814,-47.4374 192.5952,-56 179.0662,-58.5468 164.8394,-63.4894 152.4974,-68.5828\"/>\n",
       "<polygon fill=\"#000000\" stroke=\"#000000\" points=\"150.8485,-65.4823 143.0528,-72.6571 153.6212,-71.9098 150.8485,-65.4823\"/>\n",
       "<text text-anchor=\"middle\" x=\"235.4913\" y=\"-59.8\" font-family=\"Times,serif\" font-size=\"14.00\" fill=\"#000000\">1 </text>\n",
       "</g>\n",
       "<!-- \\(F_S010\\) -->\n",
       "<g id=\"node7\" class=\"node\">\n",
       "<title>\\(F_S010\\)</title>\n",
       "<ellipse fill=\"none\" stroke=\"#000000\" cx=\"509.8264\" cy=\"-77\" rx=\"44.7051\" ry=\"44.7051\"/>\n",
       "<ellipse fill=\"none\" stroke=\"#000000\" cx=\"509.8264\" cy=\"-77\" rx=\"48.6925\" ry=\"48.6925\"/>\n",
       "<text text-anchor=\"middle\" x=\"509.8264\" y=\"-73.3\" font-family=\"Times,serif\" font-size=\"14.00\" fill=\"#000000\">(F_S010)</text>\n",
       "</g>\n",
       "<!-- \\(F_S01\\)&#45;&gt;\\(F_S010\\) -->\n",
       "<g id=\"edge11\" class=\"edge\">\n",
       "<title>\\(F_S01\\)&#45;&gt;\\(F_S010\\)</title>\n",
       "<path fill=\"none\" stroke=\"#000000\" d=\"M414.0259,-77C425.6785,-77 438.4336,-77 450.7266,-77\"/>\n",
       "<polygon fill=\"#000000\" stroke=\"#000000\" points=\"450.9098,-80.5001 460.9098,-77 450.9097,-73.5001 450.9098,-80.5001\"/>\n",
       "<text text-anchor=\"middle\" x=\"437.4804\" y=\"-80.8\" font-family=\"Times,serif\" font-size=\"14.00\" fill=\"#000000\">0 </text>\n",
       "</g>\n",
       "<!-- \\(F_S0\\)&#45;&gt;\\(I_I\\) -->\n",
       "<g id=\"edge6\" class=\"edge\">\n",
       "<title>\\(F_S0\\)&#45;&gt;\\(I_I\\)</title>\n",
       "<path fill=\"none\" stroke=\"#000000\" d=\"M772.4552,-73.042C747.9073,-41.9254 705.7996,0 657.1182,0 235.4913,0 235.4913,0 235.4913,0 196.9357,0 162.507,-30.5197 141.1031,-54.9836\"/>\n",
       "<polygon fill=\"#000000\" stroke=\"#000000\" points=\"138.3944,-52.7665 134.6227,-62.6673 143.7454,-57.2795 138.3944,-52.7665\"/>\n",
       "<text text-anchor=\"middle\" x=\"437.4804\" y=\"-3.8\" font-family=\"Times,serif\" font-size=\"14.00\" fill=\"#000000\">1 </text>\n",
       "</g>\n",
       "<!-- \\(F_S0\\)&#45;&gt;\\(F_S0\\) -->\n",
       "<g id=\"edge13\" class=\"edge\">\n",
       "<title>\\(F_S0\\)&#45;&gt;\\(F_S0\\)</title>\n",
       "<path fill=\"none\" stroke=\"#000000\" d=\"M783.7206,-144.0428C784.1213,-155.1462 787.9847,-163.7468 795.3108,-163.7468 800.2331,-163.7468 803.5922,-159.8644 805.3882,-153.9489\"/>\n",
       "<polygon fill=\"#000000\" stroke=\"#000000\" points=\"808.8512,-154.4566 806.9011,-144.0428 801.9314,-153.3997 808.8512,-154.4566\"/>\n",
       "<text text-anchor=\"middle\" x=\"795.3108\" y=\"-167.5468\" font-family=\"Times,serif\" font-size=\"14.00\" fill=\"#000000\">0 </text>\n",
       "</g>\n",
       "<!-- \\(F_S010\\)&#45;&gt;\\(I_F0101\\) -->\n",
       "<g id=\"edge3\" class=\"edge\">\n",
       "<title>\\(F_S010\\)&#45;&gt;\\(I_F0101\\)</title>\n",
       "<path fill=\"none\" stroke=\"#000000\" d=\"M554.0188,-98.3023C568.9651,-105.507 585.8492,-113.6457 601.5621,-121.2199\"/>\n",
       "<polygon fill=\"#000000\" stroke=\"#000000\" points=\"600.1269,-124.4135 610.6548,-125.6029 603.1665,-118.1078 600.1269,-124.4135\"/>\n",
       "<text text-anchor=\"middle\" x=\"582.1724\" y=\"-115.8\" font-family=\"Times,serif\" font-size=\"14.00\" fill=\"#000000\">1 </text>\n",
       "</g>\n",
       "<!-- \\(F_S010\\)&#45;&gt;\\(F_S0\\) -->\n",
       "<g id=\"edge10\" class=\"edge\">\n",
       "<title>\\(F_S010\\)&#45;&gt;\\(F_S0\\)</title>\n",
       "<path fill=\"none\" stroke=\"#000000\" d=\"M558.4556,-70.6166C598.9638,-66.5854 657.991,-63.7055 708.564,-73 722.203,-75.5066 736.4755,-80.0575 749.4143,-84.9948\"/>\n",
       "<polygon fill=\"#000000\" stroke=\"#000000\" points=\"748.4307,-88.3704 759.016,-88.8183 751.0204,-81.867 748.4307,-88.3704\"/>\n",
       "<text text-anchor=\"middle\" x=\"657.1182\" y=\"-76.8\" font-family=\"Times,serif\" font-size=\"14.00\" fill=\"#000000\">0 </text>\n",
       "</g>\n",
       "</g>\n",
       "</svg>\n"
      ],
      "text/plain": [
       "<graphviz.dot.Digraph at 0x7ffd60648450>"
      ]
     },
     "execution_count": 71,
     "metadata": {},
     "output_type": "execute_result"
    }
   ],
   "source": [
    "dotObj_dfa(Minodd1sORends0101)"
   ]
  },
  {
   "cell_type": "markdown",
   "metadata": {
    "run_control": {
     "frozen": false,
     "read_only": false
    }
   },
   "source": [
    "## Minimization vs. Isomorphism vs. Lang. Eql.\n",
    "\n",
    "After minimization, we may not have isomorphic DFA, but we \n",
    "will have language-equivalent DFA"
   ]
  },
  {
   "cell_type": "code",
   "execution_count": 72,
   "metadata": {
    "run_control": {
     "frozen": false,
     "read_only": false
    }
   },
   "outputs": [
    {
     "data": {
      "text/plain": [
       "False"
      ]
     },
     "execution_count": 72,
     "metadata": {},
     "output_type": "execute_result"
    }
   ],
   "source": [
    "iso_dfa(odd1sORends0101, Minodd1sORends0101)"
   ]
  },
  {
   "cell_type": "code",
   "execution_count": 73,
   "metadata": {
    "run_control": {
     "frozen": false,
     "read_only": false
    }
   },
   "outputs": [
    {
     "data": {
      "text/plain": [
       "True"
      ]
     },
     "execution_count": 73,
     "metadata": {},
     "output_type": "execute_result"
    }
   ],
   "source": [
    "langeq_dfa(odd1sORends0101, Minodd1sORends0101)"
   ]
  },
  {
   "cell_type": "markdown",
   "metadata": {
    "run_control": {
     "frozen": false,
     "read_only": false
    }
   },
   "source": [
    "## Now define \"odd 1s\" AND \"ends in 0101\"\n",
    "\n",
    "Define the and of these machines and minimize it"
   ]
  },
  {
   "cell_type": "code",
   "execution_count": 74,
   "metadata": {
    "run_control": {
     "frozen": false,
     "read_only": false
    }
   },
   "outputs": [],
   "source": [
    "odd1sANDends0101 = intersect_dfa(dfaOdd1s,ends0101)"
   ]
  },
  {
   "cell_type": "code",
   "execution_count": 75,
   "metadata": {
    "run_control": {
     "frozen": false,
     "read_only": false
    }
   },
   "outputs": [
    {
     "data": {
      "image/svg+xml": [
       "<?xml version=\"1.0\" encoding=\"UTF-8\" standalone=\"no\"?>\n",
       "<!DOCTYPE svg PUBLIC \"-//W3C//DTD SVG 1.1//EN\"\n",
       " \"http://www.w3.org/Graphics/SVG/1.1/DTD/svg11.dtd\">\n",
       "<!-- Generated by graphviz version 2.40.1 (20161225.0304)\n",
       " -->\n",
       "<!-- Title: %3 Pages: 1 -->\n",
       "<svg width=\"1194pt\" height=\"412pt\"\n",
       " viewBox=\"0.00 0.00 1194.04 412.00\" xmlns=\"http://www.w3.org/2000/svg\" xmlns:xlink=\"http://www.w3.org/1999/xlink\">\n",
       "<g id=\"graph0\" class=\"graph\" transform=\"scale(1 1) rotate(0) translate(4 408)\">\n",
       "<title>%3</title>\n",
       "<polygon fill=\"#ffffff\" stroke=\"transparent\" points=\"-4,4 -4,-408 1190.0369,-408 1190.0369,4 -4,4\"/>\n",
       "<!-- EMPTY -->\n",
       "<g id=\"node1\" class=\"node\">\n",
       "<title>EMPTY</title>\n",
       "</g>\n",
       "<!-- \\(I_I\\) -->\n",
       "<g id=\"node2\" class=\"node\">\n",
       "<title>\\(I_I\\)</title>\n",
       "<ellipse fill=\"none\" stroke=\"#000000\" cx=\"118.2976\" cy=\"-170\" rx=\"27.0966\" ry=\"27.0966\"/>\n",
       "<text text-anchor=\"middle\" x=\"118.2976\" y=\"-166.3\" font-family=\"Times,serif\" font-size=\"14.00\" fill=\"#000000\">(I_I)</text>\n",
       "</g>\n",
       "<!-- EMPTY&#45;&gt;\\(I_I\\) -->\n",
       "<g id=\"edge1\" class=\"edge\">\n",
       "<title>EMPTY&#45;&gt;\\(I_I\\)</title>\n",
       "<path fill=\"none\" stroke=\"#000000\" d=\"M54.3923,-170C62.6976,-170 71.9683,-170 80.8159,-170\"/>\n",
       "<polygon fill=\"#000000\" stroke=\"#000000\" points=\"80.9247,-173.5001 90.9246,-170 80.9246,-166.5001 80.9247,-173.5001\"/>\n",
       "</g>\n",
       "<!-- \\(F_I\\) -->\n",
       "<g id=\"node9\" class=\"node\">\n",
       "<title>\\(F_I\\)</title>\n",
       "<ellipse fill=\"none\" stroke=\"#000000\" cx=\"221.8426\" cy=\"-241\" rx=\"29.4969\" ry=\"29.4969\"/>\n",
       "<text text-anchor=\"middle\" x=\"221.8426\" y=\"-237.3\" font-family=\"Times,serif\" font-size=\"14.00\" fill=\"#000000\">(F_I)</text>\n",
       "</g>\n",
       "<!-- \\(I_I\\)&#45;&gt;\\(F_I\\) -->\n",
       "<g id=\"edge10\" class=\"edge\">\n",
       "<title>\\(I_I\\)&#45;&gt;\\(F_I\\)</title>\n",
       "<path fill=\"none\" stroke=\"#000000\" d=\"M134.9566,-192.188C142.8191,-201.4648 152.8344,-211.75 163.5952,-219 169.8201,-223.194 176.9534,-226.7314 184.0444,-229.6599\"/>\n",
       "<polygon fill=\"#000000\" stroke=\"#000000\" points=\"183.0071,-233.0096 193.5985,-233.2802 185.4875,-226.4638 183.0071,-233.0096\"/>\n",
       "<text text-anchor=\"middle\" x=\"169.0952\" y=\"-227.8\" font-family=\"Times,serif\" font-size=\"14.00\" fill=\"#000000\">1 </text>\n",
       "</g>\n",
       "<!-- \\(I_S0\\) -->\n",
       "<g id=\"node10\" class=\"node\">\n",
       "<title>\\(I_S0\\)</title>\n",
       "<ellipse fill=\"none\" stroke=\"#000000\" cx=\"726.4648\" cy=\"-62\" rx=\"33.5952\" ry=\"33.5952\"/>\n",
       "<text text-anchor=\"middle\" x=\"726.4648\" y=\"-58.3\" font-family=\"Times,serif\" font-size=\"14.00\" fill=\"#000000\">(I_S0)</text>\n",
       "</g>\n",
       "<!-- \\(I_I\\)&#45;&gt;\\(I_S0\\) -->\n",
       "<g id=\"edge2\" class=\"edge\">\n",
       "<title>\\(I_I\\)&#45;&gt;\\(I_S0\\)</title>\n",
       "<path fill=\"none\" stroke=\"#000000\" d=\"M135.1701,-148.0976C153.8158,-126.595 185.9908,-97 221.8426,-97 221.8426,-97 221.8426,-97 583.173,-97 618.336,-97 657.0022,-86.9308 685.2975,-77.594\"/>\n",
       "<polygon fill=\"#000000\" stroke=\"#000000\" points=\"686.5134,-80.8774 694.8506,-74.3397 684.2562,-74.2513 686.5134,-80.8774\"/>\n",
       "<text text-anchor=\"middle\" x=\"393.0836\" y=\"-100.8\" font-family=\"Times,serif\" font-size=\"14.00\" fill=\"#000000\">0 </text>\n",
       "</g>\n",
       "<!-- \\(F_S010\\) -->\n",
       "<g id=\"node3\" class=\"node\">\n",
       "<title>\\(F_S010\\)</title>\n",
       "<ellipse fill=\"none\" stroke=\"#000000\" cx=\"999.2993\" cy=\"-203\" rx=\"44.6926\" ry=\"44.6926\"/>\n",
       "<text text-anchor=\"middle\" x=\"999.2993\" y=\"-199.3\" font-family=\"Times,serif\" font-size=\"14.00\" fill=\"#000000\">(F_S010)</text>\n",
       "</g>\n",
       "<!-- \\(I_F0101\\) -->\n",
       "<g id=\"node4\" class=\"node\">\n",
       "<title>\\(I_F0101\\)</title>\n",
       "<ellipse fill=\"none\" stroke=\"#000000\" cx=\"1138.5911\" cy=\"-278\" rx=\"47.3916\" ry=\"47.3916\"/>\n",
       "<text text-anchor=\"middle\" x=\"1138.5911\" y=\"-274.3\" font-family=\"Times,serif\" font-size=\"14.00\" fill=\"#000000\">(I_F0101)</text>\n",
       "</g>\n",
       "<!-- \\(F_S010\\)&#45;&gt;\\(I_F0101\\) -->\n",
       "<g id=\"edge3\" class=\"edge\">\n",
       "<title>\\(F_S010\\)&#45;&gt;\\(I_F0101\\)</title>\n",
       "<path fill=\"none\" stroke=\"#000000\" d=\"M1038.8422,-224.2914C1053.9029,-232.4006 1071.2893,-241.7621 1087.2858,-250.3752\"/>\n",
       "<polygon fill=\"#000000\" stroke=\"#000000\" points=\"1086.0514,-253.6857 1096.5156,-255.3449 1089.3701,-247.5224 1086.0514,-253.6857\"/>\n",
       "<text text-anchor=\"middle\" x=\"1067.6453\" y=\"-245.8\" font-family=\"Times,serif\" font-size=\"14.00\" fill=\"#000000\">1 </text>\n",
       "</g>\n",
       "<!-- \\(F_S0\\) -->\n",
       "<g id=\"node7\" class=\"node\">\n",
       "<title>\\(F_S0\\)</title>\n",
       "<ellipse fill=\"none\" stroke=\"#000000\" cx=\"333.8368\" cy=\"-241\" rx=\"35.9954\" ry=\"35.9954\"/>\n",
       "<text text-anchor=\"middle\" x=\"333.8368\" y=\"-237.3\" font-family=\"Times,serif\" font-size=\"14.00\" fill=\"#000000\">(F_S0)</text>\n",
       "</g>\n",
       "<!-- \\(F_S010\\)&#45;&gt;\\(F_S0\\) -->\n",
       "<g id=\"edge11\" class=\"edge\">\n",
       "<title>\\(F_S010\\)&#45;&gt;\\(F_S0\\)</title>\n",
       "<path fill=\"none\" stroke=\"#000000\" d=\"M976.9626,-242.2923C954.2055,-276.6186 915.4452,-321 867.1569,-321 454.9302,-321 454.9302,-321 454.9302,-321 419.8418,-321 387.0952,-297.3272 364.5256,-275.7365\"/>\n",
       "<polygon fill=\"#000000\" stroke=\"#000000\" points=\"366.834,-273.0963 357.273,-268.5315 361.9006,-278.0623 366.834,-273.0963\"/>\n",
       "<text text-anchor=\"middle\" x=\"649.5692\" y=\"-324.8\" font-family=\"Times,serif\" font-size=\"14.00\" fill=\"#000000\">0 </text>\n",
       "</g>\n",
       "<!-- \\(I_S010\\) -->\n",
       "<g id=\"node5\" class=\"node\">\n",
       "<title>\\(I_S010\\)</title>\n",
       "<ellipse fill=\"none\" stroke=\"#000000\" cx=\"583.173\" cy=\"-241\" rx=\"42.7926\" ry=\"42.7926\"/>\n",
       "<text text-anchor=\"middle\" x=\"583.173\" y=\"-237.3\" font-family=\"Times,serif\" font-size=\"14.00\" fill=\"#000000\">(I_S010)</text>\n",
       "</g>\n",
       "<!-- \\(I_F0101\\)&#45;&gt;\\(I_S010\\) -->\n",
       "<g id=\"edge5\" class=\"edge\">\n",
       "<title>\\(I_F0101\\)&#45;&gt;\\(I_S010\\)</title>\n",
       "<path fill=\"none\" stroke=\"#000000\" d=\"M1091.0912,-279.4098C1006.5933,-281.2421 824.7812,-282.1311 673.0692,-262 660.5327,-260.3365 647.1838,-257.7034 634.7144,-254.8564\"/>\n",
       "<polygon fill=\"#000000\" stroke=\"#000000\" points=\"635.4724,-251.4392 624.9351,-252.5418 633.8601,-258.251 635.4724,-251.4392\"/>\n",
       "<text text-anchor=\"middle\" x=\"867.1569\" y=\"-281.8\" font-family=\"Times,serif\" font-size=\"14.00\" fill=\"#000000\">0 </text>\n",
       "</g>\n",
       "<!-- \\(I_F0101\\)&#45;&gt;\\(F_I\\) -->\n",
       "<g id=\"edge14\" class=\"edge\">\n",
       "<title>\\(I_F0101\\)&#45;&gt;\\(F_I\\)</title>\n",
       "<path fill=\"none\" stroke=\"#000000\" d=\"M1112.0658,-317.447C1087.1235,-349.3516 1046.6098,-389 999.2993,-389 333.8368,-389 333.8368,-389 333.8368,-389 278.7172,-389 247.2545,-322.9167 232.4443,-279.0656\"/>\n",
       "<polygon fill=\"#000000\" stroke=\"#000000\" points=\"235.7706,-277.9763 229.3668,-269.5359 229.1094,-280.1276 235.7706,-277.9763\"/>\n",
       "<text text-anchor=\"middle\" x=\"649.5692\" y=\"-392.8\" font-family=\"Times,serif\" font-size=\"14.00\" fill=\"#000000\">1 </text>\n",
       "</g>\n",
       "<!-- \\(I_S010\\)&#45;&gt;\\(I_S0\\) -->\n",
       "<g id=\"edge7\" class=\"edge\">\n",
       "<title>\\(I_S010\\)&#45;&gt;\\(I_S0\\)</title>\n",
       "<path fill=\"none\" stroke=\"#000000\" d=\"M610.1251,-207.3315C635.428,-175.7231 673.1138,-128.646 698.6831,-96.7049\"/>\n",
       "<polygon fill=\"#000000\" stroke=\"#000000\" points=\"701.713,-98.5205 705.2301,-88.5265 696.2483,-94.1459 701.713,-98.5205\"/>\n",
       "<text text-anchor=\"middle\" x=\"649.5692\" y=\"-166.8\" font-family=\"Times,serif\" font-size=\"14.00\" fill=\"#000000\">0 </text>\n",
       "</g>\n",
       "<!-- \\(F_F0101\\) -->\n",
       "<g id=\"node11\" class=\"node\">\n",
       "<title>\\(F_F0101\\)</title>\n",
       "<ellipse fill=\"none\" stroke=\"#000000\" cx=\"726.4648\" cy=\"-200\" rx=\"49.2992\" ry=\"49.2992\"/>\n",
       "<ellipse fill=\"none\" stroke=\"#000000\" cx=\"726.4648\" cy=\"-200\" rx=\"53.2914\" ry=\"53.2914\"/>\n",
       "<text text-anchor=\"middle\" x=\"726.4648\" y=\"-196.3\" font-family=\"Times,serif\" font-size=\"14.00\" fill=\"#000000\">(F_F0101)</text>\n",
       "</g>\n",
       "<!-- \\(I_S010\\)&#45;&gt;\\(F_F0101\\) -->\n",
       "<g id=\"edge16\" class=\"edge\">\n",
       "<title>\\(I_S010\\)&#45;&gt;\\(F_F0101\\)</title>\n",
       "<path fill=\"none\" stroke=\"#000000\" d=\"M624.6189,-229.1411C637.2562,-225.5252 651.4277,-221.4703 665.0904,-217.561\"/>\n",
       "<polygon fill=\"#000000\" stroke=\"#000000\" points=\"666.2685,-220.8645 674.9198,-214.7485 664.3428,-214.1345 666.2685,-220.8645\"/>\n",
       "<text text-anchor=\"middle\" x=\"649.5692\" y=\"-225.8\" font-family=\"Times,serif\" font-size=\"14.00\" fill=\"#000000\">1 </text>\n",
       "</g>\n",
       "<!-- \\(F_S01\\) -->\n",
       "<g id=\"node6\" class=\"node\">\n",
       "<title>\\(F_S01\\)</title>\n",
       "<ellipse fill=\"none\" stroke=\"#000000\" cx=\"867.1569\" cy=\"-62\" rx=\"40.0939\" ry=\"40.0939\"/>\n",
       "<text text-anchor=\"middle\" x=\"867.1569\" y=\"-58.3\" font-family=\"Times,serif\" font-size=\"14.00\" fill=\"#000000\">(F_S01)</text>\n",
       "</g>\n",
       "<!-- \\(F_S01\\)&#45;&gt;\\(I_I\\) -->\n",
       "<g id=\"edge20\" class=\"edge\">\n",
       "<title>\\(F_S01\\)&#45;&gt;\\(I_I\\)</title>\n",
       "<path fill=\"none\" stroke=\"#000000\" d=\"M834.2569,-38.2065C806.8201,-20.7222 765.9694,0 726.4648,0 221.8426,0 221.8426,0 221.8426,0 160.0918,0 134.0975,-82.826 124.0289,-132.852\"/>\n",
       "<polygon fill=\"#000000\" stroke=\"#000000\" points=\"120.5883,-132.2102 122.1682,-142.6866 127.4663,-133.5116 120.5883,-132.2102\"/>\n",
       "<text text-anchor=\"middle\" x=\"454.9302\" y=\"-3.8\" font-family=\"Times,serif\" font-size=\"14.00\" fill=\"#000000\">1 </text>\n",
       "</g>\n",
       "<!-- \\(F_S01\\)&#45;&gt;\\(F_S010\\) -->\n",
       "<g id=\"edge13\" class=\"edge\">\n",
       "<title>\\(F_S01\\)&#45;&gt;\\(F_S010\\)</title>\n",
       "<path fill=\"none\" stroke=\"#000000\" d=\"M894.8582,-91.5582C914.1686,-112.1629 940.1707,-139.908 961.399,-162.5592\"/>\n",
       "<polygon fill=\"#000000\" stroke=\"#000000\" points=\"959.0066,-165.1248 968.3986,-170.028 964.1142,-160.3381 959.0066,-165.1248\"/>\n",
       "<text text-anchor=\"middle\" x=\"930.9533\" y=\"-136.8\" font-family=\"Times,serif\" font-size=\"14.00\" fill=\"#000000\">0 </text>\n",
       "</g>\n",
       "<!-- \\(F_S0\\)&#45;&gt;\\(F_S0\\) -->\n",
       "<g id=\"edge15\" class=\"edge\">\n",
       "<title>\\(F_S0\\)&#45;&gt;\\(F_S0\\)</title>\n",
       "<path fill=\"none\" stroke=\"#000000\" d=\"M322.9644,-275.115C323.076,-286.0668 326.7001,-294.7468 333.8368,-294.7468 338.5203,-294.7468 341.691,-291.0086 343.349,-285.3434\"/>\n",
       "<polygon fill=\"#000000\" stroke=\"#000000\" points=\"346.8603,-285.4891 344.7091,-275.115 339.9214,-284.5663 346.8603,-285.4891\"/>\n",
       "<text text-anchor=\"middle\" x=\"333.8368\" y=\"-298.5468\" font-family=\"Times,serif\" font-size=\"14.00\" fill=\"#000000\">0 </text>\n",
       "</g>\n",
       "<!-- \\(I_S01\\) -->\n",
       "<g id=\"node8\" class=\"node\">\n",
       "<title>\\(I_S01\\)</title>\n",
       "<ellipse fill=\"none\" stroke=\"#000000\" cx=\"454.9302\" cy=\"-241\" rx=\"38.1938\" ry=\"38.1938\"/>\n",
       "<text text-anchor=\"middle\" x=\"454.9302\" y=\"-237.3\" font-family=\"Times,serif\" font-size=\"14.00\" fill=\"#000000\">(I_S01)</text>\n",
       "</g>\n",
       "<!-- \\(F_S0\\)&#45;&gt;\\(I_S01\\) -->\n",
       "<g id=\"edge6\" class=\"edge\">\n",
       "<title>\\(F_S0\\)&#45;&gt;\\(I_S01\\)</title>\n",
       "<path fill=\"none\" stroke=\"#000000\" d=\"M369.841,-241C381.2789,-241 394.1234,-241 406.2987,-241\"/>\n",
       "<polygon fill=\"#000000\" stroke=\"#000000\" points=\"406.323,-244.5001 416.3229,-241 406.3229,-237.5001 406.323,-244.5001\"/>\n",
       "<text text-anchor=\"middle\" x=\"393.0836\" y=\"-244.8\" font-family=\"Times,serif\" font-size=\"14.00\" fill=\"#000000\">1 </text>\n",
       "</g>\n",
       "<!-- \\(I_S01\\)&#45;&gt;\\(I_S010\\) -->\n",
       "<g id=\"edge12\" class=\"edge\">\n",
       "<title>\\(I_S01\\)&#45;&gt;\\(I_S010\\)</title>\n",
       "<path fill=\"none\" stroke=\"#000000\" d=\"M493.4073,-241C504.9352,-241 517.7871,-241 530.0813,-241\"/>\n",
       "<polygon fill=\"#000000\" stroke=\"#000000\" points=\"530.236,-244.5001 540.236,-241 530.2359,-237.5001 530.236,-244.5001\"/>\n",
       "<text text-anchor=\"middle\" x=\"516.7768\" y=\"-244.8\" font-family=\"Times,serif\" font-size=\"14.00\" fill=\"#000000\">0 </text>\n",
       "</g>\n",
       "<!-- \\(I_S01\\)&#45;&gt;\\(F_I\\) -->\n",
       "<g id=\"edge17\" class=\"edge\">\n",
       "<title>\\(I_S01\\)&#45;&gt;\\(F_I\\)</title>\n",
       "<path fill=\"none\" stroke=\"#000000\" d=\"M431.2906,-271.8239C415.8715,-289.2838 394.0976,-309.4856 369.5836,-319 339.9616,-330.497 327.3766,-331.3263 298.09,-319 276.1907,-309.7829 257.4423,-290.8643 244.0165,-273.9678\"/>\n",
       "<polygon fill=\"#000000\" stroke=\"#000000\" points=\"246.7059,-271.7223 237.8628,-265.887 241.1368,-275.9633 246.7059,-271.7223\"/>\n",
       "<text text-anchor=\"middle\" x=\"333.8368\" y=\"-330.8\" font-family=\"Times,serif\" font-size=\"14.00\" fill=\"#000000\">1 </text>\n",
       "</g>\n",
       "<!-- \\(F_I\\)&#45;&gt;\\(I_I\\) -->\n",
       "<g id=\"edge19\" class=\"edge\">\n",
       "<title>\\(F_I\\)&#45;&gt;\\(I_I\\)</title>\n",
       "<path fill=\"none\" stroke=\"#000000\" d=\"M200.5617,-220.7338C192.7127,-213.7535 183.5454,-206.1517 174.5952,-200 167.6643,-195.2363 159.8917,-190.659 152.3864,-186.5767\"/>\n",
       "<polygon fill=\"#000000\" stroke=\"#000000\" points=\"153.5859,-183.2529 143.1064,-181.6938 150.3263,-189.4477 153.5859,-183.2529\"/>\n",
       "<text text-anchor=\"middle\" x=\"169.0952\" y=\"-203.8\" font-family=\"Times,serif\" font-size=\"14.00\" fill=\"#000000\">1 </text>\n",
       "</g>\n",
       "<!-- \\(F_I\\)&#45;&gt;\\(F_S0\\) -->\n",
       "<g id=\"edge21\" class=\"edge\">\n",
       "<title>\\(F_I\\)&#45;&gt;\\(F_S0\\)</title>\n",
       "<path fill=\"none\" stroke=\"#000000\" d=\"M251.2677,-241C262.4067,-241 275.3718,-241 287.6818,-241\"/>\n",
       "<polygon fill=\"#000000\" stroke=\"#000000\" points=\"287.8136,-244.5001 297.8136,-241 287.8136,-237.5001 287.8136,-244.5001\"/>\n",
       "<text text-anchor=\"middle\" x=\"274.59\" y=\"-244.8\" font-family=\"Times,serif\" font-size=\"14.00\" fill=\"#000000\">0 </text>\n",
       "</g>\n",
       "<!-- \\(I_S0\\)&#45;&gt;\\(F_S01\\) -->\n",
       "<g id=\"edge4\" class=\"edge\">\n",
       "<title>\\(I_S0\\)&#45;&gt;\\(F_S01\\)</title>\n",
       "<path fill=\"none\" stroke=\"#000000\" d=\"M760.5224,-62C777.3338,-62 797.9527,-62 816.5642,-62\"/>\n",
       "<polygon fill=\"#000000\" stroke=\"#000000\" points=\"816.6605,-65.5001 826.6605,-62 816.6605,-58.5001 816.6605,-65.5001\"/>\n",
       "<text text-anchor=\"middle\" x=\"803.3604\" y=\"-65.8\" font-family=\"Times,serif\" font-size=\"14.00\" fill=\"#000000\">1 </text>\n",
       "</g>\n",
       "<!-- \\(I_S0\\)&#45;&gt;\\(I_S0\\) -->\n",
       "<g id=\"edge9\" class=\"edge\">\n",
       "<title>\\(I_S0\\)&#45;&gt;\\(I_S0\\)</title>\n",
       "<path fill=\"none\" stroke=\"#000000\" d=\"M712.2461,-92.8421C711.7799,-104.3359 716.5195,-113.797 726.4648,-113.797 733.3022,-113.797 737.6791,-109.3251 739.5954,-102.7953\"/>\n",
       "<polygon fill=\"#000000\" stroke=\"#000000\" points=\"743.076,-103.1632 740.6835,-92.8421 736.1174,-102.4025 743.076,-103.1632\"/>\n",
       "<text text-anchor=\"middle\" x=\"726.4648\" y=\"-117.597\" font-family=\"Times,serif\" font-size=\"14.00\" fill=\"#000000\">0 </text>\n",
       "</g>\n",
       "<!-- \\(F_F0101\\)&#45;&gt;\\(I_I\\) -->\n",
       "<g id=\"edge8\" class=\"edge\">\n",
       "<title>\\(F_F0101\\)&#45;&gt;\\(I_I\\)</title>\n",
       "<path fill=\"none\" stroke=\"#000000\" d=\"M675.2724,-183.9461C648.1778,-176.8134 614.181,-170 583.173,-170 221.8426,-170 221.8426,-170 221.8426,-170 200.0523,-170 175.6826,-170 156.0616,-170\"/>\n",
       "<polygon fill=\"#000000\" stroke=\"#000000\" points=\"155.9852,-166.5001 145.9852,-170 155.9851,-173.5001 155.9852,-166.5001\"/>\n",
       "<text text-anchor=\"middle\" x=\"393.0836\" y=\"-173.8\" font-family=\"Times,serif\" font-size=\"14.00\" fill=\"#000000\">1 </text>\n",
       "</g>\n",
       "<!-- \\(F_F0101\\)&#45;&gt;\\(F_S010\\) -->\n",
       "<g id=\"edge18\" class=\"edge\">\n",
       "<title>\\(F_F0101\\)&#45;&gt;\\(F_S010\\)</title>\n",
       "<path fill=\"none\" stroke=\"#000000\" d=\"M780.0426,-200.5891C827.4649,-201.1106 896.382,-201.8684 944.2442,-202.3946\"/>\n",
       "<polygon fill=\"#000000\" stroke=\"#000000\" points=\"944.385,-205.8963 954.423,-202.5066 944.4621,-198.8967 944.385,-205.8963\"/>\n",
       "<text text-anchor=\"middle\" x=\"867.1569\" y=\"-205.8\" font-family=\"Times,serif\" font-size=\"14.00\" fill=\"#000000\">0 </text>\n",
       "</g>\n",
       "</g>\n",
       "</svg>\n"
      ],
      "text/plain": [
       "<graphviz.dot.Digraph at 0x7ffd60651710>"
      ]
     },
     "execution_count": 75,
     "metadata": {},
     "output_type": "execute_result"
    }
   ],
   "source": [
    "dotObj_dfa(odd1sANDends0101)"
   ]
  },
  {
   "cell_type": "code",
   "execution_count": 76,
   "metadata": {
    "run_control": {
     "frozen": false,
     "read_only": false
    }
   },
   "outputs": [],
   "source": [
    "Minodd1sANDends0101 = min_dfa(odd1sANDends0101)"
   ]
  },
  {
   "cell_type": "code",
   "execution_count": 77,
   "metadata": {
    "run_control": {
     "frozen": false,
     "read_only": false
    }
   },
   "outputs": [
    {
     "data": {
      "image/svg+xml": [
       "<?xml version=\"1.0\" encoding=\"UTF-8\" standalone=\"no\"?>\n",
       "<!DOCTYPE svg PUBLIC \"-//W3C//DTD SVG 1.1//EN\"\n",
       " \"http://www.w3.org/Graphics/SVG/1.1/DTD/svg11.dtd\">\n",
       "<!-- Generated by graphviz version 2.40.1 (20161225.0304)\n",
       " -->\n",
       "<!-- Title: %3 Pages: 1 -->\n",
       "<svg width=\"828pt\" height=\"243pt\"\n",
       " viewBox=\"0.00 0.00 828.16 243.00\" xmlns=\"http://www.w3.org/2000/svg\" xmlns:xlink=\"http://www.w3.org/1999/xlink\">\n",
       "<g id=\"graph0\" class=\"graph\" transform=\"scale(1 1) rotate(0) translate(4 239)\">\n",
       "<title>%3</title>\n",
       "<polygon fill=\"#ffffff\" stroke=\"transparent\" points=\"-4,4 -4,-239 824.1569,-239 824.1569,4 -4,4\"/>\n",
       "<!-- EMPTY -->\n",
       "<g id=\"node1\" class=\"node\">\n",
       "<title>EMPTY</title>\n",
       "</g>\n",
       "<!-- \\(I_I\\) -->\n",
       "<g id=\"node2\" class=\"node\">\n",
       "<title>\\(I_I\\)</title>\n",
       "<ellipse fill=\"none\" stroke=\"#000000\" cx=\"118.2976\" cy=\"-92\" rx=\"27.0966\" ry=\"27.0966\"/>\n",
       "<text text-anchor=\"middle\" x=\"118.2976\" y=\"-88.3\" font-family=\"Times,serif\" font-size=\"14.00\" fill=\"#000000\">(I_I)</text>\n",
       "</g>\n",
       "<!-- EMPTY&#45;&gt;\\(I_I\\) -->\n",
       "<g id=\"edge1\" class=\"edge\">\n",
       "<title>EMPTY&#45;&gt;\\(I_I\\)</title>\n",
       "<path fill=\"none\" stroke=\"#000000\" d=\"M54.3923,-92C62.6976,-92 71.9683,-92 80.8159,-92\"/>\n",
       "<polygon fill=\"#000000\" stroke=\"#000000\" points=\"80.9247,-95.5001 90.9246,-92 80.9246,-88.5001 80.9247,-95.5001\"/>\n",
       "</g>\n",
       "<!-- \\(I_I\\)&#45;&gt;\\(I_I\\) -->\n",
       "<g id=\"edge2\" class=\"edge\">\n",
       "<title>\\(I_I\\)&#45;&gt;\\(I_I\\)</title>\n",
       "<path fill=\"none\" stroke=\"#000000\" d=\"M110.0979,-118.0673C109.6347,-128.5223 112.3679,-137.2976 118.2976,-137.2976 122.0963,-137.2976 124.5832,-133.6962 125.7582,-128.359\"/>\n",
       "<polygon fill=\"#000000\" stroke=\"#000000\" points=\"129.2719,-128.2924 126.4972,-118.0673 122.2899,-127.7909 129.2719,-128.2924\"/>\n",
       "<text text-anchor=\"middle\" x=\"118.2976\" y=\"-141.0976\" font-family=\"Times,serif\" font-size=\"14.00\" fill=\"#000000\">0 </text>\n",
       "</g>\n",
       "<!-- \\(F_S01\\) -->\n",
       "<g id=\"node4\" class=\"node\">\n",
       "<title>\\(F_S01\\)</title>\n",
       "<ellipse fill=\"none\" stroke=\"#000000\" cx=\"232.8916\" cy=\"-92\" rx=\"40.0939\" ry=\"40.0939\"/>\n",
       "<text text-anchor=\"middle\" x=\"232.8916\" y=\"-88.3\" font-family=\"Times,serif\" font-size=\"14.00\" fill=\"#000000\">(F_S01)</text>\n",
       "</g>\n",
       "<!-- \\(I_I\\)&#45;&gt;\\(F_S01\\) -->\n",
       "<g id=\"edge4\" class=\"edge\">\n",
       "<title>\\(I_I\\)&#45;&gt;\\(F_S01\\)</title>\n",
       "<path fill=\"none\" stroke=\"#000000\" d=\"M143.1843,-80.1653C149.683,-77.6201 156.7798,-75.3045 163.5952,-74 170.8133,-72.6184 178.3936,-72.8351 185.7838,-73.9856\"/>\n",
       "<polygon fill=\"#000000\" stroke=\"#000000\" points=\"185.1851,-77.4362 195.6916,-76.0707 186.6268,-70.5862 185.1851,-77.4362\"/>\n",
       "<text text-anchor=\"middle\" x=\"169.0952\" y=\"-77.8\" font-family=\"Times,serif\" font-size=\"14.00\" fill=\"#000000\">1 </text>\n",
       "</g>\n",
       "<!-- \\(I_F0101\\) -->\n",
       "<g id=\"node3\" class=\"node\">\n",
       "<title>\\(I_F0101\\)</title>\n",
       "<ellipse fill=\"none\" stroke=\"#000000\" cx=\"486.1275\" cy=\"-142\" rx=\"47.3916\" ry=\"47.3916\"/>\n",
       "<text text-anchor=\"middle\" x=\"486.1275\" y=\"-138.3\" font-family=\"Times,serif\" font-size=\"14.00\" fill=\"#000000\">(I_F0101)</text>\n",
       "</g>\n",
       "<!-- \\(I_F0101\\)&#45;&gt;\\(F_S01\\) -->\n",
       "<g id=\"edge10\" class=\"edge\">\n",
       "<title>\\(I_F0101\\)&#45;&gt;\\(F_S01\\)</title>\n",
       "<path fill=\"none\" stroke=\"#000000\" d=\"M438.7992,-148.3886C405.138,-151.3993 359.1642,-152.3716 320.188,-142 304.2658,-137.7631 288.2241,-129.8592 274.3131,-121.5662\"/>\n",
       "<polygon fill=\"#000000\" stroke=\"#000000\" points=\"275.8437,-118.3967 265.5019,-116.0949 272.151,-124.3436 275.8437,-118.3967\"/>\n",
       "<text text-anchor=\"middle\" x=\"355.9348\" y=\"-153.8\" font-family=\"Times,serif\" font-size=\"14.00\" fill=\"#000000\">1 </text>\n",
       "</g>\n",
       "<!-- \\(I_S010\\) -->\n",
       "<g id=\"node6\" class=\"node\">\n",
       "<title>\\(I_S010\\)</title>\n",
       "<ellipse fill=\"none\" stroke=\"#000000\" cx=\"623.4694\" cy=\"-142\" rx=\"42.7926\" ry=\"42.7926\"/>\n",
       "<text text-anchor=\"middle\" x=\"623.4694\" y=\"-138.3\" font-family=\"Times,serif\" font-size=\"14.00\" fill=\"#000000\">(I_S010)</text>\n",
       "</g>\n",
       "<!-- \\(I_F0101\\)&#45;&gt;\\(I_S010\\) -->\n",
       "<g id=\"edge5\" class=\"edge\">\n",
       "<title>\\(I_F0101\\)&#45;&gt;\\(I_S010\\)</title>\n",
       "<path fill=\"none\" stroke=\"#000000\" d=\"M533.7776,-142C545.5224,-142 558.1752,-142 570.1686,-142\"/>\n",
       "<polygon fill=\"#000000\" stroke=\"#000000\" points=\"570.4992,-145.5001 580.4992,-142 570.4991,-138.5001 570.4992,-145.5001\"/>\n",
       "<text text-anchor=\"middle\" x=\"557.0732\" y=\"-145.8\" font-family=\"Times,serif\" font-size=\"14.00\" fill=\"#000000\">0 </text>\n",
       "</g>\n",
       "<!-- \\(F_S01\\)&#45;&gt;\\(I_I\\) -->\n",
       "<g id=\"edge13\" class=\"edge\">\n",
       "<title>\\(F_S01\\)&#45;&gt;\\(I_I\\)</title>\n",
       "<path fill=\"none\" stroke=\"#000000\" d=\"M192.214,-92C180.42,-92 167.5975,-92 155.9944,-92\"/>\n",
       "<polygon fill=\"#000000\" stroke=\"#000000\" points=\"155.7457,-88.5001 145.7457,-92 155.7457,-95.5001 155.7457,-88.5001\"/>\n",
       "<text text-anchor=\"middle\" x=\"169.0952\" y=\"-95.8\" font-family=\"Times,serif\" font-size=\"14.00\" fill=\"#000000\">1 </text>\n",
       "</g>\n",
       "<!-- \\(F_S0\\) -->\n",
       "<g id=\"node5\" class=\"node\">\n",
       "<title>\\(F_S0\\)</title>\n",
       "<ellipse fill=\"none\" stroke=\"#000000\" cx=\"355.9348\" cy=\"-64\" rx=\"35.9954\" ry=\"35.9954\"/>\n",
       "<text text-anchor=\"middle\" x=\"355.9348\" y=\"-60.3\" font-family=\"Times,serif\" font-size=\"14.00\" fill=\"#000000\">(F_S0)</text>\n",
       "</g>\n",
       "<!-- \\(F_S01\\)&#45;&gt;\\(F_S0\\) -->\n",
       "<g id=\"edge9\" class=\"edge\">\n",
       "<title>\\(F_S01\\)&#45;&gt;\\(F_S0\\)</title>\n",
       "<path fill=\"none\" stroke=\"#000000\" d=\"M272.5005,-82.9865C284.8068,-80.186 298.4588,-77.0794 311.095,-74.2039\"/>\n",
       "<polygon fill=\"#000000\" stroke=\"#000000\" points=\"311.9921,-77.5893 320.9662,-71.9575 310.4388,-70.7638 311.9921,-77.5893\"/>\n",
       "<text text-anchor=\"middle\" x=\"296.688\" y=\"-81.8\" font-family=\"Times,serif\" font-size=\"14.00\" fill=\"#000000\">0 </text>\n",
       "</g>\n",
       "<!-- \\(F_S0\\)&#45;&gt;\\(I_F0101\\) -->\n",
       "<g id=\"edge3\" class=\"edge\">\n",
       "<title>\\(F_S0\\)&#45;&gt;\\(I_F0101\\)</title>\n",
       "<path fill=\"none\" stroke=\"#000000\" d=\"M386.7887,-82.4849C401.6443,-91.3851 419.8261,-102.2781 436.5553,-112.3007\"/>\n",
       "<polygon fill=\"#000000\" stroke=\"#000000\" points=\"434.7688,-115.3104 445.1459,-117.4474 438.3664,-109.3056 434.7688,-115.3104\"/>\n",
       "<text text-anchor=\"middle\" x=\"415.1817\" y=\"-104.8\" font-family=\"Times,serif\" font-size=\"14.00\" fill=\"#000000\">1 </text>\n",
       "</g>\n",
       "<!-- \\(F_S0\\)&#45;&gt;\\(F_S0\\) -->\n",
       "<g id=\"edge8\" class=\"edge\">\n",
       "<title>\\(F_S0\\)&#45;&gt;\\(F_S0\\)</title>\n",
       "<path fill=\"none\" stroke=\"#000000\" d=\"M345.0625,-98.115C345.174,-109.0668 348.7981,-117.7468 355.9348,-117.7468 360.6183,-117.7468 363.789,-114.0086 365.447,-108.3434\"/>\n",
       "<polygon fill=\"#000000\" stroke=\"#000000\" points=\"368.9583,-108.4891 366.8072,-98.115 362.0194,-107.5663 368.9583,-108.4891\"/>\n",
       "<text text-anchor=\"middle\" x=\"355.9348\" y=\"-121.5468\" font-family=\"Times,serif\" font-size=\"14.00\" fill=\"#000000\">0 </text>\n",
       "</g>\n",
       "<!-- \\(I_S010\\)&#45;&gt;\\(I_I\\) -->\n",
       "<g id=\"edge6\" class=\"edge\">\n",
       "<title>\\(I_S010\\)&#45;&gt;\\(I_I\\)</title>\n",
       "<path fill=\"none\" stroke=\"#000000\" d=\"M592.4311,-171.9338C566.2732,-193.9302 526.7107,-220 486.1275,-220 232.8916,-220 232.8916,-220 232.8916,-220 182.848,-220 149.178,-165.0185 131.9152,-127.1247\"/>\n",
       "<polygon fill=\"#000000\" stroke=\"#000000\" points=\"135.0951,-125.6609 127.8798,-117.9027 128.6822,-128.4671 135.0951,-125.6609\"/>\n",
       "<text text-anchor=\"middle\" x=\"355.9348\" y=\"-223.8\" font-family=\"Times,serif\" font-size=\"14.00\" fill=\"#000000\">0 </text>\n",
       "</g>\n",
       "<!-- \\(F_F0101\\) -->\n",
       "<g id=\"node7\" class=\"node\">\n",
       "<title>\\(F_F0101\\)</title>\n",
       "<ellipse fill=\"none\" stroke=\"#000000\" cx=\"766.7612\" cy=\"-64\" rx=\"49.2992\" ry=\"49.2992\"/>\n",
       "<ellipse fill=\"none\" stroke=\"#000000\" cx=\"766.7612\" cy=\"-64\" rx=\"53.2914\" ry=\"53.2914\"/>\n",
       "<text text-anchor=\"middle\" x=\"766.7612\" y=\"-60.3\" font-family=\"Times,serif\" font-size=\"14.00\" fill=\"#000000\">(F_F0101)</text>\n",
       "</g>\n",
       "<!-- \\(I_S010\\)&#45;&gt;\\(F_F0101\\) -->\n",
       "<g id=\"edge11\" class=\"edge\">\n",
       "<title>\\(I_S010\\)&#45;&gt;\\(F_F0101\\)</title>\n",
       "<path fill=\"none\" stroke=\"#000000\" d=\"M661.4928,-121.3022C676.6035,-113.0768 694.2948,-103.4467 710.8148,-94.4541\"/>\n",
       "<polygon fill=\"#000000\" stroke=\"#000000\" points=\"712.7386,-97.3919 719.8483,-89.5367 709.3919,-91.2437 712.7386,-97.3919\"/>\n",
       "<text text-anchor=\"middle\" x=\"689.8656\" y=\"-111.8\" font-family=\"Times,serif\" font-size=\"14.00\" fill=\"#000000\">1 </text>\n",
       "</g>\n",
       "<!-- \\(F_F0101\\)&#45;&gt;\\(I_I\\) -->\n",
       "<g id=\"edge7\" class=\"edge\">\n",
       "<title>\\(F_F0101\\)&#45;&gt;\\(I_I\\)</title>\n",
       "<path fill=\"none\" stroke=\"#000000\" d=\"M723.1624,-33.1248C695.8465,-16.7588 659.1612,0 623.4694,0 232.8916,0 232.8916,0 232.8916,0 193.2946,0 159.5904,-33.815 139.1879,-60.4434\"/>\n",
       "<polygon fill=\"#000000\" stroke=\"#000000\" points=\"136.1559,-58.658 133.0406,-68.7845 141.7909,-62.811 136.1559,-58.658\"/>\n",
       "<text text-anchor=\"middle\" x=\"415.1817\" y=\"-3.8\" font-family=\"Times,serif\" font-size=\"14.00\" fill=\"#000000\">1 </text>\n",
       "</g>\n",
       "<!-- \\(F_F0101\\)&#45;&gt;\\(F_S0\\) -->\n",
       "<g id=\"edge12\" class=\"edge\">\n",
       "<title>\\(F_F0101\\)&#45;&gt;\\(F_S0\\)</title>\n",
       "<path fill=\"none\" stroke=\"#000000\" d=\"M713.3397,-64C632.1723,-64 479.1319,-64 402.3462,-64\"/>\n",
       "<polygon fill=\"#000000\" stroke=\"#000000\" points=\"402.0329,-60.5001 392.0329,-64 402.0328,-67.5001 402.0329,-60.5001\"/>\n",
       "<text text-anchor=\"middle\" x=\"557.0732\" y=\"-67.8\" font-family=\"Times,serif\" font-size=\"14.00\" fill=\"#000000\">0 </text>\n",
       "</g>\n",
       "</g>\n",
       "</svg>\n"
      ],
      "text/plain": [
       "<graphviz.dot.Digraph at 0x7ffd606488d0>"
      ]
     },
     "execution_count": 77,
     "metadata": {},
     "output_type": "execute_result"
    }
   ],
   "source": [
    "dotObj_dfa(Minodd1sANDends0101)"
   ]
  },
  {
   "cell_type": "markdown",
   "metadata": {
    "run_control": {
     "frozen": false,
     "read_only": false
    }
   },
   "source": [
    "## Now, complement the individual machines"
   ]
  },
  {
   "cell_type": "code",
   "execution_count": 78,
   "metadata": {
    "run_control": {
     "frozen": false,
     "read_only": false
    }
   },
   "outputs": [],
   "source": [
    "CdfaOdd1s = comp_dfa(dfaOdd1s)"
   ]
  },
  {
   "cell_type": "code",
   "execution_count": 79,
   "metadata": {
    "run_control": {
     "frozen": false,
     "read_only": false
    }
   },
   "outputs": [],
   "source": [
    "Cends0101 = comp_dfa(ends0101)"
   ]
  },
  {
   "cell_type": "markdown",
   "metadata": {
    "run_control": {
     "frozen": false,
     "read_only": false
    }
   },
   "source": [
    "## Complement of the union of the complements\n",
    "\n",
    "The complement of the union of the complements of M1 and M2 is of course the intersection of M1 and M2! Let us check that!\n"
   ]
  },
  {
   "cell_type": "code",
   "execution_count": 80,
   "metadata": {
    "run_control": {
     "frozen": false,
     "read_only": false
    }
   },
   "outputs": [],
   "source": [
    "C_CdfaOdd1sORCends0101 = comp_dfa(union_dfa(CdfaOdd1s, Cends0101))"
   ]
  },
  {
   "cell_type": "code",
   "execution_count": 81,
   "metadata": {
    "run_control": {
     "frozen": false,
     "read_only": false
    }
   },
   "outputs": [
    {
     "data": {
      "image/svg+xml": [
       "<?xml version=\"1.0\" encoding=\"UTF-8\" standalone=\"no\"?>\n",
       "<!DOCTYPE svg PUBLIC \"-//W3C//DTD SVG 1.1//EN\"\n",
       " \"http://www.w3.org/Graphics/SVG/1.1/DTD/svg11.dtd\">\n",
       "<!-- Generated by graphviz version 2.40.1 (20161225.0304)\n",
       " -->\n",
       "<!-- Title: %3 Pages: 1 -->\n",
       "<svg width=\"1194pt\" height=\"412pt\"\n",
       " viewBox=\"0.00 0.00 1194.04 412.00\" xmlns=\"http://www.w3.org/2000/svg\" xmlns:xlink=\"http://www.w3.org/1999/xlink\">\n",
       "<g id=\"graph0\" class=\"graph\" transform=\"scale(1 1) rotate(0) translate(4 408)\">\n",
       "<title>%3</title>\n",
       "<polygon fill=\"#ffffff\" stroke=\"transparent\" points=\"-4,4 -4,-408 1190.0369,-408 1190.0369,4 -4,4\"/>\n",
       "<!-- EMPTY -->\n",
       "<g id=\"node1\" class=\"node\">\n",
       "<title>EMPTY</title>\n",
       "</g>\n",
       "<!-- \\(I_I\\) -->\n",
       "<g id=\"node2\" class=\"node\">\n",
       "<title>\\(I_I\\)</title>\n",
       "<ellipse fill=\"none\" stroke=\"#000000\" cx=\"118.2976\" cy=\"-170\" rx=\"27.0966\" ry=\"27.0966\"/>\n",
       "<text text-anchor=\"middle\" x=\"118.2976\" y=\"-166.3\" font-family=\"Times,serif\" font-size=\"14.00\" fill=\"#000000\">(I_I)</text>\n",
       "</g>\n",
       "<!-- EMPTY&#45;&gt;\\(I_I\\) -->\n",
       "<g id=\"edge1\" class=\"edge\">\n",
       "<title>EMPTY&#45;&gt;\\(I_I\\)</title>\n",
       "<path fill=\"none\" stroke=\"#000000\" d=\"M54.3923,-170C62.6976,-170 71.9683,-170 80.8159,-170\"/>\n",
       "<polygon fill=\"#000000\" stroke=\"#000000\" points=\"80.9247,-173.5001 90.9246,-170 80.9246,-166.5001 80.9247,-173.5001\"/>\n",
       "</g>\n",
       "<!-- \\(F_I\\) -->\n",
       "<g id=\"node9\" class=\"node\">\n",
       "<title>\\(F_I\\)</title>\n",
       "<ellipse fill=\"none\" stroke=\"#000000\" cx=\"221.8426\" cy=\"-241\" rx=\"29.4969\" ry=\"29.4969\"/>\n",
       "<text text-anchor=\"middle\" x=\"221.8426\" y=\"-237.3\" font-family=\"Times,serif\" font-size=\"14.00\" fill=\"#000000\">(F_I)</text>\n",
       "</g>\n",
       "<!-- \\(I_I\\)&#45;&gt;\\(F_I\\) -->\n",
       "<g id=\"edge10\" class=\"edge\">\n",
       "<title>\\(I_I\\)&#45;&gt;\\(F_I\\)</title>\n",
       "<path fill=\"none\" stroke=\"#000000\" d=\"M134.9566,-192.188C142.8191,-201.4648 152.8344,-211.75 163.5952,-219 169.8201,-223.194 176.9534,-226.7314 184.0444,-229.6599\"/>\n",
       "<polygon fill=\"#000000\" stroke=\"#000000\" points=\"183.0071,-233.0096 193.5985,-233.2802 185.4875,-226.4638 183.0071,-233.0096\"/>\n",
       "<text text-anchor=\"middle\" x=\"169.0952\" y=\"-227.8\" font-family=\"Times,serif\" font-size=\"14.00\" fill=\"#000000\">1 </text>\n",
       "</g>\n",
       "<!-- \\(I_S0\\) -->\n",
       "<g id=\"node10\" class=\"node\">\n",
       "<title>\\(I_S0\\)</title>\n",
       "<ellipse fill=\"none\" stroke=\"#000000\" cx=\"726.4648\" cy=\"-62\" rx=\"33.5952\" ry=\"33.5952\"/>\n",
       "<text text-anchor=\"middle\" x=\"726.4648\" y=\"-58.3\" font-family=\"Times,serif\" font-size=\"14.00\" fill=\"#000000\">(I_S0)</text>\n",
       "</g>\n",
       "<!-- \\(I_I\\)&#45;&gt;\\(I_S0\\) -->\n",
       "<g id=\"edge2\" class=\"edge\">\n",
       "<title>\\(I_I\\)&#45;&gt;\\(I_S0\\)</title>\n",
       "<path fill=\"none\" stroke=\"#000000\" d=\"M135.1701,-148.0976C153.8158,-126.595 185.9908,-97 221.8426,-97 221.8426,-97 221.8426,-97 583.173,-97 618.336,-97 657.0022,-86.9308 685.2975,-77.594\"/>\n",
       "<polygon fill=\"#000000\" stroke=\"#000000\" points=\"686.5134,-80.8774 694.8506,-74.3397 684.2562,-74.2513 686.5134,-80.8774\"/>\n",
       "<text text-anchor=\"middle\" x=\"393.0836\" y=\"-100.8\" font-family=\"Times,serif\" font-size=\"14.00\" fill=\"#000000\">0 </text>\n",
       "</g>\n",
       "<!-- \\(F_S010\\) -->\n",
       "<g id=\"node3\" class=\"node\">\n",
       "<title>\\(F_S010\\)</title>\n",
       "<ellipse fill=\"none\" stroke=\"#000000\" cx=\"999.2993\" cy=\"-203\" rx=\"44.6926\" ry=\"44.6926\"/>\n",
       "<text text-anchor=\"middle\" x=\"999.2993\" y=\"-199.3\" font-family=\"Times,serif\" font-size=\"14.00\" fill=\"#000000\">(F_S010)</text>\n",
       "</g>\n",
       "<!-- \\(I_F0101\\) -->\n",
       "<g id=\"node4\" class=\"node\">\n",
       "<title>\\(I_F0101\\)</title>\n",
       "<ellipse fill=\"none\" stroke=\"#000000\" cx=\"1138.5911\" cy=\"-278\" rx=\"47.3916\" ry=\"47.3916\"/>\n",
       "<text text-anchor=\"middle\" x=\"1138.5911\" y=\"-274.3\" font-family=\"Times,serif\" font-size=\"14.00\" fill=\"#000000\">(I_F0101)</text>\n",
       "</g>\n",
       "<!-- \\(F_S010\\)&#45;&gt;\\(I_F0101\\) -->\n",
       "<g id=\"edge3\" class=\"edge\">\n",
       "<title>\\(F_S010\\)&#45;&gt;\\(I_F0101\\)</title>\n",
       "<path fill=\"none\" stroke=\"#000000\" d=\"M1038.8422,-224.2914C1053.9029,-232.4006 1071.2893,-241.7621 1087.2858,-250.3752\"/>\n",
       "<polygon fill=\"#000000\" stroke=\"#000000\" points=\"1086.0514,-253.6857 1096.5156,-255.3449 1089.3701,-247.5224 1086.0514,-253.6857\"/>\n",
       "<text text-anchor=\"middle\" x=\"1067.6453\" y=\"-245.8\" font-family=\"Times,serif\" font-size=\"14.00\" fill=\"#000000\">1 </text>\n",
       "</g>\n",
       "<!-- \\(F_S0\\) -->\n",
       "<g id=\"node7\" class=\"node\">\n",
       "<title>\\(F_S0\\)</title>\n",
       "<ellipse fill=\"none\" stroke=\"#000000\" cx=\"333.8368\" cy=\"-241\" rx=\"35.9954\" ry=\"35.9954\"/>\n",
       "<text text-anchor=\"middle\" x=\"333.8368\" y=\"-237.3\" font-family=\"Times,serif\" font-size=\"14.00\" fill=\"#000000\">(F_S0)</text>\n",
       "</g>\n",
       "<!-- \\(F_S010\\)&#45;&gt;\\(F_S0\\) -->\n",
       "<g id=\"edge11\" class=\"edge\">\n",
       "<title>\\(F_S010\\)&#45;&gt;\\(F_S0\\)</title>\n",
       "<path fill=\"none\" stroke=\"#000000\" d=\"M976.9626,-242.2923C954.2055,-276.6186 915.4452,-321 867.1569,-321 454.9302,-321 454.9302,-321 454.9302,-321 419.8418,-321 387.0952,-297.3272 364.5256,-275.7365\"/>\n",
       "<polygon fill=\"#000000\" stroke=\"#000000\" points=\"366.834,-273.0963 357.273,-268.5315 361.9006,-278.0623 366.834,-273.0963\"/>\n",
       "<text text-anchor=\"middle\" x=\"649.5692\" y=\"-324.8\" font-family=\"Times,serif\" font-size=\"14.00\" fill=\"#000000\">0 </text>\n",
       "</g>\n",
       "<!-- \\(I_S010\\) -->\n",
       "<g id=\"node5\" class=\"node\">\n",
       "<title>\\(I_S010\\)</title>\n",
       "<ellipse fill=\"none\" stroke=\"#000000\" cx=\"583.173\" cy=\"-241\" rx=\"42.7926\" ry=\"42.7926\"/>\n",
       "<text text-anchor=\"middle\" x=\"583.173\" y=\"-237.3\" font-family=\"Times,serif\" font-size=\"14.00\" fill=\"#000000\">(I_S010)</text>\n",
       "</g>\n",
       "<!-- \\(I_F0101\\)&#45;&gt;\\(I_S010\\) -->\n",
       "<g id=\"edge5\" class=\"edge\">\n",
       "<title>\\(I_F0101\\)&#45;&gt;\\(I_S010\\)</title>\n",
       "<path fill=\"none\" stroke=\"#000000\" d=\"M1091.0912,-279.4098C1006.5933,-281.2421 824.7812,-282.1311 673.0692,-262 660.5327,-260.3365 647.1838,-257.7034 634.7144,-254.8564\"/>\n",
       "<polygon fill=\"#000000\" stroke=\"#000000\" points=\"635.4724,-251.4392 624.9351,-252.5418 633.8601,-258.251 635.4724,-251.4392\"/>\n",
       "<text text-anchor=\"middle\" x=\"867.1569\" y=\"-281.8\" font-family=\"Times,serif\" font-size=\"14.00\" fill=\"#000000\">0 </text>\n",
       "</g>\n",
       "<!-- \\(I_F0101\\)&#45;&gt;\\(F_I\\) -->\n",
       "<g id=\"edge14\" class=\"edge\">\n",
       "<title>\\(I_F0101\\)&#45;&gt;\\(F_I\\)</title>\n",
       "<path fill=\"none\" stroke=\"#000000\" d=\"M1112.0658,-317.447C1087.1235,-349.3516 1046.6098,-389 999.2993,-389 333.8368,-389 333.8368,-389 333.8368,-389 278.7172,-389 247.2545,-322.9167 232.4443,-279.0656\"/>\n",
       "<polygon fill=\"#000000\" stroke=\"#000000\" points=\"235.7706,-277.9763 229.3668,-269.5359 229.1094,-280.1276 235.7706,-277.9763\"/>\n",
       "<text text-anchor=\"middle\" x=\"649.5692\" y=\"-392.8\" font-family=\"Times,serif\" font-size=\"14.00\" fill=\"#000000\">1 </text>\n",
       "</g>\n",
       "<!-- \\(I_S010\\)&#45;&gt;\\(I_S0\\) -->\n",
       "<g id=\"edge7\" class=\"edge\">\n",
       "<title>\\(I_S010\\)&#45;&gt;\\(I_S0\\)</title>\n",
       "<path fill=\"none\" stroke=\"#000000\" d=\"M610.1251,-207.3315C635.428,-175.7231 673.1138,-128.646 698.6831,-96.7049\"/>\n",
       "<polygon fill=\"#000000\" stroke=\"#000000\" points=\"701.713,-98.5205 705.2301,-88.5265 696.2483,-94.1459 701.713,-98.5205\"/>\n",
       "<text text-anchor=\"middle\" x=\"649.5692\" y=\"-166.8\" font-family=\"Times,serif\" font-size=\"14.00\" fill=\"#000000\">0 </text>\n",
       "</g>\n",
       "<!-- \\(F_F0101\\) -->\n",
       "<g id=\"node11\" class=\"node\">\n",
       "<title>\\(F_F0101\\)</title>\n",
       "<ellipse fill=\"none\" stroke=\"#000000\" cx=\"726.4648\" cy=\"-200\" rx=\"49.2992\" ry=\"49.2992\"/>\n",
       "<ellipse fill=\"none\" stroke=\"#000000\" cx=\"726.4648\" cy=\"-200\" rx=\"53.2914\" ry=\"53.2914\"/>\n",
       "<text text-anchor=\"middle\" x=\"726.4648\" y=\"-196.3\" font-family=\"Times,serif\" font-size=\"14.00\" fill=\"#000000\">(F_F0101)</text>\n",
       "</g>\n",
       "<!-- \\(I_S010\\)&#45;&gt;\\(F_F0101\\) -->\n",
       "<g id=\"edge16\" class=\"edge\">\n",
       "<title>\\(I_S010\\)&#45;&gt;\\(F_F0101\\)</title>\n",
       "<path fill=\"none\" stroke=\"#000000\" d=\"M624.6189,-229.1411C637.2562,-225.5252 651.4277,-221.4703 665.0904,-217.561\"/>\n",
       "<polygon fill=\"#000000\" stroke=\"#000000\" points=\"666.2685,-220.8645 674.9198,-214.7485 664.3428,-214.1345 666.2685,-220.8645\"/>\n",
       "<text text-anchor=\"middle\" x=\"649.5692\" y=\"-225.8\" font-family=\"Times,serif\" font-size=\"14.00\" fill=\"#000000\">1 </text>\n",
       "</g>\n",
       "<!-- \\(F_S01\\) -->\n",
       "<g id=\"node6\" class=\"node\">\n",
       "<title>\\(F_S01\\)</title>\n",
       "<ellipse fill=\"none\" stroke=\"#000000\" cx=\"867.1569\" cy=\"-62\" rx=\"40.0939\" ry=\"40.0939\"/>\n",
       "<text text-anchor=\"middle\" x=\"867.1569\" y=\"-58.3\" font-family=\"Times,serif\" font-size=\"14.00\" fill=\"#000000\">(F_S01)</text>\n",
       "</g>\n",
       "<!-- \\(F_S01\\)&#45;&gt;\\(I_I\\) -->\n",
       "<g id=\"edge20\" class=\"edge\">\n",
       "<title>\\(F_S01\\)&#45;&gt;\\(I_I\\)</title>\n",
       "<path fill=\"none\" stroke=\"#000000\" d=\"M834.2569,-38.2065C806.8201,-20.7222 765.9694,0 726.4648,0 221.8426,0 221.8426,0 221.8426,0 160.0918,0 134.0975,-82.826 124.0289,-132.852\"/>\n",
       "<polygon fill=\"#000000\" stroke=\"#000000\" points=\"120.5883,-132.2102 122.1682,-142.6866 127.4663,-133.5116 120.5883,-132.2102\"/>\n",
       "<text text-anchor=\"middle\" x=\"454.9302\" y=\"-3.8\" font-family=\"Times,serif\" font-size=\"14.00\" fill=\"#000000\">1 </text>\n",
       "</g>\n",
       "<!-- \\(F_S01\\)&#45;&gt;\\(F_S010\\) -->\n",
       "<g id=\"edge13\" class=\"edge\">\n",
       "<title>\\(F_S01\\)&#45;&gt;\\(F_S010\\)</title>\n",
       "<path fill=\"none\" stroke=\"#000000\" d=\"M894.8582,-91.5582C914.1686,-112.1629 940.1707,-139.908 961.399,-162.5592\"/>\n",
       "<polygon fill=\"#000000\" stroke=\"#000000\" points=\"959.0066,-165.1248 968.3986,-170.028 964.1142,-160.3381 959.0066,-165.1248\"/>\n",
       "<text text-anchor=\"middle\" x=\"930.9533\" y=\"-136.8\" font-family=\"Times,serif\" font-size=\"14.00\" fill=\"#000000\">0 </text>\n",
       "</g>\n",
       "<!-- \\(F_S0\\)&#45;&gt;\\(F_S0\\) -->\n",
       "<g id=\"edge15\" class=\"edge\">\n",
       "<title>\\(F_S0\\)&#45;&gt;\\(F_S0\\)</title>\n",
       "<path fill=\"none\" stroke=\"#000000\" d=\"M322.9644,-275.115C323.076,-286.0668 326.7001,-294.7468 333.8368,-294.7468 338.5203,-294.7468 341.691,-291.0086 343.349,-285.3434\"/>\n",
       "<polygon fill=\"#000000\" stroke=\"#000000\" points=\"346.8603,-285.4891 344.7091,-275.115 339.9214,-284.5663 346.8603,-285.4891\"/>\n",
       "<text text-anchor=\"middle\" x=\"333.8368\" y=\"-298.5468\" font-family=\"Times,serif\" font-size=\"14.00\" fill=\"#000000\">0 </text>\n",
       "</g>\n",
       "<!-- \\(I_S01\\) -->\n",
       "<g id=\"node8\" class=\"node\">\n",
       "<title>\\(I_S01\\)</title>\n",
       "<ellipse fill=\"none\" stroke=\"#000000\" cx=\"454.9302\" cy=\"-241\" rx=\"38.1938\" ry=\"38.1938\"/>\n",
       "<text text-anchor=\"middle\" x=\"454.9302\" y=\"-237.3\" font-family=\"Times,serif\" font-size=\"14.00\" fill=\"#000000\">(I_S01)</text>\n",
       "</g>\n",
       "<!-- \\(F_S0\\)&#45;&gt;\\(I_S01\\) -->\n",
       "<g id=\"edge6\" class=\"edge\">\n",
       "<title>\\(F_S0\\)&#45;&gt;\\(I_S01\\)</title>\n",
       "<path fill=\"none\" stroke=\"#000000\" d=\"M369.841,-241C381.2789,-241 394.1234,-241 406.2987,-241\"/>\n",
       "<polygon fill=\"#000000\" stroke=\"#000000\" points=\"406.323,-244.5001 416.3229,-241 406.3229,-237.5001 406.323,-244.5001\"/>\n",
       "<text text-anchor=\"middle\" x=\"393.0836\" y=\"-244.8\" font-family=\"Times,serif\" font-size=\"14.00\" fill=\"#000000\">1 </text>\n",
       "</g>\n",
       "<!-- \\(I_S01\\)&#45;&gt;\\(I_S010\\) -->\n",
       "<g id=\"edge12\" class=\"edge\">\n",
       "<title>\\(I_S01\\)&#45;&gt;\\(I_S010\\)</title>\n",
       "<path fill=\"none\" stroke=\"#000000\" d=\"M493.4073,-241C504.9352,-241 517.7871,-241 530.0813,-241\"/>\n",
       "<polygon fill=\"#000000\" stroke=\"#000000\" points=\"530.236,-244.5001 540.236,-241 530.2359,-237.5001 530.236,-244.5001\"/>\n",
       "<text text-anchor=\"middle\" x=\"516.7768\" y=\"-244.8\" font-family=\"Times,serif\" font-size=\"14.00\" fill=\"#000000\">0 </text>\n",
       "</g>\n",
       "<!-- \\(I_S01\\)&#45;&gt;\\(F_I\\) -->\n",
       "<g id=\"edge17\" class=\"edge\">\n",
       "<title>\\(I_S01\\)&#45;&gt;\\(F_I\\)</title>\n",
       "<path fill=\"none\" stroke=\"#000000\" d=\"M431.2906,-271.8239C415.8715,-289.2838 394.0976,-309.4856 369.5836,-319 339.9616,-330.497 327.3766,-331.3263 298.09,-319 276.1907,-309.7829 257.4423,-290.8643 244.0165,-273.9678\"/>\n",
       "<polygon fill=\"#000000\" stroke=\"#000000\" points=\"246.7059,-271.7223 237.8628,-265.887 241.1368,-275.9633 246.7059,-271.7223\"/>\n",
       "<text text-anchor=\"middle\" x=\"333.8368\" y=\"-330.8\" font-family=\"Times,serif\" font-size=\"14.00\" fill=\"#000000\">1 </text>\n",
       "</g>\n",
       "<!-- \\(F_I\\)&#45;&gt;\\(I_I\\) -->\n",
       "<g id=\"edge19\" class=\"edge\">\n",
       "<title>\\(F_I\\)&#45;&gt;\\(I_I\\)</title>\n",
       "<path fill=\"none\" stroke=\"#000000\" d=\"M200.5617,-220.7338C192.7127,-213.7535 183.5454,-206.1517 174.5952,-200 167.6643,-195.2363 159.8917,-190.659 152.3864,-186.5767\"/>\n",
       "<polygon fill=\"#000000\" stroke=\"#000000\" points=\"153.5859,-183.2529 143.1064,-181.6938 150.3263,-189.4477 153.5859,-183.2529\"/>\n",
       "<text text-anchor=\"middle\" x=\"169.0952\" y=\"-203.8\" font-family=\"Times,serif\" font-size=\"14.00\" fill=\"#000000\">1 </text>\n",
       "</g>\n",
       "<!-- \\(F_I\\)&#45;&gt;\\(F_S0\\) -->\n",
       "<g id=\"edge21\" class=\"edge\">\n",
       "<title>\\(F_I\\)&#45;&gt;\\(F_S0\\)</title>\n",
       "<path fill=\"none\" stroke=\"#000000\" d=\"M251.2677,-241C262.4067,-241 275.3718,-241 287.6818,-241\"/>\n",
       "<polygon fill=\"#000000\" stroke=\"#000000\" points=\"287.8136,-244.5001 297.8136,-241 287.8136,-237.5001 287.8136,-244.5001\"/>\n",
       "<text text-anchor=\"middle\" x=\"274.59\" y=\"-244.8\" font-family=\"Times,serif\" font-size=\"14.00\" fill=\"#000000\">0 </text>\n",
       "</g>\n",
       "<!-- \\(I_S0\\)&#45;&gt;\\(F_S01\\) -->\n",
       "<g id=\"edge4\" class=\"edge\">\n",
       "<title>\\(I_S0\\)&#45;&gt;\\(F_S01\\)</title>\n",
       "<path fill=\"none\" stroke=\"#000000\" d=\"M760.5224,-62C777.3338,-62 797.9527,-62 816.5642,-62\"/>\n",
       "<polygon fill=\"#000000\" stroke=\"#000000\" points=\"816.6605,-65.5001 826.6605,-62 816.6605,-58.5001 816.6605,-65.5001\"/>\n",
       "<text text-anchor=\"middle\" x=\"803.3604\" y=\"-65.8\" font-family=\"Times,serif\" font-size=\"14.00\" fill=\"#000000\">1 </text>\n",
       "</g>\n",
       "<!-- \\(I_S0\\)&#45;&gt;\\(I_S0\\) -->\n",
       "<g id=\"edge9\" class=\"edge\">\n",
       "<title>\\(I_S0\\)&#45;&gt;\\(I_S0\\)</title>\n",
       "<path fill=\"none\" stroke=\"#000000\" d=\"M712.2461,-92.8421C711.7799,-104.3359 716.5195,-113.797 726.4648,-113.797 733.3022,-113.797 737.6791,-109.3251 739.5954,-102.7953\"/>\n",
       "<polygon fill=\"#000000\" stroke=\"#000000\" points=\"743.076,-103.1632 740.6835,-92.8421 736.1174,-102.4025 743.076,-103.1632\"/>\n",
       "<text text-anchor=\"middle\" x=\"726.4648\" y=\"-117.597\" font-family=\"Times,serif\" font-size=\"14.00\" fill=\"#000000\">0 </text>\n",
       "</g>\n",
       "<!-- \\(F_F0101\\)&#45;&gt;\\(I_I\\) -->\n",
       "<g id=\"edge8\" class=\"edge\">\n",
       "<title>\\(F_F0101\\)&#45;&gt;\\(I_I\\)</title>\n",
       "<path fill=\"none\" stroke=\"#000000\" d=\"M675.2724,-183.9461C648.1778,-176.8134 614.181,-170 583.173,-170 221.8426,-170 221.8426,-170 221.8426,-170 200.0523,-170 175.6826,-170 156.0616,-170\"/>\n",
       "<polygon fill=\"#000000\" stroke=\"#000000\" points=\"155.9852,-166.5001 145.9852,-170 155.9851,-173.5001 155.9852,-166.5001\"/>\n",
       "<text text-anchor=\"middle\" x=\"393.0836\" y=\"-173.8\" font-family=\"Times,serif\" font-size=\"14.00\" fill=\"#000000\">1 </text>\n",
       "</g>\n",
       "<!-- \\(F_F0101\\)&#45;&gt;\\(F_S010\\) -->\n",
       "<g id=\"edge18\" class=\"edge\">\n",
       "<title>\\(F_F0101\\)&#45;&gt;\\(F_S010\\)</title>\n",
       "<path fill=\"none\" stroke=\"#000000\" d=\"M780.0426,-200.5891C827.4649,-201.1106 896.382,-201.8684 944.2442,-202.3946\"/>\n",
       "<polygon fill=\"#000000\" stroke=\"#000000\" points=\"944.385,-205.8963 954.423,-202.5066 944.4621,-198.8967 944.385,-205.8963\"/>\n",
       "<text text-anchor=\"middle\" x=\"867.1569\" y=\"-205.8\" font-family=\"Times,serif\" font-size=\"14.00\" fill=\"#000000\">0 </text>\n",
       "</g>\n",
       "</g>\n",
       "</svg>\n"
      ],
      "text/plain": [
       "<graphviz.dot.Digraph at 0x7ffd506c94d0>"
      ]
     },
     "execution_count": 81,
     "metadata": {},
     "output_type": "execute_result"
    }
   ],
   "source": [
    "dotObj_dfa(C_CdfaOdd1sORCends0101)"
   ]
  },
  {
   "cell_type": "code",
   "execution_count": 82,
   "metadata": {
    "run_control": {
     "frozen": false,
     "read_only": false
    }
   },
   "outputs": [],
   "source": [
    "MinC_CdfaOdd1sORCends0101 = min_dfa(C_CdfaOdd1sORCends0101)"
   ]
  },
  {
   "cell_type": "markdown",
   "metadata": {
    "run_control": {
     "frozen": false,
     "read_only": false
    }
   },
   "source": [
    "## Minimized Comp(CdfaOdd1s OR Cends0101)\n",
    "\n",
    "This will now pass the isomorphism check, below\n"
   ]
  },
  {
   "cell_type": "code",
   "execution_count": 83,
   "metadata": {
    "run_control": {
     "frozen": false,
     "read_only": false
    }
   },
   "outputs": [
    {
     "data": {
      "image/svg+xml": [
       "<?xml version=\"1.0\" encoding=\"UTF-8\" standalone=\"no\"?>\n",
       "<!DOCTYPE svg PUBLIC \"-//W3C//DTD SVG 1.1//EN\"\n",
       " \"http://www.w3.org/Graphics/SVG/1.1/DTD/svg11.dtd\">\n",
       "<!-- Generated by graphviz version 2.40.1 (20161225.0304)\n",
       " -->\n",
       "<!-- Title: %3 Pages: 1 -->\n",
       "<svg width=\"828pt\" height=\"243pt\"\n",
       " viewBox=\"0.00 0.00 828.16 243.00\" xmlns=\"http://www.w3.org/2000/svg\" xmlns:xlink=\"http://www.w3.org/1999/xlink\">\n",
       "<g id=\"graph0\" class=\"graph\" transform=\"scale(1 1) rotate(0) translate(4 239)\">\n",
       "<title>%3</title>\n",
       "<polygon fill=\"#ffffff\" stroke=\"transparent\" points=\"-4,4 -4,-239 824.1569,-239 824.1569,4 -4,4\"/>\n",
       "<!-- EMPTY -->\n",
       "<g id=\"node1\" class=\"node\">\n",
       "<title>EMPTY</title>\n",
       "</g>\n",
       "<!-- \\(I_I\\) -->\n",
       "<g id=\"node2\" class=\"node\">\n",
       "<title>\\(I_I\\)</title>\n",
       "<ellipse fill=\"none\" stroke=\"#000000\" cx=\"118.2976\" cy=\"-92\" rx=\"27.0966\" ry=\"27.0966\"/>\n",
       "<text text-anchor=\"middle\" x=\"118.2976\" y=\"-88.3\" font-family=\"Times,serif\" font-size=\"14.00\" fill=\"#000000\">(I_I)</text>\n",
       "</g>\n",
       "<!-- EMPTY&#45;&gt;\\(I_I\\) -->\n",
       "<g id=\"edge1\" class=\"edge\">\n",
       "<title>EMPTY&#45;&gt;\\(I_I\\)</title>\n",
       "<path fill=\"none\" stroke=\"#000000\" d=\"M54.3923,-92C62.6976,-92 71.9683,-92 80.8159,-92\"/>\n",
       "<polygon fill=\"#000000\" stroke=\"#000000\" points=\"80.9247,-95.5001 90.9246,-92 80.9246,-88.5001 80.9247,-95.5001\"/>\n",
       "</g>\n",
       "<!-- \\(I_I\\)&#45;&gt;\\(I_I\\) -->\n",
       "<g id=\"edge2\" class=\"edge\">\n",
       "<title>\\(I_I\\)&#45;&gt;\\(I_I\\)</title>\n",
       "<path fill=\"none\" stroke=\"#000000\" d=\"M110.0979,-118.0673C109.6347,-128.5223 112.3679,-137.2976 118.2976,-137.2976 122.0963,-137.2976 124.5832,-133.6962 125.7582,-128.359\"/>\n",
       "<polygon fill=\"#000000\" stroke=\"#000000\" points=\"129.2719,-128.2924 126.4972,-118.0673 122.2899,-127.7909 129.2719,-128.2924\"/>\n",
       "<text text-anchor=\"middle\" x=\"118.2976\" y=\"-141.0976\" font-family=\"Times,serif\" font-size=\"14.00\" fill=\"#000000\">0 </text>\n",
       "</g>\n",
       "<!-- \\(F_S01\\) -->\n",
       "<g id=\"node4\" class=\"node\">\n",
       "<title>\\(F_S01\\)</title>\n",
       "<ellipse fill=\"none\" stroke=\"#000000\" cx=\"232.8916\" cy=\"-92\" rx=\"40.0939\" ry=\"40.0939\"/>\n",
       "<text text-anchor=\"middle\" x=\"232.8916\" y=\"-88.3\" font-family=\"Times,serif\" font-size=\"14.00\" fill=\"#000000\">(F_S01)</text>\n",
       "</g>\n",
       "<!-- \\(I_I\\)&#45;&gt;\\(F_S01\\) -->\n",
       "<g id=\"edge4\" class=\"edge\">\n",
       "<title>\\(I_I\\)&#45;&gt;\\(F_S01\\)</title>\n",
       "<path fill=\"none\" stroke=\"#000000\" d=\"M143.1843,-80.1653C149.683,-77.6201 156.7798,-75.3045 163.5952,-74 170.8133,-72.6184 178.3936,-72.8351 185.7838,-73.9856\"/>\n",
       "<polygon fill=\"#000000\" stroke=\"#000000\" points=\"185.1851,-77.4362 195.6916,-76.0707 186.6268,-70.5862 185.1851,-77.4362\"/>\n",
       "<text text-anchor=\"middle\" x=\"169.0952\" y=\"-77.8\" font-family=\"Times,serif\" font-size=\"14.00\" fill=\"#000000\">1 </text>\n",
       "</g>\n",
       "<!-- \\(I_F0101\\) -->\n",
       "<g id=\"node3\" class=\"node\">\n",
       "<title>\\(I_F0101\\)</title>\n",
       "<ellipse fill=\"none\" stroke=\"#000000\" cx=\"486.1275\" cy=\"-142\" rx=\"47.3916\" ry=\"47.3916\"/>\n",
       "<text text-anchor=\"middle\" x=\"486.1275\" y=\"-138.3\" font-family=\"Times,serif\" font-size=\"14.00\" fill=\"#000000\">(I_F0101)</text>\n",
       "</g>\n",
       "<!-- \\(I_F0101\\)&#45;&gt;\\(F_S01\\) -->\n",
       "<g id=\"edge10\" class=\"edge\">\n",
       "<title>\\(I_F0101\\)&#45;&gt;\\(F_S01\\)</title>\n",
       "<path fill=\"none\" stroke=\"#000000\" d=\"M438.7992,-148.3886C405.138,-151.3993 359.1642,-152.3716 320.188,-142 304.2658,-137.7631 288.2241,-129.8592 274.3131,-121.5662\"/>\n",
       "<polygon fill=\"#000000\" stroke=\"#000000\" points=\"275.8437,-118.3967 265.5019,-116.0949 272.151,-124.3436 275.8437,-118.3967\"/>\n",
       "<text text-anchor=\"middle\" x=\"355.9348\" y=\"-153.8\" font-family=\"Times,serif\" font-size=\"14.00\" fill=\"#000000\">1 </text>\n",
       "</g>\n",
       "<!-- \\(I_S010\\) -->\n",
       "<g id=\"node6\" class=\"node\">\n",
       "<title>\\(I_S010\\)</title>\n",
       "<ellipse fill=\"none\" stroke=\"#000000\" cx=\"623.4694\" cy=\"-142\" rx=\"42.7926\" ry=\"42.7926\"/>\n",
       "<text text-anchor=\"middle\" x=\"623.4694\" y=\"-138.3\" font-family=\"Times,serif\" font-size=\"14.00\" fill=\"#000000\">(I_S010)</text>\n",
       "</g>\n",
       "<!-- \\(I_F0101\\)&#45;&gt;\\(I_S010\\) -->\n",
       "<g id=\"edge5\" class=\"edge\">\n",
       "<title>\\(I_F0101\\)&#45;&gt;\\(I_S010\\)</title>\n",
       "<path fill=\"none\" stroke=\"#000000\" d=\"M533.7776,-142C545.5224,-142 558.1752,-142 570.1686,-142\"/>\n",
       "<polygon fill=\"#000000\" stroke=\"#000000\" points=\"570.4992,-145.5001 580.4992,-142 570.4991,-138.5001 570.4992,-145.5001\"/>\n",
       "<text text-anchor=\"middle\" x=\"557.0732\" y=\"-145.8\" font-family=\"Times,serif\" font-size=\"14.00\" fill=\"#000000\">0 </text>\n",
       "</g>\n",
       "<!-- \\(F_S01\\)&#45;&gt;\\(I_I\\) -->\n",
       "<g id=\"edge13\" class=\"edge\">\n",
       "<title>\\(F_S01\\)&#45;&gt;\\(I_I\\)</title>\n",
       "<path fill=\"none\" stroke=\"#000000\" d=\"M192.214,-92C180.42,-92 167.5975,-92 155.9944,-92\"/>\n",
       "<polygon fill=\"#000000\" stroke=\"#000000\" points=\"155.7457,-88.5001 145.7457,-92 155.7457,-95.5001 155.7457,-88.5001\"/>\n",
       "<text text-anchor=\"middle\" x=\"169.0952\" y=\"-95.8\" font-family=\"Times,serif\" font-size=\"14.00\" fill=\"#000000\">1 </text>\n",
       "</g>\n",
       "<!-- \\(F_S0\\) -->\n",
       "<g id=\"node5\" class=\"node\">\n",
       "<title>\\(F_S0\\)</title>\n",
       "<ellipse fill=\"none\" stroke=\"#000000\" cx=\"355.9348\" cy=\"-64\" rx=\"35.9954\" ry=\"35.9954\"/>\n",
       "<text text-anchor=\"middle\" x=\"355.9348\" y=\"-60.3\" font-family=\"Times,serif\" font-size=\"14.00\" fill=\"#000000\">(F_S0)</text>\n",
       "</g>\n",
       "<!-- \\(F_S01\\)&#45;&gt;\\(F_S0\\) -->\n",
       "<g id=\"edge9\" class=\"edge\">\n",
       "<title>\\(F_S01\\)&#45;&gt;\\(F_S0\\)</title>\n",
       "<path fill=\"none\" stroke=\"#000000\" d=\"M272.5005,-82.9865C284.8068,-80.186 298.4588,-77.0794 311.095,-74.2039\"/>\n",
       "<polygon fill=\"#000000\" stroke=\"#000000\" points=\"311.9921,-77.5893 320.9662,-71.9575 310.4388,-70.7638 311.9921,-77.5893\"/>\n",
       "<text text-anchor=\"middle\" x=\"296.688\" y=\"-81.8\" font-family=\"Times,serif\" font-size=\"14.00\" fill=\"#000000\">0 </text>\n",
       "</g>\n",
       "<!-- \\(F_S0\\)&#45;&gt;\\(I_F0101\\) -->\n",
       "<g id=\"edge3\" class=\"edge\">\n",
       "<title>\\(F_S0\\)&#45;&gt;\\(I_F0101\\)</title>\n",
       "<path fill=\"none\" stroke=\"#000000\" d=\"M386.7887,-82.4849C401.6443,-91.3851 419.8261,-102.2781 436.5553,-112.3007\"/>\n",
       "<polygon fill=\"#000000\" stroke=\"#000000\" points=\"434.7688,-115.3104 445.1459,-117.4474 438.3664,-109.3056 434.7688,-115.3104\"/>\n",
       "<text text-anchor=\"middle\" x=\"415.1817\" y=\"-104.8\" font-family=\"Times,serif\" font-size=\"14.00\" fill=\"#000000\">1 </text>\n",
       "</g>\n",
       "<!-- \\(F_S0\\)&#45;&gt;\\(F_S0\\) -->\n",
       "<g id=\"edge8\" class=\"edge\">\n",
       "<title>\\(F_S0\\)&#45;&gt;\\(F_S0\\)</title>\n",
       "<path fill=\"none\" stroke=\"#000000\" d=\"M345.0625,-98.115C345.174,-109.0668 348.7981,-117.7468 355.9348,-117.7468 360.6183,-117.7468 363.789,-114.0086 365.447,-108.3434\"/>\n",
       "<polygon fill=\"#000000\" stroke=\"#000000\" points=\"368.9583,-108.4891 366.8072,-98.115 362.0194,-107.5663 368.9583,-108.4891\"/>\n",
       "<text text-anchor=\"middle\" x=\"355.9348\" y=\"-121.5468\" font-family=\"Times,serif\" font-size=\"14.00\" fill=\"#000000\">0 </text>\n",
       "</g>\n",
       "<!-- \\(I_S010\\)&#45;&gt;\\(I_I\\) -->\n",
       "<g id=\"edge6\" class=\"edge\">\n",
       "<title>\\(I_S010\\)&#45;&gt;\\(I_I\\)</title>\n",
       "<path fill=\"none\" stroke=\"#000000\" d=\"M592.4311,-171.9338C566.2732,-193.9302 526.7107,-220 486.1275,-220 232.8916,-220 232.8916,-220 232.8916,-220 182.848,-220 149.178,-165.0185 131.9152,-127.1247\"/>\n",
       "<polygon fill=\"#000000\" stroke=\"#000000\" points=\"135.0951,-125.6609 127.8798,-117.9027 128.6822,-128.4671 135.0951,-125.6609\"/>\n",
       "<text text-anchor=\"middle\" x=\"355.9348\" y=\"-223.8\" font-family=\"Times,serif\" font-size=\"14.00\" fill=\"#000000\">0 </text>\n",
       "</g>\n",
       "<!-- \\(F_F0101\\) -->\n",
       "<g id=\"node7\" class=\"node\">\n",
       "<title>\\(F_F0101\\)</title>\n",
       "<ellipse fill=\"none\" stroke=\"#000000\" cx=\"766.7612\" cy=\"-64\" rx=\"49.2992\" ry=\"49.2992\"/>\n",
       "<ellipse fill=\"none\" stroke=\"#000000\" cx=\"766.7612\" cy=\"-64\" rx=\"53.2914\" ry=\"53.2914\"/>\n",
       "<text text-anchor=\"middle\" x=\"766.7612\" y=\"-60.3\" font-family=\"Times,serif\" font-size=\"14.00\" fill=\"#000000\">(F_F0101)</text>\n",
       "</g>\n",
       "<!-- \\(I_S010\\)&#45;&gt;\\(F_F0101\\) -->\n",
       "<g id=\"edge11\" class=\"edge\">\n",
       "<title>\\(I_S010\\)&#45;&gt;\\(F_F0101\\)</title>\n",
       "<path fill=\"none\" stroke=\"#000000\" d=\"M661.4928,-121.3022C676.6035,-113.0768 694.2948,-103.4467 710.8148,-94.4541\"/>\n",
       "<polygon fill=\"#000000\" stroke=\"#000000\" points=\"712.7386,-97.3919 719.8483,-89.5367 709.3919,-91.2437 712.7386,-97.3919\"/>\n",
       "<text text-anchor=\"middle\" x=\"689.8656\" y=\"-111.8\" font-family=\"Times,serif\" font-size=\"14.00\" fill=\"#000000\">1 </text>\n",
       "</g>\n",
       "<!-- \\(F_F0101\\)&#45;&gt;\\(I_I\\) -->\n",
       "<g id=\"edge7\" class=\"edge\">\n",
       "<title>\\(F_F0101\\)&#45;&gt;\\(I_I\\)</title>\n",
       "<path fill=\"none\" stroke=\"#000000\" d=\"M723.1624,-33.1248C695.8465,-16.7588 659.1612,0 623.4694,0 232.8916,0 232.8916,0 232.8916,0 193.2946,0 159.5904,-33.815 139.1879,-60.4434\"/>\n",
       "<polygon fill=\"#000000\" stroke=\"#000000\" points=\"136.1559,-58.658 133.0406,-68.7845 141.7909,-62.811 136.1559,-58.658\"/>\n",
       "<text text-anchor=\"middle\" x=\"415.1817\" y=\"-3.8\" font-family=\"Times,serif\" font-size=\"14.00\" fill=\"#000000\">1 </text>\n",
       "</g>\n",
       "<!-- \\(F_F0101\\)&#45;&gt;\\(F_S0\\) -->\n",
       "<g id=\"edge12\" class=\"edge\">\n",
       "<title>\\(F_F0101\\)&#45;&gt;\\(F_S0\\)</title>\n",
       "<path fill=\"none\" stroke=\"#000000\" d=\"M713.3397,-64C632.1723,-64 479.1319,-64 402.3462,-64\"/>\n",
       "<polygon fill=\"#000000\" stroke=\"#000000\" points=\"402.0329,-60.5001 392.0329,-64 402.0328,-67.5001 402.0329,-60.5001\"/>\n",
       "<text text-anchor=\"middle\" x=\"557.0732\" y=\"-67.8\" font-family=\"Times,serif\" font-size=\"14.00\" fill=\"#000000\">0 </text>\n",
       "</g>\n",
       "</g>\n",
       "</svg>\n"
      ],
      "text/plain": [
       "<graphviz.dot.Digraph at 0x7ffd5069de50>"
      ]
     },
     "execution_count": 83,
     "metadata": {},
     "output_type": "execute_result"
    }
   ],
   "source": [
    "dotObj_dfa(MinC_CdfaOdd1sORCends0101)"
   ]
  },
  {
   "cell_type": "markdown",
   "metadata": {
    "run_control": {
     "frozen": false,
     "read_only": false
    }
   },
   "source": [
    "## DeMorgan's Law works\n",
    "\n",
    "The same machine, when obtained through two routes, turn out to be isomorphic when minimized\n"
   ]
  },
  {
   "cell_type": "code",
   "execution_count": 84,
   "metadata": {
    "run_control": {
     "frozen": false,
     "read_only": false
    }
   },
   "outputs": [
    {
     "data": {
      "text/plain": [
       "True"
      ]
     },
     "execution_count": 84,
     "metadata": {},
     "output_type": "execute_result"
    }
   ],
   "source": [
    "iso_dfa(MinC_CdfaOdd1sORCends0101, Minodd1sANDends0101)"
   ]
  },
  {
   "cell_type": "markdown",
   "metadata": {
    "run_control": {
     "frozen": false,
     "read_only": false
    }
   },
   "source": [
    "# These are some examples from the book"
   ]
  },
  {
   "cell_type": "code",
   "execution_count": 85,
   "metadata": {
    "run_control": {
     "frozen": false,
     "read_only": false
    }
   },
   "outputs": [],
   "source": [
    "blimp = md2mc('''\n",
    "DFA \n",
    "I1 : a -> F2\n",
    "I1 : b -> F3\n",
    "F2 : a -> S8\n",
    "F2 : b -> S5\n",
    "F3 : a -> S7\n",
    "F3 : b -> S4\n",
    "S4 : a | b -> F6\n",
    "S5 : a | b -> F6\n",
    "F6 : a | b -> F6\n",
    "S7 : a | b -> F6\n",
    "S8 : a -> F6\n",
    "S8 : b -> F9\n",
    "F9 : a -> F9\n",
    "F9 : b -> F6\n",
    "''')"
   ]
  },
  {
   "cell_type": "code",
   "execution_count": 86,
   "metadata": {
    "run_control": {
     "frozen": false,
     "read_only": false
    }
   },
   "outputs": [],
   "source": [
    "dblimp = dotObj_dfa(blimp)"
   ]
  },
  {
   "cell_type": "code",
   "execution_count": 87,
   "metadata": {
    "run_control": {
     "frozen": false,
     "read_only": false
    }
   },
   "outputs": [
    {
     "data": {
      "image/svg+xml": [
       "<?xml version=\"1.0\" encoding=\"UTF-8\" standalone=\"no\"?>\n",
       "<!DOCTYPE svg PUBLIC \"-//W3C//DTD SVG 1.1//EN\"\n",
       " \"http://www.w3.org/Graphics/SVG/1.1/DTD/svg11.dtd\">\n",
       "<!-- Generated by graphviz version 2.40.1 (20161225.0304)\n",
       " -->\n",
       "<!-- Title: %3 Pages: 1 -->\n",
       "<svg width=\"515pt\" height=\"344pt\"\n",
       " viewBox=\"0.00 0.00 514.58 344.15\" xmlns=\"http://www.w3.org/2000/svg\" xmlns:xlink=\"http://www.w3.org/1999/xlink\">\n",
       "<g id=\"graph0\" class=\"graph\" transform=\"scale(1 1) rotate(0) translate(4 340.1482)\">\n",
       "<title>%3</title>\n",
       "<polygon fill=\"#ffffff\" stroke=\"transparent\" points=\"-4,4 -4,-340.1482 510.5825,-340.1482 510.5825,4 -4,4\"/>\n",
       "<!-- EMPTY -->\n",
       "<g id=\"node1\" class=\"node\">\n",
       "<title>EMPTY</title>\n",
       "</g>\n",
       "<!-- I1 -->\n",
       "<g id=\"node3\" class=\"node\">\n",
       "<title>I1</title>\n",
       "<ellipse fill=\"none\" stroke=\"#000000\" cx=\"109.1984\" cy=\"-208.1482\" rx=\"18.399\" ry=\"18.399\"/>\n",
       "<text text-anchor=\"middle\" x=\"109.1984\" y=\"-204.4482\" font-family=\"Times,serif\" font-size=\"14.00\" fill=\"#000000\">I1</text>\n",
       "</g>\n",
       "<!-- EMPTY&#45;&gt;I1 -->\n",
       "<g id=\"edge1\" class=\"edge\">\n",
       "<title>EMPTY&#45;&gt;I1</title>\n",
       "<path fill=\"none\" stroke=\"#000000\" d=\"M54.3709,-208.1482C62.7773,-208.1482 72.0494,-208.1482 80.5395,-208.1482\"/>\n",
       "<polygon fill=\"#000000\" stroke=\"#000000\" points=\"80.7515,-211.6483 90.7515,-208.1482 80.7514,-204.6483 80.7515,-211.6483\"/>\n",
       "</g>\n",
       "<!-- S4 -->\n",
       "<g id=\"node2\" class=\"node\">\n",
       "<title>S4</title>\n",
       "<ellipse fill=\"none\" stroke=\"#000000\" cx=\"387.1378\" cy=\"-302.1482\" rx=\"20.2975\" ry=\"20.2975\"/>\n",
       "<text text-anchor=\"middle\" x=\"387.1378\" y=\"-298.4482\" font-family=\"Times,serif\" font-size=\"14.00\" fill=\"#000000\">S4</text>\n",
       "</g>\n",
       "<!-- F6 -->\n",
       "<g id=\"node8\" class=\"node\">\n",
       "<title>F6</title>\n",
       "<ellipse fill=\"none\" stroke=\"#000000\" cx=\"482.4343\" cy=\"-207.1482\" rx=\"20.2726\" ry=\"20.2726\"/>\n",
       "<ellipse fill=\"none\" stroke=\"#000000\" cx=\"482.4343\" cy=\"-207.1482\" rx=\"24.2973\" ry=\"24.2973\"/>\n",
       "<text text-anchor=\"middle\" x=\"482.4343\" y=\"-203.4482\" font-family=\"Times,serif\" font-size=\"14.00\" fill=\"#000000\">F6</text>\n",
       "</g>\n",
       "<!-- S4&#45;&gt;F6 -->\n",
       "<g id=\"edge8\" class=\"edge\">\n",
       "<title>S4&#45;&gt;F6</title>\n",
       "<path fill=\"none\" stroke=\"#000000\" d=\"M403.6276,-314.0261C414.7514,-320.4607 429.3405,-325.7001 440.286,-318.1482 453.4903,-309.0379 466.2189,-269.9728 474.1691,-240.7459\"/>\n",
       "<polygon fill=\"#000000\" stroke=\"#000000\" points=\"477.6042,-241.4458 476.7748,-230.8834 470.8364,-239.6576 477.6042,-241.4458\"/>\n",
       "<text text-anchor=\"middle\" x=\"434.786\" y=\"-324.9482\" font-family=\"Times,serif\" font-size=\"14.00\" fill=\"#000000\">a </text>\n",
       "</g>\n",
       "<!-- S4&#45;&gt;F6 -->\n",
       "<g id=\"edge9\" class=\"edge\">\n",
       "<title>S4&#45;&gt;F6</title>\n",
       "<path fill=\"none\" stroke=\"#000000\" d=\"M404.4115,-291.3619C415.3257,-284.1067 429.3762,-273.9264 440.286,-263.1482 448.6367,-254.8984 456.6789,-244.914 463.4593,-235.6739\"/>\n",
       "<polygon fill=\"#000000\" stroke=\"#000000\" points=\"466.3531,-237.644 469.3041,-227.4684 460.6516,-233.5828 466.3531,-237.644\"/>\n",
       "<text text-anchor=\"middle\" x=\"434.786\" y=\"-275.9482\" font-family=\"Times,serif\" font-size=\"14.00\" fill=\"#000000\">b </text>\n",
       "</g>\n",
       "<!-- F3 -->\n",
       "<g id=\"node7\" class=\"node\">\n",
       "<title>F3</title>\n",
       "<ellipse fill=\"none\" stroke=\"#000000\" cx=\"291.8414\" cy=\"-243.1482\" rx=\"20.2726\" ry=\"20.2726\"/>\n",
       "<ellipse fill=\"none\" stroke=\"#000000\" cx=\"291.8414\" cy=\"-243.1482\" rx=\"24.2973\" ry=\"24.2973\"/>\n",
       "<text text-anchor=\"middle\" x=\"291.8414\" y=\"-239.4482\" font-family=\"Times,serif\" font-size=\"14.00\" fill=\"#000000\">F3</text>\n",
       "</g>\n",
       "<!-- I1&#45;&gt;F3 -->\n",
       "<g id=\"edge3\" class=\"edge\">\n",
       "<title>I1&#45;&gt;F3</title>\n",
       "<path fill=\"none\" stroke=\"#000000\" d=\"M127.3786,-211.6321C157.7295,-217.4483 219.1868,-229.2254 257.7775,-236.6205\"/>\n",
       "<polygon fill=\"#000000\" stroke=\"#000000\" points=\"257.5308,-240.1369 268.0109,-238.5816 258.8483,-233.262 257.5308,-240.1369\"/>\n",
       "<text text-anchor=\"middle\" x=\"197.545\" y=\"-232.9482\" font-family=\"Times,serif\" font-size=\"14.00\" fill=\"#000000\">b </text>\n",
       "</g>\n",
       "<!-- F2 -->\n",
       "<g id=\"node9\" class=\"node\">\n",
       "<title>F2</title>\n",
       "<ellipse fill=\"none\" stroke=\"#000000\" cx=\"197.545\" cy=\"-175.1482\" rx=\"20.2726\" ry=\"20.2726\"/>\n",
       "<ellipse fill=\"none\" stroke=\"#000000\" cx=\"197.545\" cy=\"-175.1482\" rx=\"24.2973\" ry=\"24.2973\"/>\n",
       "<text text-anchor=\"middle\" x=\"197.545\" y=\"-171.4482\" font-family=\"Times,serif\" font-size=\"14.00\" fill=\"#000000\">F2</text>\n",
       "</g>\n",
       "<!-- I1&#45;&gt;F2 -->\n",
       "<g id=\"edge2\" class=\"edge\">\n",
       "<title>I1&#45;&gt;F2</title>\n",
       "<path fill=\"none\" stroke=\"#000000\" d=\"M126.6528,-201.6285C137.6327,-197.5272 152.1403,-192.1082 165.1701,-187.2412\"/>\n",
       "<polygon fill=\"#000000\" stroke=\"#000000\" points=\"166.6199,-190.4359 174.763,-183.6579 164.1705,-183.8784 166.6199,-190.4359\"/>\n",
       "<text text-anchor=\"middle\" x=\"150.3968\" y=\"-197.9482\" font-family=\"Times,serif\" font-size=\"14.00\" fill=\"#000000\">a </text>\n",
       "</g>\n",
       "<!-- S5 -->\n",
       "<g id=\"node4\" class=\"node\">\n",
       "<title>S5</title>\n",
       "<ellipse fill=\"none\" stroke=\"#000000\" cx=\"387.1378\" cy=\"-175.1482\" rx=\"20.2975\" ry=\"20.2975\"/>\n",
       "<text text-anchor=\"middle\" x=\"387.1378\" y=\"-171.4482\" font-family=\"Times,serif\" font-size=\"14.00\" fill=\"#000000\">S5</text>\n",
       "</g>\n",
       "<!-- S5&#45;&gt;F6 -->\n",
       "<g id=\"edge10\" class=\"edge\">\n",
       "<title>S5&#45;&gt;F6</title>\n",
       "<path fill=\"none\" stroke=\"#000000\" d=\"M407.0303,-179.6567C417.1009,-182.123 429.4558,-185.4314 440.286,-189.1482 443.8044,-190.3557 447.4433,-191.7224 451.0415,-193.15\"/>\n",
       "<polygon fill=\"#000000\" stroke=\"#000000\" points=\"449.7813,-196.4162 460.3598,-197.0033 452.4563,-189.9475 449.7813,-196.4162\"/>\n",
       "<text text-anchor=\"middle\" x=\"434.786\" y=\"-192.9482\" font-family=\"Times,serif\" font-size=\"14.00\" fill=\"#000000\">a </text>\n",
       "</g>\n",
       "<!-- S5&#45;&gt;F6 -->\n",
       "<g id=\"edge11\" class=\"edge\">\n",
       "<title>S5&#45;&gt;F6</title>\n",
       "<path fill=\"none\" stroke=\"#000000\" d=\"M405.8829,-167.1101C416.3153,-163.822 429.3611,-161.7111 440.286,-166.1482 447.8673,-169.2273 454.8331,-174.3978 460.8257,-180.0481\"/>\n",
       "<polygon fill=\"#000000\" stroke=\"#000000\" points=\"458.4042,-182.579 467.8688,-187.3405 463.4392,-177.716 458.4042,-182.579\"/>\n",
       "<text text-anchor=\"middle\" x=\"434.786\" y=\"-169.9482\" font-family=\"Times,serif\" font-size=\"14.00\" fill=\"#000000\">b </text>\n",
       "</g>\n",
       "<!-- S8 -->\n",
       "<g id=\"node5\" class=\"node\">\n",
       "<title>S8</title>\n",
       "<ellipse fill=\"none\" stroke=\"#000000\" cx=\"291.8414\" cy=\"-117.1482\" rx=\"20.2975\" ry=\"20.2975\"/>\n",
       "<text text-anchor=\"middle\" x=\"291.8414\" y=\"-113.4482\" font-family=\"Times,serif\" font-size=\"14.00\" fill=\"#000000\">S8</text>\n",
       "</g>\n",
       "<!-- S8&#45;&gt;F6 -->\n",
       "<g id=\"edge16\" class=\"edge\">\n",
       "<title>S8&#45;&gt;F6</title>\n",
       "<path fill=\"none\" stroke=\"#000000\" d=\"M312.3634,-115.6834C337.0604,-114.768 379.2071,-115.9571 411.286,-131.1482 432.7078,-141.2925 450.8528,-160.9874 463.4568,-177.786\"/>\n",
       "<polygon fill=\"#000000\" stroke=\"#000000\" points=\"460.8536,-180.1613 469.5307,-186.2406 466.5386,-176.077 460.8536,-180.1613\"/>\n",
       "<text text-anchor=\"middle\" x=\"387.1378\" y=\"-134.9482\" font-family=\"Times,serif\" font-size=\"14.00\" fill=\"#000000\">a </text>\n",
       "</g>\n",
       "<!-- F9 -->\n",
       "<g id=\"node10\" class=\"node\">\n",
       "<title>F9</title>\n",
       "<ellipse fill=\"none\" stroke=\"#000000\" cx=\"387.1378\" cy=\"-24.1482\" rx=\"20.2726\" ry=\"20.2726\"/>\n",
       "<ellipse fill=\"none\" stroke=\"#000000\" cx=\"387.1378\" cy=\"-24.1482\" rx=\"24.2973\" ry=\"24.2973\"/>\n",
       "<text text-anchor=\"middle\" x=\"387.1378\" y=\"-20.4482\" font-family=\"Times,serif\" font-size=\"14.00\" fill=\"#000000\">F9</text>\n",
       "</g>\n",
       "<!-- S8&#45;&gt;F9 -->\n",
       "<g id=\"edge17\" class=\"edge\">\n",
       "<title>S8&#45;&gt;F9</title>\n",
       "<path fill=\"none\" stroke=\"#000000\" d=\"M306.3149,-103.0235C321.1673,-88.529 344.5572,-65.7028 362.3614,-48.3275\"/>\n",
       "<polygon fill=\"#000000\" stroke=\"#000000\" points=\"364.8964,-50.7441 369.6087,-41.2549 360.0074,-45.7344 364.8964,-50.7441\"/>\n",
       "<text text-anchor=\"middle\" x=\"339.4896\" y=\"-77.9482\" font-family=\"Times,serif\" font-size=\"14.00\" fill=\"#000000\">b </text>\n",
       "</g>\n",
       "<!-- S7 -->\n",
       "<g id=\"node6\" class=\"node\">\n",
       "<title>S7</title>\n",
       "<ellipse fill=\"none\" stroke=\"#000000\" cx=\"387.1378\" cy=\"-243.1482\" rx=\"20.2975\" ry=\"20.2975\"/>\n",
       "<text text-anchor=\"middle\" x=\"387.1378\" y=\"-239.4482\" font-family=\"Times,serif\" font-size=\"14.00\" fill=\"#000000\">S7</text>\n",
       "</g>\n",
       "<!-- S7&#45;&gt;F6 -->\n",
       "<g id=\"edge14\" class=\"edge\">\n",
       "<title>S7&#45;&gt;F6</title>\n",
       "<path fill=\"none\" stroke=\"#000000\" d=\"M407.1573,-245.8534C417.3731,-246.4754 429.8191,-246.0392 440.286,-242.1482 446.7552,-239.7434 452.9434,-235.8898 458.49,-231.6021\"/>\n",
       "<polygon fill=\"#000000\" stroke=\"#000000\" points=\"460.7579,-234.2679 466.1155,-225.1275 456.2273,-228.9318 460.7579,-234.2679\"/>\n",
       "<text text-anchor=\"middle\" x=\"434.786\" y=\"-247.9482\" font-family=\"Times,serif\" font-size=\"14.00\" fill=\"#000000\">a </text>\n",
       "</g>\n",
       "<!-- S7&#45;&gt;F6 -->\n",
       "<g id=\"edge15\" class=\"edge\">\n",
       "<title>S7&#45;&gt;F6</title>\n",
       "<path fill=\"none\" stroke=\"#000000\" d=\"M405.3401,-233.7744C412.6715,-230.1941 421.2746,-226.2347 429.286,-223.1482 435.5411,-220.7384 442.321,-218.4569 448.8788,-216.4118\"/>\n",
       "<polygon fill=\"#000000\" stroke=\"#000000\" points=\"450.3205,-219.6335 458.8936,-213.4083 448.3096,-212.9285 450.3205,-219.6335\"/>\n",
       "<text text-anchor=\"middle\" x=\"434.786\" y=\"-226.9482\" font-family=\"Times,serif\" font-size=\"14.00\" fill=\"#000000\">b </text>\n",
       "</g>\n",
       "<!-- F3&#45;&gt;S4 -->\n",
       "<g id=\"edge7\" class=\"edge\">\n",
       "<title>F3&#45;&gt;S4</title>\n",
       "<path fill=\"none\" stroke=\"#000000\" d=\"M312.5193,-255.9503C326.888,-264.8463 346.1357,-276.7629 361.4833,-286.265\"/>\n",
       "<polygon fill=\"#000000\" stroke=\"#000000\" points=\"359.6579,-289.2513 370.0027,-291.5395 363.3428,-283.2996 359.6579,-289.2513\"/>\n",
       "<text text-anchor=\"middle\" x=\"339.4896\" y=\"-277.9482\" font-family=\"Times,serif\" font-size=\"14.00\" fill=\"#000000\">b </text>\n",
       "</g>\n",
       "<!-- F3&#45;&gt;S7 -->\n",
       "<g id=\"edge6\" class=\"edge\">\n",
       "<title>F3&#45;&gt;S7</title>\n",
       "<path fill=\"none\" stroke=\"#000000\" d=\"M316.3826,-243.1482C328.6185,-243.1482 343.5368,-243.1482 356.5149,-243.1482\"/>\n",
       "<polygon fill=\"#000000\" stroke=\"#000000\" points=\"356.8587,-246.6483 366.8587,-243.1482 356.8586,-239.6483 356.8587,-246.6483\"/>\n",
       "<text text-anchor=\"middle\" x=\"339.4896\" y=\"-246.9482\" font-family=\"Times,serif\" font-size=\"14.00\" fill=\"#000000\">a </text>\n",
       "</g>\n",
       "<!-- F6&#45;&gt;F6 -->\n",
       "<g id=\"edge12\" class=\"edge\">\n",
       "<title>F6&#45;&gt;F6</title>\n",
       "<path fill=\"none\" stroke=\"#000000\" d=\"M478.1597,-230.9793C477.8649,-240.8929 479.2897,-249.2964 482.4343,-249.2964 484.3996,-249.2964 485.6932,-246.0138 486.315,-241.1315\"/>\n",
       "<polygon fill=\"#000000\" stroke=\"#000000\" points=\"489.8185,-241.1074 486.7089,-230.9793 482.8238,-240.836 489.8185,-241.1074\"/>\n",
       "<text text-anchor=\"middle\" x=\"482.4343\" y=\"-253.0964\" font-family=\"Times,serif\" font-size=\"14.00\" fill=\"#000000\">a </text>\n",
       "</g>\n",
       "<!-- F6&#45;&gt;F6 -->\n",
       "<g id=\"edge13\" class=\"edge\">\n",
       "<title>F6&#45;&gt;F6</title>\n",
       "<path fill=\"none\" stroke=\"#000000\" d=\"M474.9721,-230.2958C472.0856,-248.5582 474.5729,-267.2964 482.4343,-267.2964 488.8216,-267.2964 491.6613,-254.9263 490.9533,-240.492\"/>\n",
       "<polygon fill=\"#000000\" stroke=\"#000000\" points=\"494.4089,-239.8816 489.8964,-230.2958 487.4462,-240.6034 494.4089,-239.8816\"/>\n",
       "<text text-anchor=\"middle\" x=\"482.4343\" y=\"-271.0964\" font-family=\"Times,serif\" font-size=\"14.00\" fill=\"#000000\">b </text>\n",
       "</g>\n",
       "<!-- F2&#45;&gt;S5 -->\n",
       "<g id=\"edge5\" class=\"edge\">\n",
       "<title>F2&#45;&gt;S5</title>\n",
       "<path fill=\"none\" stroke=\"#000000\" d=\"M221.9428,-175.1482C256.3507,-175.1482 319.1064,-175.1482 356.5774,-175.1482\"/>\n",
       "<polygon fill=\"#000000\" stroke=\"#000000\" points=\"356.8832,-178.6483 366.8832,-175.1482 356.8831,-171.6483 356.8832,-178.6483\"/>\n",
       "<text text-anchor=\"middle\" x=\"291.8414\" y=\"-178.9482\" font-family=\"Times,serif\" font-size=\"14.00\" fill=\"#000000\">b </text>\n",
       "</g>\n",
       "<!-- F2&#45;&gt;S8 -->\n",
       "<g id=\"edge4\" class=\"edge\">\n",
       "<title>F2&#45;&gt;S8</title>\n",
       "<path fill=\"none\" stroke=\"#000000\" d=\"M217.4386,-160.8863C224.3852,-156.0607 232.2956,-150.7357 239.6932,-146.1482 247.7529,-141.1502 256.7169,-136.0182 264.9079,-131.4873\"/>\n",
       "<polygon fill=\"#000000\" stroke=\"#000000\" points=\"266.6381,-134.5304 273.7379,-126.6663 263.2836,-128.3865 266.6381,-134.5304\"/>\n",
       "<text text-anchor=\"middle\" x=\"244.6932\" y=\"-149.9482\" font-family=\"Times,serif\" font-size=\"14.00\" fill=\"#000000\">a </text>\n",
       "</g>\n",
       "<!-- F9&#45;&gt;F6 -->\n",
       "<g id=\"edge19\" class=\"edge\">\n",
       "<title>F9&#45;&gt;F6</title>\n",
       "<path fill=\"none\" stroke=\"#000000\" d=\"M404.3281,-41.3604C415.7645,-53.5753 430.4395,-70.8191 440.286,-88.1482 455.6343,-115.16 466.9081,-148.7433 473.9138,-173.3389\"/>\n",
       "<polygon fill=\"#000000\" stroke=\"#000000\" points=\"470.6234,-174.5734 476.6543,-183.2842 477.3719,-172.7137 470.6234,-174.5734\"/>\n",
       "<text text-anchor=\"middle\" x=\"434.786\" y=\"-91.9482\" font-family=\"Times,serif\" font-size=\"14.00\" fill=\"#000000\">b </text>\n",
       "</g>\n",
       "<!-- F9&#45;&gt;F9 -->\n",
       "<g id=\"edge18\" class=\"edge\">\n",
       "<title>F9&#45;&gt;F9</title>\n",
       "<path fill=\"none\" stroke=\"#000000\" d=\"M378.6476,-47.126C377.839,-57.4058 380.6691,-66.2964 387.1378,-66.2964 391.2819,-66.2964 393.9326,-62.6477 395.09,-57.3225\"/>\n",
       "<polygon fill=\"#000000\" stroke=\"#000000\" points=\"398.5962,-57.2966 395.6281,-47.126 391.6059,-56.9276 398.5962,-57.2966\"/>\n",
       "<text text-anchor=\"middle\" x=\"387.1378\" y=\"-70.0964\" font-family=\"Times,serif\" font-size=\"14.00\" fill=\"#000000\">a </text>\n",
       "</g>\n",
       "</g>\n",
       "</svg>\n"
      ],
      "text/plain": [
       "<graphviz.dot.Digraph at 0x7ffd5069a810>"
      ]
     },
     "execution_count": 87,
     "metadata": {},
     "output_type": "execute_result"
    }
   ],
   "source": [
    "dblimp"
   ]
  },
  {
   "cell_type": "code",
   "execution_count": 88,
   "metadata": {
    "run_control": {
     "frozen": false,
     "read_only": false
    }
   },
   "outputs": [],
   "source": [
    "dblimp = dotObj_dfa(blimp, FuseEdges=True)"
   ]
  },
  {
   "cell_type": "code",
   "execution_count": 89,
   "metadata": {
    "run_control": {
     "frozen": false,
     "read_only": false
    }
   },
   "outputs": [
    {
     "data": {
      "image/svg+xml": [
       "<?xml version=\"1.0\" encoding=\"UTF-8\" standalone=\"no\"?>\n",
       "<!DOCTYPE svg PUBLIC \"-//W3C//DTD SVG 1.1//EN\"\n",
       " \"http://www.w3.org/Graphics/SVG/1.1/DTD/svg11.dtd\">\n",
       "<!-- Generated by graphviz version 2.40.1 (20161225.0304)\n",
       " -->\n",
       "<!-- Title: %3 Pages: 1 -->\n",
       "<svg width=\"548pt\" height=\"322pt\"\n",
       " viewBox=\"0.00 0.00 547.88 322.30\" xmlns=\"http://www.w3.org/2000/svg\" xmlns:xlink=\"http://www.w3.org/1999/xlink\">\n",
       "<g id=\"graph0\" class=\"graph\" transform=\"scale(1 1) rotate(0) translate(4 318.2964)\">\n",
       "<title>%3</title>\n",
       "<polygon fill=\"#ffffff\" stroke=\"transparent\" points=\"-4,4 -4,-318.2964 543.8789,-318.2964 543.8789,4 -4,4\"/>\n",
       "<!-- EMPTY -->\n",
       "<g id=\"node1\" class=\"node\">\n",
       "<title>EMPTY</title>\n",
       "</g>\n",
       "<!-- I1 -->\n",
       "<g id=\"node3\" class=\"node\">\n",
       "<title>I1</title>\n",
       "<ellipse fill=\"none\" stroke=\"#000000\" cx=\"109.1984\" cy=\"-198.1482\" rx=\"18.399\" ry=\"18.399\"/>\n",
       "<text text-anchor=\"middle\" x=\"109.1984\" y=\"-194.4482\" font-family=\"Times,serif\" font-size=\"14.00\" fill=\"#000000\">I1</text>\n",
       "</g>\n",
       "<!-- EMPTY&#45;&gt;I1 -->\n",
       "<g id=\"edge1\" class=\"edge\">\n",
       "<title>EMPTY&#45;&gt;I1</title>\n",
       "<path fill=\"none\" stroke=\"#000000\" d=\"M54.3709,-198.1482C62.7773,-198.1482 72.0494,-198.1482 80.5395,-198.1482\"/>\n",
       "<polygon fill=\"#000000\" stroke=\"#000000\" points=\"80.7515,-201.6483 90.7515,-198.1482 80.7514,-194.6483 80.7515,-201.6483\"/>\n",
       "</g>\n",
       "<!-- S4 -->\n",
       "<g id=\"node2\" class=\"node\">\n",
       "<title>S4</title>\n",
       "<ellipse fill=\"none\" stroke=\"#000000\" cx=\"417.4343\" cy=\"-294.1482\" rx=\"20.2975\" ry=\"20.2975\"/>\n",
       "<text text-anchor=\"middle\" x=\"417.4343\" y=\"-290.4482\" font-family=\"Times,serif\" font-size=\"14.00\" fill=\"#000000\">S4</text>\n",
       "</g>\n",
       "<!-- F6 -->\n",
       "<g id=\"node8\" class=\"node\">\n",
       "<title>F6</title>\n",
       "<ellipse fill=\"none\" stroke=\"#000000\" cx=\"515.7307\" cy=\"-168.1482\" rx=\"20.2726\" ry=\"20.2726\"/>\n",
       "<ellipse fill=\"none\" stroke=\"#000000\" cx=\"515.7307\" cy=\"-168.1482\" rx=\"24.2973\" ry=\"24.2973\"/>\n",
       "<text text-anchor=\"middle\" x=\"515.7307\" y=\"-164.4482\" font-family=\"Times,serif\" font-size=\"14.00\" fill=\"#000000\">F6</text>\n",
       "</g>\n",
       "<!-- S4&#45;&gt;F6 -->\n",
       "<g id=\"edge8\" class=\"edge\">\n",
       "<title>S4&#45;&gt;F6</title>\n",
       "<path fill=\"none\" stroke=\"#000000\" d=\"M433.3514,-280.9689C445.2714,-270.6202 461.5305,-255.4466 473.5825,-240.1482 483.536,-227.5136 492.785,-212.2925 500.0678,-199.1062\"/>\n",
       "<polygon fill=\"#000000\" stroke=\"#000000\" points=\"503.3489,-200.3948 505.0053,-189.9302 497.1847,-197.0778 503.3489,-200.3948\"/>\n",
       "<text text-anchor=\"middle\" x=\"466.5825\" y=\"-272.9482\" font-family=\"Times,serif\" font-size=\"14.00\" fill=\"#000000\">b </text>\n",
       "<text text-anchor=\"middle\" x=\"466.5825\" y=\"-257.9482\" font-family=\"Times,serif\" font-size=\"14.00\" fill=\"#000000\"> a </text>\n",
       "</g>\n",
       "<!-- F3 -->\n",
       "<g id=\"node7\" class=\"node\">\n",
       "<title>F3</title>\n",
       "<ellipse fill=\"none\" stroke=\"#000000\" cx=\"292.8414\" cy=\"-236.1482\" rx=\"20.2726\" ry=\"20.2726\"/>\n",
       "<ellipse fill=\"none\" stroke=\"#000000\" cx=\"292.8414\" cy=\"-236.1482\" rx=\"24.2973\" ry=\"24.2973\"/>\n",
       "<text text-anchor=\"middle\" x=\"292.8414\" y=\"-232.4482\" font-family=\"Times,serif\" font-size=\"14.00\" fill=\"#000000\">F3</text>\n",
       "</g>\n",
       "<!-- I1&#45;&gt;F3 -->\n",
       "<g id=\"edge3\" class=\"edge\">\n",
       "<title>I1&#45;&gt;F3</title>\n",
       "<path fill=\"none\" stroke=\"#000000\" d=\"M127.1412,-201.861C157.7125,-208.1869 220.3586,-221.1498 259.2583,-229.1991\"/>\n",
       "<polygon fill=\"#000000\" stroke=\"#000000\" points=\"258.5763,-232.632 269.0781,-231.231 259.9948,-225.7772 258.5763,-232.632\"/>\n",
       "<text text-anchor=\"middle\" x=\"197.545\" y=\"-223.9482\" font-family=\"Times,serif\" font-size=\"14.00\" fill=\"#000000\">b </text>\n",
       "</g>\n",
       "<!-- F2 -->\n",
       "<g id=\"node9\" class=\"node\">\n",
       "<title>F2</title>\n",
       "<ellipse fill=\"none\" stroke=\"#000000\" cx=\"197.545\" cy=\"-168.1482\" rx=\"20.2726\" ry=\"20.2726\"/>\n",
       "<ellipse fill=\"none\" stroke=\"#000000\" cx=\"197.545\" cy=\"-168.1482\" rx=\"24.2973\" ry=\"24.2973\"/>\n",
       "<text text-anchor=\"middle\" x=\"197.545\" y=\"-164.4482\" font-family=\"Times,serif\" font-size=\"14.00\" fill=\"#000000\">F2</text>\n",
       "</g>\n",
       "<!-- I1&#45;&gt;F2 -->\n",
       "<g id=\"edge2\" class=\"edge\">\n",
       "<title>I1&#45;&gt;F2</title>\n",
       "<path fill=\"none\" stroke=\"#000000\" d=\"M126.6528,-192.2212C137.5525,-188.52 151.9287,-183.6382 164.8845,-179.2388\"/>\n",
       "<polygon fill=\"#000000\" stroke=\"#000000\" points=\"166.0904,-182.5257 174.4339,-175.9961 163.8396,-175.8974 166.0904,-182.5257\"/>\n",
       "<text text-anchor=\"middle\" x=\"150.3968\" y=\"-188.9482\" font-family=\"Times,serif\" font-size=\"14.00\" fill=\"#000000\">a </text>\n",
       "</g>\n",
       "<!-- S5 -->\n",
       "<g id=\"node4\" class=\"node\">\n",
       "<title>S5</title>\n",
       "<ellipse fill=\"none\" stroke=\"#000000\" cx=\"355.1378\" cy=\"-168.1482\" rx=\"20.2975\" ry=\"20.2975\"/>\n",
       "<text text-anchor=\"middle\" x=\"355.1378\" y=\"-164.4482\" font-family=\"Times,serif\" font-size=\"14.00\" fill=\"#000000\">S5</text>\n",
       "</g>\n",
       "<!-- S5&#45;&gt;F6 -->\n",
       "<g id=\"edge9\" class=\"edge\">\n",
       "<title>S5&#45;&gt;F6</title>\n",
       "<path fill=\"none\" stroke=\"#000000\" d=\"M375.477,-168.1482C402.0172,-168.1482 448.8609,-168.1482 481.0577,-168.1482\"/>\n",
       "<polygon fill=\"#000000\" stroke=\"#000000\" points=\"481.3647,-171.6483 491.3646,-168.1482 481.3646,-164.6483 481.3647,-171.6483\"/>\n",
       "<text text-anchor=\"middle\" x=\"417.4343\" y=\"-186.9482\" font-family=\"Times,serif\" font-size=\"14.00\" fill=\"#000000\">b </text>\n",
       "<text text-anchor=\"middle\" x=\"417.4343\" y=\"-171.9482\" font-family=\"Times,serif\" font-size=\"14.00\" fill=\"#000000\"> a </text>\n",
       "</g>\n",
       "<!-- S8 -->\n",
       "<g id=\"node5\" class=\"node\">\n",
       "<title>S8</title>\n",
       "<ellipse fill=\"none\" stroke=\"#000000\" cx=\"292.8414\" cy=\"-117.1482\" rx=\"20.2975\" ry=\"20.2975\"/>\n",
       "<text text-anchor=\"middle\" x=\"292.8414\" y=\"-113.4482\" font-family=\"Times,serif\" font-size=\"14.00\" fill=\"#000000\">S8</text>\n",
       "</g>\n",
       "<!-- S8&#45;&gt;F6 -->\n",
       "<g id=\"edge12\" class=\"edge\">\n",
       "<title>S8&#45;&gt;F6</title>\n",
       "<path fill=\"none\" stroke=\"#000000\" d=\"M312.6255,-121.149C341.1774,-126.9808 395.5615,-138.3058 441.5825,-149.1482 454.9527,-152.2982 469.6146,-156.0021 482.3453,-159.299\"/>\n",
       "<polygon fill=\"#000000\" stroke=\"#000000\" points=\"481.5198,-162.7007 492.0794,-161.8375 483.2862,-155.9273 481.5198,-162.7007\"/>\n",
       "<text text-anchor=\"middle\" x=\"417.4343\" y=\"-152.9482\" font-family=\"Times,serif\" font-size=\"14.00\" fill=\"#000000\">a </text>\n",
       "</g>\n",
       "<!-- F9 -->\n",
       "<g id=\"node10\" class=\"node\">\n",
       "<title>F9</title>\n",
       "<ellipse fill=\"none\" stroke=\"#000000\" cx=\"417.4343\" cy=\"-24.1482\" rx=\"20.2726\" ry=\"20.2726\"/>\n",
       "<ellipse fill=\"none\" stroke=\"#000000\" cx=\"417.4343\" cy=\"-24.1482\" rx=\"24.2973\" ry=\"24.2973\"/>\n",
       "<text text-anchor=\"middle\" x=\"417.4343\" y=\"-20.4482\" font-family=\"Times,serif\" font-size=\"14.00\" fill=\"#000000\">F9</text>\n",
       "</g>\n",
       "<!-- S8&#45;&gt;F9 -->\n",
       "<g id=\"edge13\" class=\"edge\">\n",
       "<title>S8&#45;&gt;F9</title>\n",
       "<path fill=\"none\" stroke=\"#000000\" d=\"M309.1297,-104.9901C329.5454,-89.7512 364.8559,-63.3944 389.5926,-44.9301\"/>\n",
       "<polygon fill=\"#000000\" stroke=\"#000000\" points=\"391.9395,-47.5459 397.8596,-38.7594 387.7522,-41.9363 391.9395,-47.5459\"/>\n",
       "<text text-anchor=\"middle\" x=\"355.1378\" y=\"-88.9482\" font-family=\"Times,serif\" font-size=\"14.00\" fill=\"#000000\">b </text>\n",
       "</g>\n",
       "<!-- S7 -->\n",
       "<g id=\"node6\" class=\"node\">\n",
       "<title>S7</title>\n",
       "<ellipse fill=\"none\" stroke=\"#000000\" cx=\"417.4343\" cy=\"-236.1482\" rx=\"20.2975\" ry=\"20.2975\"/>\n",
       "<text text-anchor=\"middle\" x=\"417.4343\" y=\"-232.4482\" font-family=\"Times,serif\" font-size=\"14.00\" fill=\"#000000\">S7</text>\n",
       "</g>\n",
       "<!-- S7&#45;&gt;F6 -->\n",
       "<g id=\"edge11\" class=\"edge\">\n",
       "<title>S7&#45;&gt;F6</title>\n",
       "<path fill=\"none\" stroke=\"#000000\" d=\"M434.1089,-224.6129C448.5684,-214.61 469.8156,-199.9116 487.0072,-188.0187\"/>\n",
       "<polygon fill=\"#000000\" stroke=\"#000000\" points=\"489.3374,-190.6626 495.5702,-182.095 485.355,-184.9058 489.3374,-190.6626\"/>\n",
       "<text text-anchor=\"middle\" x=\"466.5825\" y=\"-224.9482\" font-family=\"Times,serif\" font-size=\"14.00\" fill=\"#000000\">b </text>\n",
       "<text text-anchor=\"middle\" x=\"466.5825\" y=\"-209.9482\" font-family=\"Times,serif\" font-size=\"14.00\" fill=\"#000000\"> a </text>\n",
       "</g>\n",
       "<!-- F3&#45;&gt;S4 -->\n",
       "<g id=\"edge7\" class=\"edge\">\n",
       "<title>F3&#45;&gt;S4</title>\n",
       "<path fill=\"none\" stroke=\"#000000\" d=\"M314.8293,-246.3839C335.7348,-256.1158 367.2536,-270.7883 389.8379,-281.3016\"/>\n",
       "<polygon fill=\"#000000\" stroke=\"#000000\" points=\"388.3699,-284.4789 398.9128,-285.5262 391.3241,-278.1328 388.3699,-284.4789\"/>\n",
       "<text text-anchor=\"middle\" x=\"355.1378\" y=\"-276.9482\" font-family=\"Times,serif\" font-size=\"14.00\" fill=\"#000000\">b </text>\n",
       "</g>\n",
       "<!-- F3&#45;&gt;S7 -->\n",
       "<g id=\"edge6\" class=\"edge\">\n",
       "<title>F3&#45;&gt;S7</title>\n",
       "<path fill=\"none\" stroke=\"#000000\" d=\"M317.1599,-236.1482C337.031,-236.1482 365.2386,-236.1482 386.6772,-236.1482\"/>\n",
       "<polygon fill=\"#000000\" stroke=\"#000000\" points=\"386.8909,-239.6483 396.8908,-236.1482 386.8908,-232.6483 386.8909,-239.6483\"/>\n",
       "<text text-anchor=\"middle\" x=\"355.1378\" y=\"-239.9482\" font-family=\"Times,serif\" font-size=\"14.00\" fill=\"#000000\">a </text>\n",
       "</g>\n",
       "<!-- F6&#45;&gt;F6 -->\n",
       "<g id=\"edge10\" class=\"edge\">\n",
       "<title>F6&#45;&gt;F6</title>\n",
       "<path fill=\"none\" stroke=\"#000000\" d=\"M506.9087,-190.6969C505.9463,-201.1571 508.8869,-210.2964 515.7307,-210.2964 520.2219,-210.2964 523.0322,-206.3604 524.1616,-200.6982\"/>\n",
       "<polygon fill=\"#000000\" stroke=\"#000000\" points=\"527.6591,-200.826 524.5527,-190.6969 520.6645,-200.5524 527.6591,-200.826\"/>\n",
       "<text text-anchor=\"middle\" x=\"515.7307\" y=\"-229.0964\" font-family=\"Times,serif\" font-size=\"14.00\" fill=\"#000000\">b </text>\n",
       "<text text-anchor=\"middle\" x=\"515.7307\" y=\"-214.0964\" font-family=\"Times,serif\" font-size=\"14.00\" fill=\"#000000\"> a </text>\n",
       "</g>\n",
       "<!-- F2&#45;&gt;S5 -->\n",
       "<g id=\"edge5\" class=\"edge\">\n",
       "<title>F2&#45;&gt;S5</title>\n",
       "<path fill=\"none\" stroke=\"#000000\" d=\"M221.8235,-168.1482C249.3525,-168.1482 294.2948,-168.1482 324.2865,-168.1482\"/>\n",
       "<polygon fill=\"#000000\" stroke=\"#000000\" points=\"324.5998,-171.6483 334.5998,-168.1482 324.5997,-164.6483 324.5998,-171.6483\"/>\n",
       "<text text-anchor=\"middle\" x=\"245.1932\" y=\"-171.9482\" font-family=\"Times,serif\" font-size=\"14.00\" fill=\"#000000\">b </text>\n",
       "</g>\n",
       "<!-- F2&#45;&gt;S8 -->\n",
       "<g id=\"edge4\" class=\"edge\">\n",
       "<title>F2&#45;&gt;S8</title>\n",
       "<path fill=\"none\" stroke=\"#000000\" d=\"M214.2098,-150.3006C221.4578,-143.445 230.4098,-136.088 239.6932,-131.1482 246.8388,-127.346 255.0845,-124.5264 262.9166,-122.4557\"/>\n",
       "<polygon fill=\"#000000\" stroke=\"#000000\" points=\"263.9005,-125.8203 272.8473,-120.1453 262.3143,-119.0024 263.9005,-125.8203\"/>\n",
       "<text text-anchor=\"middle\" x=\"245.1932\" y=\"-134.9482\" font-family=\"Times,serif\" font-size=\"14.00\" fill=\"#000000\">a </text>\n",
       "</g>\n",
       "<!-- F9&#45;&gt;F6 -->\n",
       "<g id=\"edge15\" class=\"edge\">\n",
       "<title>F9&#45;&gt;F6</title>\n",
       "<path fill=\"none\" stroke=\"#000000\" d=\"M434.6021,-41.4259C446.3861,-53.807 461.9388,-71.2204 473.5825,-88.1482 484.1181,-103.4652 493.9256,-121.7301 501.4241,-136.9381\"/>\n",
       "<polygon fill=\"#000000\" stroke=\"#000000\" points=\"498.2798,-138.4758 505.7805,-145.9585 504.5832,-135.4315 498.2798,-138.4758\"/>\n",
       "<text text-anchor=\"middle\" x=\"466.5825\" y=\"-91.9482\" font-family=\"Times,serif\" font-size=\"14.00\" fill=\"#000000\">b </text>\n",
       "</g>\n",
       "<!-- F9&#45;&gt;F9 -->\n",
       "<g id=\"edge14\" class=\"edge\">\n",
       "<title>F9&#45;&gt;F9</title>\n",
       "<path fill=\"none\" stroke=\"#000000\" d=\"M408.6122,-46.6969C407.6498,-57.1571 410.5905,-66.2964 417.4343,-66.2964 421.9255,-66.2964 424.7358,-62.3604 425.8651,-56.6982\"/>\n",
       "<polygon fill=\"#000000\" stroke=\"#000000\" points=\"429.3627,-56.826 426.2563,-46.6969 422.3681,-56.5524 429.3627,-56.826\"/>\n",
       "<text text-anchor=\"middle\" x=\"417.4343\" y=\"-70.0964\" font-family=\"Times,serif\" font-size=\"14.00\" fill=\"#000000\">a </text>\n",
       "</g>\n",
       "</g>\n",
       "</svg>\n"
      ],
      "text/plain": [
       "<graphviz.dot.Digraph at 0x7ffd60648750>"
      ]
     },
     "execution_count": 89,
     "metadata": {},
     "output_type": "execute_result"
    }
   ],
   "source": [
    "dblimp"
   ]
  },
  {
   "cell_type": "code",
   "execution_count": 90,
   "metadata": {
    "run_control": {
     "frozen": false,
     "read_only": false
    }
   },
   "outputs": [],
   "source": [
    "mblimp = min_dfa(blimp)"
   ]
  },
  {
   "cell_type": "code",
   "execution_count": 91,
   "metadata": {
    "run_control": {
     "frozen": false,
     "read_only": false
    }
   },
   "outputs": [],
   "source": [
    "dmblimp = dotObj_dfa(mblimp)"
   ]
  },
  {
   "cell_type": "code",
   "execution_count": 92,
   "metadata": {
    "run_control": {
     "frozen": false,
     "read_only": false
    }
   },
   "outputs": [
    {
     "data": {
      "image/svg+xml": [
       "<?xml version=\"1.0\" encoding=\"UTF-8\" standalone=\"no\"?>\n",
       "<!DOCTYPE svg PUBLIC \"-//W3C//DTD SVG 1.1//EN\"\n",
       " \"http://www.w3.org/Graphics/SVG/1.1/DTD/svg11.dtd\">\n",
       "<!-- Generated by graphviz version 2.40.1 (20161225.0304)\n",
       " -->\n",
       "<!-- Title: %3 Pages: 1 -->\n",
       "<svg width=\"413pt\" height=\"122pt\"\n",
       " viewBox=\"0.00 0.00 413.29 122.30\" xmlns=\"http://www.w3.org/2000/svg\" xmlns:xlink=\"http://www.w3.org/1999/xlink\">\n",
       "<g id=\"graph0\" class=\"graph\" transform=\"scale(1 1) rotate(0) translate(4 118.2964)\">\n",
       "<title>%3</title>\n",
       "<polygon fill=\"#ffffff\" stroke=\"transparent\" points=\"-4,4 -4,-118.2964 409.286,-118.2964 409.286,4 -4,4\"/>\n",
       "<!-- EMPTY -->\n",
       "<g id=\"node1\" class=\"node\">\n",
       "<title>EMPTY</title>\n",
       "</g>\n",
       "<!-- I1 -->\n",
       "<g id=\"node3\" class=\"node\">\n",
       "<title>I1</title>\n",
       "<ellipse fill=\"none\" stroke=\"#000000\" cx=\"109.1984\" cy=\"-24.1482\" rx=\"18.399\" ry=\"18.399\"/>\n",
       "<text text-anchor=\"middle\" x=\"109.1984\" y=\"-20.4482\" font-family=\"Times,serif\" font-size=\"14.00\" fill=\"#000000\">I1</text>\n",
       "</g>\n",
       "<!-- EMPTY&#45;&gt;I1 -->\n",
       "<g id=\"edge1\" class=\"edge\">\n",
       "<title>EMPTY&#45;&gt;I1</title>\n",
       "<path fill=\"none\" stroke=\"#000000\" d=\"M54.3709,-24.1482C62.7773,-24.1482 72.0494,-24.1482 80.5395,-24.1482\"/>\n",
       "<polygon fill=\"#000000\" stroke=\"#000000\" points=\"80.7515,-27.6483 90.7515,-24.1482 80.7514,-20.6483 80.7515,-27.6483\"/>\n",
       "</g>\n",
       "<!-- S4 -->\n",
       "<g id=\"node2\" class=\"node\">\n",
       "<title>S4</title>\n",
       "<ellipse fill=\"none\" stroke=\"#000000\" cx=\"289.8414\" cy=\"-24.1482\" rx=\"20.2975\" ry=\"20.2975\"/>\n",
       "<text text-anchor=\"middle\" x=\"289.8414\" y=\"-20.4482\" font-family=\"Times,serif\" font-size=\"14.00\" fill=\"#000000\">S4</text>\n",
       "</g>\n",
       "<!-- F9 -->\n",
       "<g id=\"node5\" class=\"node\">\n",
       "<title>F9</title>\n",
       "<ellipse fill=\"none\" stroke=\"#000000\" cx=\"381.1378\" cy=\"-24.1482\" rx=\"20.2726\" ry=\"20.2726\"/>\n",
       "<ellipse fill=\"none\" stroke=\"#000000\" cx=\"381.1378\" cy=\"-24.1482\" rx=\"24.2973\" ry=\"24.2973\"/>\n",
       "<text text-anchor=\"middle\" x=\"381.1378\" y=\"-20.4482\" font-family=\"Times,serif\" font-size=\"14.00\" fill=\"#000000\">F9</text>\n",
       "</g>\n",
       "<!-- S4&#45;&gt;F9 -->\n",
       "<g id=\"edge6\" class=\"edge\">\n",
       "<title>S4&#45;&gt;F9</title>\n",
       "<path fill=\"none\" stroke=\"#000000\" d=\"M310.103,-24.1482C320.8558,-24.1482 334.3642,-24.1482 346.7063,-24.1482\"/>\n",
       "<polygon fill=\"#000000\" stroke=\"#000000\" points=\"346.7133,-27.6483 356.7133,-24.1482 346.7133,-20.6483 346.7133,-27.6483\"/>\n",
       "<text text-anchor=\"middle\" x=\"333.4896\" y=\"-27.9482\" font-family=\"Times,serif\" font-size=\"14.00\" fill=\"#000000\">a </text>\n",
       "</g>\n",
       "<!-- S4&#45;&gt;F9 -->\n",
       "<g id=\"edge7\" class=\"edge\">\n",
       "<title>S4&#45;&gt;F9</title>\n",
       "<path fill=\"none\" stroke=\"#000000\" d=\"M307.0509,-13.4683C313.3908,-10.1123 320.7873,-6.8425 327.9896,-5.1482 335.6831,-3.3383 343.8045,-4.555 351.3204,-7.0706\"/>\n",
       "<polygon fill=\"#000000\" stroke=\"#000000\" points=\"350.1869,-10.3894 360.7652,-10.9808 352.8645,-3.9217 350.1869,-10.3894\"/>\n",
       "<text text-anchor=\"middle\" x=\"333.4896\" y=\"-8.9482\" font-family=\"Times,serif\" font-size=\"14.00\" fill=\"#000000\">b </text>\n",
       "</g>\n",
       "<!-- F3 -->\n",
       "<g id=\"node4\" class=\"node\">\n",
       "<title>F3</title>\n",
       "<ellipse fill=\"none\" stroke=\"#000000\" cx=\"198.545\" cy=\"-24.1482\" rx=\"20.2726\" ry=\"20.2726\"/>\n",
       "<ellipse fill=\"none\" stroke=\"#000000\" cx=\"198.545\" cy=\"-24.1482\" rx=\"24.2973\" ry=\"24.2973\"/>\n",
       "<text text-anchor=\"middle\" x=\"198.545\" y=\"-20.4482\" font-family=\"Times,serif\" font-size=\"14.00\" fill=\"#000000\">F3</text>\n",
       "</g>\n",
       "<!-- I1&#45;&gt;F3 -->\n",
       "<g id=\"edge2\" class=\"edge\">\n",
       "<title>I1&#45;&gt;F3</title>\n",
       "<path fill=\"none\" stroke=\"#000000\" d=\"M127.7111,-24.1482C138.2532,-24.1482 151.7964,-24.1482 164.2121,-24.1482\"/>\n",
       "<polygon fill=\"#000000\" stroke=\"#000000\" points=\"164.2855,-27.6483 174.2855,-24.1482 164.2855,-20.6483 164.2855,-27.6483\"/>\n",
       "<text text-anchor=\"middle\" x=\"150.8968\" y=\"-27.9482\" font-family=\"Times,serif\" font-size=\"14.00\" fill=\"#000000\">a </text>\n",
       "</g>\n",
       "<!-- I1&#45;&gt;F3 -->\n",
       "<g id=\"edge3\" class=\"edge\">\n",
       "<title>I1&#45;&gt;F3</title>\n",
       "<path fill=\"none\" stroke=\"#000000\" d=\"M124.3942,-14.0777C130.6304,-10.5158 138.092,-6.9488 145.3968,-5.1482 153.0706,-3.2566 161.1847,-4.443 168.6999,-6.9557\"/>\n",
       "<polygon fill=\"#000000\" stroke=\"#000000\" points=\"167.5691,-10.2757 178.147,-10.8753 170.2518,-3.8102 167.5691,-10.2757\"/>\n",
       "<text text-anchor=\"middle\" x=\"150.8968\" y=\"-8.9482\" font-family=\"Times,serif\" font-size=\"14.00\" fill=\"#000000\">b </text>\n",
       "</g>\n",
       "<!-- F3&#45;&gt;S4 -->\n",
       "<g id=\"edge4\" class=\"edge\">\n",
       "<title>F3&#45;&gt;S4</title>\n",
       "<path fill=\"none\" stroke=\"#000000\" d=\"M223.0107,-24.1482C234.172,-24.1482 247.5041,-24.1482 259.3139,-24.1482\"/>\n",
       "<polygon fill=\"#000000\" stroke=\"#000000\" points=\"259.6258,-27.6483 269.6258,-24.1482 259.6258,-20.6483 259.6258,-27.6483\"/>\n",
       "<text text-anchor=\"middle\" x=\"246.1932\" y=\"-27.9482\" font-family=\"Times,serif\" font-size=\"14.00\" fill=\"#000000\">a </text>\n",
       "</g>\n",
       "<!-- F3&#45;&gt;S4 -->\n",
       "<g id=\"edge5\" class=\"edge\">\n",
       "<title>F3&#45;&gt;S4</title>\n",
       "<path fill=\"none\" stroke=\"#000000\" d=\"M218.9176,-10.9808C228.6786,-6.2023 240.6284,-2.5452 251.6932,-5.1482 255.632,-6.0748 259.6288,-7.4726 263.4792,-9.0979\"/>\n",
       "<polygon fill=\"#000000\" stroke=\"#000000\" points=\"262.0997,-12.3178 272.6319,-13.4683 265.116,-6.0009 262.0997,-12.3178\"/>\n",
       "<text text-anchor=\"middle\" x=\"246.1932\" y=\"-8.9482\" font-family=\"Times,serif\" font-size=\"14.00\" fill=\"#000000\">b </text>\n",
       "</g>\n",
       "<!-- F9&#45;&gt;F9 -->\n",
       "<g id=\"edge8\" class=\"edge\">\n",
       "<title>F9&#45;&gt;F9</title>\n",
       "<path fill=\"none\" stroke=\"#000000\" d=\"M376.8632,-47.9793C376.5684,-57.8929 377.9933,-66.2964 381.1378,-66.2964 383.1032,-66.2964 384.3968,-63.0138 385.0186,-58.1315\"/>\n",
       "<polygon fill=\"#000000\" stroke=\"#000000\" points=\"388.5221,-58.1074 385.4124,-47.9793 381.5273,-57.836 388.5221,-58.1074\"/>\n",
       "<text text-anchor=\"middle\" x=\"381.1378\" y=\"-70.0964\" font-family=\"Times,serif\" font-size=\"14.00\" fill=\"#000000\">a </text>\n",
       "</g>\n",
       "<!-- F9&#45;&gt;F9 -->\n",
       "<g id=\"edge9\" class=\"edge\">\n",
       "<title>F9&#45;&gt;F9</title>\n",
       "<path fill=\"none\" stroke=\"#000000\" d=\"M373.6757,-47.2958C370.7891,-65.5582 373.2765,-84.2964 381.1378,-84.2964 387.5252,-84.2964 390.3648,-71.9263 389.6569,-57.492\"/>\n",
       "<polygon fill=\"#000000\" stroke=\"#000000\" points=\"393.1124,-56.8816 388.6,-47.2958 386.1498,-57.6034 393.1124,-56.8816\"/>\n",
       "<text text-anchor=\"middle\" x=\"381.1378\" y=\"-88.0964\" font-family=\"Times,serif\" font-size=\"14.00\" fill=\"#000000\">b </text>\n",
       "</g>\n",
       "</g>\n",
       "</svg>\n"
      ],
      "text/plain": [
       "<graphviz.dot.Digraph at 0x7ffd6063e810>"
      ]
     },
     "execution_count": 92,
     "metadata": {},
     "output_type": "execute_result"
    }
   ],
   "source": [
    "dmblimp"
   ]
  },
  {
   "cell_type": "markdown",
   "metadata": {
    "run_control": {
     "frozen": false,
     "read_only": false
    }
   },
   "source": [
    "# Minimized \"blimp\" machine\n",
    "\n",
    "The minimized blimp machine is indeed quite small.\n"
   ]
  }
 ],
 "metadata": {
  "kernelspec": {
   "display_name": "Python 3",
   "language": "python",
   "name": "python3"
  },
  "language_info": {
   "codemirror_mode": {
    "name": "ipython",
    "version": 3
   },
   "file_extension": ".py",
   "mimetype": "text/x-python",
   "name": "python",
   "nbconvert_exporter": "python",
   "pygments_lexer": "ipython3",
   "version": "3.7.4"
  },
  "toc": {
   "colors": {
    "hover_highlight": "#DAA520",
    "running_highlight": "#FF0000",
    "selected_highlight": "#FFD700"
   },
   "moveMenuLeft": true,
   "nav_menu": {
    "height": "318px",
    "width": "252px"
   },
   "navigate_menu": true,
   "number_sections": true,
   "sideBar": true,
   "threshold": 4,
   "toc_cell": false,
   "toc_section_display": "block",
   "toc_window_display": false,
   "widenNotebook": false
  }
 },
 "nbformat": 4,
 "nbformat_minor": 1
}
